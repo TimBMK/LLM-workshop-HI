{
 "cells": [
  {
   "cell_type": "markdown",
   "metadata": {},
   "source": [
    "# Ollama: Exercises\n",
    "\n",
    "We saw that the first results of the Llama 3.2 model were not great (to say the least).\n",
    "\n",
    "Try getting better results via prompt engineering, few-shot classification and using a different model! All of these techniques are viable approaches to improving performance, so feel free to tackle them in any order you like - or use them all together to get the best results!\n",
    "\n",
    "_Hint_: Larger models will require more powerful hardware to run efficiently. Keep this in mind when trying different models."
   ]
  },
  {
   "cell_type": "code",
   "execution_count": null,
   "metadata": {},
   "outputs": [],
   "source": [
    "# we're loading up our trusty UK media dataset and do some minor data cleaning\n",
    "\n",
    "import pandas as pd\n",
    "\n",
    "seed = 20250228\n",
    "\n",
    "# set the size of the samples. feel free to adjust this for faster iterations\n",
    "n = 100\n",
    "\n",
    "uk_media = pd.read_csv('data/uk_media.csv')\n",
    "\n",
    " # fillna() makes sure missing values don't result in NaN entries\n",
    "uk_media['text'] = uk_media['description'].fillna('') + ' ' + uk_media['subtitle'].fillna('')\n",
    "\n",
    "# we'll also drop duplicates indicated by the filter_duplicate column\n",
    "uk_media = uk_media[uk_media['filter_duplicate'] == 0]\n",
    "\n",
    "# we'll also drop rows where text is NaN (missing due to missing headlines)\n",
    "uk_media = uk_media[uk_media['text'].notna()]\n",
    "\n",
    "# drop rows with majortopic code 0\n",
    "uk_media = uk_media[uk_media['majortopic'] != 0]\n",
    "\n",
    "# only keep rows below 24 OR equal to 99\n",
    "uk_media = uk_media[(uk_media['majortopic'] < 24) | (uk_media['majortopic'] == 99)]\n",
    "\n",
    "# drop category 22 not in the CAP\n",
    "uk_media = uk_media[uk_media['majortopic'] != 22]\n",
    "\n",
    "# turn the majortopic column into a string\n",
    "uk_media['majortopic'] = uk_media['majortopic'].astype(str)\n",
    "\n",
    "# this will be the same sample as before, since we set a seed\n",
    "uk_media_sample = uk_media.sample(n=n, random_state=seed) \n",
    "uk_media_sample.reset_index(drop = True, inplace = True) # reset index"
   ]
  },
  {
   "cell_type": "code",
   "execution_count": null,
   "metadata": {},
   "outputs": [],
   "source": [
    "# our classification function - simply replacing openAI client with our ChatOllama client\n",
    "\n",
    "import re\n",
    "\n",
    "def classify_text(text, system_message, model):\n",
    "\n",
    "  # clean the text by removing extra spaces\n",
    "  text = re.sub(r'\\s+', ' ', text).strip()\n",
    "\n",
    "  # construct input\n",
    "\n",
    "  messages = [\n",
    "    # system prompt\n",
    "    {\"role\": \"system\", \"content\": system_message}, # this will contain all instructions for the model\n",
    "    # user input\n",
    "    {\"role\": \"user\", \"content\": text}, # text here is the input text to be classified\n",
    "  ]\n",
    "\n",
    "  # note that we set parameters such as tempetaure when setting the client up, rather than when calling it \n",
    "  llm = ChatOllama(model = model,\n",
    "                  temperature=0.0,\n",
    "                  num_ctx = 20000, # this sets the size of the context window!\n",
    "                  # you can add additional parameters here\n",
    "                  )\n",
    "\n",
    "  response = llm.invoke(messages)\n",
    "\n",
    "  return response.content"
   ]
  },
  {
   "cell_type": "markdown",
   "metadata": {},
   "source": [
    "## Prompt Engineering\n",
    "\n",
    "As with the openAI GPT models, prompt engineering (changing the wording of the prompt) can have a large impact on model performance - for some models even more than for other. As before, try engineering the prompt to get better results (or re-use the prompts you engineered for the GPT models earlier)."
   ]
  },
  {
   "cell_type": "code",
   "execution_count": null,
   "metadata": {},
   "outputs": [],
   "source": [
    "# Edit the prompt here\n",
    "\n",
    "# the CAP labels\n",
    "cap_labels = {\n",
    "    \"1\": \"Issues related to general domestic macroeconomic policy; Interest Rates; Unemployment Rate; Monetary Policy; National Budget; Tax Code; Industrial Policy; Price Control; other macroeconomics subtopics\",\n",
    "    \"2\": \"Issues related generally to civil rights and minority rights; Minority Discrimination; Gender Discrimination; Age Discrimination; Handicap Discrimination; Voting Rights; Freedom of Speech; Right to Privacy; Anti-Government; other civil rights subtopics\",\n",
    "    \"3\": \"Issues related generally to health care, including appropriations for general health care government agencies; Health Care Reform; Insurance; Drug Industry; Medical Facilities; Insurance Providers; Medical Liability; Manpower; Disease Prevention; Infants and Children; Mental Health; Long-term Care; Drug Coverage and Cost; Tobacco Abuse; Drug and Alcohol Abuse; health care research and development; issues related to other health care topics\",\n",
    "    \"4\": \"Issues related to general agriculture policy, including appropriations for general agriculture government agencies; agricultural foreign trade; Subsidies to Farmers; Food Inspection & Safety; Food Marketing & Promotion; Animal and Crop Disease; Fisheries & Fishing; agricultural research and development; issues related to other agricultural subtopics\",\n",
    "    \"5\": \"Issues generally related to labor, employment, and pensions, including appropriations for government agencies regulating labor policy; Worker Safety; Employment Training; Employee Benefits; Labor Unions; Fair Labor Standards; Youth Employment; Migrant and Seasonal workers; Issues related to other labor policy\",\n",
    "    \"6\": \"Issues related to General education policy, including appropriations for government agencies regulating education policy; Higher education, student loans and education finance, and the regulation of colleges and universities; Elementary & Secondary education; Underprivileged students; Vocational education; Special education and education for the physically or mentally handicapped; Education Excellence; research and development in education; issues related to other subtopics in education policy\",\n",
    "    \"7\": \"Issues related to General environmental policy, including appropriations for government agencies regulating environmental policy; Drinking Water; Waste Disposal; Hazardous Waste; Air Pollution; Recycling; Indoor Hazards; Species & Forest; Land and Water Conservation; research and development in environmental technology, not including alternative energy; issues related to other environmental subtopics\",\n",
    "    \"8\": \"Issues generally related to energy policy, including appropriations for government agencies regulating energy policy; Nuclear energy, safety and security, and disposal of nuclear waste; Electricity; Natural Gas & Oil; Coal; Alternative & Renewable Energy; Issues related to energy conservation and energy efficiency; issues related to energy research and development; issues related to other energy subtopics\",\n",
    "    \"9\": \"Issues related to immigration, refugees, and citizenship\",\n",
    "    \"10\": \"Issues related generally to transportation, including appropriations for government agencies regulating transportation policy; mass transportation construction, regulation, safety, and availability; public highway construction, maintenance, and safety; Air Travel; Railroad Travel; Maritime transportation; Infrastructure and public works, including employment initiatives; transportation research and development; issues related to other transportation subtopics\",\n",
    "    \"12\": \"Issues related to general law, crime, and family issues; law enforcement agencies, including border, customs, and other specialized enforcement agencies and their appropriations; White Collar Crime; Illegal Drugs; Court Administration; Prisons; Juvenile Crime; Child Abuse; Family Issues, domestic violence, child welfare, family law; Criminal & Civil Code; Crime Control; Police; issues related to other law, crime, and family subtopics\",\n",
    "    \"13\": \"Issues generally related to social welfare policy; Low-Income Assistance; Elderly Assistance; Disabled Assistance; Volunteer Associations; Child Care; issues related to other social welfare policy subtopics\",\n",
    "    \"14\": \"Issues related generally to housing and urban affairs; housing and community development, neighborhood development, and national housing policy; urban development and general urban issues; Rural Housing; economic, infrastructure, and other developments in non-urban areas; housing for low-income individuals and families, including public housing projects and housing affordability programs; housing for military veterans and their families, including subsidies for veterans; housing for the elderly, including housing facilities for the handicapped elderly; housing for the homeless and efforts to reduce homelessness ; housing and community development research and development; Other issues related to housing and community development\",\n",
    "    \"15\": \"Issues generally related to domestic commerce, including appropriations for government agencies regulating domestic commerce; Banking; Securities & Commodities; Consumer Finance; Insurance Regulation; personal, commercial, and municipal bankruptcies; corporate mergers, antitrust regulation, corporate accounting and governance, and corporate management; Small Businesses; Copyrights and Patents; Disaster Relief; Tourism; Consumer Safety; Sports Regulation; domestic commerce research and development; other domestic commerce policy subtopics\",\n",
    "    \"16\": \"Issues related generally to defense policy, and appropriations for agencies that oversee general defense policy; defense alliance and agreement, security assistance, and UN peacekeeping activities; military intelligence, espionage, and covert operations; military readiness, coordination of armed services air support and sealift capabilities, and national stockpiles of strategic materials.; Nuclear Arms; Military Aid; military manpower, military personel and their dependents, military courts, and general veterans' issues; military procurement, conversion of old equipment, and weapons systems evaluation; military installations, construction, and land transfers; military reserves and reserve affairs; military nuclear and hazardous waste disposal and military environmental compliance; domestic civil defense, national security responses to terrorism, and other issues related to homeland security; non-contractor civilian personnel, civilian employment in the defense industry, and military base closings; military contractors and contracting, oversight of military contrators and fraud by military contractors; Foreign Operations; claims against the military, settlements for military dependents, and compensation for civilians injured in military operations; defense research and development; other defense policy subtopics\",\n",
    "    \"17\": \"Issues related to general space, science, technology, and communications; government use of space and space resource exploitation agreements, government space programs and space exploration, military use of space; regulation and promotion of commercial use of space, commercial satellite technology, and government efforts to encourage commercial space development; science and technology transfer and international science cooperation; Telecommunications; Broadcast; Weather Forecasting; computer industry, regulation of the internet, and cyber security; space, science, technology, and communication research and development not mentioned in other subtopics.; other issues related to space, science, technology, and communication research and development\",\n",
    "    \"18\": \"Issues generally related to foreign trade and appropriations for government agencies generally regulating foreign trade; Trade Agreements; Exports; Private Investments; productivity of competitiveness of domestic businesses and balance of payments issues; Tariff & Imports; Exchange Rates; other foreign trade policy subtopics\",\n",
    "    \"19\": \"Issues related to general international affairs and foreign aid, including appropriations for general government foreign affairs agencies; Foreign Aid; Resources Exploitation; Developing Countries; International Finance; Western Europe; issues related specifically to a foreign country or region not codable using other codes, assessment of political issues in other countries, relations between individual countries; Human Rights; International organizations, NGOs, the United Nations, International Red Cross, UNESCO, International Olympic Committee, International Criminal Court; international terrorism, hijacking, and acts of piracy in other countries, efforts to fight international terrorism, international legal mechanisms to combat terrorism; diplomats, diplomacy, embassies, citizens abroad, foreign diplomats in the country, visas and passports; issues related to other international affairs policy subtopics\",\n",
    "    \"20\": \"Issues related to general government operations, including appropriations for multiple government agencies; Intergovernmental Relations; Bureaucracy; Postal Service; issues related to civil employees not mentioned in other subtopics, government pensions and general civil service issues; issues related to nominations and appointments not mentioned elsewhere; issues related the currency, national mints, medals, and commemorative coins; government procurement, government contractors, contractor and procurement fraud, and procurement processes and systems; government property management, construction, and regulation; Tax Administration; public scandal and impeachment; government branch relations, administrative issues, and constitutional reforms; regulation of political campaigns, campaign finance, political advertising and voter registration; Census & Statistics; issues related to the capital city; claims against the government, compensation for the victims of terrorist attacks, compensation policies without other substantive provisions; National Holidays; other government operations subtopics\",\n",
    "    \"21\": \"Issues related to general public lands, water management, and territorial issues; National Parks; Indigenous Affairs; natural resources, public lands, and forest management, including forest fires, livestock grazing; water resources, water resource development and civil works, flood control, and research; territorial and dependency issues and devolution; other public lands policy subtopics\",\n",
    "    \"23\": \"Issues related to general cultural policy issues\",\n",
    "    \"99\": \"Other issues, where none of the above is appropriate.\", # dummy category\n",
    "}\n",
    "\n",
    "# give the model some context for the task it is about to perform\n",
    "context = \"\"\"\n",
    "You are a political scientist tasked with annotating documents into policy categories. \n",
    "The documents can be classified as one of the following numbered categories. \n",
    "A description of each category is following the ':' sign.\n",
    "\"\"\"\n",
    "\n",
    "# turn the CAP dictionary into a string\n",
    "labels_definitions = \"\"\n",
    "\n",
    "for i in range(len(cap_labels)):\n",
    "    labels_definitions += f'{list(cap_labels.keys())[i]}: {list(cap_labels.values())[i]}\\n'\n",
    "\n",
    "# finally, the question we want the model to answer, including specific instructions for the output\n",
    "question = \"\"\"\n",
    "Which policy category does this document belong to? \n",
    "Answer only with the number of the category, and only with a single category.\n",
    "\"\"\"\n",
    "\n",
    "# now we combine the parts into the system prompt\n",
    "system_message = f\"{context}\\n{labels_definitions}\\n\\n{question}\"\n",
    "\n",
    "print(system_message)\n",
    "print(f'Prompt length: {len(system_message)}')"
   ]
  },
  {
   "cell_type": "code",
   "execution_count": null,
   "metadata": {},
   "outputs": [],
   "source": [
    "# classify\n",
    "\n",
    "model = \"llama3.2\"\n",
    "\n",
    "classification_results = [classify_text(text, \n",
    "                                        system_message = system_message, \n",
    "                                        model = model) for text in uk_media_sample_sm['text']] # we're looping our function over the texts"
   ]
  },
  {
   "cell_type": "code",
   "execution_count": null,
   "metadata": {},
   "outputs": [],
   "source": [
    "# evaluate\n",
    "\n",
    "classification_results_df = pd.concat([uk_media_sample_sm, \n",
    "                                       pd.DataFrame(classification_results, \n",
    "                                                    columns = ['result'])],\n",
    "                                        axis = 1)\n",
    "classification_results_df"
   ]
  },
  {
   "cell_type": "code",
   "execution_count": null,
   "metadata": {},
   "outputs": [],
   "source": [
    "# check which results are longer than 2 characters\n",
    "classification_results_df[classification_results_df['result'].str.len() > 2]"
   ]
  },
  {
   "cell_type": "code",
   "execution_count": null,
   "metadata": {},
   "outputs": [],
   "source": [
    "from sklearn.metrics import classification_report\n",
    "\n",
    "# replace results with string length > 2 with '99'\n",
    "classification_results_df.loc[classification_results_df['result'].str.len() > 2, 'result'] = '99'\n",
    "\n",
    "print(classification_report(classification_results_df[\"majortopic\"], classification_results_df[\"result\"]))"
   ]
  },
  {
   "cell_type": "markdown",
   "metadata": {},
   "source": [
    "## Few-shot Classification\n",
    "\n",
    "As before, we can provide the model with some examples, so that it gets better at understanding what we want it to do. Try adjusting parameters, such as using more than 2 examples per category."
   ]
  },
  {
   "cell_type": "code",
   "execution_count": null,
   "metadata": {},
   "outputs": [],
   "source": [
    "# train/test split for examples\n",
    "\n",
    "from sklearn.model_selection import train_test_split\n",
    "\n",
    "# this functions pulls n samples per category from the dataframe as train, leaving the rest as test\n",
    "def stratified_train_test_split(df, category_col, n_train_per_category):\n",
    "    train_dfs = []\n",
    "    test_dfs = []\n",
    "    \n",
    "    for category, group in df.groupby(category_col):\n",
    "        train_group, test_group = train_test_split(group, train_size=n_train_per_category, random_state=42)\n",
    "        train_dfs.append(train_group)\n",
    "        test_dfs.append(test_group)\n",
    "    \n",
    "    train_df = pd.concat(train_dfs).reset_index(drop=True)\n",
    "    test_df = pd.concat(test_dfs).reset_index(drop=True)\n",
    "    \n",
    "    return train_df, test_df\n",
    "\n",
    "\n",
    "train_sample, test_sample = stratified_train_test_split(uk_media, 'majortopic', 2) # we'll use 2 samples per category. Edit this as needed"
   ]
  },
  {
   "cell_type": "code",
   "execution_count": null,
   "metadata": {},
   "outputs": [],
   "source": [
    "# sample for few-shot learning\n",
    "\n",
    "uk_media_sample_fewshot = test_sample.sample(n = n, random_state = seed)\n",
    "\n",
    "uk_media_sample_fewshot.reset_index(drop = True, inplace = True) # reset index"
   ]
  },
  {
   "cell_type": "code",
   "execution_count": null,
   "metadata": {},
   "outputs": [],
   "source": [
    "# Edit the prompt here (this re-uses the labels above)\n",
    "\n",
    "# give the model some context for the task it is about to perform\n",
    "context = \"\"\"\n",
    "You are a political scientist tasked with annotating documents into policy categories. \n",
    "The documents can be classified as one of the following numbered categories. \n",
    "A description of each category is following the ':' sign.\n",
    "You will be provided two examples for each category to help you make a decision. These are marked with \"Examples:\".\n",
    "\"\"\"\n",
    "\n",
    "# turn the CAP dictionary into a string\n",
    "labels_definitions = \"\"\n",
    "\n",
    "for label in cap_labels.keys():\n",
    "    examples = train_sample[train_sample['majortopic'] == label]['text'].values\n",
    "    labels_definitions += f'{label}:\\n{cap_labels[label]}\\nExamples: {examples}\\n'\n",
    "\n",
    "# finally, the question we want the model to answer, including specific instructions for the output\n",
    "question = \"\"\"\n",
    "Which policy category does this document belong to? \n",
    "Answer only with the number of the category, and only with a single category.\n",
    "\"\"\"\n",
    "\n",
    "# now we combine the parts into the system prompt\n",
    "system_message = f\"{context}\\n{labels_definitions}\\n\\n{question}\"\n",
    "\n",
    "print(system_message)"
   ]
  },
  {
   "cell_type": "code",
   "execution_count": null,
   "metadata": {},
   "outputs": [],
   "source": [
    "# classify\n",
    "\n",
    "model = \"llama3.2\"\n",
    "\n",
    "classification_results = [classify_text(text, \n",
    "                                        system_message = system_message, \n",
    "                                        model = model) for text in uk_media_sample_sm['text']] # we're looping our function over the texts"
   ]
  },
  {
   "cell_type": "code",
   "execution_count": null,
   "metadata": {},
   "outputs": [],
   "source": [
    "# evaluate\n",
    "\n",
    "classification_results_df = pd.concat([uk_media_sample_sm, \n",
    "                                       pd.DataFrame(classification_results, \n",
    "                                                    columns = ['result'])],\n",
    "                                        axis = 1)\n",
    "classification_results_df"
   ]
  },
  {
   "cell_type": "code",
   "execution_count": null,
   "metadata": {},
   "outputs": [],
   "source": [
    "# check which results are longer than 2 characters\n",
    "classification_results_df[classification_results_df['result'].str.len() > 2]"
   ]
  },
  {
   "cell_type": "code",
   "execution_count": null,
   "metadata": {},
   "outputs": [],
   "source": [
    "from sklearn.metrics import classification_report\n",
    "\n",
    "# replace results with string length > 2 with '99'\n",
    "classification_results_df.loc[classification_results_df['result'].str.len() > 2, 'result'] = '99'\n",
    "\n",
    "print(classification_report(classification_results_df[\"majortopic\"], classification_results_df[\"result\"]))"
   ]
  },
  {
   "cell_type": "markdown",
   "metadata": {},
   "source": [
    "## Different Models\n",
    "\n",
    "Try different models and see how they fare. You can find available  models on the [Ollama Website](https://ollama.com/search). You can download them with `!ollama pull` (leave out the `!` if running the command in a terminal rather than a code chunk).\n",
    "\n",
    "You can also combine different models with different prompts and few-shot learning to see how this affects the results!"
   ]
  },
  {
   "cell_type": "code",
   "execution_count": 1,
   "metadata": {},
   "outputs": [
    {
     "name": "stderr",
     "output_type": "stream",
     "text": [
      "\u001b[?25lpulling manifest ⠋ \u001b[?25h\u001b[?25l\u001b[2K\u001b[1Gpulling manifest ⠙ \u001b[?25h\u001b[?25l\u001b[2K\u001b[1Gpulling manifest ⠹ \u001b[?25h\u001b[?25l\u001b[2K\u001b[1Gpulling manifest ⠸ \u001b[?25h\u001b[?25l\u001b[2K\u001b[1Gpulling manifest ⠼ \u001b[?25h\u001b[?25l\u001b[2K\u001b[1Gpulling manifest ⠴ \u001b[?25h\u001b[?25l\u001b[2K\u001b[1Gpulling manifest ⠦ \u001b[?25h\u001b[?25l\u001b[2K\u001b[1Gpulling manifest ⠧ \u001b[?25h\u001b[?25l\u001b[2K\u001b[1Gpulling manifest \n",
      "pulling aabd4debf0c8... 100% ▕████████████████▏ 1.1 GB                         \n",
      "pulling 369ca498f347... 100% ▕████████████████▏  387 B                         \n",
      "pulling 6e4c38e1172f... 100% ▕████████████████▏ 1.1 KB                         \n",
      "pulling f4d24e9138dd... 100% ▕████████████████▏  148 B                         \n",
      "pulling a85fe2a2e58e... 100% ▕████████████████▏  487 B                         \n",
      "verifying sha256 digest \n",
      "writing manifest \n",
      "success \u001b[?25h\n"
     ]
    }
   ],
   "source": [
    "!ollama pull deepseek-r1:1.5b"
   ]
  },
  {
   "cell_type": "code",
   "execution_count": null,
   "metadata": {},
   "outputs": [],
   "source": [
    "# classify. This reuses the previous system_message\n",
    "\n",
    "model = \"deepseek-r1:1.5b\"\n",
    "\n",
    "classification_results = [classify_text(text, \n",
    "                                        system_message = system_message, \n",
    "                                        model = model) for text in uk_media_sample_sm['text']] # we're looping our function over the texts"
   ]
  },
  {
   "cell_type": "code",
   "execution_count": null,
   "metadata": {},
   "outputs": [],
   "source": [
    "# evaluate\n",
    "\n",
    "classification_results_df = pd.concat([uk_media_sample_sm, \n",
    "                                       pd.DataFrame(classification_results, \n",
    "                                                    columns = ['result'])],\n",
    "                                        axis = 1)\n",
    "classification_results_df"
   ]
  },
  {
   "cell_type": "code",
   "execution_count": null,
   "metadata": {},
   "outputs": [],
   "source": [
    "# check which results are longer than 2 characters\n",
    "classification_results_df[classification_results_df['result'].str.len() > 2]"
   ]
  },
  {
   "cell_type": "code",
   "execution_count": null,
   "metadata": {},
   "outputs": [],
   "source": [
    "from sklearn.metrics import classification_report\n",
    "\n",
    "# replace results with string length > 2 with '99'\n",
    "classification_results_df.loc[classification_results_df['result'].str.len() > 2, 'result'] = '99'\n",
    "\n",
    "print(classification_report(classification_results_df[\"majortopic\"], classification_results_df[\"result\"]))"
   ]
  },
  {
   "cell_type": "markdown",
   "metadata": {},
   "source": [
    "_Note_: These exercises will not have solutions provided, as they are more about exploring different techniques and models, and all relevant code is already provided."
   ]
  }
 ],
 "metadata": {
  "kernelspec": {
   "display_name": "nlp_workshop",
   "language": "python",
   "name": "python3"
  },
  "language_info": {
   "codemirror_mode": {
    "name": "ipython",
    "version": 3
   },
   "file_extension": ".py",
   "mimetype": "text/x-python",
   "name": "python",
   "nbconvert_exporter": "python",
   "pygments_lexer": "ipython3",
   "version": "3.12.8"
  }
 },
 "nbformat": 4,
 "nbformat_minor": 2
}
