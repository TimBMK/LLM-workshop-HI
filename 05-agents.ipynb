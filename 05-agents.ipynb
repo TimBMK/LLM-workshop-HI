{
 "cells": [
  {
   "cell_type": "markdown",
   "metadata": {},
   "source": [
    "# Agents & Tools\n",
    "\n",
    "There are multiple, often competing, and usually vague definition of what an LLM agent is. In general, however, it describes LLM-powered systems that can accomplish complex tasks by chaining multiple LLMs together and/or adding addtional tools (such as a calculator or external APIs) into the chain. The use of tools is important, as it allows LLMs to excel at tasks they are naturally bad at - for example, a model will suddenly be a lot better at math if it does not probabilistically guess the result of an equation, but can access Python to type in the numbers and calculate the result. A lot of the \"intelligence\" showcased in LLM-applications such as ChatGPT, such as turning data into graphs, comes from such agents and their use of tools. \n",
    "\n",
    "There are multiple frameworks to using agents and tools, including solutions by openAI. We will, however, use [_LangChain_](https://python.langchain.com/docs/introduction/) and [_LangGraph_](https://langchain-ai.github.io/langgraph/), as they are more flexible and provide compatibility for open source solutions such as Ollama. Additionally, this framework comes with a number of powerful functionalities which we will not cover in-depth here, such as [message handling](https://python.langchain.com/docs/concepts/chat_history/) for prolonged chat applications, forcing chat models to return [structured output](https://python.langchain.com/docs/concepts/structured_outputs/), addding [Human-in-the-loop](https://langchain-ai.github.io/langgraph/concepts/human_in_the_loop/) functionality, or pre-built [ReAct agents](https://langchain-ai.github.io/langgraph/reference/prebuilt/#langgraph.prebuilt.chat_agent_executor.create_react_agent)."
   ]
  },
  {
   "cell_type": "markdown",
   "metadata": {},
   "source": [
    "## Supervisors\n",
    "\n",
    "One application of agentic systems are supervisors. They are an additional LLM that \"supervise\" other models, either by delegating tasks to different parts of the system (e.g. different tools) or by judging the output of an LLM.\n",
    "\n",
    "In order to set up such a system, we will use _LangGraph_ to set up a graph - a network - of different models. The communication both between user input and between the models will - once again - be handled in the message format we already know. However, as we will see, using messages to communicate between models will require a slightly different use of messages. Specifically, we will need to make the models communicate by adding messages to previous messages. We will do so by utilizing a `MessagesState`.\n",
    "\n",
    "Among other things, this allows us to leverage the strengths of different models, or have a more powerful model judge the output of a weaker model, saving compute by passing less input to the powerful model and have it judge only edge cases."
   ]
  },
  {
   "cell_type": "code",
   "execution_count": null,
   "metadata": {},
   "outputs": [],
   "source": [
    "# we'll start with our classification function, employing ollama \n",
    "# However, this time we set up the model beforehand and the only input the function gets will be a MessagesState\n",
    "\n",
    "from langgraph.graph import MessagesState \n",
    "from langgraph.graph import add_messages  \n",
    "from langchain_ollama import ChatOllama\n",
    "import re\n",
    "\n",
    "classifier_llm = ChatOllama(model = \"llama3.2\",\n",
    "                        temperature=0.0,\n",
    "                        num_ctx = 20000, # this sets the size of the context window!\n",
    "                        # you can add additional parameters here\n",
    "                        )\n",
    "\n",
    "\n",
    "def classify_text(state: MessagesState):\n",
    "\n",
    "  # construct input\n",
    "  messages = [\n",
    "    # system prompt, this will contain all instructions for the model\n",
    "    {\"role\": \"system\", \"content\": system_message}] + state[\"messages\"]\n",
    "    # we're appending the MessagesState to the system message\n",
    "\n",
    "  response = classifier_llm.invoke(messages)\n",
    "\n",
    "  # we're adding the response to the state and return it\n",
    "  state[\"messages\"] = add_messages(state[\"messages\"],response) \n",
    "  return state"
   ]
  },
  {
   "cell_type": "code",
   "execution_count": null,
   "metadata": {},
   "outputs": [
    {
     "name": "stdout",
     "output_type": "stream",
     "text": [
      "\n",
      "You are a political scientist tasked with annotating documents into policy categories. \n",
      "The documents can be classified as one of the following numbered categories. \n",
      "A description of each category is following the ':' sign.\n",
      "\n",
      "1: Issues related to general domestic macroeconomic policy; Interest Rates; Unemployment Rate; Monetary Policy; National Budget; Tax Code; Industrial Policy; Price Control; other macroeconomics subtopics\n",
      "2: Issues related generally to civil rights and minority rights; Minority Discrimination; Gender Discrimination; Age Discrimination; Handicap Discrimination; Voting Rights; Freedom of Speech; Right to Privacy; Anti-Government; other civil rights subtopics\n",
      "3: Issues related generally to health care, including appropriations for general health care government agencies; Health Care Reform; Insurance; Drug Industry; Medical Facilities; Insurance Providers; Medical Liability; Manpower; Disease Prevention; Infants and Children; Mental Health; Long-term Care; Drug Coverage and Cost; Tobacco Abuse; Drug and Alcohol Abuse; health care research and development; issues related to other health care topics\n",
      "4: Issues related to general agriculture policy, including appropriations for general agriculture government agencies; agricultural foreign trade; Subsidies to Farmers; Food Inspection & Safety; Food Marketing & Promotion; Animal and Crop Disease; Fisheries & Fishing; agricultural research and development; issues related to other agricultural subtopics\n",
      "5: Issues generally related to labor, employment, and pensions, including appropriations for government agencies regulating labor policy; Worker Safety; Employment Training; Employee Benefits; Labor Unions; Fair Labor Standards; Youth Employment; Migrant and Seasonal workers; Issues related to other labor policy\n",
      "6: Issues related to General education policy, including appropriations for government agencies regulating education policy; Higher education, student loans and education finance, and the regulation of colleges and universities; Elementary & Secondary education; Underprivileged students; Vocational education; Special education and education for the physically or mentally handicapped; Education Excellence; research and development in education; issues related to other subtopics in education policy\n",
      "7: Issues related to General environmental policy, including appropriations for government agencies regulating environmental policy; Drinking Water; Waste Disposal; Hazardous Waste; Air Pollution; Recycling; Indoor Hazards; Species & Forest; Land and Water Conservation; research and development in environmental technology, not including alternative energy; issues related to other environmental subtopics\n",
      "8: Issues generally related to energy policy, including appropriations for government agencies regulating energy policy; Nuclear energy, safety and security, and disposal of nuclear waste; Electricity; Natural Gas & Oil; Coal; Alternative & Renewable Energy; Issues related to energy conservation and energy efficiency; issues related to energy research and development; issues related to other energy subtopics\n",
      "9: Issues related to immigration, refugees, and citizenship\n",
      "10: Issues related generally to transportation, including appropriations for government agencies regulating transportation policy; mass transportation construction, regulation, safety, and availability; public highway construction, maintenance, and safety; Air Travel; Railroad Travel; Maritime transportation; Infrastructure and public works, including employment initiatives; transportation research and development; issues related to other transportation subtopics\n",
      "12: Issues related to general law, crime, and family issues; law enforcement agencies, including border, customs, and other specialized enforcement agencies and their appropriations; White Collar Crime; Illegal Drugs; Court Administration; Prisons; Juvenile Crime; Child Abuse; Family Issues, domestic violence, child welfare, family law; Criminal & Civil Code; Crime Control; Police; issues related to other law, crime, and family subtopics\n",
      "13: Issues generally related to social welfare policy; Low-Income Assistance; Elderly Assistance; Disabled Assistance; Volunteer Associations; Child Care; issues related to other social welfare policy subtopics\n",
      "14: Issues related generally to housing and urban affairs; housing and community development, neighborhood development, and national housing policy; urban development and general urban issues; Rural Housing; economic, infrastructure, and other developments in non-urban areas; housing for low-income individuals and families, including public housing projects and housing affordability programs; housing for military veterans and their families, including subsidies for veterans; housing for the elderly, including housing facilities for the handicapped elderly; housing for the homeless and efforts to reduce homelessness ; housing and community development research and development; Other issues related to housing and community development\n",
      "15: Issues generally related to domestic commerce, including appropriations for government agencies regulating domestic commerce; Banking; Securities & Commodities; Consumer Finance; Insurance Regulation; personal, commercial, and municipal bankruptcies; corporate mergers, antitrust regulation, corporate accounting and governance, and corporate management; Small Businesses; Copyrights and Patents; Disaster Relief; Tourism; Consumer Safety; Sports Regulation; domestic commerce research and development; other domestic commerce policy subtopics\n",
      "16: Issues related generally to defense policy, and appropriations for agencies that oversee general defense policy; defense alliance and agreement, security assistance, and UN peacekeeping activities; military intelligence, espionage, and covert operations; military readiness, coordination of armed services air support and sealift capabilities, and national stockpiles of strategic materials.; Nuclear Arms; Military Aid; military manpower, military personel and their dependents, military courts, and general veterans' issues; military procurement, conversion of old equipment, and weapons systems evaluation; military installations, construction, and land transfers; military reserves and reserve affairs; military nuclear and hazardous waste disposal and military environmental compliance; domestic civil defense, national security responses to terrorism, and other issues related to homeland security; non-contractor civilian personnel, civilian employment in the defense industry, and military base closings; military contractors and contracting, oversight of military contrators and fraud by military contractors; Foreign Operations; claims against the military, settlements for military dependents, and compensation for civilians injured in military operations; defense research and development; other defense policy subtopics\n",
      "17: Issues related to general space, science, technology, and communications; government use of space and space resource exploitation agreements, government space programs and space exploration, military use of space; regulation and promotion of commercial use of space, commercial satellite technology, and government efforts to encourage commercial space development; science and technology transfer and international science cooperation; Telecommunications; Broadcast; Weather Forecasting; computer industry, regulation of the internet, and cyber security; space, science, technology, and communication research and development not mentioned in other subtopics.; other issues related to space, science, technology, and communication research and development\n",
      "18: Issues generally related to foreign trade and appropriations for government agencies generally regulating foreign trade; Trade Agreements; Exports; Private Investments; productivity of competitiveness of domestic businesses and balance of payments issues; Tariff & Imports; Exchange Rates; other foreign trade policy subtopics\n",
      "19: Issues related to general international affairs and foreign aid, including appropriations for general government foreign affairs agencies; Foreign Aid; Resources Exploitation; Developing Countries; International Finance; Western Europe; issues related specifically to a foreign country or region not codable using other codes, assessment of political issues in other countries, relations between individual countries; Human Rights; International organizations, NGOs, the United Nations, International Red Cross, UNESCO, International Olympic Committee, International Criminal Court; international terrorism, hijacking, and acts of piracy in other countries, efforts to fight international terrorism, international legal mechanisms to combat terrorism; diplomats, diplomacy, embassies, citizens abroad, foreign diplomats in the country, visas and passports; issues related to other international affairs policy subtopics\n",
      "20: Issues related to general government operations, including appropriations for multiple government agencies; Intergovernmental Relations; Bureaucracy; Postal Service; issues related to civil employees not mentioned in other subtopics, government pensions and general civil service issues; issues related to nominations and appointments not mentioned elsewhere; issues related the currency, national mints, medals, and commemorative coins; government procurement, government contractors, contractor and procurement fraud, and procurement processes and systems; government property management, construction, and regulation; Tax Administration; public scandal and impeachment; government branch relations, administrative issues, and constitutional reforms; regulation of political campaigns, campaign finance, political advertising and voter registration; Census & Statistics; issues related to the capital city; claims against the government, compensation for the victims of terrorist attacks, compensation policies without other substantive provisions; National Holidays; other government operations subtopics\n",
      "21: Issues related to general public lands, water management, and territorial issues; National Parks; Indigenous Affairs; natural resources, public lands, and forest management, including forest fires, livestock grazing; water resources, water resource development and civil works, flood control, and research; territorial and dependency issues and devolution; other public lands policy subtopics\n",
      "23: Issues related to general cultural policy issues\n",
      "99: Other issues, where none of the above is appropriate.\n",
      "\n",
      "\n",
      "\n",
      "Which policy category does this document belong to? \n",
      "Answer only with the number of the category, and only with a single category.\n",
      "\n",
      "Prompt length: 10702\n"
     ]
    }
   ],
   "source": [
    "# we're setting up our system prompt as before\n",
    "\n",
    "# the CAP labels\n",
    "cap_labels = {\n",
    "    \"1\": \"Issues related to general domestic macroeconomic policy; Interest Rates; Unemployment Rate; Monetary Policy; National Budget; Tax Code; Industrial Policy; Price Control; other macroeconomics subtopics\",\n",
    "    \"2\": \"Issues related generally to civil rights and minority rights; Minority Discrimination; Gender Discrimination; Age Discrimination; Handicap Discrimination; Voting Rights; Freedom of Speech; Right to Privacy; Anti-Government; other civil rights subtopics\",\n",
    "    \"3\": \"Issues related generally to health care, including appropriations for general health care government agencies; Health Care Reform; Insurance; Drug Industry; Medical Facilities; Insurance Providers; Medical Liability; Manpower; Disease Prevention; Infants and Children; Mental Health; Long-term Care; Drug Coverage and Cost; Tobacco Abuse; Drug and Alcohol Abuse; health care research and development; issues related to other health care topics\",\n",
    "    \"4\": \"Issues related to general agriculture policy, including appropriations for general agriculture government agencies; agricultural foreign trade; Subsidies to Farmers; Food Inspection & Safety; Food Marketing & Promotion; Animal and Crop Disease; Fisheries & Fishing; agricultural research and development; issues related to other agricultural subtopics\",\n",
    "    \"5\": \"Issues generally related to labor, employment, and pensions, including appropriations for government agencies regulating labor policy; Worker Safety; Employment Training; Employee Benefits; Labor Unions; Fair Labor Standards; Youth Employment; Migrant and Seasonal workers; Issues related to other labor policy\",\n",
    "    \"6\": \"Issues related to General education policy, including appropriations for government agencies regulating education policy; Higher education, student loans and education finance, and the regulation of colleges and universities; Elementary & Secondary education; Underprivileged students; Vocational education; Special education and education for the physically or mentally handicapped; Education Excellence; research and development in education; issues related to other subtopics in education policy\",\n",
    "    \"7\": \"Issues related to General environmental policy, including appropriations for government agencies regulating environmental policy; Drinking Water; Waste Disposal; Hazardous Waste; Air Pollution; Recycling; Indoor Hazards; Species & Forest; Land and Water Conservation; research and development in environmental technology, not including alternative energy; issues related to other environmental subtopics\",\n",
    "    \"8\": \"Issues generally related to energy policy, including appropriations for government agencies regulating energy policy; Nuclear energy, safety and security, and disposal of nuclear waste; Electricity; Natural Gas & Oil; Coal; Alternative & Renewable Energy; Issues related to energy conservation and energy efficiency; issues related to energy research and development; issues related to other energy subtopics\",\n",
    "    \"9\": \"Issues related to immigration, refugees, and citizenship\",\n",
    "    \"10\": \"Issues related generally to transportation, including appropriations for government agencies regulating transportation policy; mass transportation construction, regulation, safety, and availability; public highway construction, maintenance, and safety; Air Travel; Railroad Travel; Maritime transportation; Infrastructure and public works, including employment initiatives; transportation research and development; issues related to other transportation subtopics\",\n",
    "    \"12\": \"Issues related to general law, crime, and family issues; law enforcement agencies, including border, customs, and other specialized enforcement agencies and their appropriations; White Collar Crime; Illegal Drugs; Court Administration; Prisons; Juvenile Crime; Child Abuse; Family Issues, domestic violence, child welfare, family law; Criminal & Civil Code; Crime Control; Police; issues related to other law, crime, and family subtopics\",\n",
    "    \"13\": \"Issues generally related to social welfare policy; Low-Income Assistance; Elderly Assistance; Disabled Assistance; Volunteer Associations; Child Care; issues related to other social welfare policy subtopics\",\n",
    "    \"14\": \"Issues related generally to housing and urban affairs; housing and community development, neighborhood development, and national housing policy; urban development and general urban issues; Rural Housing; economic, infrastructure, and other developments in non-urban areas; housing for low-income individuals and families, including public housing projects and housing affordability programs; housing for military veterans and their families, including subsidies for veterans; housing for the elderly, including housing facilities for the handicapped elderly; housing for the homeless and efforts to reduce homelessness ; housing and community development research and development; Other issues related to housing and community development\",\n",
    "    \"15\": \"Issues generally related to domestic commerce, including appropriations for government agencies regulating domestic commerce; Banking; Securities & Commodities; Consumer Finance; Insurance Regulation; personal, commercial, and municipal bankruptcies; corporate mergers, antitrust regulation, corporate accounting and governance, and corporate management; Small Businesses; Copyrights and Patents; Disaster Relief; Tourism; Consumer Safety; Sports Regulation; domestic commerce research and development; other domestic commerce policy subtopics\",\n",
    "    \"16\": \"Issues related generally to defense policy, and appropriations for agencies that oversee general defense policy; defense alliance and agreement, security assistance, and UN peacekeeping activities; military intelligence, espionage, and covert operations; military readiness, coordination of armed services air support and sealift capabilities, and national stockpiles of strategic materials.; Nuclear Arms; Military Aid; military manpower, military personel and their dependents, military courts, and general veterans' issues; military procurement, conversion of old equipment, and weapons systems evaluation; military installations, construction, and land transfers; military reserves and reserve affairs; military nuclear and hazardous waste disposal and military environmental compliance; domestic civil defense, national security responses to terrorism, and other issues related to homeland security; non-contractor civilian personnel, civilian employment in the defense industry, and military base closings; military contractors and contracting, oversight of military contrators and fraud by military contractors; Foreign Operations; claims against the military, settlements for military dependents, and compensation for civilians injured in military operations; defense research and development; other defense policy subtopics\",\n",
    "    \"17\": \"Issues related to general space, science, technology, and communications; government use of space and space resource exploitation agreements, government space programs and space exploration, military use of space; regulation and promotion of commercial use of space, commercial satellite technology, and government efforts to encourage commercial space development; science and technology transfer and international science cooperation; Telecommunications; Broadcast; Weather Forecasting; computer industry, regulation of the internet, and cyber security; space, science, technology, and communication research and development not mentioned in other subtopics.; other issues related to space, science, technology, and communication research and development\",\n",
    "    \"18\": \"Issues generally related to foreign trade and appropriations for government agencies generally regulating foreign trade; Trade Agreements; Exports; Private Investments; productivity of competitiveness of domestic businesses and balance of payments issues; Tariff & Imports; Exchange Rates; other foreign trade policy subtopics\",\n",
    "    \"19\": \"Issues related to general international affairs and foreign aid, including appropriations for general government foreign affairs agencies; Foreign Aid; Resources Exploitation; Developing Countries; International Finance; Western Europe; issues related specifically to a foreign country or region not codable using other codes, assessment of political issues in other countries, relations between individual countries; Human Rights; International organizations, NGOs, the United Nations, International Red Cross, UNESCO, International Olympic Committee, International Criminal Court; international terrorism, hijacking, and acts of piracy in other countries, efforts to fight international terrorism, international legal mechanisms to combat terrorism; diplomats, diplomacy, embassies, citizens abroad, foreign diplomats in the country, visas and passports; issues related to other international affairs policy subtopics\",\n",
    "    \"20\": \"Issues related to general government operations, including appropriations for multiple government agencies; Intergovernmental Relations; Bureaucracy; Postal Service; issues related to civil employees not mentioned in other subtopics, government pensions and general civil service issues; issues related to nominations and appointments not mentioned elsewhere; issues related the currency, national mints, medals, and commemorative coins; government procurement, government contractors, contractor and procurement fraud, and procurement processes and systems; government property management, construction, and regulation; Tax Administration; public scandal and impeachment; government branch relations, administrative issues, and constitutional reforms; regulation of political campaigns, campaign finance, political advertising and voter registration; Census & Statistics; issues related to the capital city; claims against the government, compensation for the victims of terrorist attacks, compensation policies without other substantive provisions; National Holidays; other government operations subtopics\",\n",
    "    \"21\": \"Issues related to general public lands, water management, and territorial issues; National Parks; Indigenous Affairs; natural resources, public lands, and forest management, including forest fires, livestock grazing; water resources, water resource development and civil works, flood control, and research; territorial and dependency issues and devolution; other public lands policy subtopics\",\n",
    "    \"23\": \"Issues related to general cultural policy issues\",\n",
    "    \"99\": \"Other issues, where none of the above is appropriate.\", # dummy category\n",
    "}\n",
    "\n",
    "# give the model some context for the task it is about to perform\n",
    "context = \"\"\"\n",
    "You are a political scientist tasked with annotating documents into policy categories. \n",
    "The documents can be classified as one of the following numbered categories. \n",
    "A description of each category is following the ':' sign.\n",
    "\"\"\"\n",
    "\n",
    "# turn the CAP dictionary into a string\n",
    "labels_definitions = \"\"\n",
    "\n",
    "for i in range(len(cap_labels)):\n",
    "    labels_definitions += f'{list(cap_labels.keys())[i]}: {list(cap_labels.values())[i]}\\n'\n",
    "\n",
    "# finally, the question we want the model to answer, including specific instructions for the output\n",
    "question = \"\"\"\n",
    "Which policy category does this document belong to? \n",
    "Answer only with the number of the category, and only with a single category.\n",
    "\"\"\"\n",
    "\n",
    "# now we combine the parts into the system prompt\n",
    "system_message = f\"{context}\\n{labels_definitions}\\n\\n{question}\"\n",
    "\n",
    "print(system_message)\n",
    "print(f'Prompt length: {len(system_message)}')"
   ]
  },
  {
   "cell_type": "code",
   "execution_count": 4,
   "metadata": {},
   "outputs": [],
   "source": [
    "# we're loading up our trusty UK media dataset and do some minor data cleaning\n",
    "\n",
    "import pandas as pd\n",
    "\n",
    "seed = 20250228\n",
    "\n",
    "# set the size of the samples. feel free to adjust this for faster iterations\n",
    "n = 100\n",
    "\n",
    "uk_media = pd.read_csv('data/uk_media.csv')\n",
    "\n",
    " # fillna() makes sure missing values don't result in NaN entries\n",
    "uk_media['text'] = uk_media['description'].fillna('') + ' ' + uk_media['subtitle'].fillna('')\n",
    "\n",
    "# we'll also drop duplicates indicated by the filter_duplicate column\n",
    "uk_media = uk_media[uk_media['filter_duplicate'] == 0]\n",
    "\n",
    "# we'll also drop rows where text is NaN (missing due to missing headlines)\n",
    "uk_media = uk_media[uk_media['text'].notna()]\n",
    "\n",
    "# drop rows with majortopic code 0\n",
    "uk_media = uk_media[uk_media['majortopic'] != 0]\n",
    "\n",
    "# only keep rows below 24 OR equal to 99\n",
    "uk_media = uk_media[(uk_media['majortopic'] < 24) | (uk_media['majortopic'] == 99)]\n",
    "\n",
    "# drop category 22 not in the CAP\n",
    "uk_media = uk_media[uk_media['majortopic'] != 22]\n",
    "\n",
    "# turn the majortopic column into a string\n",
    "uk_media['majortopic'] = uk_media['majortopic'].astype(str)\n",
    "\n",
    "# this will be the same sample as before, since we set a seed\n",
    "uk_media_sample = uk_media.sample(n=n, random_state=seed) \n",
    "uk_media_sample.reset_index(drop = True, inplace = True) # reset index"
   ]
  },
  {
   "cell_type": "code",
   "execution_count": 76,
   "metadata": {},
   "outputs": [
    {
     "data": {
      "text/plain": [
       "{'messages': [HumanMessage(content='Sugary drink risk ', additional_kwargs={}, response_metadata={}, id='1390cb0d-37da-4ebe-89fc-639611071510'),\n",
       "  AIMessage(content='2', additional_kwargs={}, response_metadata={'model': 'llama3.2', 'created_at': '2025-02-26T19:23:50.7429474Z', 'done': True, 'done_reason': 'stop', 'total_duration': 985461400, 'load_duration': 22754100, 'prompt_eval_count': 1827, 'prompt_eval_duration': 531000000, 'eval_count': 2, 'eval_duration': 423000000, 'message': Message(role='assistant', content='', images=None, tool_calls=None)}, id='run-56ce9817-932a-45a6-9f19-97eb83fa5774-0', usage_metadata={'input_tokens': 1827, 'output_tokens': 2, 'total_tokens': 1829})]}"
      ]
     },
     "execution_count": 76,
     "metadata": {},
     "output_type": "execute_result"
    }
   ],
   "source": [
    "# we can run our model directly - we only need to pass the input in the MessagesState format\n",
    "res = classify_text({\"messages\": [(\"user\", uk_media_sample['text'][0])]})\n",
    "\n",
    "res"
   ]
  },
  {
   "cell_type": "markdown",
   "metadata": {},
   "source": [
    "Note that the functions does not simply respond with the answer to the question, but a messages object that contains \n",
    "\n",
    "a) the original user message (`HumanMessage`) and \n",
    "\n",
    "b) the output of the model (`AIMessage`). \n",
    "\n",
    "This differentiation will help us handle model output down the line."
   ]
  },
  {
   "cell_type": "code",
   "execution_count": null,
   "metadata": {},
   "outputs": [],
   "source": [
    "# now we build a supvervisor. we're using GPT 4o mini here, but this could be any ollama model as well\n",
    "\n",
    "from langchain_openai import ChatOpenAI\n",
    "import os\n",
    "from dotenv import load_dotenv # to load .env file\n",
    "\n",
    "load_dotenv()\n",
    "# note that ChatOpenAI fetches your API key from your environment - you only need to load the .env file\n",
    "\n",
    "supervisor_llm = ChatOpenAI(model = \"gpt-4o-mini-2024-07-18\",\n",
    "                        temperature=0.0,\n",
    "                        )\n",
    "\n",
    "supervisor_prompt = \"\"\"\n",
    "You are a political scientist tasked with checking the annotations of less experienced coders.\n",
    "You are given the text, and the description of the category it was assigned to.\n",
    "If the category is correct, please respond with \"correct\". If it is not correct, reply with \"incorrect\".\n",
    "\"\"\"\n",
    "\n",
    "def supervisor(state: MessagesState):\n",
    "\n",
    "    # retrieve text and classification from the message\n",
    "    for message in state['messages']:\n",
    "        if message.type == 'human':\n",
    "            text = message.content\n",
    "        if message.type == \"ai\":\n",
    "            classification = message.content\n",
    "\n",
    "    # if the classification of the 1st model is not in the CAP labels, we'll ask the supervisor to label it\n",
    "    if classification not in cap_labels.keys():\n",
    "        print(\"Incorrect classification - classiyfing with supervisor\") # some verbosity\n",
    "        messages = [\n",
    "        # system prompt, this will contain all instructions for the model\n",
    "            {\"role\": \"system\", \"content\": system_message}] + state[\"messages\"]\n",
    "        # we're appending the MessagesState to the system message\n",
    "        response = supervisor_llm.invoke(messages)\n",
    "    # else, the supervisor will judge the output of the 1st model\n",
    "    else:\n",
    "        # combine supervisor prompt with the 1st model's output\n",
    "        prompt = supervisor_prompt + f'\\n\\nText: {text}\\n\\nCategory: {cap_labels[classification]}'\n",
    "        judgement = supervisor_llm.invoke(prompt)\n",
    "        # if the supervisor judges the output of the classifier as correct, we'll return the classification\n",
    "        if judgement == \"correct\":\n",
    "            response = classification\n",
    "        # if not, the supervisor will do the classification\n",
    "        else:\n",
    "            print(\"Incorrect classification - classiyfing with supervisor\") # some verbosity\n",
    "            messages = [\n",
    "            # system prompt, this will contain all instructions for the model\n",
    "            {\"role\": \"system\", \"content\": system_message}] + state[\"messages\"]\n",
    "            # we're appending the MessagesState to the system message\n",
    "            response = supervisor_llm.invoke(messages)\n",
    "\n",
    "    state[\"messages\"] = add_messages(state[\"messages\"],response)\n",
    "\n",
    "    return state\n",
    "        \n"
   ]
  },
  {
   "cell_type": "code",
   "execution_count": null,
   "metadata": {},
   "outputs": [
    {
     "data": {
      "text/plain": [
       "{'messages': [HumanMessage(content='Sugary drink risk ', additional_kwargs={}, response_metadata={}, id='1390cb0d-37da-4ebe-89fc-639611071510'),\n",
       "  AIMessage(content='2', additional_kwargs={}, response_metadata={'model': 'llama3.2', 'created_at': '2025-02-26T19:23:50.7429474Z', 'done': True, 'done_reason': 'stop', 'total_duration': 985461400, 'load_duration': 22754100, 'prompt_eval_count': 1827, 'prompt_eval_duration': 531000000, 'eval_count': 2, 'eval_duration': 423000000, 'message': Message(role='assistant', content='', images=None, tool_calls=None)}, id='run-56ce9817-932a-45a6-9f19-97eb83fa5774-0', usage_metadata={'input_tokens': 1827, 'output_tokens': 2, 'total_tokens': 1829}),\n",
       "  AIMessage(content='3', additional_kwargs={'refusal': None}, response_metadata={'token_usage': {'completion_tokens': 2, 'prompt_tokens': 1824, 'total_tokens': 1826, 'completion_tokens_details': {'accepted_prediction_tokens': 0, 'audio_tokens': 0, 'reasoning_tokens': 0, 'rejected_prediction_tokens': 0}, 'prompt_tokens_details': {'audio_tokens': 0, 'cached_tokens': 1792}}, 'model_name': 'gpt-4o-mini-2024-07-18', 'system_fingerprint': 'fp_06737a9306', 'finish_reason': 'stop', 'logprobs': None}, id='run-3a2b3b46-6a98-4716-9b82-9ba635078f3f-0', usage_metadata={'input_tokens': 1824, 'output_tokens': 2, 'total_tokens': 1826, 'input_token_details': {'audio': 0, 'cache_read': 1792}, 'output_token_details': {'audio': 0, 'reasoning': 0}})]}"
      ]
     },
     "execution_count": 101,
     "metadata": {},
     "output_type": "execute_result"
    }
   ],
   "source": [
    "# we can test our supervisor with the 1st model's output\n",
    "supervisor(res)\n",
    "\n",
    "# notice that the function returns the full conversation"
   ]
  },
  {
   "cell_type": "markdown",
   "metadata": {},
   "source": [
    "While we could just chain the models by hand, running the output of the one into the other, _LangGraph_ offers the more convenient way of constructing a **Graph**. Note that you need to re-generate the graph if you change its components (e.g. one of the functions used)."
   ]
  },
  {
   "cell_type": "code",
   "execution_count": 107,
   "metadata": {},
   "outputs": [
    {
     "data": {
      "image/png": "[encoded data removed]",
      "text/plain": [
       "<IPython.core.display.Image object>"
      ]
     },
     "metadata": {},
     "output_type": "display_data"
    }
   ],
   "source": [
    "from langgraph.graph import END\n",
    "from langgraph.graph import StateGraph\n",
    "from IPython.display import Image, display\n",
    "\n",
    "# set up the graph\n",
    "graph_builder = StateGraph(MessagesState)\n",
    "\n",
    "# add nodes\n",
    "graph_builder.add_node(classify_text)\n",
    "graph_builder.add_node(supervisor)\n",
    "\n",
    "# set the entry point\n",
    "graph_builder.set_entry_point(\"classify_text\")\n",
    "\n",
    "# add edges between the nodes\n",
    "graph_builder.add_edge(\"classify_text\", \"supervisor\")\n",
    "\n",
    "# add the endpoint\n",
    "graph_builder.add_edge(\"supervisor\", END)\n",
    "\n",
    "# generate the graph\n",
    "graph = graph_builder.compile()\n",
    "\n",
    "# we can print out the layout of the graph for visualization purposes\n",
    "display(Image(graph.get_graph().draw_mermaid_png())) # show our graph architecture"
   ]
  },
  {
   "cell_type": "markdown",
   "metadata": {},
   "source": [
    "Now, we can pass our text directly to the graph:"
   ]
  },
  {
   "cell_type": "code",
   "execution_count": 109,
   "metadata": {},
   "outputs": [
    {
     "name": "stdout",
     "output_type": "stream",
     "text": [
      "\n",
      "Incorrect classification - classiyfing with supervisor\n",
      "\n"
     ]
    },
    {
     "data": {
      "text/plain": [
       "{'messages': [HumanMessage(content='Sugary drink risk ', additional_kwargs={}, response_metadata={}, id='2c2498a7-f76b-4409-ac17-6fda6dd5d66e'),\n",
       "  AIMessage(content='2', additional_kwargs={}, response_metadata={'model': 'llama3.2', 'created_at': '2025-02-26T19:43:46.2227318Z', 'done': True, 'done_reason': 'stop', 'total_duration': 2695798200, 'load_duration': 25451700, 'prompt_eval_count': 1827, 'prompt_eval_duration': 285000000, 'eval_count': 2, 'eval_duration': 2379000000, 'message': Message(role='assistant', content='', images=None, tool_calls=None)}, id='run-9decf24d-df2f-4cf9-bf9b-b70e07a7219f-0', usage_metadata={'input_tokens': 1827, 'output_tokens': 2, 'total_tokens': 1829}),\n",
       "  AIMessage(content='3', additional_kwargs={'refusal': None}, response_metadata={'token_usage': {'completion_tokens': 2, 'prompt_tokens': 1824, 'total_tokens': 1826, 'completion_tokens_details': {'accepted_prediction_tokens': 0, 'audio_tokens': 0, 'reasoning_tokens': 0, 'rejected_prediction_tokens': 0}, 'prompt_tokens_details': {'audio_tokens': 0, 'cached_tokens': 0}}, 'model_name': 'gpt-4o-mini-2024-07-18', 'system_fingerprint': 'fp_06737a9306', 'finish_reason': 'stop', 'logprobs': None}, id='run-e372a23b-7b5c-4ce7-a068-fd699fa8cbdf-0', usage_metadata={'input_tokens': 1824, 'output_tokens': 2, 'total_tokens': 1826, 'input_token_details': {'audio': 0, 'cache_read': 0}, 'output_token_details': {'audio': 0, 'reasoning': 0}})]}"
      ]
     },
     "execution_count": 109,
     "metadata": {},
     "output_type": "execute_result"
    }
   ],
   "source": [
    "graph.invoke({\"messages\": [(\"user\", uk_media_sample['text'][0])]})"
   ]
  },
  {
   "cell_type": "markdown",
   "metadata": {},
   "source": [
    "If we want to get a better look what's going on inside the graph, we can stream it. We're utilzing the `HumanMessage` format here, but it is essentially the same as marking the message as \"user\" with a dictionary. \n",
    "\n",
    "We can see the first model, Llama 3.2 marks the text as CAP category 2 (Civil Rights), but the second model, GPT 4o-mini, questions this judgement and classifies it as category 3 (Health)."
   ]
  },
  {
   "cell_type": "code",
   "execution_count": 108,
   "metadata": {},
   "outputs": [
    {
     "name": "stdout",
     "output_type": "stream",
     "text": [
      "================================\u001b[1m Human Message \u001b[0m=================================\n",
      "\n",
      "Sugary drink risk \n",
      "==================================\u001b[1m Ai Message \u001b[0m==================================\n",
      "\n",
      "2\n",
      "\n",
      "Incorrect classification - classiyfing with supervisor\n",
      "\n",
      "==================================\u001b[1m Ai Message \u001b[0m==================================\n",
      "\n",
      "3\n"
     ]
    }
   ],
   "source": [
    "from langchain_core.messages import HumanMessage\n",
    "\n",
    "input_message = uk_media_sample['text'][0]\n",
    "\n",
    "for step in graph.stream(\n",
    "    #{\"messages\": [{\"role\": \"user\", \"content\": input_message}]},\n",
    "    {\"messages\": [HumanMessage(content=input_message)]},\n",
    "    stream_mode=\"values\",\n",
    "):\n",
    "    step[\"messages\"][-1].pretty_print()"
   ]
  },
  {
   "cell_type": "code",
   "execution_count": null,
   "metadata": {},
   "outputs": [
    {
     "name": "stdout",
     "output_type": "stream",
     "text": [
      "\n",
      "Incorrect classification - classiyfing with supervisor\n",
      "\n"
     ]
    },
    {
     "data": {
      "text/plain": [
       "'3'"
      ]
     },
     "execution_count": 113,
     "metadata": {},
     "output_type": "execute_result"
    }
   ],
   "source": [
    "# if we only want the final classifcation, we can access the last message's content\n",
    "\n",
    "from langchain_core.messages import HumanMessage\n",
    "\n",
    "input_message = uk_media_sample['text'][0]\n",
    "\n",
    "output = graph.invoke({\"messages\": HumanMessage(content=input_message)})\n",
    "\n",
    "output[\"messages\"][-1].content"
   ]
  },
  {
   "cell_type": "code",
   "execution_count": 115,
   "metadata": {},
   "outputs": [
    {
     "name": "stdout",
     "output_type": "stream",
     "text": [
      "\n",
      "Incorrect classification - classiyfing with supervisor\n",
      "\n",
      "\n",
      "Incorrect classification - classiyfing with supervisor\n",
      "\n",
      "\n",
      "Incorrect classification - classiyfing with supervisor\n",
      "\n",
      "\n",
      "Incorrect classification - classiyfing with supervisor\n",
      "\n",
      "\n",
      "Incorrect classification - classiyfing with supervisor\n",
      "\n"
     ]
    }
   ],
   "source": [
    "# we can loop this as well\n",
    "\n",
    "classification = [graph.invoke({\"messages\": HumanMessage(content=txt)})[\"messages\"][-1].content for txt in uk_media_sample['text'][0:5]]"
   ]
  },
  {
   "cell_type": "code",
   "execution_count": 116,
   "metadata": {},
   "outputs": [
    {
     "data": {
      "text/plain": [
       "['3', '19', '2', '2', '15']"
      ]
     },
     "execution_count": 116,
     "metadata": {},
     "output_type": "execute_result"
    }
   ],
   "source": [
    "classification"
   ]
  },
  {
   "cell_type": "markdown",
   "metadata": {},
   "source": [
    "This may seem like an arbitrary example, and it is. After all, there are easier ways to check one model's output against the other's. _However_ the Graph structure is powerful in that it allows for interaction between models (including back-and-forth loops) and the implementation of additional tools."
   ]
  },
  {
   "cell_type": "markdown",
   "metadata": {},
   "source": [
    "## Retrieval Augmented Generation (RAG)\n",
    "\n",
    "One of the most common tool uses is so-called Retrieval Augmented Generation (RAG). It allows a model to access a database, find documents that might help answer the question it is facing, and incorporate the content of these documents into its answer. This makes LLMs a lot more reliable when it comes to reporting factual information.\n",
    "\n",
    "The central building block of RAG systems is the so-called retriever. It is responsible for retrieving relevant documents. When working with text data, it makes use of embedding models to retrieve relevant documents. Note, however, that a retriever can also access an API, such as Wikipedia or Google, to retrieve documents! This makes them very flexible for a large number of tasks."
   ]
  },
  {
   "cell_type": "markdown",
   "metadata": {},
   "source": [
    "As a small toy example, we are using a Chroma vector store which I've populated with a bit of scientific literature on the Public Sphere. It contains:\n",
    "- Barberá, Pablo et al. 2019. Who Leads? Who Follows? Measuring Issue Attention and Agenda Setting by Legislators and the Mass Public Using Social Media Data. American Political Science Review 113: 883–901. https://doi.org/10.1017/S0003055419000352.\n",
    "- Berg, Sebastian, Niklas Rakowski, und Thorsten Thiel. 2020. Die digitale Konstellation. Eine Positionsbestimmung. Zeitschrift für Politikwissenschaft 30: 171–191. https://doi.org/10.1007/s41358-020-00207-6.\n",
    "- Dahlberg, Lincoln. 2011. Re-constructing digital democracy: An outline of four ‘positions’. New Media & Society 13: 855–872. https://doi.org/10.1177/1461444810389569.\n",
    "- Fraser, Nancy. 1990. Rethinking the Public Sphere: A Contribution to the Critique of Actually Existing Democracy. Social Text 56–80. https://doi.org/10.2307/466240.\n",
    "- Jungherr, Andreas, und Ralph Schroeder. 2021. Digital Transformations of the Public Arena. Cambridge: Cambridge University Press. https://doi.org/10.1017/9781009064484.\n",
    "\n",
    "If you are interested in building your own Chroma vector store, you can use this code. Note that it assumes that your documents are stored as PDFs. If this is not the case, check out the [LangChain Page on Document Loaders](https://python.langchain.com/docs/integrations/document_loaders/). Shortening the documents into smaller chunks (as done here) is optional, but it often helps retrieving more relevant information. This, however, is dependant on your documents and the task you are trying to accomplish!\n",
    "\n",
    "Note that turning your documents into a vector store requires an **embedding model**. We can use Ollama to employ one locally. I recommend [Nomic](https://ollama.com/library/nomic-embed-text), as it does a pretty good job at retrieval tasks. But you can change this if needed (or curious). This means Ollama needs to run (serve) in the background when making your vector store."
   ]
  },
  {
   "cell_type": "code",
   "execution_count": null,
   "metadata": {},
   "outputs": [],
   "source": [
    "from langchain_community.document_loaders import PyPDFDirectoryLoader\n",
    "from langchain_text_splitters import RecursiveCharacterTextSplitter\n",
    "from langchain_core.documents import Document\n",
    "from langchain_ollama import OllamaEmbeddings\n",
    "from langchain_chroma import Chroma\n",
    "\n",
    "\n",
    "lit_directory = \"./my_documents/\" # directory with literature to load for the RAG\n",
    "db_directory = \"./data/test_chroma_db\" # directory to save the vector store. adjust this accordingly\n",
    "\n",
    "short_docs = True # shorten document from pages to chunks? (set chunk size below)\n",
    "\n",
    "embeddings = OllamaEmbeddings(model = \"nomic-embed-text\")\n",
    "\n",
    "# load documents\n",
    "loader = PyPDFDirectoryLoader(lit_directory)\n",
    "docs = loader.load() # metadata tracks paper and page number; each page is a single document\n",
    "\n",
    "if short_docs:\n",
    "    text_splitter = RecursiveCharacterTextSplitter(\n",
    "        chunk_size=1000,  # chunk size (characters)\n",
    "        chunk_overlap=200,  # chunk overlap (characters)\n",
    "        add_start_index=True,  # track index in original document\n",
    "        )\n",
    "    docs = text_splitter.split_documents(docs)\n",
    "\n",
    "# make doc vector store. as the vector store can get quite large (and takes time to initialize in memory), we use a chroma database to store the vectors    \n",
    "vector_store = Chroma(\n",
    "    collection_name=\"test_store\", # name of the collection - change to taste\n",
    "    embedding_function=embeddings,\n",
    "    persist_directory=db_directory,  # save data locally\n",
    "    )\n",
    "\n",
    "vector_store.add_documents(docs) # add docs"
   ]
  },
  {
   "cell_type": "markdown",
   "metadata": {},
   "source": [
    "You can also connect to the database I've prepared. You also need the Ollama Embeddings here. \n",
    "\n",
    "**Important**: As Vector Stores such as Chroma are made with production-level capacities in mind, they are not objects you load into your environment, like a .csv file. Rather, they are a database your Python instance connects with (like a SQL-Database). After connecting to it, you can populate it with more documents (`add_documents()` - see above) or do other things with it, like search it. However, this means that adding more documents directly writes onto the existing database - so be a bit careful about introducing duplicates and the like.\n",
    "\n",
    "For more information on vector stores, see [here](https://python.langchain.com/docs/concepts/vectorstores/)."
   ]
  },
  {
   "cell_type": "code",
   "execution_count": 6,
   "metadata": {},
   "outputs": [],
   "source": [
    "from langchain_ollama import OllamaEmbeddings\n",
    "from langchain_chroma import Chroma\n",
    "\n",
    "db_directory = \"./data/test_chroma_db\" # directory to save the vector store. adjust this accordingly\n",
    "embeddings = OllamaEmbeddings(model = \"nomic-embed-text\")\n",
    "\n",
    "vector_store = Chroma(\n",
    "    collection_name=\"test_store\",\n",
    "    embedding_function=embeddings,\n",
    "    persist_directory=db_directory,  # save data locally\n",
    ")"
   ]
  },
  {
   "cell_type": "markdown",
   "metadata": {},
   "source": [
    "We can run a simple search on our documents now. As this is a _vector_ store, it embeds the documents in a vector space via the chosen embedding model. Hence, we can use familiar methods such as cosine similarity to retrieve documents fitting our search term.\n",
    "\n",
    "_Note_: A good embedding model such as Nomic can be very powerful for a number of tasks, such as document clustering, or finding topical documents."
   ]
  },
  {
   "cell_type": "code",
   "execution_count": 7,
   "metadata": {},
   "outputs": [
    {
     "data": {
      "text/plain": [
       "[Document(id='5c5ebda3-a6f2-4efb-9160-913e7f7807c7', metadata={'author': 'Lincoln Dahlberg', 'creationdate': '2011-08-25T17:18:27+05:30', 'creator': 'Adobe InDesign CS5.5 (7.5)', 'crossmarkdomainexclusive': 'true', 'crossmarkdomains[1]': 'journals.sagepub.com', 'crossmarkmajorversiondate': '2011-02-08', 'doi': '10.1177/1461444810389569', 'keywords': 'autonomist Marxism,counter-publics,deliberative,digital democracy,liberal-individualist', 'moddate': '2020-02-18T22:42:27+01:00', 'page': 6, 'page_label': '7', 'producer': 'Adobe PDF Library 9.9; modified using iText 4.2.0 by 1T3XT', 'source': 'my_documents\\\\Dahlberg 2011 Re-Constructing Digital Democracy.pdf', 'start_index': 748, 'subject': 'New Media & Society 2011.13:855-872', 'title': 'Re-constructing digital democracy: An outline of four ‘positions’', 'total_pages': 18}, page_content='subsequently can come to ‘publicly’ (second meaning) contest dominant discourses that \\nframe hegemonic practices and meanings, including the boundaries of what is consid -\\nered legitimate public sphere communication. In democratic theory, ‘counter-publics’ are \\nnormally associated with a critical public sphere theory tradition that develops out of a \\nsympathetic interrogation of deliberative theory (see, Fraser, 1992; Habermas, 1996; \\nNegt and Kluge, 1993), while ‘counter-discourse’ is a term used more often in relation to \\npost-structuralist political theory (see, Mouffe, 2005). However, the emerging counter-\\npublics digital democracy position draws upon both the counter-publics and counter-\\ndiscourse traditions and terminologies, contributing to their articulation and development \\n(Dahlberg, 2007a, 2007b). \\nThe counter-publics position sees digital communication technologies as supporting \\nboth dominant and counter-publics. The position points to the reproduction of dominant'),\n",
       " Document(id='39539c06-e83a-449d-b4e3-f9c0a22eae62', metadata={'author': 'Lincoln Dahlberg', 'creationdate': '2011-08-25T17:18:27+05:30', 'creator': 'Adobe InDesign CS5.5 (7.5)', 'crossmarkdomainexclusive': 'true', 'crossmarkdomains[1]': 'journals.sagepub.com', 'crossmarkmajorversiondate': '2011-02-08', 'doi': '10.1177/1461444810389569', 'keywords': 'autonomist Marxism,counter-publics,deliberative,digital democracy,liberal-individualist', 'moddate': '2020-02-18T22:42:27+01:00', 'page': 6, 'page_label': '7', 'producer': 'Adobe PDF Library 9.9; modified using iText 4.2.0 by 1T3XT', 'source': 'my_documents\\\\Dahlberg 2011 Re-Constructing Digital Democracy.pdf', 'start_index': 2285, 'subject': 'New Media & Society 2011.13:855-872', 'title': 'Re-constructing digital democracy: An outline of four ‘positions’', 'total_pages': 18}, page_content='sive boundaries of the mainstream public sphere. I will briefly discuss examples given in \\ne-democracy rhetoric and practice of these three perceived digital media affordances.\\n First, digital counter-publics are seen as forming through the practices of alternative \\nonline media sites, social movement digital initiatives and subaltern online spaces, by \\nmeans of e-mail lists, websites, and digital audio and video. Examples pointed to in the \\ncounter-publics literature, and also clearly observable as counter-public, include: the \\nanti-globalism (or alter-globalization) movement, supported by the Indymedia network \\n(Downey and Fenton, 2003: 186–187; Langman, 2005), the Revolutionary Association \\nof Women of Afghanistan (Bickel, 2003), South Asian Women’s Network (Mitra, 2004), \\nmovie discussion lists in China (Zhang, 2006), the Zapitistas (Kowal, 2002), refugee \\ngroups (Siapera, 2004), ‘right to die’ advocates (McDorman, 2001), sars.org’s counter -'),\n",
       " Document(id='42028994-481f-48a9-ac5f-56195ad99aa2', metadata={'creationdate': '2012-01-17T17:43:06-05:00', 'creator': 'PyPDF', 'moddate': '2020-03-07T19:45:58+01:00', 'page': 12, 'page_label': 'p. 67', 'producer': 'iText 2.1.5 (by lowagie.com)', 'source': 'my_documents\\\\Fraser 1990 Rethinking the Public Sphere.pdf', 'start_index': 1633, 'title': 'Rethinking the Public Sphere: A Contribution to the Critique of Actually Existing Democracy', 'total_pages': 26}, page_content='explicitly anti-democratic and anti-egalitarian; and even those with dem- \\nocratic and egalitarian intentions are not always above practicing their \\nown modes of informal exclusion and marginalization. Still, insofar as \\nthese counterpublics emerge in response to exclusions within dominant \\npublics, they help expand discursive space. In principle, assumptions that \\nwere previously exempt from contestation will now have to be publicly \\nargued out. In general, the proliferation of subaltern counterpublics \\nmeans a widening of discursive contestation, and that is a good thing in \\nstratified societies. \\nI am emphasizing the contestatory function of subaltern counterpublics \\nin stratified societies in part in order to complicate the issue of separat- \\nism. In my view, the concept of a counterpublic militates in the long run \\nagainst separatism because it assumes an orientation that is publicist. \\nInsofar as these arenas are publics they are by definition not enclaves-'),\n",
       " Document(id='636adb4e-b77e-4529-bfc2-c6ff7b1b604d', metadata={'author': 'Lincoln Dahlberg', 'creationdate': '2011-08-25T17:18:27+05:30', 'creator': 'Adobe InDesign CS5.5 (7.5)', 'crossmarkdomainexclusive': 'true', 'crossmarkdomains[1]': 'journals.sagepub.com', 'crossmarkmajorversiondate': '2011-02-08', 'doi': '10.1177/1461444810389569', 'keywords': 'autonomist Marxism,counter-publics,deliberative,digital democracy,liberal-individualist', 'moddate': '2020-02-18T22:42:27+01:00', 'page': 5, 'page_label': '6', 'producer': 'Adobe PDF Library 9.9; modified using iText 4.2.0 by 1T3XT', 'source': 'my_documents\\\\Dahlberg 2011 Re-Constructing Digital Democracy.pdf', 'start_index': 3164, 'subject': 'New Media & Society 2011.13:855-872', 'title': 'Re-constructing digital democracy: An outline of four ‘positions’', 'total_pages': 18}, page_content='What I refer to as the counter-publics position emphasizes the role of digital media in \\npolitical group formation, activism, and contestation,  rather than rational individual \\naction or rational consensus-oriented deliberation. 6 The democratic subject here is con-\\nstituted through engagement in such group formation, activism, and contestation. This is \\na more affective subject than in the previous positions, moved to act by a perception of \\nsystemic exclusion and injustice. The subject is also one that identifies and bonds in')]"
      ]
     },
     "execution_count": 7,
     "metadata": {},
     "output_type": "execute_result"
    }
   ],
   "source": [
    "vector_store.similarity_search(\"counter publics\")"
   ]
  },
  {
   "cell_type": "markdown",
   "metadata": {},
   "source": [
    "Note that, as we previously split the documents into smaller chunks, only these chunks are returned. Lucky for us, the metadata reports the page number - so we can find the text chunk in our document if we need to.\n",
    "\n",
    "Now, we can turn our vector store into a retriever. In this case, the retriever is not much more than a wrapper for accessing the vector store. But they provide a unified connection to other parts of our RAG system - even when we are not using a vector store, but an API such as Wikipedia!"
   ]
  },
  {
   "cell_type": "code",
   "execution_count": 8,
   "metadata": {},
   "outputs": [],
   "source": [
    "# turn the vector store into a retriever\n",
    "\n",
    "docs_returned = 5 # we can set the number of documents to return in the kwargs below. kwargs are specific to the underlying database!\n",
    "\n",
    "retriever = vector_store.as_retriever(\n",
    "    search_type=\"similarity\", # similarity score; optionally with threshold (\"similarity_score_threshold\" with \"score_threshold\" kwarg)\n",
    "    search_kwargs={\"k\": docs_returned}, # make sure the number of documents passed (k) fits into the context window\n",
    "    )"
   ]
  },
  {
   "cell_type": "markdown",
   "metadata": {},
   "source": [
    "Here, the retriever does the same as the vector store. However, note that we passed the argument to return 5 documents, so now we get 5 documents instead of the default 4."
   ]
  },
  {
   "cell_type": "code",
   "execution_count": 9,
   "metadata": {},
   "outputs": [
    {
     "data": {
      "text/plain": [
       "[Document(id='5c5ebda3-a6f2-4efb-9160-913e7f7807c7', metadata={'author': 'Lincoln Dahlberg', 'creationdate': '2011-08-25T17:18:27+05:30', 'creator': 'Adobe InDesign CS5.5 (7.5)', 'crossmarkdomainexclusive': 'true', 'crossmarkdomains[1]': 'journals.sagepub.com', 'crossmarkmajorversiondate': '2011-02-08', 'doi': '10.1177/1461444810389569', 'keywords': 'autonomist Marxism,counter-publics,deliberative,digital democracy,liberal-individualist', 'moddate': '2020-02-18T22:42:27+01:00', 'page': 6, 'page_label': '7', 'producer': 'Adobe PDF Library 9.9; modified using iText 4.2.0 by 1T3XT', 'source': 'my_documents\\\\Dahlberg 2011 Re-Constructing Digital Democracy.pdf', 'start_index': 748, 'subject': 'New Media & Society 2011.13:855-872', 'title': 'Re-constructing digital democracy: An outline of four ‘positions’', 'total_pages': 18}, page_content='subsequently can come to ‘publicly’ (second meaning) contest dominant discourses that \\nframe hegemonic practices and meanings, including the boundaries of what is consid -\\nered legitimate public sphere communication. In democratic theory, ‘counter-publics’ are \\nnormally associated with a critical public sphere theory tradition that develops out of a \\nsympathetic interrogation of deliberative theory (see, Fraser, 1992; Habermas, 1996; \\nNegt and Kluge, 1993), while ‘counter-discourse’ is a term used more often in relation to \\npost-structuralist political theory (see, Mouffe, 2005). However, the emerging counter-\\npublics digital democracy position draws upon both the counter-publics and counter-\\ndiscourse traditions and terminologies, contributing to their articulation and development \\n(Dahlberg, 2007a, 2007b). \\nThe counter-publics position sees digital communication technologies as supporting \\nboth dominant and counter-publics. The position points to the reproduction of dominant'),\n",
       " Document(id='39539c06-e83a-449d-b4e3-f9c0a22eae62', metadata={'author': 'Lincoln Dahlberg', 'creationdate': '2011-08-25T17:18:27+05:30', 'creator': 'Adobe InDesign CS5.5 (7.5)', 'crossmarkdomainexclusive': 'true', 'crossmarkdomains[1]': 'journals.sagepub.com', 'crossmarkmajorversiondate': '2011-02-08', 'doi': '10.1177/1461444810389569', 'keywords': 'autonomist Marxism,counter-publics,deliberative,digital democracy,liberal-individualist', 'moddate': '2020-02-18T22:42:27+01:00', 'page': 6, 'page_label': '7', 'producer': 'Adobe PDF Library 9.9; modified using iText 4.2.0 by 1T3XT', 'source': 'my_documents\\\\Dahlberg 2011 Re-Constructing Digital Democracy.pdf', 'start_index': 2285, 'subject': 'New Media & Society 2011.13:855-872', 'title': 'Re-constructing digital democracy: An outline of four ‘positions’', 'total_pages': 18}, page_content='sive boundaries of the mainstream public sphere. I will briefly discuss examples given in \\ne-democracy rhetoric and practice of these three perceived digital media affordances.\\n First, digital counter-publics are seen as forming through the practices of alternative \\nonline media sites, social movement digital initiatives and subaltern online spaces, by \\nmeans of e-mail lists, websites, and digital audio and video. Examples pointed to in the \\ncounter-publics literature, and also clearly observable as counter-public, include: the \\nanti-globalism (or alter-globalization) movement, supported by the Indymedia network \\n(Downey and Fenton, 2003: 186–187; Langman, 2005), the Revolutionary Association \\nof Women of Afghanistan (Bickel, 2003), South Asian Women’s Network (Mitra, 2004), \\nmovie discussion lists in China (Zhang, 2006), the Zapitistas (Kowal, 2002), refugee \\ngroups (Siapera, 2004), ‘right to die’ advocates (McDorman, 2001), sars.org’s counter -'),\n",
       " Document(id='42028994-481f-48a9-ac5f-56195ad99aa2', metadata={'creationdate': '2012-01-17T17:43:06-05:00', 'creator': 'PyPDF', 'moddate': '2020-03-07T19:45:58+01:00', 'page': 12, 'page_label': 'p. 67', 'producer': 'iText 2.1.5 (by lowagie.com)', 'source': 'my_documents\\\\Fraser 1990 Rethinking the Public Sphere.pdf', 'start_index': 1633, 'title': 'Rethinking the Public Sphere: A Contribution to the Critique of Actually Existing Democracy', 'total_pages': 26}, page_content='explicitly anti-democratic and anti-egalitarian; and even those with dem- \\nocratic and egalitarian intentions are not always above practicing their \\nown modes of informal exclusion and marginalization. Still, insofar as \\nthese counterpublics emerge in response to exclusions within dominant \\npublics, they help expand discursive space. In principle, assumptions that \\nwere previously exempt from contestation will now have to be publicly \\nargued out. In general, the proliferation of subaltern counterpublics \\nmeans a widening of discursive contestation, and that is a good thing in \\nstratified societies. \\nI am emphasizing the contestatory function of subaltern counterpublics \\nin stratified societies in part in order to complicate the issue of separat- \\nism. In my view, the concept of a counterpublic militates in the long run \\nagainst separatism because it assumes an orientation that is publicist. \\nInsofar as these arenas are publics they are by definition not enclaves-'),\n",
       " Document(id='636adb4e-b77e-4529-bfc2-c6ff7b1b604d', metadata={'author': 'Lincoln Dahlberg', 'creationdate': '2011-08-25T17:18:27+05:30', 'creator': 'Adobe InDesign CS5.5 (7.5)', 'crossmarkdomainexclusive': 'true', 'crossmarkdomains[1]': 'journals.sagepub.com', 'crossmarkmajorversiondate': '2011-02-08', 'doi': '10.1177/1461444810389569', 'keywords': 'autonomist Marxism,counter-publics,deliberative,digital democracy,liberal-individualist', 'moddate': '2020-02-18T22:42:27+01:00', 'page': 5, 'page_label': '6', 'producer': 'Adobe PDF Library 9.9; modified using iText 4.2.0 by 1T3XT', 'source': 'my_documents\\\\Dahlberg 2011 Re-Constructing Digital Democracy.pdf', 'start_index': 3164, 'subject': 'New Media & Society 2011.13:855-872', 'title': 'Re-constructing digital democracy: An outline of four ‘positions’', 'total_pages': 18}, page_content='What I refer to as the counter-publics position emphasizes the role of digital media in \\npolitical group formation, activism, and contestation,  rather than rational individual \\naction or rational consensus-oriented deliberation. 6 The democratic subject here is con-\\nstituted through engagement in such group formation, activism, and contestation. This is \\na more affective subject than in the previous positions, moved to act by a perception of \\nsystemic exclusion and injustice. The subject is also one that identifies and bonds in'),\n",
       " Document(id='9339b663-57df-4cc4-9224-7a821f3b1bfe', metadata={'creationdate': '2012-01-17T17:43:06-05:00', 'creator': 'PyPDF', 'moddate': '2020-03-07T19:45:58+01:00', 'page': 6, 'page_label': 'p. 61', 'producer': 'iText 2.1.5 (by lowagie.com)', 'source': 'my_documents\\\\Fraser 1990 Rethinking the Public Sphere.pdf', 'start_index': 1636, 'title': 'Rethinking the Public Sphere: A Contribution to the Critique of Actually Existing Democracy', 'total_pages': 26}, page_content='on a class- and gender-biased notion of publicity, one which accepts at \\nface value the bourgeois public\\'s claim to be the public. In fact, the \\nhistoriography of Ryan and others demonstrates that the bourgeois public \\nwas never the public. On the contrary, virtually contemporaneous with the \\nbourgeois public there arose a host of competing counterpublics, includ- \\ning nationalist publics, popular peasant publics, elite women\\'s publics, \\nand working class publics. Thus, there were competing publics from the \\nstart, not just from the late nineteenth and twentieth centuries, as \\nHabermas implies.\" \\nMoreover, not only were there were always a plurality of competing \\npublics but the relations between bourgeois publics and other publics \\nwere always conflictual. Virtually from the beginning, counterpublics \\ncontested the exclusionary norms of the bourgeois public, elaborating \\nalternative styles of political behavior and alternative norms of public')]"
      ]
     },
     "execution_count": 9,
     "metadata": {},
     "output_type": "execute_result"
    }
   ],
   "source": [
    "retriever.invoke(\"counter publics\")"
   ]
  },
  {
   "cell_type": "markdown",
   "metadata": {},
   "source": [
    "Next, we turn our retriever into a **_tool_** - something our LLM recognizes as something it can use, and uses it accordingly.\n",
    "\n",
    "**Important**: Not all models support tool use. When searching for [Ollama models](https://ollama.com/search), look for the `tools` tag. If tool use is not supported you can stil build a RAG system by always providing the model with the results of your vector store search (e.g. by simply passing the question to your vector store or retriever). Note however, that only with proper tool use, the agent can autonomously decide when to use the RAG functionality.\n",
    "\n",
    "What happens in this code chunk is that we set up a simple function that invokes the retriever, and passes the results into a single string (serializes them). Two things are important: 1) the `@tool` decorator marks the function as a tool, and b) the function description marked by `\"\"\" \"\"\"` (that would usually be part of the documentation) is visible to the model and helps it decide when and how to use the tool. Before we can use the tool in our graph, we need to turn it into a `ToolNode`."
   ]
  },
  {
   "cell_type": "code",
   "execution_count": null,
   "metadata": {},
   "outputs": [],
   "source": [
    "from langchain_core.tools import tool\n",
    "from langgraph.prebuilt import ToolNode\n",
    "\n",
    "\n",
    "@tool\n",
    "def retrieve(query: str):\n",
    "    # note that the function name and the doc string of the tool are provided to the model, thus should be descriptive\n",
    "    \"\"\"Search and return relevant text passages from scientific literature that can be used to answer the question.\"\"\"\n",
    "    retrieved_docs = retriever.invoke(query)\n",
    "    serialized = \"\\n\\n\".join(\n",
    "        (f\"Source: {doc.metadata}\\n\" f\"Content: {doc.page_content}\")\n",
    "        for doc in retrieved_docs\n",
    "    )\n",
    "    return serialized, retrieved_docs\n",
    "\n",
    "# build retrieval tool as tool node (receives an AI message from query_or_respond)\n",
    "tools = ToolNode([retrieve])"
   ]
  },
  {
   "cell_type": "markdown",
   "metadata": {},
   "source": [
    "Next, we set up our LLM, and write two functions. One that prompts the model to decide whether or not to use the tool, and one that generates an answer to our question. If our retriever has been used previously, we can access its output through the tool message it returned. Generally note how communication between the parts of our system - as previously - is happening via the `MessagesState`.\n",
    "\n",
    "If you are interested what's happening in detail, I recommend this [tutorial by LangChain](https://python.langchain.com/docs/tutorials/qa_chat_history/).\n",
    "\n",
    "**Important**: As the decision to use our retriever is done by a differnt node than the actual generation, we _can_ use different models for each step. For example, we could use a model that's good at reasoning (and supports tool use) to decide whether or not to retrieve, and a cheaper model good at generating text on the generation node."
   ]
  },
  {
   "cell_type": "code",
   "execution_count": null,
   "metadata": {},
   "outputs": [],
   "source": [
    "from langchain_core.messages import SystemMessage\n",
    "from dotenv import load_dotenv # to load .env file\n",
    "from langchain_openai import ChatOpenAI\n",
    "from langgraph.graph import MessagesState \n",
    "\n",
    "\n",
    "load_dotenv()\n",
    "# note that ChatOpenAI fetches your API key from your environment - you only need to load the .env file\n",
    "\n",
    "# for now, we'll use GPT 4o-mini for both tasks\n",
    "textgen_llm = ChatOpenAI(model = \"gpt-4o-mini-2024-07-18\",\n",
    "                        temperature=0.0,\n",
    "                        )\n",
    "\n",
    "# we can use different models for different tasks, e.g. a more expensive model for reasoning (should documents be retrieved?) and a cheaper model for text generation\n",
    "reasoning_llm = ChatOpenAI(model = \"gpt-4o-mini-2024-07-18\",\n",
    "                        temperature=0.0,\n",
    "                        )\n",
    "\n",
    "\n",
    "\n",
    "system_prompt = (\n",
    "  \"You are a helpful assistant for finding relevant text passages in scientific literature.\"\n",
    "   \"Use the following pieces of retrieved context to answer the question.\"\n",
    "   \"If you don't know the answer, just say that you don't know, don't try to make up an answer.\"\n",
    ")\n",
    "\n",
    "\n",
    "# agent to decide whether or not to use tools\n",
    "def query_or_respond(state: MessagesState):\n",
    "        \"\"\"Generate tool call for retrieval or respond directly.\"\"\"\n",
    "        llm_with_tools = reasoning_llm.bind_tools([retrieve])\n",
    "        response = llm_with_tools.invoke(state[\"messages\"])\n",
    "        # MessagesState appends messages to state instead of overwriting\n",
    "        return {\"messages\": [response]}\n",
    "\n",
    "# Generate a response\n",
    "def generate(state: MessagesState):\n",
    "    \"\"\"Generate answer.\"\"\"\n",
    "    # Get generated ToolMessages (that is, our retrieved documents)\n",
    "    recent_tool_messages = []\n",
    "    for message in reversed(state[\"messages\"]):\n",
    "        if message.type == \"tool\":\n",
    "            recent_tool_messages.append(message)\n",
    "        else:\n",
    "            break\n",
    "    tool_messages = recent_tool_messages[::-1]\n",
    "\n",
    "    # Format into prompt by first adding the retrieved documents to the system prompt\n",
    "    docs_content = \"\\n\\n\".join(doc.content for doc in tool_messages)\n",
    "    system_message_content = f\"{system_prompt}\\n\\n{docs_content}\"\n",
    "    \n",
    "    # ... then adding the rest of the conversation - including the user question\n",
    "    conversation_messages = [\n",
    "        message\n",
    "        for message in state[\"messages\"]\n",
    "        if message.type in (\"human\", \"system\")\n",
    "        or (message.type == \"ai\" and not message.tool_calls)\n",
    "    ]\n",
    "    prompt = [SystemMessage(system_message_content)] + conversation_messages\n",
    "\n",
    "    # Run\n",
    "    response = textgen_llm.invoke(prompt)\n",
    "    return {\"messages\": [response]}"
   ]
  },
  {
   "cell_type": "markdown",
   "metadata": {},
   "source": [
    "Now, we set up our graph as before, and plot it to better see what's going on:"
   ]
  },
  {
   "cell_type": "code",
   "execution_count": 16,
   "metadata": {},
   "outputs": [
    {
     "data": {
      "image/png": "[encoded data removed]",
      "text/plain": [
       "<IPython.core.display.Image object>"
      ]
     },
     "metadata": {},
     "output_type": "display_data"
    }
   ],
   "source": [
    "from langgraph.graph import END\n",
    "from langgraph.prebuilt import ToolNode, tools_condition\n",
    "from langgraph.graph import MessagesState, StateGraph\n",
    "from IPython.display import Image, display\n",
    "\n",
    "graph_builder = StateGraph(MessagesState)\n",
    "\n",
    "graph_builder.add_node(query_or_respond)\n",
    "graph_builder.add_node(tools)\n",
    "graph_builder.add_node(generate)\n",
    "\n",
    "graph_builder.set_entry_point(\"query_or_respond\")\n",
    "graph_builder.add_conditional_edges(\n",
    "    \"query_or_respond\",\n",
    "    tools_condition,\n",
    "    {END: END, \"tools\": \"tools\"},\n",
    ")\n",
    "graph_builder.add_edge(\"tools\", \"generate\")\n",
    "graph_builder.add_edge(\"generate\", END)\n",
    "\n",
    "graph = graph_builder.compile()\n",
    "\n",
    "display(Image(graph.get_graph().draw_mermaid_png()))"
   ]
  },
  {
   "cell_type": "markdown",
   "metadata": {},
   "source": [
    "As we can see, our agent system will:\n",
    "1. Receive a user query\n",
    "2. Decide whether to query a tool call to our RAG system or to respond directly\n",
    "3. If the system decides to make a tool call:\n",
    "    1. it **autonomously formulates a search query** and calls the retriever\n",
    "    2. The retriever's output is added to the system prompt, and an answer to question is generated\n",
    "\n",
    "Let's see it in action!"
   ]
  },
  {
   "cell_type": "code",
   "execution_count": 17,
   "metadata": {},
   "outputs": [
    {
     "name": "stdout",
     "output_type": "stream",
     "text": [
      "================================\u001b[1m Human Message \u001b[0m=================================\n",
      "\n",
      "Hello\n",
      "==================================\u001b[1m Ai Message \u001b[0m==================================\n",
      "\n",
      "Hello! How can I assist you today?\n"
     ]
    }
   ],
   "source": [
    "input_message = \"Hello\"\n",
    "\n",
    "for step in graph.stream(\n",
    "    {\"messages\": [{\"role\": \"user\", \"content\": input_message}]},\n",
    "    stream_mode=\"values\",\n",
    "):\n",
    "    step[\"messages\"][-1].pretty_print()"
   ]
  },
  {
   "cell_type": "markdown",
   "metadata": {},
   "source": [
    "Note that the system decided to not call the retriever, but instead generated a generic response immediately."
   ]
  },
  {
   "cell_type": "code",
   "execution_count": 18,
   "metadata": {},
   "outputs": [
    {
     "name": "stdout",
     "output_type": "stream",
     "text": [
      "================================\u001b[1m Human Message \u001b[0m=================================\n",
      "\n",
      "What are counter publics?\n",
      "==================================\u001b[1m Ai Message \u001b[0m==================================\n",
      "Tool Calls:\n",
      "  retrieve (call_KKPr6kWJ1L4GaesiwswKoxM3)\n",
      " Call ID: call_KKPr6kWJ1L4GaesiwswKoxM3\n",
      "  Args:\n",
      "    query: counter publics definition\n",
      "=================================\u001b[1m Tool Message \u001b[0m=================================\n",
      "Name: retrieve\n",
      "\n",
      "(\"Source: {'author': 'Lincoln Dahlberg', 'creationdate': '2011-08-25T17:18:27+05:30', 'creator': 'Adobe InDesign CS5.5 (7.5)', 'crossmarkdomainexclusive': 'true', 'crossmarkdomains[1]': 'journals.sagepub.com', 'crossmarkmajorversiondate': '2011-02-08', 'doi': '10.1177/1461444810389569', 'keywords': 'autonomist Marxism,counter-publics,deliberative,digital democracy,liberal-individualist', 'moddate': '2020-02-18T22:42:27+01:00', 'page': 6, 'page_label': '7', 'producer': 'Adobe PDF Library 9.9; modified using iText 4.2.0 by 1T3XT', 'source': 'my_documents\\\\\\\\Dahlberg 2011 Re-Constructing Digital Democracy.pdf', 'start_index': 748, 'subject': 'New Media & Society 2011.13:855-872', 'title': 'Re-constructing digital democracy: An outline of four ‘positions’', 'total_pages': 18}\\nContent: subsequently can come to ‘publicly’ (second meaning) contest dominant discourses that \\nframe hegemonic practices and meanings, including the boundaries of what is consid -\\nered legitimate public sphere communication. In democratic theory, ‘counter-publics’ are \\nnormally associated with a critical public sphere theory tradition that develops out of a \\nsympathetic interrogation of deliberative theory (see, Fraser, 1992; Habermas, 1996; \\nNegt and Kluge, 1993), while ‘counter-discourse’ is a term used more often in relation to \\npost-structuralist political theory (see, Mouffe, 2005). However, the emerging counter-\\npublics digital democracy position draws upon both the counter-publics and counter-\\ndiscourse traditions and terminologies, contributing to their articulation and development \\n(Dahlberg, 2007a, 2007b). \\nThe counter-publics position sees digital communication technologies as supporting \\nboth dominant and counter-publics. The position points to the reproduction of dominant\\n\\nSource: {'author': 'Lincoln Dahlberg', 'creationdate': '2011-08-25T17:18:27+05:30', 'creator': 'Adobe InDesign CS5.5 (7.5)', 'crossmarkdomainexclusive': 'true', 'crossmarkdomains[1]': 'journals.sagepub.com', 'crossmarkmajorversiondate': '2011-02-08', 'doi': '10.1177/1461444810389569', 'keywords': 'autonomist Marxism,counter-publics,deliberative,digital democracy,liberal-individualist', 'moddate': '2020-02-18T22:42:27+01:00', 'page': 5, 'page_label': '6', 'producer': 'Adobe PDF Library 9.9; modified using iText 4.2.0 by 1T3XT', 'source': 'my_documents\\\\\\\\Dahlberg 2011 Re-Constructing Digital Democracy.pdf', 'start_index': 3164, 'subject': 'New Media & Society 2011.13:855-872', 'title': 'Re-constructing digital democracy: An outline of four ‘positions’', 'total_pages': 18}\\nContent: What I refer to as the counter-publics position emphasizes the role of digital media in \\npolitical group formation, activism, and contestation,  rather than rational individual \\naction or rational consensus-oriented deliberation. 6 The democratic subject here is con-\\nstituted through engagement in such group formation, activism, and contestation. This is \\na more affective subject than in the previous positions, moved to act by a perception of \\nsystemic exclusion and injustice. The subject is also one that identifies and bonds in\\n\\nSource: {'author': 'Lincoln Dahlberg', 'creationdate': '2011-08-25T17:18:27+05:30', 'creator': 'Adobe InDesign CS5.5 (7.5)', 'crossmarkdomainexclusive': 'true', 'crossmarkdomains[1]': 'journals.sagepub.com', 'crossmarkmajorversiondate': '2011-02-08', 'doi': '10.1177/1461444810389569', 'keywords': 'autonomist Marxism,counter-publics,deliberative,digital democracy,liberal-individualist', 'moddate': '2020-02-18T22:42:27+01:00', 'page': 6, 'page_label': '7', 'producer': 'Adobe PDF Library 9.9; modified using iText 4.2.0 by 1T3XT', 'source': 'my_documents\\\\\\\\Dahlberg 2011 Re-Constructing Digital Democracy.pdf', 'start_index': 2285, 'subject': 'New Media & Society 2011.13:855-872', 'title': 'Re-constructing digital democracy: An outline of four ‘positions’', 'total_pages': 18}\\nContent: sive boundaries of the mainstream public sphere. I will briefly discuss examples given in \\ne-democracy rhetoric and practice of these three perceived digital media affordances.\\n First, digital counter-publics are seen as forming through the practices of alternative \\nonline media sites, social movement digital initiatives and subaltern online spaces, by \\nmeans of e-mail lists, websites, and digital audio and video. Examples pointed to in the \\ncounter-publics literature, and also clearly observable as counter-public, include: the \\nanti-globalism (or alter-globalization) movement, supported by the Indymedia network \\n(Downey and Fenton, 2003: 186–187; Langman, 2005), the Revolutionary Association \\nof Women of Afghanistan (Bickel, 2003), South Asian Women’s Network (Mitra, 2004), \\nmovie discussion lists in China (Zhang, 2006), the Zapitistas (Kowal, 2002), refugee \\ngroups (Siapera, 2004), ‘right to die’ advocates (McDorman, 2001), sars.org’s counter -\\n\\nSource: {'author': 'Lincoln Dahlberg', 'creationdate': '2011-08-25T17:18:27+05:30', 'creator': 'Adobe InDesign CS5.5 (7.5)', 'crossmarkdomainexclusive': 'true', 'crossmarkdomains[1]': 'journals.sagepub.com', 'crossmarkmajorversiondate': '2011-02-08', 'doi': '10.1177/1461444810389569', 'keywords': 'autonomist Marxism,counter-publics,deliberative,digital democracy,liberal-individualist', 'moddate': '2020-02-18T22:42:27+01:00', 'page': 6, 'page_label': '7', 'producer': 'Adobe PDF Library 9.9; modified using iText 4.2.0 by 1T3XT', 'source': 'my_documents\\\\\\\\Dahlberg 2011 Re-Constructing Digital Democracy.pdf', 'start_index': 0, 'subject': 'New Media & Society 2011.13:855-872', 'title': 'Re-constructing digital democracy: An outline of four ‘positions’', 'total_pages': 18}\\nContent: Dahlberg 861\\nsolidarity with others, and as such the subject here goes beyond the individual to include \\ngroups (or publics). \\nDemocracy here is based on two major assumptions: first, any social formation neces-\\nsarily involves inclusion/exclusion relations and associated discursive contestation, \\nwhere discourse is understood as a contingent and partial fixation of meaning that con -\\nstitutes and organizes social relations (including identities, objects, and practices); and \\nsecond, that this antagonistic situation is the basis for the formation of vibrant ‘counter-\\npublics’: critical-reflexive spaces of communicative interaction (a first meaning of ‘pub-\\nlics’ here) where alternative identities and counter-discourses are developed and \\nsubsequently can come to ‘publicly’ (second meaning) contest dominant discourses that \\nframe hegemonic practices and meanings, including the boundaries of what is consid -\\n\\nSource: {'creationdate': '2012-01-17T17:43:06-05:00', 'creator': 'PyPDF', 'moddate': '2020-03-07T19:45:58+01:00', 'page': 12, 'page_label': 'p. 67', 'producer': 'iText 2.1.5 (by lowagie.com)', 'source': 'my_documents\\\\\\\\Fraser 1990 Rethinking the Public Sphere.pdf', 'start_index': 1633, 'title': 'Rethinking the Public Sphere: A Contribution to the Critique of Actually Existing Democracy', 'total_pages': 26}\\nContent: explicitly anti-democratic and anti-egalitarian; and even those with dem- \\nocratic and egalitarian intentions are not always above practicing their \\nown modes of informal exclusion and marginalization. Still, insofar as \\nthese counterpublics emerge in response to exclusions within dominant \\npublics, they help expand discursive space. In principle, assumptions that \\nwere previously exempt from contestation will now have to be publicly \\nargued out. In general, the proliferation of subaltern counterpublics \\nmeans a widening of discursive contestation, and that is a good thing in \\nstratified societies. \\nI am emphasizing the contestatory function of subaltern counterpublics \\nin stratified societies in part in order to complicate the issue of separat- \\nism. In my view, the concept of a counterpublic militates in the long run \\nagainst separatism because it assumes an orientation that is publicist. \\nInsofar as these arenas are publics they are by definition not enclaves-\", [Document(id='5c5ebda3-a6f2-4efb-9160-913e7f7807c7', metadata={'author': 'Lincoln Dahlberg', 'creationdate': '2011-08-25T17:18:27+05:30', 'creator': 'Adobe InDesign CS5.5 (7.5)', 'crossmarkdomainexclusive': 'true', 'crossmarkdomains[1]': 'journals.sagepub.com', 'crossmarkmajorversiondate': '2011-02-08', 'doi': '10.1177/1461444810389569', 'keywords': 'autonomist Marxism,counter-publics,deliberative,digital democracy,liberal-individualist', 'moddate': '2020-02-18T22:42:27+01:00', 'page': 6, 'page_label': '7', 'producer': 'Adobe PDF Library 9.9; modified using iText 4.2.0 by 1T3XT', 'source': 'my_documents\\\\Dahlberg 2011 Re-Constructing Digital Democracy.pdf', 'start_index': 748, 'subject': 'New Media & Society 2011.13:855-872', 'title': 'Re-constructing digital democracy: An outline of four ‘positions’', 'total_pages': 18}, page_content='subsequently can come to ‘publicly’ (second meaning) contest dominant discourses that \\nframe hegemonic practices and meanings, including the boundaries of what is consid -\\nered legitimate public sphere communication. In democratic theory, ‘counter-publics’ are \\nnormally associated with a critical public sphere theory tradition that develops out of a \\nsympathetic interrogation of deliberative theory (see, Fraser, 1992; Habermas, 1996; \\nNegt and Kluge, 1993), while ‘counter-discourse’ is a term used more often in relation to \\npost-structuralist political theory (see, Mouffe, 2005). However, the emerging counter-\\npublics digital democracy position draws upon both the counter-publics and counter-\\ndiscourse traditions and terminologies, contributing to their articulation and development \\n(Dahlberg, 2007a, 2007b). \\nThe counter-publics position sees digital communication technologies as supporting \\nboth dominant and counter-publics. The position points to the reproduction of dominant'), Document(id='636adb4e-b77e-4529-bfc2-c6ff7b1b604d', metadata={'author': 'Lincoln Dahlberg', 'creationdate': '2011-08-25T17:18:27+05:30', 'creator': 'Adobe InDesign CS5.5 (7.5)', 'crossmarkdomainexclusive': 'true', 'crossmarkdomains[1]': 'journals.sagepub.com', 'crossmarkmajorversiondate': '2011-02-08', 'doi': '10.1177/1461444810389569', 'keywords': 'autonomist Marxism,counter-publics,deliberative,digital democracy,liberal-individualist', 'moddate': '2020-02-18T22:42:27+01:00', 'page': 5, 'page_label': '6', 'producer': 'Adobe PDF Library 9.9; modified using iText 4.2.0 by 1T3XT', 'source': 'my_documents\\\\Dahlberg 2011 Re-Constructing Digital Democracy.pdf', 'start_index': 3164, 'subject': 'New Media & Society 2011.13:855-872', 'title': 'Re-constructing digital democracy: An outline of four ‘positions’', 'total_pages': 18}, page_content='What I refer to as the counter-publics position emphasizes the role of digital media in \\npolitical group formation, activism, and contestation,  rather than rational individual \\naction or rational consensus-oriented deliberation. 6 The democratic subject here is con-\\nstituted through engagement in such group formation, activism, and contestation. This is \\na more affective subject than in the previous positions, moved to act by a perception of \\nsystemic exclusion and injustice. The subject is also one that identifies and bonds in'), Document(id='39539c06-e83a-449d-b4e3-f9c0a22eae62', metadata={'author': 'Lincoln Dahlberg', 'creationdate': '2011-08-25T17:18:27+05:30', 'creator': 'Adobe InDesign CS5.5 (7.5)', 'crossmarkdomainexclusive': 'true', 'crossmarkdomains[1]': 'journals.sagepub.com', 'crossmarkmajorversiondate': '2011-02-08', 'doi': '10.1177/1461444810389569', 'keywords': 'autonomist Marxism,counter-publics,deliberative,digital democracy,liberal-individualist', 'moddate': '2020-02-18T22:42:27+01:00', 'page': 6, 'page_label': '7', 'producer': 'Adobe PDF Library 9.9; modified using iText 4.2.0 by 1T3XT', 'source': 'my_documents\\\\Dahlberg 2011 Re-Constructing Digital Democracy.pdf', 'start_index': 2285, 'subject': 'New Media & Society 2011.13:855-872', 'title': 'Re-constructing digital democracy: An outline of four ‘positions’', 'total_pages': 18}, page_content='sive boundaries of the mainstream public sphere. I will briefly discuss examples given in \\ne-democracy rhetoric and practice of these three perceived digital media affordances.\\n First, digital counter-publics are seen as forming through the practices of alternative \\nonline media sites, social movement digital initiatives and subaltern online spaces, by \\nmeans of e-mail lists, websites, and digital audio and video. Examples pointed to in the \\ncounter-publics literature, and also clearly observable as counter-public, include: the \\nanti-globalism (or alter-globalization) movement, supported by the Indymedia network \\n(Downey and Fenton, 2003: 186–187; Langman, 2005), the Revolutionary Association \\nof Women of Afghanistan (Bickel, 2003), South Asian Women’s Network (Mitra, 2004), \\nmovie discussion lists in China (Zhang, 2006), the Zapitistas (Kowal, 2002), refugee \\ngroups (Siapera, 2004), ‘right to die’ advocates (McDorman, 2001), sars.org’s counter -'), Document(id='08e89453-0e62-4186-80d2-46f629a33ea0', metadata={'author': 'Lincoln Dahlberg', 'creationdate': '2011-08-25T17:18:27+05:30', 'creator': 'Adobe InDesign CS5.5 (7.5)', 'crossmarkdomainexclusive': 'true', 'crossmarkdomains[1]': 'journals.sagepub.com', 'crossmarkmajorversiondate': '2011-02-08', 'doi': '10.1177/1461444810389569', 'keywords': 'autonomist Marxism,counter-publics,deliberative,digital democracy,liberal-individualist', 'moddate': '2020-02-18T22:42:27+01:00', 'page': 6, 'page_label': '7', 'producer': 'Adobe PDF Library 9.9; modified using iText 4.2.0 by 1T3XT', 'source': 'my_documents\\\\Dahlberg 2011 Re-Constructing Digital Democracy.pdf', 'start_index': 0, 'subject': 'New Media & Society 2011.13:855-872', 'title': 'Re-constructing digital democracy: An outline of four ‘positions’', 'total_pages': 18}, page_content='Dahlberg 861\\nsolidarity with others, and as such the subject here goes beyond the individual to include \\ngroups (or publics). \\nDemocracy here is based on two major assumptions: first, any social formation neces-\\nsarily involves inclusion/exclusion relations and associated discursive contestation, \\nwhere discourse is understood as a contingent and partial fixation of meaning that con -\\nstitutes and organizes social relations (including identities, objects, and practices); and \\nsecond, that this antagonistic situation is the basis for the formation of vibrant ‘counter-\\npublics’: critical-reflexive spaces of communicative interaction (a first meaning of ‘pub-\\nlics’ here) where alternative identities and counter-discourses are developed and \\nsubsequently can come to ‘publicly’ (second meaning) contest dominant discourses that \\nframe hegemonic practices and meanings, including the boundaries of what is consid -'), Document(id='42028994-481f-48a9-ac5f-56195ad99aa2', metadata={'creationdate': '2012-01-17T17:43:06-05:00', 'creator': 'PyPDF', 'moddate': '2020-03-07T19:45:58+01:00', 'page': 12, 'page_label': 'p. 67', 'producer': 'iText 2.1.5 (by lowagie.com)', 'source': 'my_documents\\\\Fraser 1990 Rethinking the Public Sphere.pdf', 'start_index': 1633, 'title': 'Rethinking the Public Sphere: A Contribution to the Critique of Actually Existing Democracy', 'total_pages': 26}, page_content='explicitly anti-democratic and anti-egalitarian; and even those with dem- \\nocratic and egalitarian intentions are not always above practicing their \\nown modes of informal exclusion and marginalization. Still, insofar as \\nthese counterpublics emerge in response to exclusions within dominant \\npublics, they help expand discursive space. In principle, assumptions that \\nwere previously exempt from contestation will now have to be publicly \\nargued out. In general, the proliferation of subaltern counterpublics \\nmeans a widening of discursive contestation, and that is a good thing in \\nstratified societies. \\nI am emphasizing the contestatory function of subaltern counterpublics \\nin stratified societies in part in order to complicate the issue of separat- \\nism. In my view, the concept of a counterpublic militates in the long run \\nagainst separatism because it assumes an orientation that is publicist. \\nInsofar as these arenas are publics they are by definition not enclaves-')])\n",
      "==================================\u001b[1m Ai Message \u001b[0m==================================\n",
      "\n",
      "Counter-publics are groups or spaces that emerge in response to the exclusions and marginalization experienced within dominant public spheres. They serve as critical-reflexive spaces of communicative interaction where alternative identities and counter-discourses can be developed. These counter-publics contest dominant discourses that frame hegemonic practices and meanings, thereby expanding the discursive space and allowing for a wider range of voices and perspectives to be heard.\n",
      "\n",
      "In the context of digital democracy, counter-publics are often facilitated by digital communication technologies, which support political group formation, activism, and contestation. They are characterized by their focus on collective engagement and solidarity among members, moving beyond individual rational action to address systemic injustices and exclusions.\n",
      "\n",
      "(Source: {'author': 'Lincoln Dahlberg', 'creationdate': '2011-08-25T17:18:27+05:30', 'source': 'my_documents\\\\\\\\Dahlberg 2011 Re-Constructing Digital Democracy.pdf', 'page': 6})\n"
     ]
    }
   ],
   "source": [
    "input_message = \"What are counter publics?\"\n",
    "\n",
    "for step in graph.stream(\n",
    "    {\"messages\": [{\"role\": \"user\", \"content\": input_message}]},\n",
    "    stream_mode=\"values\",\n",
    "):\n",
    "    step[\"messages\"][-1].pretty_print()"
   ]
  },
  {
   "cell_type": "markdown",
   "metadata": {},
   "source": [
    "Here, the system autonomously queried the retriever with `counter publics definition`, then used the content to provide an answer. It even returned the source!"
   ]
  },
  {
   "cell_type": "markdown",
   "metadata": {},
   "source": [
    "## Other Tools\n",
    "\n",
    "Note that apart from RAG, there are various other tools you can employ. Basically, any python function can be a tool when employed in the LangGraph framework - from simple calculations, to API calls, to plotting, even a BERT-based classifier.\n",
    "\n",
    "**_The strength of agentic systems is not that any one LLM can do everything, but that they can decide when to use a tool that accomplishes a given task._**\n",
    "\n",
    "If you are interested in setting up more tools and agentic systems, I recommend the [LangChain](https://python.langchain.com/docs/tutorials/#orchestration) and [LangGraph](https://langchain-ai.github.io/langgraph/how-tos/) tutorial pages."
   ]
  }
 ],
 "metadata": {
  "kernelspec": {
   "display_name": "nlp_workshop",
   "language": "python",
   "name": "python3"
  },
  "language_info": {
   "codemirror_mode": {
    "name": "ipython",
    "version": 3
   },
   "file_extension": ".py",
   "mimetype": "text/x-python",
   "name": "python",
   "nbconvert_exporter": "python",
   "pygments_lexer": "ipython3",
   "version": "3.12.8"
  }
 },
 "nbformat": 4,
 "nbformat_minor": 2
}
