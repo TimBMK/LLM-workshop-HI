{
 "cells": [
  {
   "cell_type": "markdown",
   "metadata": {},
   "source": [
    "# Large Language Models\n",
    "\n",
    "In their most common implementations, Large Language Models are prompt based. This means that in order to get the model to carry out a task for you, you can simply tell it what you want in plain text. Probably the most well-known implementation of this principle is ChatGPT. As we have learned, this behavior is rooted in their architecture. However, it has some implementations on how we can utilize LLMs in our research."
   ]
  },
  {
   "cell_type": "markdown",
   "metadata": {},
   "source": [
    "## Messages\n",
    "\n",
    "Large Language Models such as those provided by OpenAI will most commonly employ a **message** object in order to deal with input. Think of it as the chat history with your favorite AI chatbot. We will learn more sophisticated ways of dealing with this chat history later. For now it is enough to know it is usually referred to as a list of messages like this:\n",
    "\n",
    "```json\n",
    "[\n",
    "    <message 1>,\n",
    "    <message 2>,\n",
    "    ...\n",
    "]\n",
    "```\n",
    "\n",
    "Each message typically has some additional data associated with it. Most importantly apart from the content is the **role** attribute. This lets the model know who is talking, so to say. The most important differentiation is between *system* and *user*.\n",
    "\n",
    "- **system**: The system prompt, that is, the prompt defining the behavior of the model. For example, this would instruct your model to be a helpful assistant, a translator, or a sentiment classification system. This is usually hidden when using a chat interface such as ChatGPT.\n",
    "\n",
    "- **user**: The user input, that is, what you pass to the model directly. In a chat bot, this is what you type into the chat window. If you use a LLM as a classification system, this would be the input you are looking to classify.\n",
    "\n",
    "There are two more roles that are typically employed for more sophisticated applications such as prolonged chats or Retrieval Augmented Generation (RAG). We will look at them in more detail later, but they are:\n",
    "\n",
    "- **assistant**: The model's output. In a chat model, this would be the answer to your question. In a classification setup, this would be the the classification output. Flagging this especially helps keep track of prolonged conversations. \n",
    "\n",
    "- **tool**: When using Agents with tools, this flags the tool output. For example, when using RAG, the retriever output would typically be a tool message. More on this later.\n",
    "\n",
    "The messages are usually saved in a dictionary. In practice, this looks something like this:"
   ]
  },
  {
   "cell_type": "code",
   "execution_count": 1,
   "metadata": {},
   "outputs": [],
   "source": [
    "# we will task the model to classify the sentiment of a sentence\n",
    "instructions = \"\"\" \n",
    "You are a sentiment classification system. \n",
    "\n",
    "You will be given a sentence and you have to determine if the sentence is \"positive\", \"neutral\", or \"negative\".\n",
    "\n",
    "Only reply with \"positive\", \"neutral\", or \"negative\".\n",
    "\"\"\" # the triple quotes allow us to have a multi-line string\n",
    "\n",
    "messages = [\n",
    "    # we pass the instructions as system message\n",
    "    {\n",
    "      \"role\": \"system\",\n",
    "      \"content\": instructions\n",
    "    },\n",
    "    # and the content we wish to classify as user message\n",
    "    {\n",
    "      \"role\": \"user\",\n",
    "      \"content\": \"I love this movie!\"\n",
    "    }\n",
    "]"
   ]
  },
  {
   "cell_type": "code",
   "execution_count": 2,
   "metadata": {},
   "outputs": [
    {
     "name": "stdout",
     "output_type": "stream",
     "text": [
      "[{'role': 'system', 'content': 'You are a sentiment classification system. \\n\\nYou will be given a sentence and you have to determine if the sentence is \"positive\", \"neutral\", or \"negative\".\\n\\nOnly reply with \"positive\", \"neutral\", or \"negative\".'}, {'role': 'user', 'content': 'I love this movie!'}]\n"
     ]
    }
   ],
   "source": [
    "print(messages)"
   ]
  },
  {
   "cell_type": "markdown",
   "metadata": {},
   "source": [
    "After passed through the model, the conversation would look something like this:"
   ]
  },
  {
   "cell_type": "code",
   "execution_count": 3,
   "metadata": {},
   "outputs": [
    {
     "data": {
      "text/plain": [
       "[{'role': 'system',\n",
       "  'content': ' \\nYou are a sentiment classification system. \\n\\nYou will be given a sentence and you have to determine if the sentence is \"positive\", \"neutral\", or \"negative\".\\n\\nOnly reply with \"positive\", \"neutral\", or \"negative\".\\n'},\n",
       " {'role': 'user', 'content': 'I love this movie!'},\n",
       " {'role': 'assistant', 'content': 'positive'}]"
      ]
     },
     "execution_count": 3,
     "metadata": {},
     "output_type": "execute_result"
    }
   ],
   "source": [
    "[\n",
    "    {\n",
    "      \"role\": \"system\",\n",
    "      \"content\": instructions\n",
    "    },\n",
    "    {\n",
    "      \"role\": \"user\",\n",
    "      \"content\": \"I love this movie!\"\n",
    "    },\n",
    "    {\n",
    "      \"role\": \"assistant\",\n",
    "      \"content\": \"positive\"\n",
    "    }\n",
    "]"
   ]
  },
  {
   "cell_type": "markdown",
   "metadata": {},
   "source": [
    "## OpenAI\n",
    "\n",
    "Let's try this by using the OpenAI API.\n",
    "\n",
    "For this, we need to set up a client to communicate with the API using our API key from the .env file."
   ]
  },
  {
   "cell_type": "code",
   "execution_count": 1,
   "metadata": {},
   "outputs": [],
   "source": [
    "import os\n",
    "from dotenv import load_dotenv # to load .env file\n",
    "from openai import OpenAI\n",
    "\n",
    "load_dotenv()\n",
    "client = OpenAI(api_key=os.getenv(\"OPENAI_API_KEY\")) # client = communicates with API"
   ]
  },
  {
   "cell_type": "code",
   "execution_count": 87,
   "metadata": {},
   "outputs": [],
   "source": [
    "# using the messages from above....\n",
    "instructions = \"\"\" \n",
    "You are a sentiment classification system. \n",
    "\n",
    "You will be given a sentence and you have to determine if the sentence is \"positive\", \"neutral\", or \"negative\".\n",
    "\n",
    "Only reply with \"positive\", \"neutral\", or \"negative\".\n",
    "\"\"\" # the triple quotes allow us to have a multi-line string\n",
    "\n",
    "messages = [\n",
    "    # we pass the instructions as system message\n",
    "    {\n",
    "      \"role\": \"system\",\n",
    "      \"content\": instructions\n",
    "    },\n",
    "    # and the content we wish to classify as user message\n",
    "    {\n",
    "      \"role\": \"user\",\n",
    "      \"content\": \"I love this movie!\"\n",
    "    }\n",
    "]\n",
    "\n",
    "response = client.chat.completions.create( # completions = create responses\n",
    "    model=\"gpt-4o\",\n",
    "    messages=messages\n",
    ")"
   ]
  },
  {
   "cell_type": "code",
   "execution_count": 3,
   "metadata": {},
   "outputs": [
    {
     "data": {
      "text/plain": [
       "ChatCompletion(id='chatcmpl-B4r6elwTQE7PzvGJ0ymBc3N5vlPU2', choices=[Choice(finish_reason='stop', index=0, logprobs=None, message=ChatCompletionMessage(content='positive', refusal=None, role='assistant', audio=None, function_call=None, tool_calls=None))], created=1740497152, model='gpt-4o-2024-08-06', object='chat.completion', service_tier='default', system_fingerprint='fp_eb9dce56a8', usage=CompletionUsage(completion_tokens=2, prompt_tokens=63, total_tokens=65, completion_tokens_details=CompletionTokensDetails(accepted_prediction_tokens=0, audio_tokens=0, reasoning_tokens=0, rejected_prediction_tokens=0), prompt_tokens_details=PromptTokensDetails(audio_tokens=0, cached_tokens=0)))"
      ]
     },
     "execution_count": 3,
     "metadata": {},
     "output_type": "execute_result"
    }
   ],
   "source": [
    "response"
   ]
  },
  {
   "cell_type": "markdown",
   "metadata": {},
   "source": [
    "The response of the model comes with a lot of additional info, such as model and token use, if the request was rejected, etc. What we're actually interested in is the `choices` object and, more specifically, the message returned by the model."
   ]
  },
  {
   "cell_type": "code",
   "execution_count": 4,
   "metadata": {},
   "outputs": [
    {
     "data": {
      "text/plain": [
       "ChatCompletionMessage(content='positive', refusal=None, role='assistant', audio=None, function_call=None, tool_calls=None)"
      ]
     },
     "execution_count": 4,
     "metadata": {},
     "output_type": "execute_result"
    }
   ],
   "source": [
    "response.choices[0].message"
   ]
  },
  {
   "cell_type": "markdown",
   "metadata": {},
   "source": [
    "There we can see the message content and some info such as the `role` we talked about before. To get straight to the answer, we can refer to the `content` of the message:"
   ]
  },
  {
   "cell_type": "code",
   "execution_count": 5,
   "metadata": {},
   "outputs": [
    {
     "data": {
      "text/plain": [
       "'positive'"
      ]
     },
     "execution_count": 5,
     "metadata": {},
     "output_type": "execute_result"
    }
   ],
   "source": [
    "response.choices[0].message.content"
   ]
  },
  {
   "cell_type": "markdown",
   "metadata": {},
   "source": [
    "We can also have the model return the (log) probabilities of the given answer, effectively giving us an idea how sure the model is about its answer:"
   ]
  },
  {
   "cell_type": "code",
   "execution_count": 89,
   "metadata": {},
   "outputs": [],
   "source": [
    "response = client.chat.completions.create( # completions = create responses\n",
    "    model=\"gpt-4o\",\n",
    "    messages=messages,\n",
    "    logprobs=True,\n",
    "    top_logprobs=3 # this sets the number of alternative tokens for which the logprobs are returned\n",
    ")"
   ]
  },
  {
   "cell_type": "code",
   "execution_count": 90,
   "metadata": {},
   "outputs": [
    {
     "name": "stdout",
     "output_type": "stream",
     "text": [
      "positive\n",
      "-0.0011918948730453849\n"
     ]
    }
   ],
   "source": [
    "print(response.choices[0].message.content)\n",
    "print(response.choices[0].logprobs.content[0].logprob)"
   ]
  },
  {
   "cell_type": "markdown",
   "metadata": {},
   "source": [
    "We can check what other tokens the model considered:"
   ]
  },
  {
   "cell_type": "code",
   "execution_count": 92,
   "metadata": {},
   "outputs": [
    {
     "data": {
      "text/plain": [
       "[TopLogprob(token='positive', bytes=[112, 111, 115, 105, 116, 105, 118, 101], logprob=-0.0011918948730453849),\n",
       " TopLogprob(token='\"', bytes=[34], logprob=-6.751192092895508),\n",
       " TopLogprob(token='Positive', bytes=[80, 111, 115, 105, 116, 105, 118, 101], logprob=-10.751192092895508)]"
      ]
     },
     "execution_count": 92,
     "metadata": {},
     "output_type": "execute_result"
    }
   ],
   "source": [
    "response.choices[0].logprobs.content[0].top_logprobs"
   ]
  },
  {
   "cell_type": "markdown",
   "metadata": {},
   "source": [
    "There are a number of additional attributes to the API call that you can access with `?`:"
   ]
  },
  {
   "cell_type": "code",
   "execution_count": 34,
   "metadata": {},
   "outputs": [
    {
     "name": "stdout",
     "output_type": "stream",
     "text": [
      "\u001b[1;31mSignature:\u001b[0m\n",
      "\u001b[0mclient\u001b[0m\u001b[1;33m.\u001b[0m\u001b[0mchat\u001b[0m\u001b[1;33m.\u001b[0m\u001b[0mcompletions\u001b[0m\u001b[1;33m.\u001b[0m\u001b[0mcreate\u001b[0m\u001b[1;33m(\u001b[0m\u001b[1;33m\n",
      "\u001b[0m    \u001b[1;33m*\u001b[0m\u001b[1;33m,\u001b[0m\u001b[1;33m\n",
      "\u001b[0m    \u001b[0mmessages\u001b[0m\u001b[1;33m:\u001b[0m \u001b[1;34m'Iterable[ChatCompletionMessageParam]'\u001b[0m\u001b[1;33m,\u001b[0m\u001b[1;33m\n",
      "\u001b[0m    \u001b[0mmodel\u001b[0m\u001b[1;33m:\u001b[0m \u001b[1;34m'Union[str, ChatModel]'\u001b[0m\u001b[1;33m,\u001b[0m\u001b[1;33m\n",
      "\u001b[0m    \u001b[0maudio\u001b[0m\u001b[1;33m:\u001b[0m \u001b[1;34m'Optional[ChatCompletionAudioParam] | NotGiven'\u001b[0m \u001b[1;33m=\u001b[0m \u001b[0mNOT_GIVEN\u001b[0m\u001b[1;33m,\u001b[0m\u001b[1;33m\n",
      "\u001b[0m    \u001b[0mfrequency_penalty\u001b[0m\u001b[1;33m:\u001b[0m \u001b[1;34m'Optional[float] | NotGiven'\u001b[0m \u001b[1;33m=\u001b[0m \u001b[0mNOT_GIVEN\u001b[0m\u001b[1;33m,\u001b[0m\u001b[1;33m\n",
      "\u001b[0m    \u001b[0mfunction_call\u001b[0m\u001b[1;33m:\u001b[0m \u001b[1;34m'completion_create_params.FunctionCall | NotGiven'\u001b[0m \u001b[1;33m=\u001b[0m \u001b[0mNOT_GIVEN\u001b[0m\u001b[1;33m,\u001b[0m\u001b[1;33m\n",
      "\u001b[0m    \u001b[0mfunctions\u001b[0m\u001b[1;33m:\u001b[0m \u001b[1;34m'Iterable[completion_create_params.Function] | NotGiven'\u001b[0m \u001b[1;33m=\u001b[0m \u001b[0mNOT_GIVEN\u001b[0m\u001b[1;33m,\u001b[0m\u001b[1;33m\n",
      "\u001b[0m    \u001b[0mlogit_bias\u001b[0m\u001b[1;33m:\u001b[0m \u001b[1;34m'Optional[Dict[str, int]] | NotGiven'\u001b[0m \u001b[1;33m=\u001b[0m \u001b[0mNOT_GIVEN\u001b[0m\u001b[1;33m,\u001b[0m\u001b[1;33m\n",
      "\u001b[0m    \u001b[0mlogprobs\u001b[0m\u001b[1;33m:\u001b[0m \u001b[1;34m'Optional[bool] | NotGiven'\u001b[0m \u001b[1;33m=\u001b[0m \u001b[0mNOT_GIVEN\u001b[0m\u001b[1;33m,\u001b[0m\u001b[1;33m\n",
      "\u001b[0m    \u001b[0mmax_completion_tokens\u001b[0m\u001b[1;33m:\u001b[0m \u001b[1;34m'Optional[int] | NotGiven'\u001b[0m \u001b[1;33m=\u001b[0m \u001b[0mNOT_GIVEN\u001b[0m\u001b[1;33m,\u001b[0m\u001b[1;33m\n",
      "\u001b[0m    \u001b[0mmax_tokens\u001b[0m\u001b[1;33m:\u001b[0m \u001b[1;34m'Optional[int] | NotGiven'\u001b[0m \u001b[1;33m=\u001b[0m \u001b[0mNOT_GIVEN\u001b[0m\u001b[1;33m,\u001b[0m\u001b[1;33m\n",
      "\u001b[0m    \u001b[0mmetadata\u001b[0m\u001b[1;33m:\u001b[0m \u001b[1;34m'Optional[Metadata] | NotGiven'\u001b[0m \u001b[1;33m=\u001b[0m \u001b[0mNOT_GIVEN\u001b[0m\u001b[1;33m,\u001b[0m\u001b[1;33m\n",
      "\u001b[0m    \u001b[0mmodalities\u001b[0m\u001b[1;33m:\u001b[0m \u001b[1;34m'Optional[List[ChatCompletionModality]] | NotGiven'\u001b[0m \u001b[1;33m=\u001b[0m \u001b[0mNOT_GIVEN\u001b[0m\u001b[1;33m,\u001b[0m\u001b[1;33m\n",
      "\u001b[0m    \u001b[0mn\u001b[0m\u001b[1;33m:\u001b[0m \u001b[1;34m'Optional[int] | NotGiven'\u001b[0m \u001b[1;33m=\u001b[0m \u001b[0mNOT_GIVEN\u001b[0m\u001b[1;33m,\u001b[0m\u001b[1;33m\n",
      "\u001b[0m    \u001b[0mparallel_tool_calls\u001b[0m\u001b[1;33m:\u001b[0m \u001b[1;34m'bool | NotGiven'\u001b[0m \u001b[1;33m=\u001b[0m \u001b[0mNOT_GIVEN\u001b[0m\u001b[1;33m,\u001b[0m\u001b[1;33m\n",
      "\u001b[0m    \u001b[0mprediction\u001b[0m\u001b[1;33m:\u001b[0m \u001b[1;34m'Optional[ChatCompletionPredictionContentParam] | NotGiven'\u001b[0m \u001b[1;33m=\u001b[0m \u001b[0mNOT_GIVEN\u001b[0m\u001b[1;33m,\u001b[0m\u001b[1;33m\n",
      "\u001b[0m    \u001b[0mpresence_penalty\u001b[0m\u001b[1;33m:\u001b[0m \u001b[1;34m'Optional[float] | NotGiven'\u001b[0m \u001b[1;33m=\u001b[0m \u001b[0mNOT_GIVEN\u001b[0m\u001b[1;33m,\u001b[0m\u001b[1;33m\n",
      "\u001b[0m    \u001b[0mreasoning_effort\u001b[0m\u001b[1;33m:\u001b[0m \u001b[1;34m'Optional[ChatCompletionReasoningEffort] | NotGiven'\u001b[0m \u001b[1;33m=\u001b[0m \u001b[0mNOT_GIVEN\u001b[0m\u001b[1;33m,\u001b[0m\u001b[1;33m\n",
      "\u001b[0m    \u001b[0mresponse_format\u001b[0m\u001b[1;33m:\u001b[0m \u001b[1;34m'completion_create_params.ResponseFormat | NotGiven'\u001b[0m \u001b[1;33m=\u001b[0m \u001b[0mNOT_GIVEN\u001b[0m\u001b[1;33m,\u001b[0m\u001b[1;33m\n",
      "\u001b[0m    \u001b[0mseed\u001b[0m\u001b[1;33m:\u001b[0m \u001b[1;34m'Optional[int] | NotGiven'\u001b[0m \u001b[1;33m=\u001b[0m \u001b[0mNOT_GIVEN\u001b[0m\u001b[1;33m,\u001b[0m\u001b[1;33m\n",
      "\u001b[0m    \u001b[0mservice_tier\u001b[0m\u001b[1;33m:\u001b[0m \u001b[1;34m\"Optional[Literal['auto', 'default']] | NotGiven\"\u001b[0m \u001b[1;33m=\u001b[0m \u001b[0mNOT_GIVEN\u001b[0m\u001b[1;33m,\u001b[0m\u001b[1;33m\n",
      "\u001b[0m    \u001b[0mstop\u001b[0m\u001b[1;33m:\u001b[0m \u001b[1;34m'Union[Optional[str], List[str]] | NotGiven'\u001b[0m \u001b[1;33m=\u001b[0m \u001b[0mNOT_GIVEN\u001b[0m\u001b[1;33m,\u001b[0m\u001b[1;33m\n",
      "\u001b[0m    \u001b[0mstore\u001b[0m\u001b[1;33m:\u001b[0m \u001b[1;34m'Optional[bool] | NotGiven'\u001b[0m \u001b[1;33m=\u001b[0m \u001b[0mNOT_GIVEN\u001b[0m\u001b[1;33m,\u001b[0m\u001b[1;33m\n",
      "\u001b[0m    \u001b[0mstream\u001b[0m\u001b[1;33m:\u001b[0m \u001b[1;34m'Optional[Literal[False]] | Literal[True] | NotGiven'\u001b[0m \u001b[1;33m=\u001b[0m \u001b[0mNOT_GIVEN\u001b[0m\u001b[1;33m,\u001b[0m\u001b[1;33m\n",
      "\u001b[0m    \u001b[0mstream_options\u001b[0m\u001b[1;33m:\u001b[0m \u001b[1;34m'Optional[ChatCompletionStreamOptionsParam] | NotGiven'\u001b[0m \u001b[1;33m=\u001b[0m \u001b[0mNOT_GIVEN\u001b[0m\u001b[1;33m,\u001b[0m\u001b[1;33m\n",
      "\u001b[0m    \u001b[0mtemperature\u001b[0m\u001b[1;33m:\u001b[0m \u001b[1;34m'Optional[float] | NotGiven'\u001b[0m \u001b[1;33m=\u001b[0m \u001b[0mNOT_GIVEN\u001b[0m\u001b[1;33m,\u001b[0m\u001b[1;33m\n",
      "\u001b[0m    \u001b[0mtool_choice\u001b[0m\u001b[1;33m:\u001b[0m \u001b[1;34m'ChatCompletionToolChoiceOptionParam | NotGiven'\u001b[0m \u001b[1;33m=\u001b[0m \u001b[0mNOT_GIVEN\u001b[0m\u001b[1;33m,\u001b[0m\u001b[1;33m\n",
      "\u001b[0m    \u001b[0mtools\u001b[0m\u001b[1;33m:\u001b[0m \u001b[1;34m'Iterable[ChatCompletionToolParam] | NotGiven'\u001b[0m \u001b[1;33m=\u001b[0m \u001b[0mNOT_GIVEN\u001b[0m\u001b[1;33m,\u001b[0m\u001b[1;33m\n",
      "\u001b[0m    \u001b[0mtop_logprobs\u001b[0m\u001b[1;33m:\u001b[0m \u001b[1;34m'Optional[int] | NotGiven'\u001b[0m \u001b[1;33m=\u001b[0m \u001b[0mNOT_GIVEN\u001b[0m\u001b[1;33m,\u001b[0m\u001b[1;33m\n",
      "\u001b[0m    \u001b[0mtop_p\u001b[0m\u001b[1;33m:\u001b[0m \u001b[1;34m'Optional[float] | NotGiven'\u001b[0m \u001b[1;33m=\u001b[0m \u001b[0mNOT_GIVEN\u001b[0m\u001b[1;33m,\u001b[0m\u001b[1;33m\n",
      "\u001b[0m    \u001b[0muser\u001b[0m\u001b[1;33m:\u001b[0m \u001b[1;34m'str | NotGiven'\u001b[0m \u001b[1;33m=\u001b[0m \u001b[0mNOT_GIVEN\u001b[0m\u001b[1;33m,\u001b[0m\u001b[1;33m\n",
      "\u001b[0m    \u001b[0mextra_headers\u001b[0m\u001b[1;33m:\u001b[0m \u001b[1;34m'Headers | None'\u001b[0m \u001b[1;33m=\u001b[0m \u001b[1;32mNone\u001b[0m\u001b[1;33m,\u001b[0m\u001b[1;33m\n",
      "\u001b[0m    \u001b[0mextra_query\u001b[0m\u001b[1;33m:\u001b[0m \u001b[1;34m'Query | None'\u001b[0m \u001b[1;33m=\u001b[0m \u001b[1;32mNone\u001b[0m\u001b[1;33m,\u001b[0m\u001b[1;33m\n",
      "\u001b[0m    \u001b[0mextra_body\u001b[0m\u001b[1;33m:\u001b[0m \u001b[1;34m'Body | None'\u001b[0m \u001b[1;33m=\u001b[0m \u001b[1;32mNone\u001b[0m\u001b[1;33m,\u001b[0m\u001b[1;33m\n",
      "\u001b[0m    \u001b[0mtimeout\u001b[0m\u001b[1;33m:\u001b[0m \u001b[1;34m'float | httpx.Timeout | None | NotGiven'\u001b[0m \u001b[1;33m=\u001b[0m \u001b[0mNOT_GIVEN\u001b[0m\u001b[1;33m,\u001b[0m\u001b[1;33m\n",
      "\u001b[0m\u001b[1;33m)\u001b[0m \u001b[1;33m->\u001b[0m \u001b[1;34m'ChatCompletion | Stream[ChatCompletionChunk]'\u001b[0m\u001b[1;33m\u001b[0m\u001b[1;33m\u001b[0m\u001b[0m\n",
      "\u001b[1;31mDocstring:\u001b[0m <no docstring>\n",
      "\u001b[1;31mFile:\u001b[0m      c:\\programdata\\miniconda3\\envs\\nlp_workshop\\lib\\site-packages\\openai\\resources\\chat\\completions.py\n",
      "\u001b[1;31mType:\u001b[0m      method"
     ]
    }
   ],
   "source": [
    "client.chat.completions.create?"
   ]
  },
  {
   "cell_type": "markdown",
   "metadata": {},
   "source": [
    "Among other things, you can provide a maximum number of tokens to generate. This can be helpful when trying to force the model to give a specific answer (e.g. not longer than the longest label we want returned) or when trying to make sure you do not use more tokens per answer than you can afford (as you are charged by tokens).\n",
    "\n",
    "Additionally, there's the **_temperature_** parameter, which effectively changes how deterministic the model's answer will be. Simply put, a higher temperature leads to a higher likelihood of tokens with a lower log probability being generated. This can be helpful in e.g. Chatbots, where you do not want exactly the same answer everytime. In classification tasks, however, you usually want to set it to 0."
   ]
  },
  {
   "cell_type": "markdown",
   "metadata": {},
   "source": [
    "### Classification\n",
    "\n",
    "Technically, the sentiment example above was already a classification task. But let's try the same multi-class classification with CAP categories we have previously attempted with RoBERTa models.  "
   ]
  },
  {
   "cell_type": "code",
   "execution_count": 36,
   "metadata": {},
   "outputs": [
    {
     "data": {
      "application/vnd.microsoft.datawrangler.viewer.v0+json": {
       "columns": [
        {
         "name": "index",
         "rawType": "int64",
         "type": "integer"
        },
        {
         "name": "id",
         "rawType": "int64",
         "type": "integer"
        },
        {
         "name": "year",
         "rawType": "int64",
         "type": "integer"
        },
        {
         "name": "speech_year",
         "rawType": "int64",
         "type": "integer"
        },
        {
         "name": "date",
         "rawType": "object",
         "type": "string"
        },
        {
         "name": "description",
         "rawType": "object",
         "type": "string"
        },
        {
         "name": "subtitle",
         "rawType": "object",
         "type": "unknown"
        },
        {
         "name": "words",
         "rawType": "float64",
         "type": "float"
        },
        {
         "name": "majortopic",
         "rawType": "int64",
         "type": "integer"
        },
        {
         "name": "filter_international",
         "rawType": "int64",
         "type": "integer"
        },
        {
         "name": "filter_duplicate",
         "rawType": "int64",
         "type": "integer"
        },
        {
         "name": "text",
         "rawType": "object",
         "type": "string"
        }
       ],
       "conversionMethod": "pd.DataFrame",
       "ref": "b8f2fd5a-4b95-42cd-bba6-9636ec566f11",
       "rows": [
        [
         "0",
         "1",
         "1960",
         "52",
         "06/01/1960",
         "Engineering Unions Press Pay And Hours Claim",
         "Apparition Of Inflationary Spiral Laid",
         "1042.0",
         "5",
         "0",
         "0",
         "Engineering Unions Press Pay And Hours Claim Apparition Of Inflationary Spiral Laid"
        ],
        [
         "1",
         "2",
         "1960",
         "52",
         "06/01/1960",
         "In Disaster Pit",
         null,
         "796.0",
         "8",
         "0",
         "0",
         "In Disaster Pit "
        ],
        [
         "2",
         "3",
         "1960",
         "52",
         "06/01/1960",
         "Peeping Toms",
         null,
         "159.0",
         "12",
         "0",
         "0",
         "Peeping Toms "
        ],
        [
         "3",
         "4",
         "1960",
         "52",
         "06/01/1960",
         "Police Officer Praised For Car Struggle",
         null,
         "173.0",
         "12",
         "0",
         "0",
         "Police Officer Praised For Car Struggle "
        ],
        [
         "4",
         "5",
         "1960",
         "52",
         "06/01/1960",
         "540 Tugmen End Strike",
         "Employers Agree To Supply Deck Boys",
         "411.0",
         "10",
         "0",
         "0",
         "540 Tugmen End Strike Employers Agree To Supply Deck Boys"
        ]
       ],
       "shape": {
        "columns": 11,
        "rows": 5
       }
      },
      "text/html": [
       "<div>\n",
       "<style scoped>\n",
       "    .dataframe tbody tr th:only-of-type {\n",
       "        vertical-align: middle;\n",
       "    }\n",
       "\n",
       "    .dataframe tbody tr th {\n",
       "        vertical-align: top;\n",
       "    }\n",
       "\n",
       "    .dataframe thead th {\n",
       "        text-align: right;\n",
       "    }\n",
       "</style>\n",
       "<table border=\"1\" class=\"dataframe\">\n",
       "  <thead>\n",
       "    <tr style=\"text-align: right;\">\n",
       "      <th></th>\n",
       "      <th>id</th>\n",
       "      <th>year</th>\n",
       "      <th>speech_year</th>\n",
       "      <th>date</th>\n",
       "      <th>description</th>\n",
       "      <th>subtitle</th>\n",
       "      <th>words</th>\n",
       "      <th>majortopic</th>\n",
       "      <th>filter_international</th>\n",
       "      <th>filter_duplicate</th>\n",
       "      <th>text</th>\n",
       "    </tr>\n",
       "  </thead>\n",
       "  <tbody>\n",
       "    <tr>\n",
       "      <th>0</th>\n",
       "      <td>1</td>\n",
       "      <td>1960</td>\n",
       "      <td>52</td>\n",
       "      <td>06/01/1960</td>\n",
       "      <td>Engineering Unions Press Pay And Hours Claim</td>\n",
       "      <td>Apparition Of Inflationary Spiral Laid</td>\n",
       "      <td>1042.0</td>\n",
       "      <td>5</td>\n",
       "      <td>0</td>\n",
       "      <td>0</td>\n",
       "      <td>Engineering Unions Press Pay And Hours Claim A...</td>\n",
       "    </tr>\n",
       "    <tr>\n",
       "      <th>1</th>\n",
       "      <td>2</td>\n",
       "      <td>1960</td>\n",
       "      <td>52</td>\n",
       "      <td>06/01/1960</td>\n",
       "      <td>In Disaster Pit</td>\n",
       "      <td>NaN</td>\n",
       "      <td>796.0</td>\n",
       "      <td>8</td>\n",
       "      <td>0</td>\n",
       "      <td>0</td>\n",
       "      <td>In Disaster Pit</td>\n",
       "    </tr>\n",
       "    <tr>\n",
       "      <th>2</th>\n",
       "      <td>3</td>\n",
       "      <td>1960</td>\n",
       "      <td>52</td>\n",
       "      <td>06/01/1960</td>\n",
       "      <td>Peeping Toms</td>\n",
       "      <td>NaN</td>\n",
       "      <td>159.0</td>\n",
       "      <td>12</td>\n",
       "      <td>0</td>\n",
       "      <td>0</td>\n",
       "      <td>Peeping Toms</td>\n",
       "    </tr>\n",
       "    <tr>\n",
       "      <th>3</th>\n",
       "      <td>4</td>\n",
       "      <td>1960</td>\n",
       "      <td>52</td>\n",
       "      <td>06/01/1960</td>\n",
       "      <td>Police Officer Praised For Car Struggle</td>\n",
       "      <td>NaN</td>\n",
       "      <td>173.0</td>\n",
       "      <td>12</td>\n",
       "      <td>0</td>\n",
       "      <td>0</td>\n",
       "      <td>Police Officer Praised For Car Struggle</td>\n",
       "    </tr>\n",
       "    <tr>\n",
       "      <th>4</th>\n",
       "      <td>5</td>\n",
       "      <td>1960</td>\n",
       "      <td>52</td>\n",
       "      <td>06/01/1960</td>\n",
       "      <td>540 Tugmen End Strike</td>\n",
       "      <td>Employers Agree To Supply Deck Boys</td>\n",
       "      <td>411.0</td>\n",
       "      <td>10</td>\n",
       "      <td>0</td>\n",
       "      <td>0</td>\n",
       "      <td>540 Tugmen End Strike Employers Agree To Suppl...</td>\n",
       "    </tr>\n",
       "  </tbody>\n",
       "</table>\n",
       "</div>"
      ],
      "text/plain": [
       "   id  year  speech_year        date  \\\n",
       "0   1  1960           52  06/01/1960   \n",
       "1   2  1960           52  06/01/1960   \n",
       "2   3  1960           52  06/01/1960   \n",
       "3   4  1960           52  06/01/1960   \n",
       "4   5  1960           52  06/01/1960   \n",
       "\n",
       "                                    description  \\\n",
       "0  Engineering Unions Press Pay And Hours Claim   \n",
       "1                               In Disaster Pit   \n",
       "2                                  Peeping Toms   \n",
       "3       Police Officer Praised For Car Struggle   \n",
       "4                         540 Tugmen End Strike   \n",
       "\n",
       "                                 subtitle   words  majortopic  \\\n",
       "0  Apparition Of Inflationary Spiral Laid  1042.0           5   \n",
       "1                                     NaN   796.0           8   \n",
       "2                                     NaN   159.0          12   \n",
       "3                                     NaN   173.0          12   \n",
       "4     Employers Agree To Supply Deck Boys   411.0          10   \n",
       "\n",
       "   filter_international  filter_duplicate  \\\n",
       "0                     0                 0   \n",
       "1                     0                 0   \n",
       "2                     0                 0   \n",
       "3                     0                 0   \n",
       "4                     0                 0   \n",
       "\n",
       "                                                text  \n",
       "0  Engineering Unions Press Pay And Hours Claim A...  \n",
       "1                                   In Disaster Pit   \n",
       "2                                      Peeping Toms   \n",
       "3           Police Officer Praised For Car Struggle   \n",
       "4  540 Tugmen End Strike Employers Agree To Suppl...  "
      ]
     },
     "execution_count": 36,
     "metadata": {},
     "output_type": "execute_result"
    }
   ],
   "source": [
    "# we're loading up our trusty UK media dataset and do some minor data cleaning\n",
    "\n",
    "import pandas as pd\n",
    "\n",
    "uk_media = pd.read_csv('data/uk_media.csv')\n",
    "\n",
    " # fillna() makes sure missing values don't result in NaN entries\n",
    "uk_media['text'] = uk_media['description'].fillna('') + ' ' + uk_media['subtitle'].fillna('')\n",
    "\n",
    "# we'll also drop duplicates indicated by the filter_duplicate column\n",
    "uk_media = uk_media[uk_media['filter_duplicate'] == 0]\n",
    "\n",
    "# we'll also drop rows where text is NaN (missing due to missing headlines)\n",
    "uk_media = uk_media[uk_media['text'].notna()]\n",
    "\n",
    "uk_media.head()"
   ]
  },
  {
   "cell_type": "markdown",
   "metadata": {},
   "source": [
    "A major advante of LLMs in contrast to our RoBERTa model is that they do not need to \"learn\" the categories via training. Instead, we will provide them with instructions how to label the data, much as you would with a human labeler. However, this makes it necessary to provide the model with descriptive labels and extensive coding instructions, which increase the number of tokens you use per call, and therefore the cost.\n",
    "\n",
    "Here we are using a codebook based on the Minor Policy Codes of the official [CAP codebook](https://www.comparativeagendas.net/pages/master-codebook):"
   ]
  },
  {
   "cell_type": "code",
   "execution_count": 45,
   "metadata": {},
   "outputs": [],
   "source": [
    "cap_labels = {\n",
    "    \"1\": \"Issues related to general domestic macroeconomic policy; Interest Rates; Unemployment Rate; Monetary Policy; National Budget; Tax Code; Industrial Policy; Price Control; other macroeconomics subtopics\",\n",
    "    \"2\": \"Issues related generally to civil rights and minority rights; Minority Discrimination; Gender Discrimination; Age Discrimination; Handicap Discrimination; Voting Rights; Freedom of Speech; Right to Privacy; Anti-Government; other civil rights subtopics\",\n",
    "    \"3\": \"Issues related generally to health care, including appropriations for general health care government agencies; Health Care Reform; Insurance; Drug Industry; Medical Facilities; Insurance Providers; Medical Liability; Manpower; Disease Prevention; Infants and Children; Mental Health; Long-term Care; Drug Coverage and Cost; Tobacco Abuse; Drug and Alcohol Abuse; health care research and development; issues related to other health care topics\",\n",
    "    \"4\": \"Issues related to general agriculture policy, including appropriations for general agriculture government agencies; agricultural foreign trade; Subsidies to Farmers; Food Inspection & Safety; Food Marketing & Promotion; Animal and Crop Disease; Fisheries & Fishing; agricultural research and development; issues related to other agricultural subtopics\",\n",
    "    \"5\": \"Issues generally related to labor, employment, and pensions, including appropriations for government agencies regulating labor policy; Worker Safety; Employment Training; Employee Benefits; Labor Unions; Fair Labor Standards; Youth Employment; Migrant and Seasonal workers; Issues related to other labor policy\",\n",
    "    \"6\": \"Issues related to General education policy, including appropriations for government agencies regulating education policy; Higher education, student loans and education finance, and the regulation of colleges and universities; Elementary & Secondary education; Underprivileged students; Vocational education; Special education and education for the physically or mentally handicapped; Education Excellence; research and development in education; issues related to other subtopics in education policy\",\n",
    "    \"7\": \"Issues related to General environmental policy, including appropriations for government agencies regulating environmental policy; Drinking Water; Waste Disposal; Hazardous Waste; Air Pollution; Recycling; Indoor Hazards; Species & Forest; Land and Water Conservation; research and development in environmental technology, not including alternative energy; issues related to other environmental subtopics\",\n",
    "    \"8\": \"Issues generally related to energy policy, including appropriations for government agencies regulating energy policy; Nuclear energy, safety and security, and disposal of nuclear waste; Electricity; Natural Gas & Oil; Coal; Alternative & Renewable Energy; Issues related to energy conservation and energy efficiency; issues related to energy research and development; issues related to other energy subtopics\",\n",
    "    \"9\": \"Issues related to immigration, refugees, and citizenship\",\n",
    "    \"10\": \"Issues related generally to transportation, including appropriations for government agencies regulating transportation policy; mass transportation construction, regulation, safety, and availability; public highway construction, maintenance, and safety; Air Travel; Railroad Travel; Maritime transportation; Infrastructure and public works, including employment initiatives; transportation research and development; issues related to other transportation subtopics\",\n",
    "    \"12\": \"Issues related to general law, crime, and family issues; law enforcement agencies, including border, customs, and other specialized enforcement agencies and their appropriations; White Collar Crime; Illegal Drugs; Court Administration; Prisons; Juvenile Crime; Child Abuse; Family Issues, domestic violence, child welfare, family law; Criminal & Civil Code; Crime Control; Police; issues related to other law, crime, and family subtopics\",\n",
    "    \"13\": \"Issues generally related to social welfare policy; Low-Income Assistance; Elderly Assistance; Disabled Assistance; Volunteer Associations; Child Care; issues related to other social welfare policy subtopics\",\n",
    "    \"14\": \"Issues related generally to housing and urban affairs; housing and community development, neighborhood development, and national housing policy; urban development and general urban issues; Rural Housing; economic, infrastructure, and other developments in non-urban areas; housing for low-income individuals and families, including public housing projects and housing affordability programs; housing for military veterans and their families, including subsidies for veterans; housing for the elderly, including housing facilities for the handicapped elderly; housing for the homeless and efforts to reduce homelessness ; housing and community development research and development; Other issues related to housing and community development\",\n",
    "    \"15\": \"Issues generally related to domestic commerce, including appropriations for government agencies regulating domestic commerce; Banking; Securities & Commodities; Consumer Finance; Insurance Regulation; personal, commercial, and municipal bankruptcies; corporate mergers, antitrust regulation, corporate accounting and governance, and corporate management; Small Businesses; Copyrights and Patents; Disaster Relief; Tourism; Consumer Safety; Sports Regulation; domestic commerce research and development; other domestic commerce policy subtopics\",\n",
    "    \"16\": \"Issues related generally to defense policy, and appropriations for agencies that oversee general defense policy; defense alliance and agreement, security assistance, and UN peacekeeping activities; military intelligence, espionage, and covert operations; military readiness, coordination of armed services air support and sealift capabilities, and national stockpiles of strategic materials.; Nuclear Arms; Military Aid; military manpower, military personel and their dependents, military courts, and general veterans' issues; military procurement, conversion of old equipment, and weapons systems evaluation; military installations, construction, and land transfers; military reserves and reserve affairs; military nuclear and hazardous waste disposal and military environmental compliance; domestic civil defense, national security responses to terrorism, and other issues related to homeland security; non-contractor civilian personnel, civilian employment in the defense industry, and military base closings; military contractors and contracting, oversight of military contrators and fraud by military contractors; Foreign Operations; claims against the military, settlements for military dependents, and compensation for civilians injured in military operations; defense research and development; other defense policy subtopics\",\n",
    "    \"17\": \"Issues related to general space, science, technology, and communications; government use of space and space resource exploitation agreements, government space programs and space exploration, military use of space; regulation and promotion of commercial use of space, commercial satellite technology, and government efforts to encourage commercial space development; science and technology transfer and international science cooperation; Telecommunications; Broadcast; Weather Forecasting; computer industry, regulation of the internet, and cyber security; space, science, technology, and communication research and development not mentioned in other subtopics.; other issues related to space, science, technology, and communication research and development\",\n",
    "    \"18\": \"Issues generally related to foreign trade and appropriations for government agencies generally regulating foreign trade; Trade Agreements; Exports; Private Investments; productivity of competitiveness of domestic businesses and balance of payments issues; Tariff & Imports; Exchange Rates; other foreign trade policy subtopics\",\n",
    "    \"19\": \"Issues related to general international affairs and foreign aid, including appropriations for general government foreign affairs agencies; Foreign Aid; Resources Exploitation; Developing Countries; International Finance; Western Europe; issues related specifically to a foreign country or region not codable using other codes, assessment of political issues in other countries, relations between individual countries; Human Rights; International organizations, NGOs, the United Nations, International Red Cross, UNESCO, International Olympic Committee, International Criminal Court; international terrorism, hijacking, and acts of piracy in other countries, efforts to fight international terrorism, international legal mechanisms to combat terrorism; diplomats, diplomacy, embassies, citizens abroad, foreign diplomats in the country, visas and passports; issues related to other international affairs policy subtopics\",\n",
    "    \"20\": \"Issues related to general government operations, including appropriations for multiple government agencies; Intergovernmental Relations; Bureaucracy; Postal Service; issues related to civil employees not mentioned in other subtopics, government pensions and general civil service issues; issues related to nominations and appointments not mentioned elsewhere; issues related the currency, national mints, medals, and commemorative coins; government procurement, government contractors, contractor and procurement fraud, and procurement processes and systems; government property management, construction, and regulation; Tax Administration; public scandal and impeachment; government branch relations, administrative issues, and constitutional reforms; regulation of political campaigns, campaign finance, political advertising and voter registration; Census & Statistics; issues related to the capital city; claims against the government, compensation for the victims of terrorist attacks, compensation policies without other substantive provisions; National Holidays; other government operations subtopics\",\n",
    "    \"21\": \"Issues related to general public lands, water management, and territorial issues; National Parks; Indigenous Affairs; natural resources, public lands, and forest management, including forest fires, livestock grazing; water resources, water resource development and civil works, flood control, and research; territorial and dependency issues and devolution; other public lands policy subtopics\",\n",
    "    \"23\": \"Issues related to general cultural policy issues\",\n",
    "    \"99\": \"Other issues, where none of the above is appropriate.\", # dummy category\n",
    "}"
   ]
  },
  {
   "cell_type": "markdown",
   "metadata": {},
   "source": [
    "Now, we will turn this into a system prompt so the model knows what to do. For complex tasks, it is recommended to use a modular system prompt for troubleshooting:"
   ]
  },
  {
   "cell_type": "code",
   "execution_count": 50,
   "metadata": {},
   "outputs": [
    {
     "name": "stdout",
     "output_type": "stream",
     "text": [
      "\n",
      "You are a political scientist tasked with annotating documents into policy categories. \n",
      "The documents can be classified as one of the following numbered categories. \n",
      "A description of each category is following the ':' sign.\n",
      "\n",
      "1: Issues related to general domestic macroeconomic policy; Interest Rates; Unemployment Rate; Monetary Policy; National Budget; Tax Code; Industrial Policy; Price Control; other macroeconomics subtopics\n",
      "2: Issues related generally to civil rights and minority rights; Minority Discrimination; Gender Discrimination; Age Discrimination; Handicap Discrimination; Voting Rights; Freedom of Speech; Right to Privacy; Anti-Government; other civil rights subtopics\n",
      "3: Issues related generally to health care, including appropriations for general health care government agencies; Health Care Reform; Insurance; Drug Industry; Medical Facilities; Insurance Providers; Medical Liability; Manpower; Disease Prevention; Infants and Children; Mental Health; Long-term Care; Drug Coverage and Cost; Tobacco Abuse; Drug and Alcohol Abuse; health care research and development; issues related to other health care topics\n",
      "4: Issues related to general agriculture policy, including appropriations for general agriculture government agencies; agricultural foreign trade; Subsidies to Farmers; Food Inspection & Safety; Food Marketing & Promotion; Animal and Crop Disease; Fisheries & Fishing; agricultural research and development; issues related to other agricultural subtopics\n",
      "5: Issues generally related to labor, employment, and pensions, including appropriations for government agencies regulating labor policy; Worker Safety; Employment Training; Employee Benefits; Labor Unions; Fair Labor Standards; Youth Employment; Migrant and Seasonal workers; Issues related to other labor policy\n",
      "6: Issues related to General education policy, including appropriations for government agencies regulating education policy; Higher education, student loans and education finance, and the regulation of colleges and universities; Elementary & Secondary education; Underprivileged students; Vocational education; Special education and education for the physically or mentally handicapped; Education Excellence; research and development in education; issues related to other subtopics in education policy\n",
      "7: Issues related to General environmental policy, including appropriations for government agencies regulating environmental policy; Drinking Water; Waste Disposal; Hazardous Waste; Air Pollution; Recycling; Indoor Hazards; Species & Forest; Land and Water Conservation; research and development in environmental technology, not including alternative energy; issues related to other environmental subtopics\n",
      "8: Issues generally related to energy policy, including appropriations for government agencies regulating energy policy; Nuclear energy, safety and security, and disposal of nuclear waste; Electricity; Natural Gas & Oil; Coal; Alternative & Renewable Energy; Issues related to energy conservation and energy efficiency; issues related to energy research and development; issues related to other energy subtopics\n",
      "9: Issues related to immigration, refugees, and citizenship\n",
      "10: Issues related generally to transportation, including appropriations for government agencies regulating transportation policy; mass transportation construction, regulation, safety, and availability; public highway construction, maintenance, and safety; Air Travel; Railroad Travel; Maritime transportation; Infrastructure and public works, including employment initiatives; transportation research and development; issues related to other transportation subtopics\n",
      "12: Issues related to general law, crime, and family issues; law enforcement agencies, including border, customs, and other specialized enforcement agencies and their appropriations; White Collar Crime; Illegal Drugs; Court Administration; Prisons; Juvenile Crime; Child Abuse; Family Issues, domestic violence, child welfare, family law; Criminal & Civil Code; Crime Control; Police; issues related to other law, crime, and family subtopics\n",
      "13: Issues generally related to social welfare policy; Low-Income Assistance; Elderly Assistance; Disabled Assistance; Volunteer Associations; Child Care; issues related to other social welfare policy subtopics\n",
      "14: Issues related generally to housing and urban affairs; housing and community development, neighborhood development, and national housing policy; urban development and general urban issues; Rural Housing; economic, infrastructure, and other developments in non-urban areas; housing for low-income individuals and families, including public housing projects and housing affordability programs; housing for military veterans and their families, including subsidies for veterans; housing for the elderly, including housing facilities for the handicapped elderly; housing for the homeless and efforts to reduce homelessness ; housing and community development research and development; Other issues related to housing and community development\n",
      "15: Issues generally related to domestic commerce, including appropriations for government agencies regulating domestic commerce; Banking; Securities & Commodities; Consumer Finance; Insurance Regulation; personal, commercial, and municipal bankruptcies; corporate mergers, antitrust regulation, corporate accounting and governance, and corporate management; Small Businesses; Copyrights and Patents; Disaster Relief; Tourism; Consumer Safety; Sports Regulation; domestic commerce research and development; other domestic commerce policy subtopics\n",
      "16: Issues related generally to defense policy, and appropriations for agencies that oversee general defense policy; defense alliance and agreement, security assistance, and UN peacekeeping activities; military intelligence, espionage, and covert operations; military readiness, coordination of armed services air support and sealift capabilities, and national stockpiles of strategic materials.; Nuclear Arms; Military Aid; military manpower, military personel and their dependents, military courts, and general veterans' issues; military procurement, conversion of old equipment, and weapons systems evaluation; military installations, construction, and land transfers; military reserves and reserve affairs; military nuclear and hazardous waste disposal and military environmental compliance; domestic civil defense, national security responses to terrorism, and other issues related to homeland security; non-contractor civilian personnel, civilian employment in the defense industry, and military base closings; military contractors and contracting, oversight of military contrators and fraud by military contractors; Foreign Operations; claims against the military, settlements for military dependents, and compensation for civilians injured in military operations; defense research and development; other defense policy subtopics\n",
      "17: Issues related to general space, science, technology, and communications; government use of space and space resource exploitation agreements, government space programs and space exploration, military use of space; regulation and promotion of commercial use of space, commercial satellite technology, and government efforts to encourage commercial space development; science and technology transfer and international science cooperation; Telecommunications; Broadcast; Weather Forecasting; computer industry, regulation of the internet, and cyber security; space, science, technology, and communication research and development not mentioned in other subtopics.; other issues related to space, science, technology, and communication research and development\n",
      "18: Issues generally related to foreign trade and appropriations for government agencies generally regulating foreign trade; Trade Agreements; Exports; Private Investments; productivity of competitiveness of domestic businesses and balance of payments issues; Tariff & Imports; Exchange Rates; other foreign trade policy subtopics\n",
      "19: Issues related to general international affairs and foreign aid, including appropriations for general government foreign affairs agencies; Foreign Aid; Resources Exploitation; Developing Countries; International Finance; Western Europe; issues related specifically to a foreign country or region not codable using other codes, assessment of political issues in other countries, relations between individual countries; Human Rights; International organizations, NGOs, the United Nations, International Red Cross, UNESCO, International Olympic Committee, International Criminal Court; international terrorism, hijacking, and acts of piracy in other countries, efforts to fight international terrorism, international legal mechanisms to combat terrorism; diplomats, diplomacy, embassies, citizens abroad, foreign diplomats in the country, visas and passports; issues related to other international affairs policy subtopics\n",
      "20: Issues related to general government operations, including appropriations for multiple government agencies; Intergovernmental Relations; Bureaucracy; Postal Service; issues related to civil employees not mentioned in other subtopics, government pensions and general civil service issues; issues related to nominations and appointments not mentioned elsewhere; issues related the currency, national mints, medals, and commemorative coins; government procurement, government contractors, contractor and procurement fraud, and procurement processes and systems; government property management, construction, and regulation; Tax Administration; public scandal and impeachment; government branch relations, administrative issues, and constitutional reforms; regulation of political campaigns, campaign finance, political advertising and voter registration; Census & Statistics; issues related to the capital city; claims against the government, compensation for the victims of terrorist attacks, compensation policies without other substantive provisions; National Holidays; other government operations subtopics\n",
      "21: Issues related to general public lands, water management, and territorial issues; National Parks; Indigenous Affairs; natural resources, public lands, and forest management, including forest fires, livestock grazing; water resources, water resource development and civil works, flood control, and research; territorial and dependency issues and devolution; other public lands policy subtopics\n",
      "23: Issues related to general cultural policy issues\n",
      "99: Other issues, where none of the above is appropriate.\n",
      "\n",
      "\n",
      "\n",
      "Which policy category does this document belong to? \n",
      "Answer only with the number of the category, and only with a single category.\n",
      "\n"
     ]
    }
   ],
   "source": [
    "# give the model some context for the task it is about to perform\n",
    "context = \"\"\"\n",
    "You are a political scientist tasked with annotating documents into policy categories. \n",
    "The documents can be classified as one of the following numbered categories. \n",
    "A description of each category is following the ':' sign.\n",
    "\"\"\"\n",
    "\n",
    "# turn the CAP dictionary into a string\n",
    "labels_definitions = \"\"\n",
    "\n",
    "for i in range(len(cap_labels)):\n",
    "    labels_definitions += f'{list(cap_labels.keys())[i]}: {list(cap_labels.values())[i]}\\n'\n",
    "\n",
    "# finally, the question we want the model to answer, including specific instructions for the output\n",
    "question = \"\"\"\n",
    "Which policy category does this document belong to? \n",
    "Answer only with the number of the category, and only with a single category.\n",
    "\"\"\"\n",
    "\n",
    "# now we combine the parts into the system prompt\n",
    "system_message = f\"{context}\\n{labels_definitions}\\n\\n{question}\"\n",
    "\n",
    "print(system_message)"
   ]
  },
  {
   "cell_type": "markdown",
   "metadata": {},
   "source": [
    "**Important:** Check the length of your prompt! Depending on your model's context window and the amount of tokens you are willing to spend per call, you might need to shorten your prompt."
   ]
  },
  {
   "cell_type": "code",
   "execution_count": 51,
   "metadata": {},
   "outputs": [
    {
     "data": {
      "text/plain": [
       "10702"
      ]
     },
     "execution_count": 51,
     "metadata": {},
     "output_type": "execute_result"
    }
   ],
   "source": [
    "len(system_message)"
   ]
  },
  {
   "cell_type": "markdown",
   "metadata": {},
   "source": [
    "Next, we will write a simple wrapper function to make running it over multiple rows easier:"
   ]
  },
  {
   "cell_type": "code",
   "execution_count": 118,
   "metadata": {},
   "outputs": [],
   "source": [
    "import re\n",
    "\n",
    "def classify_text(text, system_message, model, max_tokens, logprobs, top_logprobs):\n",
    "\n",
    "  # clean the text by removing extra spaces\n",
    "  text = re.sub(r'\\s+', ' ', text).strip()\n",
    "\n",
    "  # construct input\n",
    "\n",
    "  messages = [\n",
    "    # system prompt\n",
    "    {\"role\": \"system\", \"content\": system_message}, # this will contain all instructions for the model\n",
    "    # user input\n",
    "    {\"role\": \"user\", \"content\": text}, # text here is the input text to be classified\n",
    "  ]\n",
    "\n",
    "  response = client.chat.completions.create(\n",
    "    model=model,\n",
    "    messages=messages,\n",
    "    temperature=0.0,\n",
    "    max_tokens=max_tokens, # restrict max tokens for more consistent/concise output\n",
    "    logprobs=logprobs, # include log probs\n",
    "    top_logprobs=top_logprobs, # number of top logprobs to return\n",
    "  )\n",
    "\n",
    "  \n",
    "  result = response.choices[0].message.content\n",
    "\n",
    "  if logprobs: # a simple check if we wanted logprobs to get returned\n",
    "    logprobs = response.choices[0].logprobs.content[0].logprob\n",
    "    top_logprobs = response.choices[0].logprobs.content[0].top_logprobs\n",
    "    return result, logprobs, top_logprobs\n",
    "  \n",
    "  else: # if not, return only the result\n",
    "    return result"
   ]
  },
  {
   "cell_type": "markdown",
   "metadata": {},
   "source": [
    "As previously observed, the UK media dataset includes some policy codes not part of the offical CAP codebook. For evaluation purposes, we will drop these."
   ]
  },
  {
   "cell_type": "code",
   "execution_count": 52,
   "metadata": {},
   "outputs": [],
   "source": [
    "# drop rows with majortopic code 0\n",
    "uk_media = uk_media[uk_media['majortopic'] != 0]\n",
    "\n",
    "# only keep rows below 24 OR equal to 99\n",
    "uk_media = uk_media[(uk_media['majortopic'] < 24) | (uk_media['majortopic'] == 99)]\n",
    "\n",
    "# drop category 22 not in the CAP\n",
    "uk_media = uk_media[uk_media['majortopic'] != 22]\n",
    "\n",
    "# turn the majortopic column into a string\n",
    "uk_media['majortopic'] = uk_media['majortopic'].astype(str)\n"
   ]
  },
  {
   "cell_type": "markdown",
   "metadata": {},
   "source": [
    "For testing purposes, we will only run a subsample of the data. This is useful when testing out different prompts without using all your API credit."
   ]
  },
  {
   "cell_type": "code",
   "execution_count": 124,
   "metadata": {},
   "outputs": [],
   "source": [
    "# set a seed before sampling for repdroducibility\n",
    "seed = 20250228 # I'm using today's date as seed here\n",
    "\n",
    "uk_media_sample = uk_media.sample(n = 100, random_state = seed) # we'll sample 100 out of the 17746 rows\n",
    "\n",
    "uk_media_sample.reset_index(drop = True, inplace = True) # reset index"
   ]
  },
  {
   "cell_type": "markdown",
   "metadata": {},
   "source": [
    "Let's classify! OpenAI provides different models, you can find an overview (including their context windows) here: https://platform.openai.com/docs/models\n",
    "\n",
    "We'll used the latest 4o-mini Model (currently gpt-4o-mini-2024-07-18). We could also use a model with stronger reasoning capabilities such as o1 or a larger model such as the one used in the ChatGPT application. Note that the pricing differs for these models. You can find more information on the pricing here: https://platform.openai.com/docs/pricing"
   ]
  },
  {
   "cell_type": "code",
   "execution_count": 127,
   "metadata": {},
   "outputs": [],
   "source": [
    "model = \"gpt-4o-mini-2024-07-18\"\n",
    "\n",
    "classification_results = [classify_text(text, \n",
    "                                        system_message = system_message, \n",
    "                                        model = model, \n",
    "                                        logprobs = True,\n",
    "                                        top_logprobs=5, # number of alternative logprobs\n",
    "                                        max_tokens = 10) for text in uk_media_sample['text']] # we're looping our function over the texts"
   ]
  },
  {
   "cell_type": "code",
   "execution_count": 129,
   "metadata": {},
   "outputs": [],
   "source": [
    "# safe results\n",
    "import pickle\n",
    "\n",
    "with open('data/openai_classifications.pkl', 'wb') as f:\n",
    "    pickle.dump(classification_results, f)"
   ]
  },
  {
   "cell_type": "code",
   "execution_count": 130,
   "metadata": {},
   "outputs": [],
   "source": [
    "# load results later like this:\n",
    "import pickle\n",
    "\n",
    "with open('data/openai_classifications.pkl', 'rb') as f:\n",
    "    classification_results = pickle.load(f)"
   ]
  },
  {
   "cell_type": "code",
   "execution_count": 131,
   "metadata": {},
   "outputs": [
    {
     "data": {
      "application/vnd.microsoft.datawrangler.viewer.v0+json": {
       "columns": [
        {
         "name": "index",
         "rawType": "int64",
         "type": "integer"
        },
        {
         "name": "id",
         "rawType": "int64",
         "type": "integer"
        },
        {
         "name": "year",
         "rawType": "int64",
         "type": "integer"
        },
        {
         "name": "speech_year",
         "rawType": "int64",
         "type": "integer"
        },
        {
         "name": "date",
         "rawType": "object",
         "type": "string"
        },
        {
         "name": "description",
         "rawType": "object",
         "type": "string"
        },
        {
         "name": "subtitle",
         "rawType": "object",
         "type": "unknown"
        },
        {
         "name": "words",
         "rawType": "float64",
         "type": "float"
        },
        {
         "name": "majortopic",
         "rawType": "object",
         "type": "string"
        },
        {
         "name": "filter_international",
         "rawType": "int64",
         "type": "integer"
        },
        {
         "name": "filter_duplicate",
         "rawType": "int64",
         "type": "integer"
        },
        {
         "name": "text",
         "rawType": "object",
         "type": "string"
        },
        {
         "name": "result",
         "rawType": "object",
         "type": "string"
        },
        {
         "name": "logprobs",
         "rawType": "float64",
         "type": "float"
        },
        {
         "name": "top_logprobs",
         "rawType": "object",
         "type": "unknown"
        }
       ],
       "conversionMethod": "pd.DataFrame",
       "ref": "e30c9da3-89f9-44a5-8a79-f9c2f7b27908",
       "rows": [
        [
         "0",
         "18704",
         "2004",
         "97",
         "09/06/2004",
         "Sugary drink risk",
         null,
         "52.0",
         "3",
         "0",
         "0",
         "Sugary drink risk ",
         "3",
         "0.0",
         "[TopLogprob(token='3', bytes=[51], logprob=0.0), TopLogprob(token='9', bytes=[57], logprob=-21.875), TopLogprob(token='2', bytes=[50], logprob=-22.875), TopLogprob(token='6', bytes=[54], logprob=-23.0), TopLogprob(token='03', bytes=[48, 51], logprob=-23.0)]"
        ],
        [
         "1",
         "20612",
         "2007",
         "100",
         "04/04/2007",
         "Iran softens stance over captured crew but Beckett calls for caution",
         null,
         "632.0",
         "16",
         "0",
         "0",
         "Iran softens stance over captured crew but Beckett calls for caution ",
         "19",
         "-3.1281633e-07",
         "[TopLogprob(token='19', bytes=[49, 57], logprob=-3.1281633e-07), TopLogprob(token='99', bytes=[57, 57], logprob=-16.0), TopLogprob(token='9', bytes=[57], logprob=-17.0), TopLogprob(token='18', bytes=[49, 56], logprob=-17.0), TopLogprob(token='12', bytes=[49, 50], logprob=-17.375)]"
        ],
        [
         "2",
         "14946",
         "1994",
         "87",
         "09/11/1994",
         "Woolworths death charge - Ian Karl Kay",
         null,
         "39.0",
         "12",
         "0",
         "0",
         "Woolworths death charge - Ian Karl Kay ",
         "99",
         "-0.012788857",
         "[TopLogprob(token='99', bytes=[57, 57], logprob=-0.012788857), TopLogprob(token='12', bytes=[49, 50], logprob=-4.387789), TopLogprob(token='9', bytes=[57], logprob=-9.012789), TopLogprob(token='19', bytes=[49, 57], logprob=-9.137789), TopLogprob(token='2', bytes=[50], logprob=-10.387789)]"
        ],
        [
         "3",
         "7837",
         "1975",
         "68",
         "19/11/1975",
         "Leftist units in Lisbon placed on the alert",
         null,
         "451.0",
         "19",
         "1",
         "0",
         "Leftist units in Lisbon placed on the alert ",
         "19",
         "-0.0011096131",
         "[TopLogprob(token='19', bytes=[49, 57], logprob=-0.0011096131), TopLogprob(token='99', bytes=[57, 57], logprob=-7.0011096), TopLogprob(token='16', bytes=[49, 54], logprob=-9.00111), TopLogprob(token='12', bytes=[49, 50], logprob=-9.75111), TopLogprob(token='9', bytes=[57], logprob=-11.75111)]"
        ],
        [
         "4",
         "16857",
         "2000",
         "93",
         "24/05/2000",
         "Tourism chief to take over at the Dome - New Millennium Experience Company",
         null,
         "269.0",
         "15",
         "0",
         "0",
         "Tourism chief to take over at the Dome - New Millennium Experience Company ",
         "15",
         "-3.650519e-06",
         "[TopLogprob(token='15', bytes=[49, 53], logprob=-3.650519e-06), TopLogprob(token='23', bytes=[50, 51], logprob=-13.000004), TopLogprob(token='18', bytes=[49, 56], logprob=-14.875004), TopLogprob(token='19', bytes=[49, 57], logprob=-15.125004), TopLogprob(token='20', bytes=[50, 48], logprob=-15.375004)]"
        ],
        [
         "5",
         "8071",
         "1976",
         "69",
         "09/06/1976",
         "Government safe on motion of censure",
         null,
         "732.0",
         "20",
         "0",
         "0",
         "Government safe on motion of censure ",
         "20",
         "-0.0011508173",
         "[TopLogprob(token='20', bytes=[50, 48], logprob=-0.0011508173), TopLogprob(token='12', bytes=[49, 50], logprob=-6.8761506), TopLogprob(token='99', bytes=[57, 57], logprob=-9.126151), TopLogprob(token='19', bytes=[49, 57], logprob=-11.626151), TopLogprob(token='10', bytes=[49, 48], logprob=-15.876151)]"
        ],
        [
         "6",
         "16295",
         "1998",
         "92",
         "02/12/1998",
         "Oil merger forges new global giant - Exxon",
         null,
         "236.0",
         "8",
         "0",
         "0",
         "Oil merger forges new global giant - Exxon ",
         "18",
         "-0.018171247",
         "[TopLogprob(token='18', bytes=[49, 56], logprob=-0.018171247), TopLogprob(token='15', bytes=[49, 53], logprob=-4.0181713), TopLogprob(token='8', bytes=[56], logprob=-10.768171), TopLogprob(token='5', bytes=[53], logprob=-15.643171), TopLogprob(token='10', bytes=[49, 48], logprob=-16.268171)]"
        ],
        [
         "7",
         "4454",
         "1968",
         "60",
         "20/03/1968",
         "Ł923m Budget increase is biggest ever",
         "Dearer Drink, Driving And Smoking",
         "994.0",
         "1",
         "0",
         "0",
         "Ł923m Budget increase is biggest ever Dearer Drink, Driving And Smoking",
         "1",
         "-9.0788395e-05",
         "[TopLogprob(token='1', bytes=[49], logprob=-9.0788395e-05), TopLogprob(token='3', bytes=[51], logprob=-9.625091), TopLogprob(token='13', bytes=[49, 51], logprob=-10.750091), TopLogprob(token='20', bytes=[50, 48], logprob=-13.250091), TopLogprob(token='2', bytes=[50], logprob=-14.000091)]"
        ],
        [
         "8",
         "10069",
         "1982",
         "75",
         "09/06/1982",
         "Hopes fade for US occupation",
         null,
         "270.0",
         "19",
         "0",
         "0",
         "Hopes fade for US occupation ",
         "19",
         "-5.9914648e-05",
         "[TopLogprob(token='19', bytes=[49, 57], logprob=-5.9914648e-05), TopLogprob(token='99', bytes=[57, 57], logprob=-9.75006), TopLogprob(token='9', bytes=[57], logprob=-14.12506), TopLogprob(token='18', bytes=[49, 56], logprob=-15.12506), TopLogprob(token='12', bytes=[49, 50], logprob=-15.25006)]"
        ],
        [
         "9",
         "3891",
         "1967",
         "59",
         "18/01/1967",
         "Newspaper owners and unions act on report",
         null,
         "543.0",
         "17",
         "0",
         "0",
         "Newspaper owners and unions act on report ",
         "5",
         "-0.12737605",
         "[TopLogprob(token='5', bytes=[53], logprob=-0.12737605), TopLogprob(token='15', bytes=[49, 53], logprob=-2.127376), TopLogprob(token='12', bytes=[49, 50], logprob=-8.002376), TopLogprob(token='2', bytes=[50], logprob=-9.752376), TopLogprob(token='19', bytes=[49, 57], logprob=-11.002376)]"
        ],
        [
         "10",
         "2816",
         "1965",
         "57",
         "27/01/1965",
         "Factory Farming' Methods Criticized",
         "Livestock Legislation Urged",
         "1263.0",
         "4",
         "0",
         "0",
         "Factory Farming' Methods Criticized Livestock Legislation Urged",
         "4",
         "0.0",
         "[TopLogprob(token='4', bytes=[52], logprob=0.0), TopLogprob(token='3', bytes=[51], logprob=-20.5), TopLogprob(token='6', bytes=[54], logprob=-21.625), TopLogprob(token='04', bytes=[48, 52], logprob=-22.625), TopLogprob(token='7', bytes=[55], logprob=-23.125)]"
        ],
        [
         "11",
         "10673",
         "1983",
         "77",
         "16/11/1983",
         "300 held outside Commons on day of anti-cruise anger",
         null,
         "709.0",
         "12",
         "0",
         "0",
         "300 held outside Commons on day of anti-cruise anger ",
         "99",
         "-0.45381775",
         "[TopLogprob(token='99', bytes=[57, 57], logprob=-0.45381775), TopLogprob(token='12', bytes=[49, 50], logprob=-1.5788177), TopLogprob(token='2', bytes=[50], logprob=-2.2038178), TopLogprob(token='19', bytes=[49, 57], logprob=-3.3288178), TopLogprob(token='9', bytes=[57], logprob=-4.453818)]"
        ],
        [
         "12",
         "7784",
         "1975",
         "68",
         "08/10/1975",
         "British demand for own voice at energy talks upsets the EEC",
         null,
         "756.0",
         "19",
         "0",
         "0",
         "British demand for own voice at energy talks upsets the EEC ",
         "8",
         "-0.048970547",
         "[TopLogprob(token='8', bytes=[56], logprob=-0.048970547), TopLogprob(token='18', bytes=[49, 56], logprob=-3.0489705), TopLogprob(token='9', bytes=[57], logprob=-7.9239707), TopLogprob(token='19', bytes=[49, 57], logprob=-10.79897), TopLogprob(token='10', bytes=[49, 48], logprob=-15.17397)]"
        ],
        [
         "13",
         "5572",
         "1971",
         "63",
         "13/01/1971",
         "International dispute on Channel safety",
         null,
         "999.0",
         "19",
         "0",
         "0",
         "International dispute on Channel safety ",
         "19",
         "-3.7697225e-06",
         "[TopLogprob(token='19', bytes=[49, 57], logprob=-3.7697225e-06), TopLogprob(token='12', bytes=[49, 50], logprob=-14.125004), TopLogprob(token='9', bytes=[57], logprob=-14.375004), TopLogprob(token='21', bytes=[50, 49], logprob=-14.375004), TopLogprob(token='18', bytes=[49, 56], logprob=-14.500004)]"
        ],
        [
         "14",
         "1201",
         "1962",
         "54",
         "09/05/1962",
         "Hopes Of B.U.A. Settlement",
         null,
         "238.0",
         "10",
         "0",
         "0",
         "Hopes Of B.U.A. Settlement ",
         "99",
         "-2.3392786e-06",
         "[TopLogprob(token='99', bytes=[57, 57], logprob=-2.3392786e-06), TopLogprob(token='19', bytes=[49, 57], logprob=-13.625002), TopLogprob(token='9', bytes=[57], logprob=-14.375002), TopLogprob(token='20', bytes=[50, 48], logprob=-15.250002), TopLogprob(token='21', bytes=[50, 49], logprob=-16.250002)]"
        ],
        [
         "15",
         "21461",
         "2008",
         "101",
         "09/07/2008",
         "Death cyclist fined",
         null,
         "49.0",
         "10",
         "0",
         "0",
         "Death cyclist fined ",
         "99",
         "-0.06204499",
         "[TopLogprob(token='99', bytes=[57, 57], logprob=-0.06204499), TopLogprob(token='12', bytes=[49, 50], logprob=-2.812045), TopLogprob(token='9', bytes=[57], logprob=-10.562045), TopLogprob(token='19', bytes=[49, 57], logprob=-10.562045), TopLogprob(token='23', bytes=[50, 51], logprob=-11.312045)]"
        ],
        [
         "16",
         "4980",
         "1969",
         "61",
         "23/07/1969",
         "Support for dearer TV",
         null,
         "122.0",
         "17",
         "0",
         "0",
         "Support for dearer TV ",
         "23",
         "-0.06141325",
         "[TopLogprob(token='23', bytes=[50, 51], logprob=-0.06141325), TopLogprob(token='8', bytes=[56], logprob=-3.8114133), TopLogprob(token='17', bytes=[49, 55], logprob=-4.6864133), TopLogprob(token='15', bytes=[49, 53], logprob=-4.8114133), TopLogprob(token='20', bytes=[50, 48], logprob=-4.9364133)]"
        ],
        [
         "17",
         "21599",
         "2008",
         "101",
         "17/09/2008",
         "Hobbit house saved from demolition as winds of change blow in pioneer's favour - Factbox",
         null,
         "815.0",
         "14",
         "0",
         "0",
         "Hobbit house saved from demolition as winds of change blow in pioneer's favour - Factbox ",
         "23",
         "-0.0026179897",
         "[TopLogprob(token='23', bytes=[50, 51], logprob=-0.0026179897), TopLogprob(token='99', bytes=[57, 57], logprob=-6.127618), TopLogprob(token='21', bytes=[50, 49], logprob=-7.752618), TopLogprob(token='9', bytes=[57], logprob=-13.127618), TopLogprob(token='19', bytes=[49, 57], logprob=-14.502618)]"
        ],
        [
         "18",
         "5990",
         "1971",
         "64",
         "10/11/1971",
         "3% rise in cost of houses in three months",
         null,
         "101.0",
         "14",
         "0",
         "0",
         "3% rise in cost of houses in three months ",
         "14",
         "-2.9352968e-06",
         "[TopLogprob(token='14', bytes=[49, 52], logprob=-2.9352968e-06), TopLogprob(token='1', bytes=[49], logprob=-13.125003), TopLogprob(token='21', bytes=[50, 49], logprob=-14.500003), TopLogprob(token='19', bytes=[49, 57], logprob=-15.625003), TopLogprob(token='4', bytes=[52], logprob=-16.375004)]"
        ],
        [
         "19",
         "12662",
         "1988",
         "81",
         "02/03/1988",
         "Reagan told of Husain rebuff",
         null,
         null,
         "19",
         "1",
         "0",
         "Reagan told of Husain rebuff ",
         "19",
         "-0.57594883",
         "[TopLogprob(token='19', bytes=[49, 57], logprob=-0.57594883), TopLogprob(token='99', bytes=[57, 57], logprob=-0.82594883), TopLogprob(token='9', bytes=[57], logprob=-12.450949), TopLogprob(token='18', bytes=[49, 56], logprob=-12.700949), TopLogprob(token='20', bytes=[50, 48], logprob=-13.575949)]"
        ],
        [
         "20",
         "9911",
         "1981",
         "75",
         "30/12/1981",
         "Train drivers vote for overtime ban and two-day strike",
         null,
         "634.0",
         "10",
         "0",
         "0",
         "Train drivers vote for overtime ban and two-day strike ",
         "5",
         "-0.25193974",
         "[TopLogprob(token='5', bytes=[53], logprob=-0.25193974), TopLogprob(token='10', bytes=[49, 48], logprob=-1.5019398), TopLogprob(token='9', bytes=[57], logprob=-11.50194), TopLogprob(token='12', bytes=[49, 50], logprob=-14.62694), TopLogprob(token='6', bytes=[54], logprob=-16.37694)]"
        ],
        [
         "21",
         "6884",
         "1973",
         "65",
         "05/09/1973",
         "Italy bans shellfish as deaths rise to 18",
         null,
         "513.0",
         "4",
         "1",
         "0",
         "Italy bans shellfish as deaths rise to 18 ",
         "3",
         "-0.038324784",
         "[TopLogprob(token='3', bytes=[51], logprob=-0.038324784), TopLogprob(token='7', bytes=[55], logprob=-3.2883248), TopLogprob(token='4', bytes=[52], logprob=-8.788324), TopLogprob(token='21', bytes=[50, 49], logprob=-9.413324), TopLogprob(token='9', bytes=[57], logprob=-10.163324)]"
        ],
        [
         "22",
         "1026",
         "1961",
         "54",
         "27/12/1961",
         "Plan For Mental Hostel Fails",
         "Minister Overrules County Council",
         "279.0",
         "3",
         "0",
         "0",
         "Plan For Mental Hostel Fails Minister Overrules County Council",
         "3",
         "0.0",
         "[TopLogprob(token='3', bytes=[51], logprob=0.0), TopLogprob(token='12', bytes=[49, 50], logprob=-16.875), TopLogprob(token='2', bytes=[50], logprob=-18.625), TopLogprob(token='6', bytes=[54], logprob=-21.125), TopLogprob(token='13', bytes=[49, 51], logprob=-21.125)]"
        ],
        [
         "23",
         "12241",
         "1987",
         "80",
         "11/03/1987",
         "Labour in new disarray over defence stance",
         null,
         null,
         "16",
         "0",
         "0",
         "Labour in new disarray over defence stance ",
         "16",
         "-1.342522e-05",
         "[TopLogprob(token='16', bytes=[49, 54], logprob=-1.342522e-05), TopLogprob(token='5', bytes=[53], logprob=-11.500013), TopLogprob(token='12', bytes=[49, 50], logprob=-13.375013), TopLogprob(token='6', bytes=[54], logprob=-13.500013), TopLogprob(token='15', bytes=[49, 53], logprob=-16.375013)]"
        ],
        [
         "24",
         "19796",
         "2006",
         "99",
         "18/01/2006",
         "Bendy bus man to take charge",
         null,
         "63.0",
         "10",
         "0",
         "0",
         "Bendy bus man to take charge ",
         "99",
         "-8.180258e-06",
         "[TopLogprob(token='99', bytes=[57, 57], logprob=-8.180258e-06), TopLogprob(token='20', bytes=[50, 48], logprob=-12.000009), TopLogprob(token='9', bytes=[57], logprob=-13.875009), TopLogprob(token='10', bytes=[49, 48], logprob=-14.500009), TopLogprob(token='19', bytes=[49, 57], logprob=-14.500009)]"
        ],
        [
         "25",
         "17788",
         "2002",
         "95",
         "21/08/2002",
         "Afghans to get Pounds 2,500 to go home.",
         null,
         "436.0",
         "9",
         "0",
         "0",
         "Afghans to get Pounds 2,500 to go home. ",
         "9",
         "-0.20144014",
         "[TopLogprob(token='9', bytes=[57], logprob=-0.20144014), TopLogprob(token='19', bytes=[49, 57], logprob=-1.7014401), TopLogprob(token='18', bytes=[49, 56], logprob=-10.57644), TopLogprob(token='12', bytes=[49, 50], logprob=-14.82644), TopLogprob(token='1', bytes=[49], logprob=-15.70144)]"
        ],
        [
         "26",
         "2340",
         "1964",
         "56",
         "08/04/1964",
         "Cliff Preservation Could Leave Homes Cold",
         null,
         "958.0",
         "14",
         "0",
         "0",
         "Cliff Preservation Could Leave Homes Cold ",
         "7",
         "-0.20230764",
         "[TopLogprob(token='7', bytes=[55], logprob=-0.20230764), TopLogprob(token='21', bytes=[50, 49], logprob=-1.7023077), TopLogprob(token='14', bytes=[49, 52], logprob=-8.202308), TopLogprob(token='23', bytes=[50, 51], logprob=-8.452308), TopLogprob(token='9', bytes=[57], logprob=-9.202308)]"
        ],
        [
         "27",
         "21042",
         "2007",
         "101",
         "05/12/2007",
         "Rejection of Trump golf plan overruled",
         null,
         "88.0",
         "15",
         "0",
         "0",
         "Rejection of Trump golf plan overruled ",
         "99",
         "-0.086808085",
         "[TopLogprob(token='99', bytes=[57, 57], logprob=-0.086808085), TopLogprob(token='20', bytes=[50, 48], logprob=-2.8368082), TopLogprob(token='18', bytes=[49, 56], logprob=-4.461808), TopLogprob(token='19', bytes=[49, 57], logprob=-5.336808), TopLogprob(token='10', bytes=[49, 48], logprob=-5.586808)]"
        ],
        [
         "28",
         "899",
         "1961",
         "53",
         "27/09/1961",
         "41 Teachers Join Parties",
         null,
         "138.0",
         "6",
         "0",
         "0",
         "41 Teachers Join Parties ",
         "6",
         "-0.002967715",
         "[TopLogprob(token='6', bytes=[54], logprob=-0.002967715), TopLogprob(token='99', bytes=[57, 57], logprob=-6.127968), TopLogprob(token='23', bytes=[50, 51], logprob=-8.252968), TopLogprob(token='9', bytes=[57], logprob=-8.627968), TopLogprob(token='12', bytes=[49, 50], logprob=-8.752968)]"
        ],
        [
         "29",
         "20477",
         "2007",
         "100",
         "17/01/2007",
         "Sniffer dogs barred",
         null,
         "47.0",
         "12",
         "0",
         "0",
         "Sniffer dogs barred ",
         "12",
         "-0.04678249",
         "[TopLogprob(token='12', bytes=[49, 50], logprob=-0.04678249), TopLogprob(token='99', bytes=[57, 57], logprob=-3.2967825), TopLogprob(token='9', bytes=[57], logprob=-5.0467825), TopLogprob(token='2', bytes=[50], logprob=-6.7967825), TopLogprob(token='19', bytes=[49, 57], logprob=-7.0467825)]"
        ],
        [
         "30",
         "2085",
         "1963",
         "56",
         "13/11/1963",
         "Watch Committee Awaits Reports",
         null,
         "178.0",
         "20",
         "0",
         "0",
         "Watch Committee Awaits Reports ",
         "99",
         "-0.005234002",
         "[TopLogprob(token='99', bytes=[57, 57], logprob=-0.005234002), TopLogprob(token='20', bytes=[50, 48], logprob=-5.255234), TopLogprob(token='19', bytes=[49, 57], logprob=-16.255234), TopLogprob(token='21', bytes=[50, 49], logprob=-17.255234), TopLogprob(token='999', bytes=[57, 57, 57], logprob=-18.255234)]"
        ],
        [
         "31",
         "10021",
         "1982",
         "75",
         "21/04/1982",
         "MPs to vote three times on hanging",
         null,
         "416.0",
         "20",
         "0",
         "0",
         "MPs to vote three times on hanging ",
         "12",
         "-0.00061962724",
         "[TopLogprob(token='12', bytes=[49, 50], logprob=-0.00061962724), TopLogprob(token='2', bytes=[50], logprob=-8.12562), TopLogprob(token='99', bytes=[57, 57], logprob=-8.12562), TopLogprob(token='19', bytes=[49, 57], logprob=-11.12562), TopLogprob(token='23', bytes=[50, 51], logprob=-12.37562)]"
        ],
        [
         "32",
         "18977",
         "2004",
         "97",
         "15/09/2004",
         "Shy boy hanged",
         null,
         "51.0",
         "12",
         "0",
         "0",
         "Shy boy hanged ",
         "99",
         "-9.729906e-06",
         "[TopLogprob(token='99', bytes=[57, 57], logprob=-9.729906e-06), TopLogprob(token='12', bytes=[49, 50], logprob=-11.62501), TopLogprob(token='2', bytes=[50], logprob=-14.62501), TopLogprob(token='9', bytes=[57], logprob=-15.87501), TopLogprob(token='19', bytes=[49, 57], logprob=-16.12501)]"
        ],
        [
         "33",
         "5823",
         "1971",
         "63",
         "07/07/1971",
         "Mr Heath to address the nation on terms for British EEC entry",
         null,
         "481.0",
         "19",
         "0",
         "0",
         "Mr Heath to address the nation on terms for British EEC entry ",
         "19",
         "-0.1269281",
         "[TopLogprob(token='19', bytes=[49, 57], logprob=-0.1269281), TopLogprob(token='18', bytes=[49, 56], logprob=-2.126928), TopLogprob(token='9', bytes=[57], logprob=-18.126928), TopLogprob(token='12', bytes=[49, 50], logprob=-18.626928), TopLogprob(token='16', bytes=[49, 54], logprob=-18.876928)]"
        ],
        [
         "34",
         "3448",
         "1966",
         "58",
         "23/03/1966",
         "Six Commands In Services",
         "Call For Reshaping On Task Basis",
         "259.0",
         "16",
         "0",
         "0",
         "Six Commands In Services Call For Reshaping On Task Basis",
         "99",
         "-0.02784124",
         "[TopLogprob(token='99', bytes=[57, 57], logprob=-0.02784124), TopLogprob(token='20', bytes=[50, 48], logprob=-3.6528413), TopLogprob(token='9', bytes=[57], logprob=-7.027841), TopLogprob(token='15', bytes=[49, 53], logprob=-8.402842), TopLogprob(token='10', bytes=[49, 48], logprob=-8.527842)]"
        ],
        [
         "35",
         "19397",
         "2005",
         "99",
         "06/07/2005",
         "Answer is not 2p",
         null,
         "63.0",
         "1",
         "0",
         "0",
         "Answer is not 2p ",
         "99",
         "-0.0028241351",
         "[TopLogprob(token='99', bytes=[57, 57], logprob=-0.0028241351), TopLogprob(token='2', bytes=[50], logprob=-5.8778243), TopLogprob(token='9', bytes=[57], logprob=-11.752824), TopLogprob(token='20', bytes=[50, 48], logprob=-12.627824), TopLogprob(token='19', bytes=[49, 57], logprob=-12.627824)]"
        ],
        [
         "36",
         "13514",
         "1990",
         "83",
         "27/06/1990",
         "Cleaning up at the GDR closing-down sale",
         null,
         null,
         "19",
         "1",
         "0",
         "Cleaning up at the GDR closing-down sale ",
         "99",
         "-1.504853e-06",
         "[TopLogprob(token='99', bytes=[57, 57], logprob=-1.504853e-06), TopLogprob(token='23', bytes=[50, 51], logprob=-13.750002), TopLogprob(token='9', bytes=[57], logprob=-15.750002), TopLogprob(token='19', bytes=[49, 57], logprob=-15.750002), TopLogprob(token='21', bytes=[50, 49], logprob=-16.500002)]"
        ],
        [
         "37",
         "1853",
         "1963",
         "55",
         "19/06/1963",
         "Press Council Adopts Its Revised Constitution",
         "To Report Publicly On Moves Towards Greater Monopoly",
         "837.0",
         "17",
         "0",
         "0",
         "Press Council Adopts Its Revised Constitution To Report Publicly On Moves Towards Greater Monopoly",
         "15",
         "-0.049165424",
         "[TopLogprob(token='15', bytes=[49, 53], logprob=-0.049165424), TopLogprob(token='99', bytes=[57, 57], logprob=-3.2991655), TopLogprob(token='23', bytes=[50, 51], logprob=-5.2991652), TopLogprob(token='19', bytes=[49, 57], logprob=-5.7991652), TopLogprob(token='20', bytes=[50, 48], logprob=-6.2991652)]"
        ],
        [
         "38",
         "12265",
         "1987",
         "80",
         "25/03/1987",
         "Channon to mediate on advice",
         "City battle over new code",
         null,
         "15",
         "0",
         "0",
         "Channon to mediate on advice City battle over new code",
         "99",
         "-0.043289192",
         "[TopLogprob(token='99', bytes=[57, 57], logprob=-0.043289192), TopLogprob(token='20', bytes=[50, 48], logprob=-3.1682892), TopLogprob(token='15', bytes=[49, 53], logprob=-9.668289), TopLogprob(token='9', bytes=[57], logprob=-9.793289), TopLogprob(token='14', bytes=[49, 52], logprob=-10.293289)]"
        ],
        [
         "39",
         "3085",
         "1965",
         "57",
         "04/08/1965",
         "Dublin Horse Show Has 1,509 Entries",
         null,
         "133.0",
         "4",
         "0",
         "0",
         "Dublin Horse Show Has 1,509 Entries ",
         "99",
         "-0.0015097397",
         "[TopLogprob(token='99', bytes=[57, 57], logprob=-0.0015097397), TopLogprob(token='23', bytes=[50, 51], logprob=-6.5015097), TopLogprob(token='9', bytes=[57], logprob=-12.25151), TopLogprob(token='21', bytes=[50, 49], logprob=-13.62651), TopLogprob(token='19', bytes=[49, 57], logprob=-13.75151)]"
        ],
        [
         "40",
         "14880",
         "1994",
         "87",
         "31/08/1994",
         "Reynolds predicts `a new beginning' - Northern Ireland",
         null,
         "1013.0",
         "19",
         "0",
         "0",
         "Reynolds predicts `a new beginning' - Northern Ireland ",
         "19",
         "-1.4974867e-05",
         "[TopLogprob(token='19', bytes=[49, 57], logprob=-1.4974867e-05), TopLogprob(token='99', bytes=[57, 57], logprob=-11.125015), TopLogprob(token='18', bytes=[49, 56], logprob=-15.625015), TopLogprob(token='9', bytes=[57], logprob=-17.000015), TopLogprob(token='12', bytes=[49, 50], logprob=-17.250015)]"
        ],
        [
         "41",
         "19562",
         "2005",
         "99",
         "12/10/2005",
         "Killer's revenge",
         null,
         "54.0",
         "12",
         "0",
         "0",
         "Killer's revenge ",
         "99",
         "-1.9361265e-07",
         "[TopLogprob(token='99', bytes=[57, 57], logprob=-1.9361265e-07), TopLogprob(token='12', bytes=[49, 50], logprob=-16.25), TopLogprob(token='23', bytes=[50, 51], logprob=-17.125), TopLogprob(token='19', bytes=[49, 57], logprob=-17.625), TopLogprob(token='9', bytes=[57], logprob=-19.0)]"
        ],
        [
         "42",
         "6480",
         "1972",
         "65",
         "15/11/1972",
         "Navy catering changes after jail sentences",
         null,
         "204.0",
         "16",
         "0",
         "0",
         "Navy catering changes after jail sentences ",
         "16",
         "-0.03821763",
         "[TopLogprob(token='16', bytes=[49, 54], logprob=-0.03821763), TopLogprob(token='12', bytes=[49, 50], logprob=-3.2882175), TopLogprob(token='19', bytes=[49, 57], logprob=-8.788218), TopLogprob(token='20', bytes=[50, 48], logprob=-11.788218), TopLogprob(token='10', bytes=[49, 48], logprob=-11.788218)]"
        ],
        [
         "43",
         "7470",
         "1974",
         "68",
         "04/12/1974",
         "Ford plans cuts of 1,750 after bad year",
         null,
         "406.0",
         "10",
         "0",
         "0",
         "Ford plans cuts of 1,750 after bad year ",
         "1",
         "-0.0380501",
         "[TopLogprob(token='1', bytes=[49], logprob=-0.0380501), TopLogprob(token='5', bytes=[53], logprob=-3.2880502), TopLogprob(token='15', bytes=[49, 53], logprob=-11.66305), TopLogprob(token='9', bytes=[57], logprob=-17.91305), TopLogprob(token='11', bytes=[49, 49], logprob=-18.03805)]"
        ],
        [
         "44",
         "6434",
         "1972",
         "64",
         "11/10/1972",
         "Retailers agree to 5% freeze on shop prices",
         null,
         "273.0",
         "15",
         "0",
         "0",
         "Retailers agree to 5% freeze on shop prices ",
         "1",
         "0.0",
         "[TopLogprob(token='1', bytes=[49], logprob=0.0), TopLogprob(token='2', bytes=[50], logprob=-21.5), TopLogprob(token='3', bytes=[51], logprob=-21.75), TopLogprob(token='15', bytes=[49, 53], logprob=-22.25), TopLogprob(token='01', bytes=[48, 49], logprob=-23.5)]"
        ],
        [
         "45",
         "2317",
         "1964",
         "56",
         "25/03/1964",
         "Not Democratic",
         "Granada Chief's View",
         "457.0",
         "17",
         "0",
         "0",
         "Not Democratic Granada Chief's View",
         "99",
         "-0.0052363607",
         "[TopLogprob(token='99', bytes=[57, 57], logprob=-0.0052363607), TopLogprob(token='19', bytes=[49, 57], logprob=-5.255236), TopLogprob(token='9', bytes=[57], logprob=-13.755237), TopLogprob(token='2', bytes=[50], logprob=-14.630237), TopLogprob(token='23', bytes=[50, 51], logprob=-15.130237)]"
        ],
        [
         "46",
         "6806",
         "1973",
         "65",
         "18/07/1973",
         "Nine arrested during protest outside Buckingham Palace",
         null,
         "301.0",
         "12",
         "0",
         "0",
         "Nine arrested during protest outside Buckingham Palace ",
         "2",
         "-0.011053952",
         "[TopLogprob(token='2', bytes=[50], logprob=-0.011053952), TopLogprob(token='12', bytes=[49, 50], logprob=-4.511054), TopLogprob(token='99', bytes=[57, 57], logprob=-12.011054), TopLogprob(token='9', bytes=[57], logprob=-17.886053), TopLogprob(token='22', bytes=[50, 50], logprob=-18.511053)]"
        ],
        [
         "47",
         "9184",
         "1980",
         "73",
         "06/02/1980",
         "Spanish embassy seized",
         null,
         "126.0",
         "16",
         "1",
         "0",
         "Spanish embassy seized ",
         "19",
         "-1.147242e-06",
         "[TopLogprob(token='19', bytes=[49, 57], logprob=-1.147242e-06), TopLogprob(token='12', bytes=[49, 50], logprob=-14.125001), TopLogprob(token='9', bytes=[57], logprob=-15.875001), TopLogprob(token='18', bytes=[49, 56], logprob=-16.000002), TopLogprob(token='10', bytes=[49, 48], logprob=-17.250002)]"
        ],
        [
         "48",
         "10984",
         "1984",
         "77",
         "08/08/1984",
         "Rebels seek order for secret ballot on miners' strike",
         null,
         "806.0",
         "8",
         "0",
         "0",
         "Rebels seek order for secret ballot on miners' strike ",
         "5",
         "-0.020562325",
         "[TopLogprob(token='5', bytes=[53], logprob=-0.020562325), TopLogprob(token='9', bytes=[57], logprob=-4.645562), TopLogprob(token='12', bytes=[49, 50], logprob=-4.770562), TopLogprob(token='1', bytes=[49], logprob=-6.395562), TopLogprob(token='2', bytes=[50], logprob=-7.645562)]"
        ],
        [
         "49",
         "1074",
         "1962",
         "54",
         "07/02/1962",
         "4 Months' Guard On Osprey Nest",
         null,
         "170.0",
         "7",
         "0",
         "0",
         "4 Months' Guard On Osprey Nest ",
         "21",
         "-0.0031781907",
         "[TopLogprob(token='21', bytes=[50, 49], logprob=-0.0031781907), TopLogprob(token='7', bytes=[55], logprob=-5.753178), TopLogprob(token='9', bytes=[57], logprob=-15.253179), TopLogprob(token='23', bytes=[50, 51], logprob=-15.753179), TopLogprob(token='4', bytes=[52], logprob=-16.253178)]"
        ]
       ],
       "shape": {
        "columns": 14,
        "rows": 500
       }
      },
      "text/html": [
       "<div>\n",
       "<style scoped>\n",
       "    .dataframe tbody tr th:only-of-type {\n",
       "        vertical-align: middle;\n",
       "    }\n",
       "\n",
       "    .dataframe tbody tr th {\n",
       "        vertical-align: top;\n",
       "    }\n",
       "\n",
       "    .dataframe thead th {\n",
       "        text-align: right;\n",
       "    }\n",
       "</style>\n",
       "<table border=\"1\" class=\"dataframe\">\n",
       "  <thead>\n",
       "    <tr style=\"text-align: right;\">\n",
       "      <th></th>\n",
       "      <th>id</th>\n",
       "      <th>year</th>\n",
       "      <th>speech_year</th>\n",
       "      <th>date</th>\n",
       "      <th>description</th>\n",
       "      <th>subtitle</th>\n",
       "      <th>words</th>\n",
       "      <th>majortopic</th>\n",
       "      <th>filter_international</th>\n",
       "      <th>filter_duplicate</th>\n",
       "      <th>text</th>\n",
       "      <th>result</th>\n",
       "      <th>logprobs</th>\n",
       "      <th>top_logprobs</th>\n",
       "    </tr>\n",
       "  </thead>\n",
       "  <tbody>\n",
       "    <tr>\n",
       "      <th>0</th>\n",
       "      <td>18704</td>\n",
       "      <td>2004</td>\n",
       "      <td>97</td>\n",
       "      <td>09/06/2004</td>\n",
       "      <td>Sugary drink risk</td>\n",
       "      <td>NaN</td>\n",
       "      <td>52.0</td>\n",
       "      <td>3</td>\n",
       "      <td>0</td>\n",
       "      <td>0</td>\n",
       "      <td>Sugary drink risk</td>\n",
       "      <td>3</td>\n",
       "      <td>0.000000e+00</td>\n",
       "      <td>[TopLogprob(token='3', bytes=[51], logprob=0.0...</td>\n",
       "    </tr>\n",
       "    <tr>\n",
       "      <th>1</th>\n",
       "      <td>20612</td>\n",
       "      <td>2007</td>\n",
       "      <td>100</td>\n",
       "      <td>04/04/2007</td>\n",
       "      <td>Iran softens stance over captured crew but Bec...</td>\n",
       "      <td>NaN</td>\n",
       "      <td>632.0</td>\n",
       "      <td>16</td>\n",
       "      <td>0</td>\n",
       "      <td>0</td>\n",
       "      <td>Iran softens stance over captured crew but Bec...</td>\n",
       "      <td>19</td>\n",
       "      <td>-3.128163e-07</td>\n",
       "      <td>[TopLogprob(token='19', bytes=[49, 57], logpro...</td>\n",
       "    </tr>\n",
       "    <tr>\n",
       "      <th>2</th>\n",
       "      <td>14946</td>\n",
       "      <td>1994</td>\n",
       "      <td>87</td>\n",
       "      <td>09/11/1994</td>\n",
       "      <td>Woolworths death charge - Ian Karl Kay</td>\n",
       "      <td>NaN</td>\n",
       "      <td>39.0</td>\n",
       "      <td>12</td>\n",
       "      <td>0</td>\n",
       "      <td>0</td>\n",
       "      <td>Woolworths death charge - Ian Karl Kay</td>\n",
       "      <td>99</td>\n",
       "      <td>-1.278886e-02</td>\n",
       "      <td>[TopLogprob(token='99', bytes=[57, 57], logpro...</td>\n",
       "    </tr>\n",
       "    <tr>\n",
       "      <th>3</th>\n",
       "      <td>7837</td>\n",
       "      <td>1975</td>\n",
       "      <td>68</td>\n",
       "      <td>19/11/1975</td>\n",
       "      <td>Leftist units in Lisbon placed on the alert</td>\n",
       "      <td>NaN</td>\n",
       "      <td>451.0</td>\n",
       "      <td>19</td>\n",
       "      <td>1</td>\n",
       "      <td>0</td>\n",
       "      <td>Leftist units in Lisbon placed on the alert</td>\n",
       "      <td>19</td>\n",
       "      <td>-1.109613e-03</td>\n",
       "      <td>[TopLogprob(token='19', bytes=[49, 57], logpro...</td>\n",
       "    </tr>\n",
       "    <tr>\n",
       "      <th>4</th>\n",
       "      <td>16857</td>\n",
       "      <td>2000</td>\n",
       "      <td>93</td>\n",
       "      <td>24/05/2000</td>\n",
       "      <td>Tourism chief to take over at the Dome - New M...</td>\n",
       "      <td>NaN</td>\n",
       "      <td>269.0</td>\n",
       "      <td>15</td>\n",
       "      <td>0</td>\n",
       "      <td>0</td>\n",
       "      <td>Tourism chief to take over at the Dome - New M...</td>\n",
       "      <td>15</td>\n",
       "      <td>-3.650519e-06</td>\n",
       "      <td>[TopLogprob(token='15', bytes=[49, 53], logpro...</td>\n",
       "    </tr>\n",
       "    <tr>\n",
       "      <th>...</th>\n",
       "      <td>...</td>\n",
       "      <td>...</td>\n",
       "      <td>...</td>\n",
       "      <td>...</td>\n",
       "      <td>...</td>\n",
       "      <td>...</td>\n",
       "      <td>...</td>\n",
       "      <td>...</td>\n",
       "      <td>...</td>\n",
       "      <td>...</td>\n",
       "      <td>...</td>\n",
       "      <td>...</td>\n",
       "      <td>...</td>\n",
       "      <td>...</td>\n",
       "    </tr>\n",
       "    <tr>\n",
       "      <th>495</th>\n",
       "      <td>4702</td>\n",
       "      <td>1968</td>\n",
       "      <td>60</td>\n",
       "      <td>23/10/1968</td>\n",
       "      <td>Blake 'hid under nose of police</td>\n",
       "      <td>NaN</td>\n",
       "      <td>712.0</td>\n",
       "      <td>12</td>\n",
       "      <td>0</td>\n",
       "      <td>0</td>\n",
       "      <td>Blake 'hid under nose of police</td>\n",
       "      <td>12</td>\n",
       "      <td>-1.147242e-06</td>\n",
       "      <td>[TopLogprob(token='12', bytes=[49, 50], logpro...</td>\n",
       "    </tr>\n",
       "    <tr>\n",
       "      <th>496</th>\n",
       "      <td>3965</td>\n",
       "      <td>1967</td>\n",
       "      <td>59</td>\n",
       "      <td>15/03/1967</td>\n",
       "      <td>Witness 'heard plot to kill Kennedy</td>\n",
       "      <td>Clay Shaw accused at hearing</td>\n",
       "      <td>578.0</td>\n",
       "      <td>19</td>\n",
       "      <td>0</td>\n",
       "      <td>0</td>\n",
       "      <td>Witness 'heard plot to kill Kennedy Clay Shaw ...</td>\n",
       "      <td>12</td>\n",
       "      <td>-8.410085e-03</td>\n",
       "      <td>[TopLogprob(token='12', bytes=[49, 50], logpro...</td>\n",
       "    </tr>\n",
       "    <tr>\n",
       "      <th>497</th>\n",
       "      <td>638</td>\n",
       "      <td>1961</td>\n",
       "      <td>53</td>\n",
       "      <td>22/03/1961</td>\n",
       "      <td>Twelve Months For Steel Thefts</td>\n",
       "      <td>Over 1,000 Tons Said To Be Involved</td>\n",
       "      <td>436.0</td>\n",
       "      <td>12</td>\n",
       "      <td>0</td>\n",
       "      <td>0</td>\n",
       "      <td>Twelve Months For Steel Thefts Over 1,000 Tons...</td>\n",
       "      <td>12</td>\n",
       "      <td>-7.469591e-05</td>\n",
       "      <td>[TopLogprob(token='12', bytes=[49, 50], logpro...</td>\n",
       "    </tr>\n",
       "    <tr>\n",
       "      <th>498</th>\n",
       "      <td>3468</td>\n",
       "      <td>1966</td>\n",
       "      <td>58</td>\n",
       "      <td>06/04/1966</td>\n",
       "      <td>Mr. Wilson To Call Farm Talks</td>\n",
       "      <td>NaN</td>\n",
       "      <td>441.0</td>\n",
       "      <td>4</td>\n",
       "      <td>0</td>\n",
       "      <td>0</td>\n",
       "      <td>Mr. Wilson To Call Farm Talks</td>\n",
       "      <td>4</td>\n",
       "      <td>0.000000e+00</td>\n",
       "      <td>[TopLogprob(token='4', bytes=[52], logprob=0.0...</td>\n",
       "    </tr>\n",
       "    <tr>\n",
       "      <th>499</th>\n",
       "      <td>20671</td>\n",
       "      <td>2007</td>\n",
       "      <td>100</td>\n",
       "      <td>09/05/2007</td>\n",
       "      <td>Supernova sheds light on universe</td>\n",
       "      <td>NaN</td>\n",
       "      <td>229.0</td>\n",
       "      <td>17</td>\n",
       "      <td>0</td>\n",
       "      <td>0</td>\n",
       "      <td>Supernova sheds light on universe</td>\n",
       "      <td>17</td>\n",
       "      <td>-1.119224e-02</td>\n",
       "      <td>[TopLogprob(token='17', bytes=[49, 55], logpro...</td>\n",
       "    </tr>\n",
       "  </tbody>\n",
       "</table>\n",
       "<p>500 rows × 14 columns</p>\n",
       "</div>"
      ],
      "text/plain": [
       "        id  year  speech_year        date  \\\n",
       "0    18704  2004           97  09/06/2004   \n",
       "1    20612  2007          100  04/04/2007   \n",
       "2    14946  1994           87  09/11/1994   \n",
       "3     7837  1975           68  19/11/1975   \n",
       "4    16857  2000           93  24/05/2000   \n",
       "..     ...   ...          ...         ...   \n",
       "495   4702  1968           60  23/10/1968   \n",
       "496   3965  1967           59  15/03/1967   \n",
       "497    638  1961           53  22/03/1961   \n",
       "498   3468  1966           58  06/04/1966   \n",
       "499  20671  2007          100  09/05/2007   \n",
       "\n",
       "                                           description  \\\n",
       "0                                    Sugary drink risk   \n",
       "1    Iran softens stance over captured crew but Bec...   \n",
       "2               Woolworths death charge - Ian Karl Kay   \n",
       "3          Leftist units in Lisbon placed on the alert   \n",
       "4    Tourism chief to take over at the Dome - New M...   \n",
       "..                                                 ...   \n",
       "495                    Blake 'hid under nose of police   \n",
       "496                Witness 'heard plot to kill Kennedy   \n",
       "497                     Twelve Months For Steel Thefts   \n",
       "498                      Mr. Wilson To Call Farm Talks   \n",
       "499                  Supernova sheds light on universe   \n",
       "\n",
       "                                subtitle  words majortopic  \\\n",
       "0                                    NaN   52.0          3   \n",
       "1                                    NaN  632.0         16   \n",
       "2                                    NaN   39.0         12   \n",
       "3                                    NaN  451.0         19   \n",
       "4                                    NaN  269.0         15   \n",
       "..                                   ...    ...        ...   \n",
       "495                                  NaN  712.0         12   \n",
       "496         Clay Shaw accused at hearing  578.0         19   \n",
       "497  Over 1,000 Tons Said To Be Involved  436.0         12   \n",
       "498                                  NaN  441.0          4   \n",
       "499                                  NaN  229.0         17   \n",
       "\n",
       "     filter_international  filter_duplicate  \\\n",
       "0                       0                 0   \n",
       "1                       0                 0   \n",
       "2                       0                 0   \n",
       "3                       1                 0   \n",
       "4                       0                 0   \n",
       "..                    ...               ...   \n",
       "495                     0                 0   \n",
       "496                     0                 0   \n",
       "497                     0                 0   \n",
       "498                     0                 0   \n",
       "499                     0                 0   \n",
       "\n",
       "                                                  text result      logprobs  \\\n",
       "0                                   Sugary drink risk       3  0.000000e+00   \n",
       "1    Iran softens stance over captured crew but Bec...     19 -3.128163e-07   \n",
       "2              Woolworths death charge - Ian Karl Kay      99 -1.278886e-02   \n",
       "3         Leftist units in Lisbon placed on the alert      19 -1.109613e-03   \n",
       "4    Tourism chief to take over at the Dome - New M...     15 -3.650519e-06   \n",
       "..                                                 ...    ...           ...   \n",
       "495                   Blake 'hid under nose of police      12 -1.147242e-06   \n",
       "496  Witness 'heard plot to kill Kennedy Clay Shaw ...     12 -8.410085e-03   \n",
       "497  Twelve Months For Steel Thefts Over 1,000 Tons...     12 -7.469591e-05   \n",
       "498                     Mr. Wilson To Call Farm Talks       4  0.000000e+00   \n",
       "499                 Supernova sheds light on universe      17 -1.119224e-02   \n",
       "\n",
       "                                          top_logprobs  \n",
       "0    [TopLogprob(token='3', bytes=[51], logprob=0.0...  \n",
       "1    [TopLogprob(token='19', bytes=[49, 57], logpro...  \n",
       "2    [TopLogprob(token='99', bytes=[57, 57], logpro...  \n",
       "3    [TopLogprob(token='19', bytes=[49, 57], logpro...  \n",
       "4    [TopLogprob(token='15', bytes=[49, 53], logpro...  \n",
       "..                                                 ...  \n",
       "495  [TopLogprob(token='12', bytes=[49, 50], logpro...  \n",
       "496  [TopLogprob(token='12', bytes=[49, 50], logpro...  \n",
       "497  [TopLogprob(token='12', bytes=[49, 50], logpro...  \n",
       "498  [TopLogprob(token='4', bytes=[52], logprob=0.0...  \n",
       "499  [TopLogprob(token='17', bytes=[49, 55], logpro...  \n",
       "\n",
       "[500 rows x 14 columns]"
      ]
     },
     "execution_count": 131,
     "metadata": {},
     "output_type": "execute_result"
    }
   ],
   "source": [
    "# add the classification results to the sample\n",
    "\n",
    "classification_results_df = pd.concat([uk_media_sample, \n",
    "                                       pd.DataFrame(classification_results, \n",
    "                                                    columns = ['result', 'logprobs', 'top_logprobs'])],\n",
    "                                        axis = 1)\n",
    "classification_results_df"
   ]
  },
  {
   "cell_type": "markdown",
   "metadata": {},
   "source": [
    "_Note_: Classifying 500 rows of our data with the 4o-mini model and the system prompt above (~10.000 tokens long) costs approximately 0,11€."
   ]
  },
  {
   "cell_type": "markdown",
   "metadata": {},
   "source": [
    "### Evaluation\n",
    "\n",
    "As we our data provided a gold standard, we can evaluate the results as we did before."
   ]
  },
  {
   "cell_type": "code",
   "execution_count": 133,
   "metadata": {},
   "outputs": [
    {
     "name": "stdout",
     "output_type": "stream",
     "text": [
      "Accuracy: 0.448\n",
      "Precision: 0.6545391707391707\n",
      "Recall: 0.448\n",
      "F1: 0.4797436468680533\n"
     ]
    },
    {
     "name": "stderr",
     "output_type": "stream",
     "text": [
      "c:\\ProgramData\\miniconda3\\envs\\nlp_workshop\\Lib\\site-packages\\sklearn\\metrics\\_classification.py:1565: UndefinedMetricWarning: Recall is ill-defined and being set to 0.0 in labels with no true samples. Use `zero_division` parameter to control this behavior.\n",
      "  _warn_prf(average, modifier, f\"{metric.capitalize()} is\", len(result))\n"
     ]
    }
   ],
   "source": [
    "from sklearn.metrics import accuracy_score, precision_score, recall_score, f1_score\n",
    "\n",
    "accuracy = accuracy_score(classification_results_df[\"majortopic\"], classification_results_df[\"result\"])\n",
    "precision = precision_score(classification_results_df[\"majortopic\"], classification_results_df[\"result\"], average=\"weighted\")\n",
    "recall = recall_score(classification_results_df[\"majortopic\"], classification_results_df[\"result\"], average=\"weighted\")\n",
    "f1 = f1_score(classification_results_df[\"majortopic\"], classification_results_df[\"result\"], average=\"weighted\")\n",
    "\n",
    "print(\n",
    "    f'Accuracy: {accuracy}\\n'\n",
    "    f'Precision: {precision}\\n'\n",
    "    f'Recall: {recall}\\n'\n",
    "    f'F1: {f1}'\n",
    ")"
   ]
  },
  {
   "cell_type": "code",
   "execution_count": 135,
   "metadata": {},
   "outputs": [
    {
     "name": "stdout",
     "output_type": "stream",
     "text": [
      "              precision    recall  f1-score   support\n",
      "\n",
      "           1       0.55      0.82      0.66        28\n",
      "          10       0.90      0.39      0.54        49\n",
      "          12       0.71      0.67      0.69        70\n",
      "          13       0.00      0.00      0.00         4\n",
      "          14       0.60      0.46      0.52        13\n",
      "          15       0.27      0.12      0.17        24\n",
      "          16       0.81      0.21      0.34        80\n",
      "          17       0.71      0.23      0.34        22\n",
      "          18       0.67      1.00      0.80         4\n",
      "          19       0.40      0.47      0.43        73\n",
      "           2       0.27      1.00      0.42         4\n",
      "          20       0.78      0.19      0.31        36\n",
      "          21       0.00      0.00      0.00         5\n",
      "          23       0.00      0.00      0.00         0\n",
      "           3       0.84      0.84      0.84        25\n",
      "           4       0.69      0.75      0.72        12\n",
      "           5       0.17      0.40      0.24        10\n",
      "           6       1.00      0.62      0.77        16\n",
      "           7       0.50      0.33      0.40         6\n",
      "           8       0.80      0.29      0.42        14\n",
      "           9       0.33      1.00      0.50         1\n",
      "          99       0.04      1.00      0.07         4\n",
      "\n",
      "    accuracy                           0.45       500\n",
      "   macro avg       0.50      0.49      0.42       500\n",
      "weighted avg       0.65      0.45      0.48       500\n",
      "\n"
     ]
    },
    {
     "name": "stderr",
     "output_type": "stream",
     "text": [
      "c:\\ProgramData\\miniconda3\\envs\\nlp_workshop\\Lib\\site-packages\\sklearn\\metrics\\_classification.py:1565: UndefinedMetricWarning: Recall is ill-defined and being set to 0.0 in labels with no true samples. Use `zero_division` parameter to control this behavior.\n",
      "  _warn_prf(average, modifier, f\"{metric.capitalize()} is\", len(result))\n",
      "c:\\ProgramData\\miniconda3\\envs\\nlp_workshop\\Lib\\site-packages\\sklearn\\metrics\\_classification.py:1565: UndefinedMetricWarning: Recall is ill-defined and being set to 0.0 in labels with no true samples. Use `zero_division` parameter to control this behavior.\n",
      "  _warn_prf(average, modifier, f\"{metric.capitalize()} is\", len(result))\n",
      "c:\\ProgramData\\miniconda3\\envs\\nlp_workshop\\Lib\\site-packages\\sklearn\\metrics\\_classification.py:1565: UndefinedMetricWarning: Recall is ill-defined and being set to 0.0 in labels with no true samples. Use `zero_division` parameter to control this behavior.\n",
      "  _warn_prf(average, modifier, f\"{metric.capitalize()} is\", len(result))\n"
     ]
    }
   ],
   "source": [
    "from sklearn.metrics import classification_report\n",
    "\n",
    "print(classification_report(classification_results_df[\"majortopic\"], classification_results_df[\"result\"]))"
   ]
  },
  {
   "cell_type": "markdown",
   "metadata": {},
   "source": [
    "What do you think about these results?"
   ]
  }
 ],
 "metadata": {
  "kernelspec": {
   "display_name": "nlp_workshop",
   "language": "python",
   "name": "python3"
  },
  "language_info": {
   "codemirror_mode": {
    "name": "ipython",
    "version": 3
   },
   "file_extension": ".py",
   "mimetype": "text/x-python",
   "name": "python",
   "nbconvert_exporter": "python",
   "pygments_lexer": "ipython3",
   "version": "3.12.8"
  }
 },
 "nbformat": 4,
 "nbformat_minor": 2
}
