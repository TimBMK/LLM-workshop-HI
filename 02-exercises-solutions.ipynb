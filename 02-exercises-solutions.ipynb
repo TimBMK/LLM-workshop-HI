{
 "cells": [
  {
   "cell_type": "markdown",
   "metadata": {},
   "source": [
    "# Transformers: Exercises\n",
    "\n",
    "Now you have the time to play around with classifiers yourself. We'll use a model for classifying German Party Manifesto contents, and run it on some data on German party manifestos."
   ]
  },
  {
   "cell_type": "markdown",
   "metadata": {},
   "source": [
    "The model is `xlm-roberta-large-german-party-cap-v3` by poltextLAB. You should have requested access to it beforehand.\n",
    "\n",
    "The data we'll be using is coded CAP data on German party manifestos. You can download it from [https://www.comparativeagendas.net/project/germany/datasets](https://www.comparativeagendas.net/project/germany/datasets), but you will also find it in the data folder.\n",
    "\n",
    "**If you do not have access to the poltextLAB model**, search the [Hugging Face Hub](https://huggingface.co/models) for a model suitable to classify the data. It can be anything - a classifier for sentiment, topics, etc. To start with, I'd suggest that you look for a sentiment classifier. Just make sure it is suitable for German texts! Also be aware that, since we do not have a gold standard for this classifier, you will not be able to systematically evaluate the results."
   ]
  },
  {
   "cell_type": "markdown",
   "metadata": {},
   "source": [
    "## Load the Data"
   ]
  },
  {
   "cell_type": "markdown",
   "metadata": {},
   "source": [
    "You can find the data under `data/manifesto_1949-2013_website-release_2.5_2_3.csv`. Take a look under \"Political Parties\" at https://www.comparativeagendas.net/project/germany/datasets to learn more about the data set.\n",
    "\n",
    "*Note*: The data is classified into both CAP major topics and subtopics, but the model only classifies into major topics (max 2 digits)."
   ]
  },
  {
   "cell_type": "code",
   "execution_count": null,
   "metadata": {},
   "outputs": [],
   "source": [
    "import pandas as pd\n",
    "\n",
    "# ..."
   ]
  },
  {
   "cell_type": "markdown",
   "metadata": {},
   "source": [
    "### Solution"
   ]
  },
  {
   "cell_type": "code",
   "execution_count": 2,
   "metadata": {},
   "outputs": [
    {
     "data": {
      "application/vnd.microsoft.datawrangler.viewer.v0+json": {
       "columns": [
        {
         "name": "index",
         "rawType": "int64",
         "type": "integer"
        },
        {
         "name": "election_year",
         "rawType": "int64",
         "type": "integer"
        },
        {
         "name": "party_name",
         "rawType": "object",
         "type": "string"
        },
        {
         "name": "party_id",
         "rawType": "int64",
         "type": "integer"
        },
        {
         "name": "manifesto_id",
         "rawType": "int64",
         "type": "integer"
        },
        {
         "name": "sentence_id",
         "rawType": "int64",
         "type": "integer"
        },
        {
         "name": "cap_topic",
         "rawType": "int64",
         "type": "integer"
        },
        {
         "name": "cap_subtopic",
         "rawType": "int64",
         "type": "integer"
        },
        {
         "name": "header",
         "rawType": "int64",
         "type": "integer"
        },
        {
         "name": "junk",
         "rawType": "int64",
         "type": "integer"
        },
        {
         "name": "eu_dummy",
         "rawType": "int64",
         "type": "integer"
        },
        {
         "name": "sentence_text",
         "rawType": "object",
         "type": "string"
        }
       ],
       "conversionMethod": "pd.DataFrame",
       "ref": "df620624-8a5d-45d5-a358-52c2654c879b",
       "rows": [
        [
         "0",
         "1949",
         "SPD",
         "1",
         "19491",
         "1",
         "99",
         "99",
         "1",
         "0",
         "0",
         "Für ein freies Deutschland"
        ],
        [
         "1",
         "1949",
         "SPD",
         "1",
         "19491",
         "2",
         "99",
         "99",
         "0",
         "0",
         "0",
         "Wählerinnen und Wähler!"
        ],
        [
         "2",
         "1949",
         "SPD",
         "1",
         "19491",
         "3",
         "99",
         "99",
         "0",
         "0",
         "0",
         "Am 14. August entscheidet XX darüber, wie ein neues Deutschand aussehen und welchen Weg es gehen wird."
        ],
        [
         "3",
         "1949",
         "SPD",
         "1",
         "19491",
         "4",
         "20",
         "2099",
         "0",
         "0",
         "0",
         "Heute ist unser land geteilt."
        ],
        [
         "4",
         "1949",
         "SPD",
         "1",
         "19491",
         "5",
         "20",
         "2099",
         "0",
         "0",
         "0",
         "Swjetrussland hat seine Besatzungszone separiert."
        ]
       ],
       "shape": {
        "columns": 11,
        "rows": 5
       }
      },
      "text/html": [
       "<div>\n",
       "<style scoped>\n",
       "    .dataframe tbody tr th:only-of-type {\n",
       "        vertical-align: middle;\n",
       "    }\n",
       "\n",
       "    .dataframe tbody tr th {\n",
       "        vertical-align: top;\n",
       "    }\n",
       "\n",
       "    .dataframe thead th {\n",
       "        text-align: right;\n",
       "    }\n",
       "</style>\n",
       "<table border=\"1\" class=\"dataframe\">\n",
       "  <thead>\n",
       "    <tr style=\"text-align: right;\">\n",
       "      <th></th>\n",
       "      <th>election_year</th>\n",
       "      <th>party_name</th>\n",
       "      <th>party_id</th>\n",
       "      <th>manifesto_id</th>\n",
       "      <th>sentence_id</th>\n",
       "      <th>cap_topic</th>\n",
       "      <th>cap_subtopic</th>\n",
       "      <th>header</th>\n",
       "      <th>junk</th>\n",
       "      <th>eu_dummy</th>\n",
       "      <th>sentence_text</th>\n",
       "    </tr>\n",
       "  </thead>\n",
       "  <tbody>\n",
       "    <tr>\n",
       "      <th>0</th>\n",
       "      <td>1949</td>\n",
       "      <td>SPD</td>\n",
       "      <td>1</td>\n",
       "      <td>19491</td>\n",
       "      <td>1</td>\n",
       "      <td>99</td>\n",
       "      <td>99</td>\n",
       "      <td>1</td>\n",
       "      <td>0</td>\n",
       "      <td>0</td>\n",
       "      <td>Für ein freies Deutschland</td>\n",
       "    </tr>\n",
       "    <tr>\n",
       "      <th>1</th>\n",
       "      <td>1949</td>\n",
       "      <td>SPD</td>\n",
       "      <td>1</td>\n",
       "      <td>19491</td>\n",
       "      <td>2</td>\n",
       "      <td>99</td>\n",
       "      <td>99</td>\n",
       "      <td>0</td>\n",
       "      <td>0</td>\n",
       "      <td>0</td>\n",
       "      <td>Wählerinnen und Wähler!</td>\n",
       "    </tr>\n",
       "    <tr>\n",
       "      <th>2</th>\n",
       "      <td>1949</td>\n",
       "      <td>SPD</td>\n",
       "      <td>1</td>\n",
       "      <td>19491</td>\n",
       "      <td>3</td>\n",
       "      <td>99</td>\n",
       "      <td>99</td>\n",
       "      <td>0</td>\n",
       "      <td>0</td>\n",
       "      <td>0</td>\n",
       "      <td>Am 14. August entscheidet XX darüber, wie ein ...</td>\n",
       "    </tr>\n",
       "    <tr>\n",
       "      <th>3</th>\n",
       "      <td>1949</td>\n",
       "      <td>SPD</td>\n",
       "      <td>1</td>\n",
       "      <td>19491</td>\n",
       "      <td>4</td>\n",
       "      <td>20</td>\n",
       "      <td>2099</td>\n",
       "      <td>0</td>\n",
       "      <td>0</td>\n",
       "      <td>0</td>\n",
       "      <td>Heute ist unser land geteilt.</td>\n",
       "    </tr>\n",
       "    <tr>\n",
       "      <th>4</th>\n",
       "      <td>1949</td>\n",
       "      <td>SPD</td>\n",
       "      <td>1</td>\n",
       "      <td>19491</td>\n",
       "      <td>5</td>\n",
       "      <td>20</td>\n",
       "      <td>2099</td>\n",
       "      <td>0</td>\n",
       "      <td>0</td>\n",
       "      <td>0</td>\n",
       "      <td>Swjetrussland hat seine Besatzungszone separiert.</td>\n",
       "    </tr>\n",
       "  </tbody>\n",
       "</table>\n",
       "</div>"
      ],
      "text/plain": [
       "   election_year party_name  party_id  manifesto_id  sentence_id  cap_topic  \\\n",
       "0           1949        SPD         1         19491            1         99   \n",
       "1           1949        SPD         1         19491            2         99   \n",
       "2           1949        SPD         1         19491            3         99   \n",
       "3           1949        SPD         1         19491            4         20   \n",
       "4           1949        SPD         1         19491            5         20   \n",
       "\n",
       "   cap_subtopic  header  junk  eu_dummy  \\\n",
       "0            99       1     0         0   \n",
       "1            99       0     0         0   \n",
       "2            99       0     0         0   \n",
       "3          2099       0     0         0   \n",
       "4          2099       0     0         0   \n",
       "\n",
       "                                       sentence_text  \n",
       "0                         Für ein freies Deutschland  \n",
       "1                            Wählerinnen und Wähler!  \n",
       "2  Am 14. August entscheidet XX darüber, wie ein ...  \n",
       "3                      Heute ist unser land geteilt.  \n",
       "4  Swjetrussland hat seine Besatzungszone separiert.  "
      ]
     },
     "execution_count": 2,
     "metadata": {},
     "output_type": "execute_result"
    }
   ],
   "source": [
    "import pandas as pd\n",
    "\n",
    "manifesto_de = pd.read_csv('data/manifesto_1949-2013_website-release_2.5_2_3.csv')\n",
    "\n",
    "manifesto_de.head()"
   ]
  },
  {
   "cell_type": "markdown",
   "metadata": {},
   "source": [
    "## Load the Model\n",
    "\n",
    "Load the Model from `poltextlab/xlm-roberta-large-german-party-cap-v3`. \n",
    "\n",
    "Check the model page and make sure the CAP code and the model output align. You can chekc the model output labels with the `config.id2label` attribute of your model. You can also use this (and `config.label2id`) to change the labeling.\n",
    "\n",
    "Build a classifier by using the `pipeline` function. Remember to pass your Hugging Face API token, the tokenizer, and the device if using CUDA"
   ]
  },
  {
   "cell_type": "code",
   "execution_count": null,
   "metadata": {},
   "outputs": [],
   "source": [
    "from transformers import AutoModelForSequenceClassification\n",
    "from transformers import AutoTokenizer, pipeline\n",
    "import os\n",
    "\n",
    "# ..."
   ]
  },
  {
   "cell_type": "markdown",
   "metadata": {},
   "source": [
    "### Solution"
   ]
  },
  {
   "cell_type": "code",
   "execution_count": 4,
   "metadata": {},
   "outputs": [
    {
     "name": "stdout",
     "output_type": "stream",
     "text": [
      "Cuda Found. Running on NVIDIA GeForce GTX 1060 6GB\n"
     ]
    }
   ],
   "source": [
    "# device setup\n",
    "\n",
    "import torch\n",
    "\n",
    "if torch.cuda.is_available(): # CUDA is the preferred device\n",
    "    device = 'cuda:0' # note that if you have multiple GPUs, you might want to change this value to not use the first one\n",
    "    print(f'Cuda Found. Running on {torch.cuda.get_device_name(0)}')\n",
    "else: \n",
    "    if torch.backends.mps.is_available(): # MPS backend for Mac\n",
    "        device = 'mps'\n",
    "        print('MPS Found. Running on MPS')\n",
    "    else: \n",
    "        device = 'cpu' # fallback to CPU computing\n",
    "        print('No GPU Found. Running on CPU')"
   ]
  },
  {
   "cell_type": "code",
   "execution_count": 1,
   "metadata": {},
   "outputs": [
    {
     "data": {
      "text/plain": [
       "{0: 'Macroeconomics',\n",
       " 1: 'Civil Rights',\n",
       " 2: 'Health',\n",
       " 3: 'Agriculture',\n",
       " 4: 'Labor',\n",
       " 5: 'Education',\n",
       " 6: 'Environment',\n",
       " 7: 'Energy',\n",
       " 8: 'Immigration',\n",
       " 9: 'Transportation',\n",
       " 10: 'Law and Crime',\n",
       " 11: 'Social Welfare',\n",
       " 12: 'Housing',\n",
       " 13: 'Domestic Commerce',\n",
       " 14: 'Defense',\n",
       " 15: 'Technology',\n",
       " 16: 'Foreign Trade',\n",
       " 17: 'International Affairs',\n",
       " 18: 'Government Operations',\n",
       " 19: 'Public Lands',\n",
       " 20: 'Culture',\n",
       " 21: 'No Policy Content'}"
      ]
     },
     "execution_count": 1,
     "metadata": {},
     "output_type": "execute_result"
    }
   ],
   "source": [
    "from transformers import AutoModelForSequenceClassification\n",
    "from transformers import AutoTokenizer, pipeline\n",
    "import os\n",
    "\n",
    "# load the model\n",
    "party_model = AutoModelForSequenceClassification.from_pretrained(\"poltextlab/xlm-roberta-large-german-party-cap-v3\")\n",
    "\n",
    "# check the labels\n",
    "party_model.config.id2label "
   ]
  },
  {
   "cell_type": "code",
   "execution_count": 6,
   "metadata": {},
   "outputs": [
    {
     "data": {
      "text/plain": [
       "{0: '1',\n",
       " 1: '2',\n",
       " 2: '3',\n",
       " 3: '4',\n",
       " 4: '5',\n",
       " 5: '6',\n",
       " 6: '7',\n",
       " 7: '8',\n",
       " 8: '9',\n",
       " 9: '10',\n",
       " 10: '12',\n",
       " 11: '13',\n",
       " 12: '14',\n",
       " 13: '15',\n",
       " 14: '16',\n",
       " 15: '17',\n",
       " 16: '18',\n",
       " 17: '19',\n",
       " 18: '20',\n",
       " 19: '21',\n",
       " 20: '23',\n",
       " 21: '999'}"
      ]
     },
     "execution_count": 6,
     "metadata": {},
     "output_type": "execute_result"
    }
   ],
   "source": [
    "# labels are CAP, but not identical to our labeled data. Fix this\n",
    "\n",
    "CAP_NUM_DICT = {0: '1', 1: '2', 2: '3', 3: '4', 4: '5', 5: '6', # translates Model Output to CAP Major Policy Codes\n",
    "6: '7', 7: '8', 8: '9', 9: '10', 10: '12', 11: '13', 12: '14', \n",
    "13: '15', 14: '16', 15: '17', 16: '18', 17: '19', 18: '20', 19: \n",
    "'21', 20: '23', 21: '999'}\n",
    "\n",
    "party_model.config.id2label = CAP_NUM_DICT # replace the labels with the CAP Major Policy Codes\n",
    "party_model.config.label2id = {value: key for key, value in CAP_NUM_DICT.items()} # same for the label2id (reversing the dictionary)\n",
    "\n",
    "party_model.config.id2label # inspect the result"
   ]
  },
  {
   "cell_type": "code",
   "execution_count": 5,
   "metadata": {},
   "outputs": [
    {
     "name": "stderr",
     "output_type": "stream",
     "text": [
      "Device set to use cuda:0\n"
     ]
    }
   ],
   "source": [
    "# run classifier\n",
    "\n",
    "# we need to set the tokenizer, in this case the roberta model the classifier is based on\n",
    "tokenizer = AutoTokenizer.from_pretrained(\"xlm-roberta-large\") \n",
    "\n",
    "classifier = pipeline(task='text-classification', # make classifier pipeline\n",
    "                      device=device, # this sets the device we prepared earlier\n",
    "                      model=party_model, \n",
    "                      tokenizer = tokenizer, \n",
    "                      token=os.environ.get(\"HF_TOKEN\")) "
   ]
  },
  {
   "cell_type": "markdown",
   "metadata": {},
   "source": [
    "## Run the Model\n",
    "\n",
    "Classify your data. As this may take a while, it is good practice to first run it on a small sample (e.g. 10 rows of your data) to make sure it works, and save the output after you ran your whole dataset.\n",
    "\n",
    "If you do not want to wait for the whole data to be processed by the model, you can also just run it on a subset. In this case, you can set a seed and use `sample()` to draw a random sample."
   ]
  },
  {
   "cell_type": "code",
   "execution_count": null,
   "metadata": {},
   "outputs": [],
   "source": [
    "# ..."
   ]
  },
  {
   "cell_type": "markdown",
   "metadata": {},
   "source": [
    "### Solution"
   ]
  },
  {
   "cell_type": "code",
   "execution_count": 30,
   "metadata": {},
   "outputs": [],
   "source": [
    "# take a random sample of 500 sentences to speed up the process\n",
    "\n",
    "seed = 20250227 # set a random seed before sampling to reproduce the results\n",
    "\n",
    "classification_data = manifesto_de.sample(n=500, random_state=seed) # sample 500 sentences\n",
    "\n",
    "classifications = classifier(list(classification_data[\"sentence_text\"])) # we only classify 500 sentences here"
   ]
  },
  {
   "cell_type": "markdown",
   "metadata": {},
   "source": [
    "## Evaluation\n",
    "\n",
    "**If not using the poltextLAB model, systematic evaluation will not be possible.** In this case, I suggest you look at a number of results to get a feeling for how well your model did. If you wanted to do a proper evaluation, you would need to manually code a percentage of your data and compare it to your model output.\n",
    "\n"
   ]
  },
  {
   "cell_type": "markdown",
   "metadata": {},
   "source": [
    "### Model and Data compability\n",
    "\n",
    "Check if your data and model have the same coded CAP categories. If the data has categories not available to the model, you might want to make a new dataset that drops these before calulating the evaluation metrics. If this is the case, take a closer look at the categories also: Which categories did the model predict for the categories it did not know?"
   ]
  },
  {
   "cell_type": "code",
   "execution_count": null,
   "metadata": {},
   "outputs": [],
   "source": [
    "# ..."
   ]
  },
  {
   "cell_type": "markdown",
   "metadata": {},
   "source": [
    "#### Solution"
   ]
  },
  {
   "cell_type": "code",
   "execution_count": 32,
   "metadata": {},
   "outputs": [
    {
     "data": {
      "application/vnd.microsoft.datawrangler.viewer.v0+json": {
       "columns": [
        {
         "name": "index",
         "rawType": "int64",
         "type": "integer"
        },
        {
         "name": "election_year",
         "rawType": "int64",
         "type": "integer"
        },
        {
         "name": "party_name",
         "rawType": "object",
         "type": "string"
        },
        {
         "name": "party_id",
         "rawType": "int64",
         "type": "integer"
        },
        {
         "name": "manifesto_id",
         "rawType": "int64",
         "type": "integer"
        },
        {
         "name": "sentence_id",
         "rawType": "int64",
         "type": "integer"
        },
        {
         "name": "cap_topic",
         "rawType": "int64",
         "type": "integer"
        },
        {
         "name": "cap_subtopic",
         "rawType": "int64",
         "type": "integer"
        },
        {
         "name": "header",
         "rawType": "int64",
         "type": "integer"
        },
        {
         "name": "junk",
         "rawType": "int64",
         "type": "integer"
        },
        {
         "name": "eu_dummy",
         "rawType": "int64",
         "type": "integer"
        },
        {
         "name": "sentence_text",
         "rawType": "object",
         "type": "string"
        },
        {
         "name": "label",
         "rawType": "object",
         "type": "string"
        },
        {
         "name": "score",
         "rawType": "float64",
         "type": "float"
        }
       ],
       "conversionMethod": "pd.DataFrame",
       "ref": "287158af-8ea7-4e07-87e5-d4e084370a15",
       "rows": [
        [
         "0",
         "2009",
         "SPD",
         "1",
         "20091",
         "1646",
         "14",
         "1405",
         "0",
         "0",
         "0",
         "La?ndliche Ra?ume machen la?ngst einen Transformationsprozess von der reinen Agrarproduktion zu einer multifunktionalen Entwicklung durch.",
         "14",
         "0.9624287486076355"
        ],
        [
         "1",
         "1998",
         "Grünen",
         "4",
         "19984",
         "958",
         "15",
         "1500",
         "0",
         "0",
         "0",
         "Eine wesentliche Reformoption muss die Sicherung und Revitalisierung der Gewerbesteuer sein.",
         "15",
         "0.6546125411987305"
        ],
        [
         "2",
         "2013",
         "CDU",
         "2",
         "20132",
         "601",
         "1",
         "107",
         "0",
         "0",
         "0",
         "Starke Schultern mu?ssen mehr tragen als schwache.",
         "1",
         "0.822742223739624"
        ],
        [
         "3",
         "2005",
         "SPD",
         "1",
         "20051",
         "260",
         "20",
         "2012",
         "1",
         "0",
         "0",
         "Lebendige Demokratie und offene Gesellschaft.",
         "20",
         "0.8613946437835693"
        ],
        [
         "4",
         "1998",
         "Grünen",
         "4",
         "19984",
         "65",
         "99",
         "99",
         "0",
         "0",
         "0",
         "Die Kohl-Regierung vermittelt den Menschen das Gefühl, dass sich sowieso nichts ändern lässt.",
         "1",
         "0.6087767481803894"
        ],
        [
         "5",
         "1980",
         "FDP",
         "3",
         "19803",
         "944",
         "8",
         "801",
         "0",
         "0",
         "0",
         "Demgegenüber muss auch die Sorge beachtet werden, dass ohne die friedliche Nutzung der Kernenergie der Anschluss an das Nachöl Zeitalter nicht ohne Frieden und sicherheitsgefährdende Verteilungskämpfe erreicht werden könnte.",
         "8",
         "0.9462392926216125"
        ],
        [
         "6",
         "1990",
         "FDP",
         "3",
         "19903",
         "1371",
         "2",
         "202",
         "0",
         "0",
         "0",
         "der öffentliche Dienst muss bei der Einsetzung von Frauenbeauftragten, bei der Aufstellung und Durchsetzung von Frauenförderplänen auch für Spitzenpositionen beispielhaft vorangehen.",
         "2",
         "0.9550495743751526"
        ],
        [
         "7",
         "2005",
         "FDP",
         "3",
         "20053",
         "923",
         "99",
         "99",
         "0",
         "0",
         "0",
         "Jede Gemeinschaft lebt von den Fähigkeiten und Erfahrungen der Menschen.",
         "13",
         "0.576173722743988"
        ],
        [
         "8",
         "1976",
         "FDP",
         "3",
         "19763",
         "226",
         "20",
         "2001",
         "0",
         "0",
         "0",
         "Die FDP bekennt sich nach wie vor zu einer Bildungspolitik in gesamtstaatlicher Verantwortung, die in erster Linie dem Bund obliegt; er traegt nicht nur fuer die wirtschaftliche und soziale Wohlfahrt im Gesamtstaat die Verantwortung, sondern auch fuer seine geistig-kulturelle Verfassung.",
         "6",
         "0.9584406614303589"
        ],
        [
         "9",
         "2009",
         "Grünen",
         "4",
         "20094",
         "1299",
         "3",
         "342",
         "0",
         "0",
         "0",
         "Nur ein abgestimmtes hilfeund Beratungssystem – kombiniert mit pra?ventiven Programmen – kann helfen, Abha?ngigkeiten langfristig erfolgreich zu verhindern.",
         "3",
         "0.9486130475997925"
        ],
        [
         "10",
         "2002",
         "Grünen",
         "4",
         "20024",
         "1033",
         "99",
         "99",
         "0",
         "0",
         "0",
         "Unsere Wurzeln liegen im Engagement der Demokratie- und Bürgerrechtsbewegungen in Ost und West.",
         "20",
         "0.7942618727684021"
        ],
        [
         "11",
         "1990",
         "FDP",
         "3",
         "19903",
         "949",
         "9",
         "900",
         "0",
         "0",
         "0",
         "Ausländische Mitbürger",
         "9",
         "0.9479807615280151"
        ],
        [
         "12",
         "2013",
         "CDU",
         "2",
         "20132",
         "900",
         "2",
         "204",
         "0",
         "0",
         "0",
         "Die Wirtschaft scha?tzt den Wert a?lterer Arbeitnehmer zunehmend.",
         "5",
         "0.8751527070999146"
        ],
        [
         "13",
         "1994",
         "FDP",
         "3",
         "19943",
         "2148",
         "6",
         "600",
         "0",
         "0",
         "0",
         "Bildung, Wissenschaft und Forschung zählen zu den wichtigsten Investitionen in unserer.",
         "6",
         "0.9570691585540771"
        ],
        [
         "14",
         "1990",
         "PDS",
         "5",
         "19905",
         "170",
         "2",
         "201",
         "0",
         "0",
         "0",
         "Unter dem Stichwort der Bekämpfung des \"Undeutschen\" ziehen sie gegen Punks, Schwule und Lesben, Vertreter selbstorganisierter Lebensformen und alles, was ihren Vorstellungen von Deutschtum und Anständigkeit widerspricht",
         "2",
         "0.9369101524353027"
        ],
        [
         "15",
         "2013",
         "Grünen",
         "4",
         "20134",
         "3749",
         "16",
         "1603",
         "0",
         "0",
         "0",
         "Wir werden den Geheimdiensten das Geheime gegenüber dem Parlament nehmen und zum Beispiel durch eine bessere Ausstattung der Abgeordneten und öffentliche Sitzungen der Kontrollgremien mehr Transparenz schaffen.",
         "16",
         "0.6735192537307739"
        ],
        [
         "16",
         "2013",
         "Die Linke",
         "5",
         "20135",
         "366",
         "5",
         "504",
         "0",
         "0",
         "0",
         "Starke Gewerkschaften sind unerlässlich für gute Arbeits- und Lebensbedingungen.",
         "5",
         "0.928376317024231"
        ],
        [
         "17",
         "1994",
         "FDP",
         "3",
         "19943",
         "1291",
         "12",
         "1208",
         "0",
         "0",
         "0",
         "Das Rechtsinstitut soll sich in grundlegenden Fragen an das Familienrecht anlehnen und weitgehend - insbesondere im Bereich von Angehörigenrechten, bei den Hinterbliebenenregelungen und im Sozialrecht -gleiche Rechte und Pflichten begründen wie die Ehe.",
         "12",
         "0.9030616879463196"
        ],
        [
         "18",
         "1998",
         "FDP",
         "3",
         "19983",
         "1148",
         "6",
         "607",
         "0",
         "0",
         "0",
         "Junge Menschen sollen lernen, mit der ihnen angebotenen Informationsflut richtig und sinnvoll umzugehen.",
         "6",
         "0.935706615447998"
        ],
        [
         "19",
         "1980",
         "FDP",
         "3",
         "19803",
         "811",
         "14",
         "1405",
         "0",
         "0",
         "0",
         "Eine enge Verflechtung mit Industrie, Handel und Gewerbe bleibt für die gesellschaftliche Stabilität ländlicher Räume unerlässlich.",
         "14",
         "0.9431740641593933"
        ],
        [
         "20",
         "1990",
         "SPD",
         "1",
         "19901",
         "183",
         "4",
         "400",
         "0",
         "0",
         "0",
         "Ohne ausreichende Unterstützung kann der Zerfall landwirtschaftlicher Betriebe nicht gestoppt werden.",
         "4",
         "0.9244406223297119"
        ],
        [
         "21",
         "2002",
         "FDP",
         "3",
         "20023",
         "261",
         "13",
         "1302",
         "0",
         "0",
         "0",
         "Wenn jemand gesund und arbeitsfahig ist und keine Kinder oder pflegebedurftigen Angehorigen zu versorgen hat, dann ist es ihm zuzumuten, dass er fur das, was er erhalt, auch eine Gegenleistung erbringt.",
         "13",
         "0.9135501980781555"
        ],
        [
         "22",
         "2005",
         "CDU",
         "2",
         "20052",
         "713",
         "12",
         "1200",
         "0",
         "0",
         "0",
         "Der Schutz von Leib, Leben und Eigentum der Bürger ist die ureigenste Aufgabe des Staates.",
         "12",
         "0.9274369478225708"
        ],
        [
         "23",
         "1998",
         "Grünen",
         "4",
         "19984",
         "1300",
         "14",
         "1400",
         "0",
         "0",
         "0",
         "Dazu gehört ganz besonders die Berücksichtigung der Lebens- und Arbeitsweise von Familien und Frauen sowie Alten und Kranken.",
         "13",
         "0.6653936505317688"
        ],
        [
         "24",
         "2002",
         "PDS",
         "5",
         "20025",
         "749",
         "16",
         "1608",
         "0",
         "0",
         "0",
         "Wir wollen eine aus Zeitsoldaten zusammengesetzte Freiwilligen-Armee anstelle der allgemeinen Wehrpflicht.",
         "16",
         "0.959627628326416"
        ],
        [
         "25",
         "2002",
         "SPD",
         "1",
         "20021",
         "1380",
         "16",
         "1615",
         "0",
         "0",
         "0",
         "Das Sicherheitsmanagement nach den Anschlägen in den USA und angesichts der neuen Gefahr des Bioterrorismus hat den Ausbau des Zivilschutzes und der Notfallkoordinierung erforderlich gemacht.",
         "16",
         "0.8088414669036865"
        ],
        [
         "26",
         "1980",
         "CDU",
         "2",
         "19802",
         "294",
         "8",
         "801",
         "0",
         "0",
         "0",
         "Wir werden aber nicht zulassen, dass die Berufung auf Fragen der Sicherheit und der Entsorgung selbst dort zum Vorwand für die Verhinderung der Kernenergienutzung genommen wird, wo sie gelöst sind.",
         "8",
         "0.9366205930709839"
        ],
        [
         "27",
         "1990",
         "FDP",
         "3",
         "19903",
         "89",
         "99",
         "99",
         "0",
         "0",
         "0",
         "Die schleichende Bedrohung wird sich fortsetzen.",
         "19",
         "0.3579734265804291"
        ],
        [
         "28",
         "1990",
         "CDU",
         "2",
         "19902",
         "109",
         "14",
         "1401",
         "0",
         "0",
         "0",
         "Wir brauchen vor allem auch zusätzliche Wohnheimplätze.",
         "14",
         "0.9282745122909546"
        ],
        [
         "29",
         "2009",
         "SPD",
         "1",
         "20091",
         "1001",
         "1",
         "107",
         "0",
         "0",
         "0",
         "Jeder, der das Angebot annimmt, weiß sofort, wie hoch seine Entlastung ausfa?llt.",
         "1",
         "0.8091067671775818"
        ],
        [
         "30",
         "1980",
         "CDU",
         "2",
         "19802",
         "330",
         "12",
         "1208",
         "0",
         "0",
         "0",
         "Im letzten Jahrzehnt haben sich die Lebensbedingungen für die Familie deutlich verschlechtert.",
         "12",
         "0.7360755801200867"
        ],
        [
         "31",
         "2002",
         "Grünen",
         "4",
         "20024",
         "712",
         "1",
         "107",
         "0",
         "0",
         "1",
         "Die einheitliche steuerliche Erfassung der Zinsen in Europa muss endlich Realität werden.",
         "1",
         "0.8600748181343079"
        ],
        [
         "32",
         "2013",
         "Die Linke",
         "5",
         "20135",
         "635",
         "1",
         "105",
         "0",
         "0",
         "0",
         "Jährliche Mehreinnahmen: 7 Milliarden Euro.",
         "1",
         "0.8728319406509399"
        ],
        [
         "33",
         "1972",
         "SPD",
         "1",
         "19721",
         "156",
         "20",
         "2099",
         "0",
         "0",
         "0",
         "Eheschliessungen zwischen Deutschen aus beiden Staaten muessen wieder moeglich werden.",
         "20",
         "0.6605703234672546"
        ],
        [
         "34",
         "2002",
         "FDP",
         "3",
         "20023",
         "1691",
         "10",
         "1010",
         "0",
         "0",
         "0",
         "Die Infrastruktur muss zugig fit gemacht werden.",
         "10",
         "0.9600620865821838"
        ],
        [
         "35",
         "2005",
         "Grünen",
         "4",
         "20054",
         "949",
         "8",
         "807",
         "0",
         "0",
         "0",
         "Wir brauchen saubere und leisere Au- tos, die sehr viel effizienter sind.",
         "8",
         "0.757842481136322"
        ],
        [
         "36",
         "1965",
         "SPD",
         "1",
         "19651",
         "169",
         "13",
         "1300",
         "0",
         "0",
         "0",
         "Familie und Gemeinschaft muessen in die Lage versetzt werden, dem einzelnen den Schutz zu bieten, dessen er bedarf, wenn er sich nicht allein helfen kann.",
         "12",
         "0.6853118538856506"
        ],
        [
         "37",
         "1980",
         "FDP",
         "3",
         "19803",
         "638",
         "7",
         "711",
         "0",
         "0",
         "0",
         "Siedlung und Verkehr schränken den Raum der Natur immer mehr ein.",
         "7",
         "0.955122709274292"
        ],
        [
         "38",
         "1987",
         "FDP",
         "3",
         "19873",
         "392",
         "2",
         "208",
         "0",
         "0",
         "0",
         "Die klassischen Persönlichkeitsrechte sind durch den weiteren Ausbau des Datenschutzes zu ergänzen",
         "2",
         "0.9441565275192261"
        ],
        [
         "39",
         "1998",
         "Grünen",
         "4",
         "19984",
         "412",
         "4",
         "498",
         "0",
         "0",
         "0",
         "BÜNDNIS 90/Die Grünen lehnen die Gentechnologie in der Landwirtschaft und bei der Lebensmittelproduktion ab.",
         "4",
         "0.9241977334022522"
        ],
        [
         "40",
         "2009",
         "CDU",
         "2",
         "20092",
         "949",
         "9",
         "900",
         "0",
         "0",
         "0",
         "Erfolgreiche Integration bedeutet für uns: Identifikation mit unserem Land, gleichberechtigte Teilhabe und Verantwortung.",
         "9",
         "0.9533583521842957"
        ],
        [
         "41",
         "2013",
         "Die Linke",
         "5",
         "20135",
         "1823",
         "10",
         "1001",
         "0",
         "0",
         "0",
         "Den Ausbau eines konkurrierenden Busfernnetzes lehnen wir ab.",
         "10",
         "0.9700151681900024"
        ],
        [
         "42",
         "1987",
         "FDP",
         "3",
         "19873",
         "106",
         "5",
         "500",
         "0",
         "0",
         "0",
         "Die Arbeitslosigkeit kann dauerhaft nur in einer marktwirtschaftlichen Ordnung überwunden werden",
         "1",
         "0.7215844392776489"
        ],
        [
         "43",
         "2013",
         "SPD",
         "1",
         "20131",
         "1208",
         "13",
         "1305",
         "0",
         "0",
         "0",
         "Jugendverbände sind breit und heterogen zusammengesetzt und demokratisch legitimierte Interessenvertretung junger Menschen.",
         "13",
         "0.8165327310562134"
        ],
        [
         "44",
         "1980",
         "FDP",
         "3",
         "19803",
         "296",
         "19",
         "1902",
         "0",
         "0",
         "0",
         "Liberale treten für eine internationale Rohstoffpolitik ein, die die Versorgungssicherheit verbessert, extreme 5~~wankungeO der Rohstoffpreise vermindert und damit die Rohstofferlöse stabilisiert.",
         "19",
         "0.7315855622291565"
        ],
        [
         "45",
         "2009",
         "Grünen",
         "4",
         "20094",
         "2645",
         "20",
         "2012",
         "0",
         "0",
         "0",
         "stimmt fu?r eine selbstbewusste demokratische Kultur.",
         "20",
         "0.8449959754943848"
        ],
        [
         "46",
         "2005",
         "Die Linke",
         "5",
         "20055",
         "603",
         "16",
         "1606",
         "0",
         "0",
         "0",
         "Unter Rot-Grün ist Deutschland weltweit auf den 4 Platz der Rüstungsexporteu- re vorgerückt.",
         "16",
         "0.9657242298126221"
        ],
        [
         "47",
         "1994",
         "Grünen",
         "4",
         "19944",
         "225",
         "8",
         "807",
         "0",
         "0",
         "0",
         "Der Ressourcenverbrauch muss unabhängig von der Entwicklung des Bruttosozialprodukts (BSP) verringert werden.",
         "8",
         "0.41156071424484253"
        ],
        [
         "48",
         "2013",
         "SPD",
         "1",
         "20131",
         "1286",
         "9",
         "900",
         "0",
         "0",
         "0",
         "Entscheidend ist aber auch hier eine rasche Verbesserung der Lebensbedingungen in den Herkunftsstaaten.",
         "9",
         "0.9232275485992432"
        ],
        [
         "49",
         "1994",
         "FDP",
         "3",
         "19943",
         "329",
         "1",
         "108",
         "0",
         "0",
         "0",
         "Die Privatisierung staatlicher und halbstaatlicher Unternehmen (mit wenigen notwendigen Ausnahmen im Infrastrukturbereich) ist daher auf allen Ebenen voranzutreiben.",
         "1",
         "0.5670508742332458"
        ]
       ],
       "shape": {
        "columns": 13,
        "rows": 500
       }
      },
      "text/html": [
       "<div>\n",
       "<style scoped>\n",
       "    .dataframe tbody tr th:only-of-type {\n",
       "        vertical-align: middle;\n",
       "    }\n",
       "\n",
       "    .dataframe tbody tr th {\n",
       "        vertical-align: top;\n",
       "    }\n",
       "\n",
       "    .dataframe thead th {\n",
       "        text-align: right;\n",
       "    }\n",
       "</style>\n",
       "<table border=\"1\" class=\"dataframe\">\n",
       "  <thead>\n",
       "    <tr style=\"text-align: right;\">\n",
       "      <th></th>\n",
       "      <th>election_year</th>\n",
       "      <th>party_name</th>\n",
       "      <th>party_id</th>\n",
       "      <th>manifesto_id</th>\n",
       "      <th>sentence_id</th>\n",
       "      <th>cap_topic</th>\n",
       "      <th>cap_subtopic</th>\n",
       "      <th>header</th>\n",
       "      <th>junk</th>\n",
       "      <th>eu_dummy</th>\n",
       "      <th>sentence_text</th>\n",
       "      <th>label</th>\n",
       "      <th>score</th>\n",
       "    </tr>\n",
       "  </thead>\n",
       "  <tbody>\n",
       "    <tr>\n",
       "      <th>0</th>\n",
       "      <td>2009</td>\n",
       "      <td>SPD</td>\n",
       "      <td>1</td>\n",
       "      <td>20091</td>\n",
       "      <td>1646</td>\n",
       "      <td>14</td>\n",
       "      <td>1405</td>\n",
       "      <td>0</td>\n",
       "      <td>0</td>\n",
       "      <td>0</td>\n",
       "      <td>La?ndliche Ra?ume machen la?ngst einen Transfo...</td>\n",
       "      <td>14</td>\n",
       "      <td>0.962429</td>\n",
       "    </tr>\n",
       "    <tr>\n",
       "      <th>1</th>\n",
       "      <td>1998</td>\n",
       "      <td>Grünen</td>\n",
       "      <td>4</td>\n",
       "      <td>19984</td>\n",
       "      <td>958</td>\n",
       "      <td>15</td>\n",
       "      <td>1500</td>\n",
       "      <td>0</td>\n",
       "      <td>0</td>\n",
       "      <td>0</td>\n",
       "      <td>Eine wesentliche Reformoption muss die Sicheru...</td>\n",
       "      <td>15</td>\n",
       "      <td>0.654613</td>\n",
       "    </tr>\n",
       "    <tr>\n",
       "      <th>2</th>\n",
       "      <td>2013</td>\n",
       "      <td>CDU</td>\n",
       "      <td>2</td>\n",
       "      <td>20132</td>\n",
       "      <td>601</td>\n",
       "      <td>1</td>\n",
       "      <td>107</td>\n",
       "      <td>0</td>\n",
       "      <td>0</td>\n",
       "      <td>0</td>\n",
       "      <td>Starke Schultern mu?ssen mehr tragen als schwa...</td>\n",
       "      <td>1</td>\n",
       "      <td>0.822742</td>\n",
       "    </tr>\n",
       "    <tr>\n",
       "      <th>3</th>\n",
       "      <td>2005</td>\n",
       "      <td>SPD</td>\n",
       "      <td>1</td>\n",
       "      <td>20051</td>\n",
       "      <td>260</td>\n",
       "      <td>20</td>\n",
       "      <td>2012</td>\n",
       "      <td>1</td>\n",
       "      <td>0</td>\n",
       "      <td>0</td>\n",
       "      <td>Lebendige Demokratie und offene Gesellschaft.</td>\n",
       "      <td>20</td>\n",
       "      <td>0.861395</td>\n",
       "    </tr>\n",
       "    <tr>\n",
       "      <th>4</th>\n",
       "      <td>1998</td>\n",
       "      <td>Grünen</td>\n",
       "      <td>4</td>\n",
       "      <td>19984</td>\n",
       "      <td>65</td>\n",
       "      <td>99</td>\n",
       "      <td>99</td>\n",
       "      <td>0</td>\n",
       "      <td>0</td>\n",
       "      <td>0</td>\n",
       "      <td>Die Kohl-Regierung vermittelt den Menschen das...</td>\n",
       "      <td>1</td>\n",
       "      <td>0.608777</td>\n",
       "    </tr>\n",
       "    <tr>\n",
       "      <th>...</th>\n",
       "      <td>...</td>\n",
       "      <td>...</td>\n",
       "      <td>...</td>\n",
       "      <td>...</td>\n",
       "      <td>...</td>\n",
       "      <td>...</td>\n",
       "      <td>...</td>\n",
       "      <td>...</td>\n",
       "      <td>...</td>\n",
       "      <td>...</td>\n",
       "      <td>...</td>\n",
       "      <td>...</td>\n",
       "      <td>...</td>\n",
       "    </tr>\n",
       "    <tr>\n",
       "      <th>495</th>\n",
       "      <td>2013</td>\n",
       "      <td>FDP</td>\n",
       "      <td>3</td>\n",
       "      <td>20133</td>\n",
       "      <td>1424</td>\n",
       "      <td>2</td>\n",
       "      <td>208</td>\n",
       "      <td>0</td>\n",
       "      <td>0</td>\n",
       "      <td>0</td>\n",
       "      <td>Im Mittelpunkt unseres Denkens und Handelns st...</td>\n",
       "      <td>2</td>\n",
       "      <td>0.931274</td>\n",
       "    </tr>\n",
       "    <tr>\n",
       "      <th>496</th>\n",
       "      <td>1990</td>\n",
       "      <td>FDP</td>\n",
       "      <td>3</td>\n",
       "      <td>19903</td>\n",
       "      <td>659</td>\n",
       "      <td>5</td>\n",
       "      <td>500</td>\n",
       "      <td>0</td>\n",
       "      <td>0</td>\n",
       "      <td>0</td>\n",
       "      <td>Die von der Bundesanstalt für Arbeit gefördert...</td>\n",
       "      <td>5</td>\n",
       "      <td>0.923981</td>\n",
       "    </tr>\n",
       "    <tr>\n",
       "      <th>497</th>\n",
       "      <td>1998</td>\n",
       "      <td>PDS</td>\n",
       "      <td>5</td>\n",
       "      <td>19985</td>\n",
       "      <td>290</td>\n",
       "      <td>7</td>\n",
       "      <td>700</td>\n",
       "      <td>0</td>\n",
       "      <td>0</td>\n",
       "      <td>0</td>\n",
       "      <td>Die Bewahrung und Wiederherstellung der natürl...</td>\n",
       "      <td>7</td>\n",
       "      <td>0.960360</td>\n",
       "    </tr>\n",
       "    <tr>\n",
       "      <th>498</th>\n",
       "      <td>1998</td>\n",
       "      <td>Grünen</td>\n",
       "      <td>4</td>\n",
       "      <td>19984</td>\n",
       "      <td>2236</td>\n",
       "      <td>16</td>\n",
       "      <td>1608</td>\n",
       "      <td>0</td>\n",
       "      <td>0</td>\n",
       "      <td>0</td>\n",
       "      <td>Die Abschaffung staatlicher Zwangsdienste soll...</td>\n",
       "      <td>16</td>\n",
       "      <td>0.953376</td>\n",
       "    </tr>\n",
       "    <tr>\n",
       "      <th>499</th>\n",
       "      <td>2005</td>\n",
       "      <td>FDP</td>\n",
       "      <td>3</td>\n",
       "      <td>20053</td>\n",
       "      <td>266</td>\n",
       "      <td>3</td>\n",
       "      <td>301</td>\n",
       "      <td>0</td>\n",
       "      <td>0</td>\n",
       "      <td>0</td>\n",
       "      <td>So kann dem individuellen pflegerischen Bedarf...</td>\n",
       "      <td>3</td>\n",
       "      <td>0.949973</td>\n",
       "    </tr>\n",
       "  </tbody>\n",
       "</table>\n",
       "<p>500 rows × 13 columns</p>\n",
       "</div>"
      ],
      "text/plain": [
       "     election_year party_name  party_id  manifesto_id  sentence_id  cap_topic  \\\n",
       "0             2009        SPD         1         20091         1646         14   \n",
       "1             1998     Grünen         4         19984          958         15   \n",
       "2             2013        CDU         2         20132          601          1   \n",
       "3             2005        SPD         1         20051          260         20   \n",
       "4             1998     Grünen         4         19984           65         99   \n",
       "..             ...        ...       ...           ...          ...        ...   \n",
       "495           2013        FDP         3         20133         1424          2   \n",
       "496           1990        FDP         3         19903          659          5   \n",
       "497           1998        PDS         5         19985          290          7   \n",
       "498           1998     Grünen         4         19984         2236         16   \n",
       "499           2005        FDP         3         20053          266          3   \n",
       "\n",
       "     cap_subtopic  header  junk  eu_dummy  \\\n",
       "0            1405       0     0         0   \n",
       "1            1500       0     0         0   \n",
       "2             107       0     0         0   \n",
       "3            2012       1     0         0   \n",
       "4              99       0     0         0   \n",
       "..            ...     ...   ...       ...   \n",
       "495           208       0     0         0   \n",
       "496           500       0     0         0   \n",
       "497           700       0     0         0   \n",
       "498          1608       0     0         0   \n",
       "499           301       0     0         0   \n",
       "\n",
       "                                         sentence_text label     score  \n",
       "0    La?ndliche Ra?ume machen la?ngst einen Transfo...    14  0.962429  \n",
       "1    Eine wesentliche Reformoption muss die Sicheru...    15  0.654613  \n",
       "2    Starke Schultern mu?ssen mehr tragen als schwa...     1  0.822742  \n",
       "3        Lebendige Demokratie und offene Gesellschaft.    20  0.861395  \n",
       "4    Die Kohl-Regierung vermittelt den Menschen das...     1  0.608777  \n",
       "..                                                 ...   ...       ...  \n",
       "495  Im Mittelpunkt unseres Denkens und Handelns st...     2  0.931274  \n",
       "496  Die von der Bundesanstalt für Arbeit gefördert...     5  0.923981  \n",
       "497  Die Bewahrung und Wiederherstellung der natürl...     7  0.960360  \n",
       "498  Die Abschaffung staatlicher Zwangsdienste soll...    16  0.953376  \n",
       "499  So kann dem individuellen pflegerischen Bedarf...     3  0.949973  \n",
       "\n",
       "[500 rows x 13 columns]"
      ]
     },
     "execution_count": 32,
     "metadata": {},
     "output_type": "execute_result"
    }
   ],
   "source": [
    "# merge data\n",
    "\n",
    "classification_data.reset_index(drop=True, inplace=True) # reset the index to merge the data\n",
    "\n",
    "classification_results = pd.concat([classification_data, pd.DataFrame(classifications)], axis=1) # turn classificaion into DF and merge\n",
    "\n",
    "classification_results\n"
   ]
  },
  {
   "cell_type": "code",
   "execution_count": 33,
   "metadata": {},
   "outputs": [
    {
     "data": {
      "text/plain": [
       "[0,\n",
       " 1,\n",
       " 2,\n",
       " 3,\n",
       " 4,\n",
       " 5,\n",
       " 6,\n",
       " 7,\n",
       " 8,\n",
       " 9,\n",
       " 10,\n",
       " 12,\n",
       " 13,\n",
       " 14,\n",
       " 15,\n",
       " 16,\n",
       " 17,\n",
       " 18,\n",
       " 19,\n",
       " 20,\n",
       " 21,\n",
       " 23,\n",
       " 25,\n",
       " 61,\n",
       " 99]"
      ]
     },
     "execution_count": 33,
     "metadata": {},
     "output_type": "execute_result"
    }
   ],
   "source": [
    "sorted([int(value) for value in manifesto_de['cap_topic'].unique()]) # categories 25 and 61 are not in the model"
   ]
  },
  {
   "cell_type": "code",
   "execution_count": 34,
   "metadata": {},
   "outputs": [
    {
     "name": "stdout",
     "output_type": "stream",
     "text": [
      "Empty DataFrame\n",
      "Columns: [election_year, party_name, party_id, manifesto_id, sentence_id, cap_topic, cap_subtopic, header, junk, eu_dummy, sentence_text, label, score]\n",
      "Index: []\n",
      "Empty DataFrame\n",
      "Columns: [election_year, party_name, party_id, manifesto_id, sentence_id, cap_topic, cap_subtopic, header, junk, eu_dummy, sentence_text, label, score]\n",
      "Index: []\n"
     ]
    }
   ],
   "source": [
    "# check what the model predicted for unkown categories\n",
    "\n",
    "print(classification_results[classification_results['cap_topic'] == 25])\n",
    "\n",
    "print(classification_results[classification_results['cap_topic'] == 61])"
   ]
  },
  {
   "cell_type": "code",
   "execution_count": 35,
   "metadata": {},
   "outputs": [],
   "source": [
    "# drop unkown categories\n",
    "\n",
    "classification_results = classification_results[classification_results['cap_topic'] != 25]\n",
    "classification_results = classification_results[classification_results['cap_topic'] != 61]"
   ]
  },
  {
   "cell_type": "code",
   "execution_count": null,
   "metadata": {},
   "outputs": [],
   "source": []
  },
  {
   "cell_type": "markdown",
   "metadata": {},
   "source": [
    "### Evaluation Metrics\n",
    "\n",
    "Calculate the Accuracy, Precision, Recall and F1 Score both across all categories and for each category individually. Are there any categories that fare better or worse than the rest? Why could that be?\n",
    "\n",
    "Also take a closer look at the additional variables in our data. Are the evaluation metrics dependant on the year or the party? Maybe the model struggles for certain periods or parties? Visualize this with plots.\n",
    "\n",
    "Hint: You might need to turn the CAP-labelling into string with `astype(str)` to calculate metrics.\n",
    "\n",
    "Note: If you pulled a random sample with `sample()`, you'll want to sort your data by year with `sort_values()` before plotting over time."
   ]
  },
  {
   "cell_type": "code",
   "execution_count": 36,
   "metadata": {},
   "outputs": [
    {
     "name": "stdout",
     "output_type": "stream",
     "text": [
      "Accuracy: 0.708\n",
      "Precision: 0.6587963079632256\n",
      "Recall: 0.708\n",
      "F1: 0.6757281278303078\n"
     ]
    },
    {
     "name": "stderr",
     "output_type": "stream",
     "text": [
      "c:\\ProgramData\\miniconda3\\envs\\nlp_workshop\\Lib\\site-packages\\sklearn\\metrics\\_classification.py:1565: UndefinedMetricWarning: Precision is ill-defined and being set to 0.0 in labels with no predicted samples. Use `zero_division` parameter to control this behavior.\n",
      "  _warn_prf(average, modifier, f\"{metric.capitalize()} is\", len(result))\n"
     ]
    }
   ],
   "source": [
    "from sklearn.metrics import accuracy_score, precision_score, recall_score, f1_score\n",
    "\n",
    "classification_results[\"cap_topic\"] = classification_results[\"cap_topic\"].astype(str) # convert to str for metrics\n",
    "\n",
    "accuracy = accuracy_score(classification_results[\"cap_topic\"], classification_results[\"label\"])\n",
    "precision = precision_score(classification_results[\"cap_topic\"], classification_results[\"label\"], average=\"weighted\")\n",
    "recall = recall_score(classification_results[\"cap_topic\"], classification_results[\"label\"], average=\"weighted\")\n",
    "f1 = f1_score(classification_results[\"cap_topic\"], classification_results[\"label\"], average=\"weighted\")\n",
    "\n",
    "print(\n",
    "    f'Accuracy: {accuracy}\\n'\n",
    "    f'Precision: {precision}\\n'\n",
    "    f'Recall: {recall}\\n'\n",
    "    f'F1: {f1}'\n",
    ")"
   ]
  },
  {
   "cell_type": "code",
   "execution_count": 37,
   "metadata": {},
   "outputs": [
    {
     "name": "stdout",
     "output_type": "stream",
     "text": [
      "              precision    recall  f1-score   support\n",
      "\n",
      "           1       0.46      0.80      0.59        41\n",
      "          10       0.85      0.89      0.87        19\n",
      "          12       0.62      0.76      0.68        21\n",
      "          13       0.63      0.82      0.71        33\n",
      "          14       0.89      0.80      0.84        20\n",
      "          15       0.75      0.65      0.70        23\n",
      "          16       0.70      0.74      0.72        19\n",
      "          17       0.78      0.93      0.85        15\n",
      "          18       0.25      0.67      0.36         3\n",
      "          19       0.69      0.63      0.66        49\n",
      "           2       0.74      0.76      0.75        38\n",
      "          20       0.57      0.73      0.64        22\n",
      "          21       0.00      0.00      0.00         2\n",
      "          23       0.50      0.40      0.44         5\n",
      "           3       0.94      0.94      0.94        16\n",
      "           4       0.89      0.80      0.84        10\n",
      "           5       0.78      0.91      0.84        32\n",
      "           6       0.92      0.89      0.90        37\n",
      "           7       0.72      0.87      0.79        15\n",
      "           8       1.00      0.76      0.87        17\n",
      "           9       1.00      0.92      0.96        12\n",
      "          99       0.00      0.00      0.00        51\n",
      "\n",
      "    accuracy                           0.71       500\n",
      "   macro avg       0.67      0.71      0.68       500\n",
      "weighted avg       0.66      0.71      0.68       500\n",
      "\n"
     ]
    },
    {
     "name": "stderr",
     "output_type": "stream",
     "text": [
      "c:\\ProgramData\\miniconda3\\envs\\nlp_workshop\\Lib\\site-packages\\sklearn\\metrics\\_classification.py:1565: UndefinedMetricWarning: Precision is ill-defined and being set to 0.0 in labels with no predicted samples. Use `zero_division` parameter to control this behavior.\n",
      "  _warn_prf(average, modifier, f\"{metric.capitalize()} is\", len(result))\n",
      "c:\\ProgramData\\miniconda3\\envs\\nlp_workshop\\Lib\\site-packages\\sklearn\\metrics\\_classification.py:1565: UndefinedMetricWarning: Precision is ill-defined and being set to 0.0 in labels with no predicted samples. Use `zero_division` parameter to control this behavior.\n",
      "  _warn_prf(average, modifier, f\"{metric.capitalize()} is\", len(result))\n",
      "c:\\ProgramData\\miniconda3\\envs\\nlp_workshop\\Lib\\site-packages\\sklearn\\metrics\\_classification.py:1565: UndefinedMetricWarning: Precision is ill-defined and being set to 0.0 in labels with no predicted samples. Use `zero_division` parameter to control this behavior.\n",
      "  _warn_prf(average, modifier, f\"{metric.capitalize()} is\", len(result))\n"
     ]
    }
   ],
   "source": [
    "from sklearn.metrics import classification_report\n",
    "\n",
    "print(classification_report(classification_results[\"cap_topic\"], classification_results[\"label\"]))"
   ]
  },
  {
   "cell_type": "code",
   "execution_count": 40,
   "metadata": {},
   "outputs": [
    {
     "data": {
      "text/plain": [
       "<BarContainer object of 6 artists>"
      ]
     },
     "execution_count": 40,
     "metadata": {},
     "output_type": "execute_result"
    },
    {
     "data": {
      "image/png": "[encoded data removed]",
      "text/plain": [
       "<Figure size 640x480 with 1 Axes>"
      ]
     },
     "metadata": {},
     "output_type": "display_data"
    }
   ],
   "source": [
    "# Visualize for parties\n",
    "\n",
    "import matplotlib.pyplot as plt\n",
    "\n",
    "f1_scores = []\n",
    "\n",
    "for party in classification_results['party_name'].unique():\n",
    "    party_data = classification_results[classification_results['party_name'] == party]\n",
    "    f1 = f1_score(party_data[\"cap_topic\"], party_data[\"label\"], average=\"weighted\")\n",
    "    f1_scores.append(f1)\n",
    "\n",
    "plt.bar(classification_results['party_name'].unique(), f1_scores)\n"
   ]
  },
  {
   "cell_type": "code",
   "execution_count": 41,
   "metadata": {},
   "outputs": [
    {
     "data": {
      "text/plain": [
       "[<matplotlib.lines.Line2D at 0x2cfe9c44c80>]"
      ]
     },
     "execution_count": 41,
     "metadata": {},
     "output_type": "execute_result"
    },
    {
     "data": {
      "image/png": "[encoded data removed]",
      "text/plain": [
       "<Figure size 640x480 with 1 Axes>"
      ]
     },
     "metadata": {},
     "output_type": "display_data"
    }
   ],
   "source": [
    "# Visualize for years (this will not work for the 100 sentence subsample, as we have only 1 year there)\n",
    "\n",
    "import matplotlib.pyplot as plt\n",
    "\n",
    "# sort data by year (ascending)\n",
    "classification_results = classification_results.sort_values(by='election_year')\n",
    "\n",
    "f1_scores = []\n",
    "\n",
    "for year in classification_results['election_year'].unique():\n",
    "    year_data = classification_results[classification_results['election_year'] == year]\n",
    "    f1 = f1_score(year_data[\"cap_topic\"], year_data[\"label\"], average=\"weighted\")\n",
    "    f1_scores.append(f1)\n",
    "\n",
    "plt.plot(classification_results['election_year'].unique(), f1_scores)"
   ]
  },
  {
   "cell_type": "markdown",
   "metadata": {},
   "source": [
    "## Bonus: New Data\n",
    "\n",
    "As mentioned before, it is likely that this specific data set has been used for training the model. Can you find some other data to run the model on? Maybe from your own research, or a paper that has made its data available?\n",
    "\n",
    "If you do not wish to work with German-language data, you might need to use another model, such as the English media model used in the previous notebook.\n",
    "\n",
    "Note that you will likely not have a gold standard for this data that you can directly evaluate the model output with (unless, of course, you have some CAP-coded data). In this case, you can still inspect the results to get a feeling how well the model did. A proper evaluation would require you to CAP-code the data, though!"
   ]
  }
 ],
 "metadata": {
  "kernelspec": {
   "display_name": "nlp_workshop",
   "language": "python",
   "name": "python3"
  },
  "language_info": {
   "codemirror_mode": {
    "name": "ipython",
    "version": 3
   },
   "file_extension": ".py",
   "mimetype": "text/x-python",
   "name": "python",
   "nbconvert_exporter": "python",
   "pygments_lexer": "ipython3",
   "version": "3.12.8"
  }
 },
 "nbformat": 4,
 "nbformat_minor": 2
}
