{
 "cells": [
  {
   "cell_type": "markdown",
   "metadata": {},
   "source": [
    "# OpenAI: Exercises\n",
    "\n",
    "Large Language Models are highly dependant on the Prompt. This includes the wording of the context, the description of the categories, examples provided, and the question asked, as well as the formatting of the prompt.\n",
    "\n",
    "This is called prompt engineering, and it can be, at times, an arcane art. Prompts that work well on one model may not work on another. Seemingly arbitrary changes such as linebreaks may influence the model output. This is due to the probabilistic nature of large languae models.\n",
    "\n",
    "Usually, prompt engineering is a matter of trial and error more than anything else. There is a plethora of (quickly changing) articles on the matter, but here are some ressources to get you started:\n",
    "\n",
    "https://help.openai.com/en/articles/6654000-best-practices-for-prompt-engineering-with-the-openai-api\n",
    "\n",
    "https://medium.com/mantisnlp/prompt-engineering-part-ii-how-to-construct-prompts-de333dcf4c85\n",
    "\n",
    "https://huggingface.co/docs/transformers/tasks/prompting#best-practices-of-llm-prompting\n"
   ]
  },
  {
   "cell_type": "markdown",
   "metadata": {},
   "source": [
    "## Zero-Shot Classification\n",
    "\n",
    "Load the same UK media data as before. Try altering the system prompt to get better results. \n",
    "\n",
    "What happens when you alter the context - e.g. telling the model that it is very good at its job? What happens when you alter the question? Also try changing the labels provided to the model. Take a look at the [CAP codebook](https://www.comparativeagendas.net/pages/master-codebook) - can you come up with better descriptions? Also try giving the categories more descriptive names than just a number (you might have to change the max_tokens returned by the model in this case to allow for longer output!).\n",
    "\n",
    "You can also choose a different model to run your tests and see if another GPT model is faring better. See the [OpenAI Documentation](https://platform.openai.com/docs/models#models-overview) for an overview of models.\n",
    "\n",
    "Hint: A smaller dataset will help speed up the process. It also allows you to inspect the results more thoroughly, to get a feel for the effects of your prompt engineering. When you feel like you came up with a good prompt, try running it on the same sample as before and see if results improved!"
   ]
  },
  {
   "cell_type": "code",
   "execution_count": null,
   "metadata": {},
   "outputs": [],
   "source": [
    "# we're loading up our trusty UK media dataset and do some minor data cleaning\n",
    "\n",
    "import pandas as pd\n",
    "\n",
    "seed = 20250228\n",
    "\n",
    "uk_media = pd.read_csv('data/uk_media.csv')\n",
    "\n",
    " # fillna() makes sure missing values don't result in NaN entries\n",
    "uk_media['text'] = uk_media['description'].fillna('') + ' ' + uk_media['subtitle'].fillna('')\n",
    "\n",
    "# we'll also drop duplicates indicated by the filter_duplicate column\n",
    "uk_media = uk_media[uk_media['filter_duplicate'] == 0]\n",
    "\n",
    "# we'll also drop rows where text is NaN (missing due to missing headlines)\n",
    "uk_media = uk_media[uk_media['text'].notna()]\n",
    "\n",
    "# drop rows with majortopic code 0\n",
    "uk_media = uk_media[uk_media['majortopic'] != 0]\n",
    "\n",
    "# only keep rows below 24 OR equal to 99\n",
    "uk_media = uk_media[(uk_media['majortopic'] < 24) | (uk_media['majortopic'] == 99)]\n",
    "\n",
    "# drop category 22 not in the CAP\n",
    "uk_media = uk_media[uk_media['majortopic'] != 22]\n",
    "\n",
    "# turn the majortopic column into a string\n",
    "uk_media['majortopic'] = uk_media['majortopic'].astype(str)\n",
    "\n",
    "# a small sample for prompt engineering\n",
    "uk_media_sample_sm = uk_media.sample(n=10, random_state=seed)\n",
    "uk_media_sample_sm.reset_index(drop = True, inplace = True) # reset index\n"
   ]
  },
  {
   "cell_type": "code",
   "execution_count": null,
   "metadata": {},
   "outputs": [],
   "source": [
    "# our classification function\n",
    "\n",
    "import re\n",
    "\n",
    "def classify_text(text, system_message, model, max_tokens, logprobs, top_logprobs):\n",
    "\n",
    "  # clean the text by removing extra spaces\n",
    "  text = re.sub(r'\\s+', ' ', text).strip()\n",
    "\n",
    "  # construct input\n",
    "\n",
    "  messages = [\n",
    "    # system prompt\n",
    "    {\"role\": \"system\", \"content\": system_message}, # this will contain all instructions for the model\n",
    "    # user input\n",
    "    {\"role\": \"user\", \"content\": text}, # text here is the input text to be classified\n",
    "  ]\n",
    "\n",
    "  response = client.chat.completions.create(\n",
    "    model=model,\n",
    "    messages=messages,\n",
    "    temperature=0.0,\n",
    "    max_tokens=max_tokens, # restrict max tokens for more consistent/concise output\n",
    "    logprobs=logprobs, # include log probs\n",
    "    top_logprobs=top_logprobs, # number of top logprobs to return\n",
    "  )\n",
    "\n",
    "  \n",
    "  result = response.choices[0].message.content\n",
    "\n",
    "  if logprobs: # a simple check if we wanted logprobs to get returned\n",
    "    logprobs = response.choices[0].logprobs.content[0].logprob\n",
    "    top_logprobs = response.choices[0].logprobs.content[0].top_logprobs\n",
    "    return result, logprobs, top_logprobs\n",
    "  \n",
    "  else: # if not, return only the result\n",
    "    return result"
   ]
  },
  {
   "cell_type": "code",
   "execution_count": 1,
   "metadata": {},
   "outputs": [
    {
     "name": "stdout",
     "output_type": "stream",
     "text": [
      "\n",
      "You are a political scientist tasked with annotating documents into policy categories. \n",
      "The documents can be classified as one of the following numbered categories. \n",
      "A description of each category is following the ':' sign.\n",
      "\n",
      "1: Issues related to general domestic macroeconomic policy; Interest Rates; Unemployment Rate; Monetary Policy; National Budget; Tax Code; Industrial Policy; Price Control; other macroeconomics subtopics\n",
      "2: Issues related generally to civil rights and minority rights; Minority Discrimination; Gender Discrimination; Age Discrimination; Handicap Discrimination; Voting Rights; Freedom of Speech; Right to Privacy; Anti-Government; other civil rights subtopics\n",
      "3: Issues related generally to health care, including appropriations for general health care government agencies; Health Care Reform; Insurance; Drug Industry; Medical Facilities; Insurance Providers; Medical Liability; Manpower; Disease Prevention; Infants and Children; Mental Health; Long-term Care; Drug Coverage and Cost; Tobacco Abuse; Drug and Alcohol Abuse; health care research and development; issues related to other health care topics\n",
      "4: Issues related to general agriculture policy, including appropriations for general agriculture government agencies; agricultural foreign trade; Subsidies to Farmers; Food Inspection & Safety; Food Marketing & Promotion; Animal and Crop Disease; Fisheries & Fishing; agricultural research and development; issues related to other agricultural subtopics\n",
      "5: Issues generally related to labor, employment, and pensions, including appropriations for government agencies regulating labor policy; Worker Safety; Employment Training; Employee Benefits; Labor Unions; Fair Labor Standards; Youth Employment; Migrant and Seasonal workers; Issues related to other labor policy\n",
      "6: Issues related to General education policy, including appropriations for government agencies regulating education policy; Higher education, student loans and education finance, and the regulation of colleges and universities; Elementary & Secondary education; Underprivileged students; Vocational education; Special education and education for the physically or mentally handicapped; Education Excellence; research and development in education; issues related to other subtopics in education policy\n",
      "7: Issues related to General environmental policy, including appropriations for government agencies regulating environmental policy; Drinking Water; Waste Disposal; Hazardous Waste; Air Pollution; Recycling; Indoor Hazards; Species & Forest; Land and Water Conservation; research and development in environmental technology, not including alternative energy; issues related to other environmental subtopics\n",
      "8: Issues generally related to energy policy, including appropriations for government agencies regulating energy policy; Nuclear energy, safety and security, and disposal of nuclear waste; Electricity; Natural Gas & Oil; Coal; Alternative & Renewable Energy; Issues related to energy conservation and energy efficiency; issues related to energy research and development; issues related to other energy subtopics\n",
      "9: Issues related to immigration, refugees, and citizenship\n",
      "10: Issues related generally to transportation, including appropriations for government agencies regulating transportation policy; mass transportation construction, regulation, safety, and availability; public highway construction, maintenance, and safety; Air Travel; Railroad Travel; Maritime transportation; Infrastructure and public works, including employment initiatives; transportation research and development; issues related to other transportation subtopics\n",
      "12: Issues related to general law, crime, and family issues; law enforcement agencies, including border, customs, and other specialized enforcement agencies and their appropriations; White Collar Crime; Illegal Drugs; Court Administration; Prisons; Juvenile Crime; Child Abuse; Family Issues, domestic violence, child welfare, family law; Criminal & Civil Code; Crime Control; Police; issues related to other law, crime, and family subtopics\n",
      "13: Issues generally related to social welfare policy; Low-Income Assistance; Elderly Assistance; Disabled Assistance; Volunteer Associations; Child Care; issues related to other social welfare policy subtopics\n",
      "14: Issues related generally to housing and urban affairs; housing and community development, neighborhood development, and national housing policy; urban development and general urban issues; Rural Housing; economic, infrastructure, and other developments in non-urban areas; housing for low-income individuals and families, including public housing projects and housing affordability programs; housing for military veterans and their families, including subsidies for veterans; housing for the elderly, including housing facilities for the handicapped elderly; housing for the homeless and efforts to reduce homelessness ; housing and community development research and development; Other issues related to housing and community development\n",
      "15: Issues generally related to domestic commerce, including appropriations for government agencies regulating domestic commerce; Banking; Securities & Commodities; Consumer Finance; Insurance Regulation; personal, commercial, and municipal bankruptcies; corporate mergers, antitrust regulation, corporate accounting and governance, and corporate management; Small Businesses; Copyrights and Patents; Disaster Relief; Tourism; Consumer Safety; Sports Regulation; domestic commerce research and development; other domestic commerce policy subtopics\n",
      "16: Issues related generally to defense policy, and appropriations for agencies that oversee general defense policy; defense alliance and agreement, security assistance, and UN peacekeeping activities; military intelligence, espionage, and covert operations; military readiness, coordination of armed services air support and sealift capabilities, and national stockpiles of strategic materials.; Nuclear Arms; Military Aid; military manpower, military personel and their dependents, military courts, and general veterans' issues; military procurement, conversion of old equipment, and weapons systems evaluation; military installations, construction, and land transfers; military reserves and reserve affairs; military nuclear and hazardous waste disposal and military environmental compliance; domestic civil defense, national security responses to terrorism, and other issues related to homeland security; non-contractor civilian personnel, civilian employment in the defense industry, and military base closings; military contractors and contracting, oversight of military contrators and fraud by military contractors; Foreign Operations; claims against the military, settlements for military dependents, and compensation for civilians injured in military operations; defense research and development; other defense policy subtopics\n",
      "17: Issues related to general space, science, technology, and communications; government use of space and space resource exploitation agreements, government space programs and space exploration, military use of space; regulation and promotion of commercial use of space, commercial satellite technology, and government efforts to encourage commercial space development; science and technology transfer and international science cooperation; Telecommunications; Broadcast; Weather Forecasting; computer industry, regulation of the internet, and cyber security; space, science, technology, and communication research and development not mentioned in other subtopics.; other issues related to space, science, technology, and communication research and development\n",
      "18: Issues generally related to foreign trade and appropriations for government agencies generally regulating foreign trade; Trade Agreements; Exports; Private Investments; productivity of competitiveness of domestic businesses and balance of payments issues; Tariff & Imports; Exchange Rates; other foreign trade policy subtopics\n",
      "19: Issues related to general international affairs and foreign aid, including appropriations for general government foreign affairs agencies; Foreign Aid; Resources Exploitation; Developing Countries; International Finance; Western Europe; issues related specifically to a foreign country or region not codable using other codes, assessment of political issues in other countries, relations between individual countries; Human Rights; International organizations, NGOs, the United Nations, International Red Cross, UNESCO, International Olympic Committee, International Criminal Court; international terrorism, hijacking, and acts of piracy in other countries, efforts to fight international terrorism, international legal mechanisms to combat terrorism; diplomats, diplomacy, embassies, citizens abroad, foreign diplomats in the country, visas and passports; issues related to other international affairs policy subtopics\n",
      "20: Issues related to general government operations, including appropriations for multiple government agencies; Intergovernmental Relations; Bureaucracy; Postal Service; issues related to civil employees not mentioned in other subtopics, government pensions and general civil service issues; issues related to nominations and appointments not mentioned elsewhere; issues related the currency, national mints, medals, and commemorative coins; government procurement, government contractors, contractor and procurement fraud, and procurement processes and systems; government property management, construction, and regulation; Tax Administration; public scandal and impeachment; government branch relations, administrative issues, and constitutional reforms; regulation of political campaigns, campaign finance, political advertising and voter registration; Census & Statistics; issues related to the capital city; claims against the government, compensation for the victims of terrorist attacks, compensation policies without other substantive provisions; National Holidays; other government operations subtopics\n",
      "21: Issues related to general public lands, water management, and territorial issues; National Parks; Indigenous Affairs; natural resources, public lands, and forest management, including forest fires, livestock grazing; water resources, water resource development and civil works, flood control, and research; territorial and dependency issues and devolution; other public lands policy subtopics\n",
      "23: Issues related to general cultural policy issues\n",
      "99: Other issues, where none of the above is appropriate.\n",
      "\n",
      "\n",
      "\n",
      "Which policy category does this document belong to? \n",
      "Answer only with the number of the category, and only with a single category.\n",
      "\n",
      "Prompt length: 10702\n"
     ]
    }
   ],
   "source": [
    "# Edit the prompt here\n",
    "\n",
    "# the CAP labels\n",
    "cap_labels = {\n",
    "    \"1\": \"Issues related to general domestic macroeconomic policy; Interest Rates; Unemployment Rate; Monetary Policy; National Budget; Tax Code; Industrial Policy; Price Control; other macroeconomics subtopics\",\n",
    "    \"2\": \"Issues related generally to civil rights and minority rights; Minority Discrimination; Gender Discrimination; Age Discrimination; Handicap Discrimination; Voting Rights; Freedom of Speech; Right to Privacy; Anti-Government; other civil rights subtopics\",\n",
    "    \"3\": \"Issues related generally to health care, including appropriations for general health care government agencies; Health Care Reform; Insurance; Drug Industry; Medical Facilities; Insurance Providers; Medical Liability; Manpower; Disease Prevention; Infants and Children; Mental Health; Long-term Care; Drug Coverage and Cost; Tobacco Abuse; Drug and Alcohol Abuse; health care research and development; issues related to other health care topics\",\n",
    "    \"4\": \"Issues related to general agriculture policy, including appropriations for general agriculture government agencies; agricultural foreign trade; Subsidies to Farmers; Food Inspection & Safety; Food Marketing & Promotion; Animal and Crop Disease; Fisheries & Fishing; agricultural research and development; issues related to other agricultural subtopics\",\n",
    "    \"5\": \"Issues generally related to labor, employment, and pensions, including appropriations for government agencies regulating labor policy; Worker Safety; Employment Training; Employee Benefits; Labor Unions; Fair Labor Standards; Youth Employment; Migrant and Seasonal workers; Issues related to other labor policy\",\n",
    "    \"6\": \"Issues related to General education policy, including appropriations for government agencies regulating education policy; Higher education, student loans and education finance, and the regulation of colleges and universities; Elementary & Secondary education; Underprivileged students; Vocational education; Special education and education for the physically or mentally handicapped; Education Excellence; research and development in education; issues related to other subtopics in education policy\",\n",
    "    \"7\": \"Issues related to General environmental policy, including appropriations for government agencies regulating environmental policy; Drinking Water; Waste Disposal; Hazardous Waste; Air Pollution; Recycling; Indoor Hazards; Species & Forest; Land and Water Conservation; research and development in environmental technology, not including alternative energy; issues related to other environmental subtopics\",\n",
    "    \"8\": \"Issues generally related to energy policy, including appropriations for government agencies regulating energy policy; Nuclear energy, safety and security, and disposal of nuclear waste; Electricity; Natural Gas & Oil; Coal; Alternative & Renewable Energy; Issues related to energy conservation and energy efficiency; issues related to energy research and development; issues related to other energy subtopics\",\n",
    "    \"9\": \"Issues related to immigration, refugees, and citizenship\",\n",
    "    \"10\": \"Issues related generally to transportation, including appropriations for government agencies regulating transportation policy; mass transportation construction, regulation, safety, and availability; public highway construction, maintenance, and safety; Air Travel; Railroad Travel; Maritime transportation; Infrastructure and public works, including employment initiatives; transportation research and development; issues related to other transportation subtopics\",\n",
    "    \"12\": \"Issues related to general law, crime, and family issues; law enforcement agencies, including border, customs, and other specialized enforcement agencies and their appropriations; White Collar Crime; Illegal Drugs; Court Administration; Prisons; Juvenile Crime; Child Abuse; Family Issues, domestic violence, child welfare, family law; Criminal & Civil Code; Crime Control; Police; issues related to other law, crime, and family subtopics\",\n",
    "    \"13\": \"Issues generally related to social welfare policy; Low-Income Assistance; Elderly Assistance; Disabled Assistance; Volunteer Associations; Child Care; issues related to other social welfare policy subtopics\",\n",
    "    \"14\": \"Issues related generally to housing and urban affairs; housing and community development, neighborhood development, and national housing policy; urban development and general urban issues; Rural Housing; economic, infrastructure, and other developments in non-urban areas; housing for low-income individuals and families, including public housing projects and housing affordability programs; housing for military veterans and their families, including subsidies for veterans; housing for the elderly, including housing facilities for the handicapped elderly; housing for the homeless and efforts to reduce homelessness ; housing and community development research and development; Other issues related to housing and community development\",\n",
    "    \"15\": \"Issues generally related to domestic commerce, including appropriations for government agencies regulating domestic commerce; Banking; Securities & Commodities; Consumer Finance; Insurance Regulation; personal, commercial, and municipal bankruptcies; corporate mergers, antitrust regulation, corporate accounting and governance, and corporate management; Small Businesses; Copyrights and Patents; Disaster Relief; Tourism; Consumer Safety; Sports Regulation; domestic commerce research and development; other domestic commerce policy subtopics\",\n",
    "    \"16\": \"Issues related generally to defense policy, and appropriations for agencies that oversee general defense policy; defense alliance and agreement, security assistance, and UN peacekeeping activities; military intelligence, espionage, and covert operations; military readiness, coordination of armed services air support and sealift capabilities, and national stockpiles of strategic materials.; Nuclear Arms; Military Aid; military manpower, military personel and their dependents, military courts, and general veterans' issues; military procurement, conversion of old equipment, and weapons systems evaluation; military installations, construction, and land transfers; military reserves and reserve affairs; military nuclear and hazardous waste disposal and military environmental compliance; domestic civil defense, national security responses to terrorism, and other issues related to homeland security; non-contractor civilian personnel, civilian employment in the defense industry, and military base closings; military contractors and contracting, oversight of military contrators and fraud by military contractors; Foreign Operations; claims against the military, settlements for military dependents, and compensation for civilians injured in military operations; defense research and development; other defense policy subtopics\",\n",
    "    \"17\": \"Issues related to general space, science, technology, and communications; government use of space and space resource exploitation agreements, government space programs and space exploration, military use of space; regulation and promotion of commercial use of space, commercial satellite technology, and government efforts to encourage commercial space development; science and technology transfer and international science cooperation; Telecommunications; Broadcast; Weather Forecasting; computer industry, regulation of the internet, and cyber security; space, science, technology, and communication research and development not mentioned in other subtopics.; other issues related to space, science, technology, and communication research and development\",\n",
    "    \"18\": \"Issues generally related to foreign trade and appropriations for government agencies generally regulating foreign trade; Trade Agreements; Exports; Private Investments; productivity of competitiveness of domestic businesses and balance of payments issues; Tariff & Imports; Exchange Rates; other foreign trade policy subtopics\",\n",
    "    \"19\": \"Issues related to general international affairs and foreign aid, including appropriations for general government foreign affairs agencies; Foreign Aid; Resources Exploitation; Developing Countries; International Finance; Western Europe; issues related specifically to a foreign country or region not codable using other codes, assessment of political issues in other countries, relations between individual countries; Human Rights; International organizations, NGOs, the United Nations, International Red Cross, UNESCO, International Olympic Committee, International Criminal Court; international terrorism, hijacking, and acts of piracy in other countries, efforts to fight international terrorism, international legal mechanisms to combat terrorism; diplomats, diplomacy, embassies, citizens abroad, foreign diplomats in the country, visas and passports; issues related to other international affairs policy subtopics\",\n",
    "    \"20\": \"Issues related to general government operations, including appropriations for multiple government agencies; Intergovernmental Relations; Bureaucracy; Postal Service; issues related to civil employees not mentioned in other subtopics, government pensions and general civil service issues; issues related to nominations and appointments not mentioned elsewhere; issues related the currency, national mints, medals, and commemorative coins; government procurement, government contractors, contractor and procurement fraud, and procurement processes and systems; government property management, construction, and regulation; Tax Administration; public scandal and impeachment; government branch relations, administrative issues, and constitutional reforms; regulation of political campaigns, campaign finance, political advertising and voter registration; Census & Statistics; issues related to the capital city; claims against the government, compensation for the victims of terrorist attacks, compensation policies without other substantive provisions; National Holidays; other government operations subtopics\",\n",
    "    \"21\": \"Issues related to general public lands, water management, and territorial issues; National Parks; Indigenous Affairs; natural resources, public lands, and forest management, including forest fires, livestock grazing; water resources, water resource development and civil works, flood control, and research; territorial and dependency issues and devolution; other public lands policy subtopics\",\n",
    "    \"23\": \"Issues related to general cultural policy issues\",\n",
    "    \"99\": \"Other issues, where none of the above is appropriate.\", # dummy category\n",
    "}\n",
    "\n",
    "# give the model some context for the task it is about to perform\n",
    "context = \"\"\"\n",
    "You are a political scientist tasked with annotating documents into policy categories. \n",
    "The documents can be classified as one of the following numbered categories. \n",
    "A description of each category is following the ':' sign.\n",
    "\"\"\"\n",
    "\n",
    "# turn the CAP dictionary into a string\n",
    "labels_definitions = \"\"\n",
    "\n",
    "for i in range(len(cap_labels)):\n",
    "    labels_definitions += f'{list(cap_labels.keys())[i]}: {list(cap_labels.values())[i]}\\n'\n",
    "\n",
    "# finally, the question we want the model to answer, including specific instructions for the output\n",
    "question = \"\"\"\n",
    "Which policy category does this document belong to? \n",
    "Answer only with the number of the category, and only with a single category.\n",
    "\"\"\"\n",
    "\n",
    "# now we combine the parts into the system prompt\n",
    "system_message = f\"{context}\\n{labels_definitions}\\n\\n{question}\"\n",
    "\n",
    "print(system_message)\n",
    "print(f'Prompt length: {len(system_message)}')"
   ]
  },
  {
   "cell_type": "code",
   "execution_count": null,
   "metadata": {},
   "outputs": [],
   "source": [
    "# test it on the small sample\n",
    "\n",
    "model = \"gpt-4o-mini-2024-07-18\"\n",
    "\n",
    "classification_results = [classify_text(text, \n",
    "                                        system_message = system_message, \n",
    "                                        model = model, \n",
    "                                        logprobs = True,\n",
    "                                        top_logprobs=5, # number of alternative logprobs\n",
    "                                        max_tokens = 10) for text in uk_media_sample_sm['text']] # we're looping our function over the texts\n",
    "\n",
    "classification_results_df = pd.concat([uk_media_sample_sm, \n",
    "                                       pd.DataFrame(classification_results, \n",
    "                                                    columns = ['result', 'logprobs', 'top_logprobs'])],\n",
    "                                        axis = 1)\n",
    "classification_results_df"
   ]
  },
  {
   "cell_type": "markdown",
   "metadata": {},
   "source": [
    "When you feel like your prompt engineering has paid off, run your prompt on the same sample as before and evaluate the results. Did the outcome improve?"
   ]
  },
  {
   "cell_type": "code",
   "execution_count": null,
   "metadata": {},
   "outputs": [],
   "source": [
    "# set a seed before sampling for repdroducibility\n",
    "seed = 20250228 # I'm using today's date as seed here\n",
    "\n",
    "uk_media_sample = uk_media.sample(n = 100, random_state = seed) # we'll sample 100 out of the 17746 rows\n",
    "\n",
    "uk_media_sample.reset_index(drop = True, inplace = True) # reset index\n",
    "\n",
    "# ..."
   ]
  },
  {
   "cell_type": "markdown",
   "metadata": {},
   "source": [
    "### Solution"
   ]
  },
  {
   "cell_type": "code",
   "execution_count": null,
   "metadata": {},
   "outputs": [],
   "source": [
    "classification_results = [classify_text(text, \n",
    "                                        system_message = system_message, \n",
    "                                        model = model, \n",
    "                                        logprobs = True,\n",
    "                                        top_logprobs=5, # number of alternative logprobs\n",
    "                                        max_tokens = 10) for text in uk_media_sample['text']] # we're looping our function over the texts\n",
    "\n",
    "classification_results_df = pd.concat([uk_media_sample, \n",
    "                                       pd.DataFrame(classification_results, \n",
    "                                                    columns = ['result', 'logprobs', 'top_logprobs'])],\n",
    "                                        axis = 1)"
   ]
  },
  {
   "cell_type": "code",
   "execution_count": null,
   "metadata": {},
   "outputs": [],
   "source": [
    "from sklearn.metrics import classification_report\n",
    "\n",
    "print(classification_report(classification_results_df[\"majortopic\"], classification_results_df[\"result\"]))"
   ]
  },
  {
   "cell_type": "markdown",
   "metadata": {},
   "source": [
    "## Few-Shot Classification\n",
    "\n",
    "Try adding examples for few-shot classification. Does it help to add more or less examples? Does the formatting of the examples improve the outcome? Do different models fare better with or without examples?\n",
    "\n",
    "Hint: Do not forget to make a train/test split before pulling examples. You can use the same function as before."
   ]
  },
  {
   "cell_type": "code",
   "execution_count": null,
   "metadata": {},
   "outputs": [],
   "source": [
    "from sklearn.model_selection import train_test_split\n",
    "\n",
    "# this functions pulls n samples per category from the dataframe as train, leaving the rest as test\n",
    "def stratified_train_test_split(df, category_col, n_train_per_category):\n",
    "    train_dfs = []\n",
    "    test_dfs = []\n",
    "    \n",
    "    for category, group in df.groupby(category_col):\n",
    "        train_group, test_group = train_test_split(group, train_size=n_train_per_category, random_state=42)\n",
    "        train_dfs.append(train_group)\n",
    "        test_dfs.append(test_group)\n",
    "    \n",
    "    train_df = pd.concat(train_dfs).reset_index(drop=True)\n",
    "    test_df = pd.concat(test_dfs).reset_index(drop=True)\n",
    "    \n",
    "    return train_df, test_df\n",
    "\n",
    "\n",
    "train_sample, test_sample = stratified_train_test_split(uk_media, 'majortopic', 2) # we'll use 2 samples per category. Edit this as needed"
   ]
  },
  {
   "cell_type": "code",
   "execution_count": null,
   "metadata": {},
   "outputs": [],
   "source": [
    "uk_media_sample_fewshot_sm = test_sample.sample(n = 10, random_state = seed)\n",
    "\n",
    "uk_media_sample_fewshot_sm.reset_index(drop = True, inplace = True) # reset index"
   ]
  },
  {
   "cell_type": "code",
   "execution_count": null,
   "metadata": {},
   "outputs": [],
   "source": [
    "# Edit the prompt here\n",
    "\n",
    "# give the model some context for the task it is about to perform\n",
    "context = \"\"\"\n",
    "You are a political scientist tasked with annotating documents into policy categories. \n",
    "The documents can be classified as one of the following numbered categories. \n",
    "A description of each category is following the ':' sign.\n",
    "You will be provided two examples for each category to help you make a decision. These are marked with \"Examples:\".\n",
    "\"\"\"\n",
    "\n",
    "# turn the CAP dictionary into a string\n",
    "labels_definitions = \"\"\n",
    "\n",
    "for label in cap_labels.keys():\n",
    "    examples = train_sample[train_sample['majortopic'] == label]['text'].values\n",
    "    labels_definitions += f'{label}:\\n{cap_labels[label]}\\nExamples: {examples}\\n'\n",
    "\n",
    "# finally, the question we want the model to answer, including specific instructions for the output\n",
    "question = \"\"\"\n",
    "Which policy category does this document belong to? \n",
    "Answer only with the number of the category, and only with a single category.\n",
    "\"\"\"\n",
    "\n",
    "# now we combine the parts into the system prompt\n",
    "system_message = f\"{context}\\n{labels_definitions}\\n\\n{question}\"\n",
    "\n",
    "print(system_message)"
   ]
  },
  {
   "cell_type": "code",
   "execution_count": null,
   "metadata": {},
   "outputs": [],
   "source": [
    "# ..."
   ]
  },
  {
   "cell_type": "markdown",
   "metadata": {},
   "source": [
    "### Solution"
   ]
  },
  {
   "cell_type": "code",
   "execution_count": null,
   "metadata": {},
   "outputs": [],
   "source": [
    "# set a seed before sampling for repdroducibility\n",
    "seed = 20250228 # I'm using today's date as seed here\n",
    "\n",
    "uk_media_sample_fewshot_sm = test_sample.sample(n = 100, random_state = seed)\n",
    "\n",
    "uk_media_sample_fewshot_sm.reset_index(drop = True, inplace = True) # reset index\n",
    "\n",
    "classification_results_fewshot = [classify_text(text, \n",
    "                                        system_message = system_message, \n",
    "                                        model = model, \n",
    "                                        logprobs = True,\n",
    "                                        top_logprobs=5, # number of alternative logprobs\n",
    "                                        max_tokens = 10) for text in uk_media_sample_fewshot_sm['text']] # we're looping our function over the texts\n",
    "\n",
    "classification_results_fewshot_df = pd.concat([uk_media_sample_fewshot_sm, \n",
    "                                       pd.DataFrame(classification_results_fewshot, \n",
    "                                                    columns = ['result', 'logprobs', 'top_logprobs'])],\n",
    "                                        axis = 1)"
   ]
  },
  {
   "cell_type": "code",
   "execution_count": null,
   "metadata": {},
   "outputs": [],
   "source": [
    "from sklearn.metrics import classification_report\n",
    "\n",
    "print(classification_report(classification_results_fewshot_df[\"majortopic\"], classification_results_fewshot_df[\"result\"]))"
   ]
  },
  {
   "cell_type": "markdown",
   "metadata": {},
   "source": [
    "## Bonus: Other Datasets\n",
    "\n",
    "If you have other datasets you would like to classify, you can try feeding them into the model and evaluate results. Come up with appropriate prompts, and remember that you need some kind of gold standard to properly evaluate results.\n",
    "\n",
    "If you do not have your own data, you can try classifying the CAP data on German party manifestos found under `data/manifesto_1949-2013_website-release_2.5_2_3.csv`. Does the English prompt work well for German data? The GPT models are multilingual, but does it change results if you use a German prompt instead?"
   ]
  }
 ],
 "metadata": {
  "kernelspec": {
   "display_name": "nlp_workshop",
   "language": "python",
   "name": "python3"
  },
  "language_info": {
   "codemirror_mode": {
    "name": "ipython",
    "version": 3
   },
   "file_extension": ".py",
   "mimetype": "text/x-python",
   "name": "python",
   "nbconvert_exporter": "python",
   "pygments_lexer": "ipython3",
   "version": "3.12.8"
  }
 },
 "nbformat": 4,
 "nbformat_minor": 2
}
