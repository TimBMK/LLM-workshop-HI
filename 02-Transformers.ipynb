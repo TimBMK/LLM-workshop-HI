{
 "cells": [
  {
   "cell_type": "markdown",
   "metadata": {},
   "source": [
    "# Transfomer Models\n",
    "\n",
    "This notebook uses the *transformers* library. It is a unified framework for deploying models and developed by [huggingface](https://huggingface.co/). Among other things, it provides functionality to download, train and run language models. You can find a list of models in the [model hub](https://huggingface.co/models). Note that the model hub also contains large language models often not suitable for local deployment. Instead, it has become common to run LLMs remotely via APIs. We will look into frameworks for this later.\n",
    "\n",
    "The *transformers* library is commonly used to work with models deployed locally. While this means that we can often not run Large Language Models on consumer-grade hardware, it is perfectly suitable for smaller models such as BERT, which are already quite powerful and perectly suited for a lot of tasks - especially when fine-tuned. If you run the *transformers* library on a more powerful server (e.g. AWS, Google or Azure), however, it allows you to run very large models. We will look into deploying quantized LLMs, which circumvent some of these limitations, later."
   ]
  },
  {
   "cell_type": "code",
   "execution_count": 1,
   "metadata": {},
   "outputs": [],
   "source": [
    "from transformers import BertTokenizer, BertModel\n",
    "\n",
    "# define the model name here for convenience\n",
    "MODEL_NAME = 'bert-base-uncased'\n",
    "\n",
    "# load model and tokenizer. downloads the model if necessary\n",
    "tokenizer = BertTokenizer.from_pretrained(MODEL_NAME)\n",
    "model = BertModel.from_pretrained(MODEL_NAME)"
   ]
  },
  {
   "cell_type": "markdown",
   "metadata": {},
   "source": [
    "The *tokenizer* translates the words of a given input to the numbers associated with it by the model. This is necessary, as the actual model only deals in numbers - not text input. This is basically the same mechanism as the `index_to_key` method in our static embeddings before. \n",
    "\n",
    "**Important**: tokenizer and model need to match, otherwise the model does not associate the right embeddings with the words!"
   ]
  },
  {
   "cell_type": "markdown",
   "metadata": {},
   "source": [
    "Let's take a look at the model. Notice how it differentiates between the static word embeddings, additional  embeddings (such as the position in the sequence), and the Encoder. The Attention layer in the Encoder here has 12 stacked  (\"BertLayers\").\n"
   ]
  },
  {
   "cell_type": "code",
   "execution_count": 2,
   "metadata": {},
   "outputs": [
    {
     "name": "stdout",
     "output_type": "stream",
     "text": [
      "BertModel(\n",
      "  (embeddings): BertEmbeddings(\n",
      "    (word_embeddings): Embedding(30522, 768, padding_idx=0)\n",
      "    (position_embeddings): Embedding(512, 768)\n",
      "    (token_type_embeddings): Embedding(2, 768)\n",
      "    (LayerNorm): LayerNorm((768,), eps=1e-12, elementwise_affine=True)\n",
      "    (dropout): Dropout(p=0.1, inplace=False)\n",
      "  )\n",
      "  (encoder): BertEncoder(\n",
      "    (layer): ModuleList(\n",
      "      (0-11): 12 x BertLayer(\n",
      "        (attention): BertAttention(\n",
      "          (self): BertSdpaSelfAttention(\n",
      "            (query): Linear(in_features=768, out_features=768, bias=True)\n",
      "            (key): Linear(in_features=768, out_features=768, bias=True)\n",
      "            (value): Linear(in_features=768, out_features=768, bias=True)\n",
      "            (dropout): Dropout(p=0.1, inplace=False)\n",
      "          )\n",
      "          (output): BertSelfOutput(\n",
      "            (dense): Linear(in_features=768, out_features=768, bias=True)\n",
      "            (LayerNorm): LayerNorm((768,), eps=1e-12, elementwise_affine=True)\n",
      "            (dropout): Dropout(p=0.1, inplace=False)\n",
      "          )\n",
      "        )\n",
      "        (intermediate): BertIntermediate(\n",
      "          (dense): Linear(in_features=768, out_features=3072, bias=True)\n",
      "          (intermediate_act_fn): GELUActivation()\n",
      "        )\n",
      "        (output): BertOutput(\n",
      "          (dense): Linear(in_features=3072, out_features=768, bias=True)\n",
      "          (LayerNorm): LayerNorm((768,), eps=1e-12, elementwise_affine=True)\n",
      "          (dropout): Dropout(p=0.1, inplace=False)\n",
      "        )\n",
      "      )\n",
      "    )\n",
      "  )\n",
      "  (pooler): BertPooler(\n",
      "    (dense): Linear(in_features=768, out_features=768, bias=True)\n",
      "    (activation): Tanh()\n",
      "  )\n",
      ")\n"
     ]
    }
   ],
   "source": [
    "print(model)"
   ]
  },
  {
   "cell_type": "markdown",
   "metadata": {},
   "source": [
    "The static word embeddings here have a vocabulary size of 30.522 over 768 embedding dimensions. While it may seem counter-intuitive that BERT has a smaller vocabulary size than the less powerful word2vec model, this can be easily explained: In BERT (and similar models), words are broken town into subwords before embedding. This makes the embedding more flexible and performant, and gives it a better chance at recognizing out-of-vocabulary words!\n",
    "\n",
    "For example, In Word2Vec, the words \"running\", \"runner\", and \"runs\" would each be separate tokens.\n",
    "In BERT, these words might be tokenized into subwords like \"run\", \"##ning\", \"##ner\", and \"##s\", where \"##\" indicates a subword that is part of a larger word."
   ]
  },
  {
   "cell_type": "markdown",
   "metadata": {},
   "source": [
    "### Contextualized Embeddings\n",
    "\n",
    "Let's see how the BERT model has different embeddings for the same word (\"bank\") in different contexts"
   ]
  },
  {
   "cell_type": "code",
   "execution_count": 3,
   "metadata": {},
   "outputs": [
    {
     "data": {
      "text/plain": [
       "{'input_ids': tensor([[  101,  1045,  2066,  2300,  1010,  2061,  1045,  2788,  3328,  2011,\n",
       "          1996,  2314,  2924,  1012,   102],\n",
       "        [  101,  1045,  2031,  2000,  2175,  2011,  1996,  2924,  1998, 10632,\n",
       "          2070,  2769,  1012,   102,     0]]), 'token_type_ids': tensor([[0, 0, 0, 0, 0, 0, 0, 0, 0, 0, 0, 0, 0, 0, 0],\n",
       "        [0, 0, 0, 0, 0, 0, 0, 0, 0, 0, 0, 0, 0, 0, 0]]), 'attention_mask': tensor([[1, 1, 1, 1, 1, 1, 1, 1, 1, 1, 1, 1, 1, 1, 1],\n",
       "        [1, 1, 1, 1, 1, 1, 1, 1, 1, 1, 1, 1, 1, 1, 0]])}"
      ]
     },
     "execution_count": 3,
     "metadata": {},
     "output_type": "execute_result"
    }
   ],
   "source": [
    "sentences = [\"I like water, so I usually walk by the river bank.\",\n",
    "             \"I have to go by the bank and withdraw some money.\"\n",
    "]\n",
    "\n",
    "# we need to tokenzie the sentences before feeding them to the \n",
    "\n",
    "input = tokenizer(sentences, return_tensors=\"pt\", padding=True, truncation=True)\n",
    "\n",
    "input"
   ]
  },
  {
   "cell_type": "markdown",
   "metadata": {},
   "source": [
    "*Note*: A \"tensor\" object is something like a multidimensional matrix. While this is not technically correct, it is mostly used this way in data science. If you want to find out what a tensor actually is, I recommend reading up on linear algebra, or ask somebody knowledgable, like a physicist or mathematician. But be aware that physicists and mathematicians might disagree on the nature of a tensor...."
   ]
  },
  {
   "cell_type": "markdown",
   "metadata": {},
   "source": [
    "To get the words in the sequence, we need to convert the IDs back to tokens. Note how the tokenizer added special tokens in the process:"
   ]
  },
  {
   "cell_type": "code",
   "execution_count": 4,
   "metadata": {},
   "outputs": [
    {
     "data": {
      "text/plain": [
       "['[CLS]',\n",
       " 'i',\n",
       " 'like',\n",
       " 'water',\n",
       " ',',\n",
       " 'so',\n",
       " 'i',\n",
       " 'usually',\n",
       " 'walk',\n",
       " 'by',\n",
       " 'the',\n",
       " 'river',\n",
       " 'bank',\n",
       " '.',\n",
       " '[SEP]']"
      ]
     },
     "execution_count": 4,
     "metadata": {},
     "output_type": "execute_result"
    }
   ],
   "source": [
    "tokenizer.convert_ids_to_tokens(input['input_ids'][0])"
   ]
  },
  {
   "cell_type": "code",
   "execution_count": 5,
   "metadata": {},
   "outputs": [
    {
     "data": {
      "text/plain": [
       "['[CLS]',\n",
       " 'i',\n",
       " 'have',\n",
       " 'to',\n",
       " 'go',\n",
       " 'by',\n",
       " 'the',\n",
       " 'bank',\n",
       " 'and',\n",
       " 'withdraw',\n",
       " 'some',\n",
       " 'money',\n",
       " '.',\n",
       " '[SEP]',\n",
       " '[PAD]']"
      ]
     },
     "execution_count": 5,
     "metadata": {},
     "output_type": "execute_result"
    }
   ],
   "source": [
    "tokenizer.convert_ids_to_tokens(input['input_ids'][1])"
   ]
  },
  {
   "cell_type": "markdown",
   "metadata": {},
   "source": [
    "Note how the tokenizer adds special tokens:\n",
    "- **[CLS]** (Classification): used as an aggregate representation of the entire sequence. Usually used in classification tasks\n",
    "- **[SEP]** (Seperator): Seperates parts of the input, here: the two sentences. Indicates the end of a sequence\n",
    "- **[PAD]** (Padding): Added to pad a sequence to a fixed length. Used to bring all input sequences to the same length for technical reasons. Note how the shorter of the two sentences get a [PAD]\n"
   ]
  },
  {
   "cell_type": "markdown",
   "metadata": {},
   "source": [
    "In order to get the actual embeddings, we have to run the input into the model:"
   ]
  },
  {
   "cell_type": "code",
   "execution_count": 6,
   "metadata": {},
   "outputs": [
    {
     "data": {
      "text/plain": [
       "2"
      ]
     },
     "execution_count": 6,
     "metadata": {},
     "output_type": "execute_result"
    }
   ],
   "source": [
    "import torch\n",
    "\n",
    "with torch.no_grad(): # torch.no_grad() drops the gradient tracking we'd only need when fine-tuning\n",
    "    embeddings = model(**input) # this returns the embeddings for each input sequence\n",
    "\n",
    "len(embeddings)"
   ]
  },
  {
   "cell_type": "markdown",
   "metadata": {},
   "source": [
    "The embeddings consist of two outputs: \n",
    "\n",
    "1) The last **hidden states** for each of the input sequences (in our case each of the two sentences), which are the embeddings after passing all the attention layers."
   ]
  },
  {
   "cell_type": "code",
   "execution_count": 7,
   "metadata": {},
   "outputs": [
    {
     "data": {
      "text/plain": [
       "2"
      ]
     },
     "execution_count": 7,
     "metadata": {},
     "output_type": "execute_result"
    }
   ],
   "source": [
    "len(embeddings.last_hidden_state)"
   ]
  },
  {
   "cell_type": "markdown",
   "metadata": {},
   "source": [
    "To acces the first sentence's embeddings:"
   ]
  },
  {
   "cell_type": "code",
   "execution_count": 8,
   "metadata": {},
   "outputs": [
    {
     "data": {
      "text/plain": [
       "tensor([[ 0.0853, -0.0994, -0.3272,  ..., -0.1593,  0.2339,  0.5785],\n",
       "        [ 0.4413, -0.0587, -0.3399,  ..., -0.1189,  0.7490,  0.2191],\n",
       "        [ 0.0994,  0.6217,  0.7028,  ...,  0.3706,  0.1747,  0.4839],\n",
       "        ...,\n",
       "        [ 0.3449, -0.3056,  0.4267,  ..., -0.2619, -0.5350,  0.3470],\n",
       "        [ 0.5137, -0.0205, -0.3344,  ...,  0.4256, -0.3418, -0.4232],\n",
       "        [-0.2223, -0.2011, -0.1051,  ...,  0.3117,  0.3677, -0.3390]])"
      ]
     },
     "execution_count": 8,
     "metadata": {},
     "output_type": "execute_result"
    }
   ],
   "source": [
    "embeddings.last_hidden_state[0] # this is identical to embeddings[0][0]"
   ]
  },
  {
   "cell_type": "markdown",
   "metadata": {},
   "source": [
    "2. The so-called **pooler output**, which is a combined (pooled) representation of the entire input, and usually only used for tasks such as classification"
   ]
  },
  {
   "cell_type": "code",
   "execution_count": 9,
   "metadata": {},
   "outputs": [
    {
     "data": {
      "text/plain": [
       "tensor([[-0.8573, -0.5435, -0.9416,  ..., -0.8946, -0.7382,  0.9487],\n",
       "        [-0.7943, -0.3355, -0.7300,  ..., -0.3702, -0.6826,  0.9381]])"
      ]
     },
     "execution_count": 9,
     "metadata": {},
     "output_type": "execute_result"
    }
   ],
   "source": [
    "embeddings.pooler_output"
   ]
  },
  {
   "cell_type": "markdown",
   "metadata": {},
   "source": [
    "When we plot the embeddings for each of the input sentences, we can see that they are indeed quite different for each of the sentences. Notice the different axis ranges as well."
   ]
  },
  {
   "cell_type": "code",
   "execution_count": 10,
   "metadata": {},
   "outputs": [
    {
     "data": {
      "image/png": "[encoded data removed]",
      "text/plain": [
       "<Figure size 640x480 with 1 Axes>"
      ]
     },
     "metadata": {},
     "output_type": "display_data"
    },
    {
     "data": {
      "image/png": "[encoded data removed]",
      "text/plain": [
       "<Figure size 640x480 with 1 Axes>"
      ]
     },
     "metadata": {},
     "output_type": "display_data"
    }
   ],
   "source": [
    "import matplotlib.pyplot as plt\n",
    "from sklearn.decomposition import PCA\n",
    "\n",
    "for i, emb in enumerate(embeddings.last_hidden_state):\n",
    "    pca = PCA(n_components=2)\n",
    "    embeddings_2d = pca.fit_transform(emb)\n",
    "\n",
    "    plt.scatter(embeddings_2d[:,0], embeddings_2d[:,1])\n",
    "\n",
    "    labels = tokenizer.convert_ids_to_tokens(input['input_ids'][i])\n",
    "    for j, txt in enumerate(labels):\n",
    "        color = \"red\" if \"bank\" in txt else \"black\"\n",
    "        plt.annotate(txt, (embeddings_2d[j, 0], embeddings_2d[j, 1]), color = color)\n",
    "\n",
    "    plt.show()"
   ]
  },
  {
   "cell_type": "markdown",
   "metadata": {},
   "source": [
    "## Bias\n",
    "\n",
    "Just like with our static embeddings, our BERT model can have inherent bias due to the data it was trained on. However, as the embeddings are dependant on the context of a word, we cannnot simply check the vector similarity. Instead, we can mask a word in an input sequence and ask the model to return the most likely completion.\n",
    "\n",
    "Note that this is not a systematic evaluation of the model' biases, but it gives some idea how such an evaluation may be conducted."
   ]
  },
  {
   "cell_type": "code",
   "execution_count": 11,
   "metadata": {},
   "outputs": [
    {
     "name": "stderr",
     "output_type": "stream",
     "text": [
      "BertForMaskedLM has generative capabilities, as `prepare_inputs_for_generation` is explicitly overwritten. However, it doesn't directly inherit from `GenerationMixin`. From 👉v4.50👈 onwards, `PreTrainedModel` will NOT inherit from `GenerationMixin`, and this model will lose the ability to call `generate` and other related functions.\n",
      "  - If you're using `trust_remote_code=True`, you can get rid of this warning by loading the model with an auto class. See https://huggingface.co/docs/transformers/en/model_doc/auto#auto-classes\n",
      "  - If you are the owner of the model architecture code, please modify your model class such that it inherits from `GenerationMixin` (after `PreTrainedModel`, otherwise you'll get an exception).\n",
      "  - If you are not the owner of the model architecture class, please contact the model code owner to update it.\n",
      "Some weights of the model checkpoint at bert-base-uncased were not used when initializing BertForMaskedLM: ['bert.pooler.dense.bias', 'bert.pooler.dense.weight', 'cls.seq_relationship.bias', 'cls.seq_relationship.weight']\n",
      "- This IS expected if you are initializing BertForMaskedLM from the checkpoint of a model trained on another task or with another architecture (e.g. initializing a BertForSequenceClassification model from a BertForPreTraining model).\n",
      "- This IS NOT expected if you are initializing BertForMaskedLM from the checkpoint of a model that you expect to be exactly identical (initializing a BertForSequenceClassification model from a BertForSequenceClassification model).\n"
     ]
    }
   ],
   "source": [
    "# we need a specific model architecture for masked langauge modeling. we can re-use the tokenizer. \n",
    "# Note that we still use the same BERT model\n",
    "from transformers import BertForMaskedLM\n",
    "\n",
    "mask_model = BertForMaskedLM.from_pretrained(MODEL_NAME)\n"
   ]
  },
  {
   "cell_type": "code",
   "execution_count": 12,
   "metadata": {},
   "outputs": [],
   "source": [
    "# Hauke Licht wrote a handy function to get the top-k words for a masked token:\n",
    "\n",
    "import pandas as pd\n",
    "\n",
    "def get_topk_words(text):\n",
    "    \n",
    "    # Tokenize the input text\n",
    "    inputs = tokenizer(text, return_tensors=\"pt\")\n",
    "\n",
    "    # Get the index of the masked token\n",
    "    masked_index = (inputs['input_ids'] == tokenizer.mask_token_id).nonzero(as_tuple=True)[1].item()\n",
    "\n",
    "    # Predict the masked token\n",
    "    with torch.no_grad():\n",
    "        outputs = mask_model(**inputs)\n",
    "        predictions = outputs.logits\n",
    "\n",
    "    # Get the log probabilities of the 10 best fitting words\n",
    "    log_probs = torch.log_softmax(predictions[0, masked_index], dim=-1)\n",
    "    top_10_log_probs, top_10_indices = torch.topk(log_probs, 10)\n",
    "\n",
    "    # Convert indices to tokens\n",
    "    top_10_tokens = tokenizer.convert_ids_to_tokens(top_10_indices.tolist())\n",
    "\n",
    "    # Print the results\n",
    "    return pd.DataFrame({'token': top_10_tokens, 'log_prob': top_10_log_probs})"
   ]
  },
  {
   "cell_type": "code",
   "execution_count": 13,
   "metadata": {},
   "outputs": [
    {
     "data": {
      "text/html": [
       "<div>\n",
       "<style scoped>\n",
       "    .dataframe tbody tr th:only-of-type {\n",
       "        vertical-align: middle;\n",
       "    }\n",
       "\n",
       "    .dataframe tbody tr th {\n",
       "        vertical-align: top;\n",
       "    }\n",
       "\n",
       "    .dataframe thead th {\n",
       "        text-align: right;\n",
       "    }\n",
       "</style>\n",
       "<table border=\"1\" class=\"dataframe\">\n",
       "  <thead>\n",
       "    <tr style=\"text-align: right;\">\n",
       "      <th></th>\n",
       "      <th>token</th>\n",
       "      <th>log_prob</th>\n",
       "    </tr>\n",
       "  </thead>\n",
       "  <tbody>\n",
       "    <tr>\n",
       "      <th>0</th>\n",
       "      <td>good</td>\n",
       "      <td>-1.800818</td>\n",
       "    </tr>\n",
       "    <tr>\n",
       "      <th>1</th>\n",
       "      <td>nice</td>\n",
       "      <td>-3.128358</td>\n",
       "    </tr>\n",
       "    <tr>\n",
       "      <th>2</th>\n",
       "      <td>cute</td>\n",
       "      <td>-3.288083</td>\n",
       "    </tr>\n",
       "    <tr>\n",
       "      <th>3</th>\n",
       "      <td>beautiful</td>\n",
       "      <td>-3.504081</td>\n",
       "    </tr>\n",
       "    <tr>\n",
       "      <th>4</th>\n",
       "      <td>happy</td>\n",
       "      <td>-3.606331</td>\n",
       "    </tr>\n",
       "    <tr>\n",
       "      <th>5</th>\n",
       "      <td>close</td>\n",
       "      <td>-3.708217</td>\n",
       "    </tr>\n",
       "    <tr>\n",
       "      <th>6</th>\n",
       "      <td>hot</td>\n",
       "      <td>-3.829846</td>\n",
       "    </tr>\n",
       "    <tr>\n",
       "      <th>7</th>\n",
       "      <td>strong</td>\n",
       "      <td>-3.862879</td>\n",
       "    </tr>\n",
       "    <tr>\n",
       "      <th>8</th>\n",
       "      <td>excited</td>\n",
       "      <td>-4.041302</td>\n",
       "    </tr>\n",
       "    <tr>\n",
       "      <th>9</th>\n",
       "      <td>scared</td>\n",
       "      <td>-4.181984</td>\n",
       "    </tr>\n",
       "  </tbody>\n",
       "</table>\n",
       "</div>"
      ],
      "text/plain": [
       "       token  log_prob\n",
       "0       good -1.800818\n",
       "1       nice -3.128358\n",
       "2       cute -3.288083\n",
       "3  beautiful -3.504081\n",
       "4      happy -3.606331\n",
       "5      close -3.708217\n",
       "6        hot -3.829846\n",
       "7     strong -3.862879\n",
       "8    excited -4.041302\n",
       "9     scared -4.181984"
      ]
     },
     "execution_count": 13,
     "metadata": {},
     "output_type": "execute_result"
    }
   ],
   "source": [
    "get_topk_words(\"He was really [MASK].\")"
   ]
  },
  {
   "cell_type": "code",
   "execution_count": 14,
   "metadata": {},
   "outputs": [
    {
     "data": {
      "text/html": [
       "<div>\n",
       "<style scoped>\n",
       "    .dataframe tbody tr th:only-of-type {\n",
       "        vertical-align: middle;\n",
       "    }\n",
       "\n",
       "    .dataframe tbody tr th {\n",
       "        vertical-align: top;\n",
       "    }\n",
       "\n",
       "    .dataframe thead th {\n",
       "        text-align: right;\n",
       "    }\n",
       "</style>\n",
       "<table border=\"1\" class=\"dataframe\">\n",
       "  <thead>\n",
       "    <tr style=\"text-align: right;\">\n",
       "      <th></th>\n",
       "      <th>token</th>\n",
       "      <th>log_prob</th>\n",
       "    </tr>\n",
       "  </thead>\n",
       "  <tbody>\n",
       "    <tr>\n",
       "      <th>0</th>\n",
       "      <td>good</td>\n",
       "      <td>-2.334454</td>\n",
       "    </tr>\n",
       "    <tr>\n",
       "      <th>1</th>\n",
       "      <td>beautiful</td>\n",
       "      <td>-2.970024</td>\n",
       "    </tr>\n",
       "    <tr>\n",
       "      <th>2</th>\n",
       "      <td>scared</td>\n",
       "      <td>-3.302579</td>\n",
       "    </tr>\n",
       "    <tr>\n",
       "      <th>3</th>\n",
       "      <td>excited</td>\n",
       "      <td>-3.344266</td>\n",
       "    </tr>\n",
       "    <tr>\n",
       "      <th>4</th>\n",
       "      <td>happy</td>\n",
       "      <td>-3.374403</td>\n",
       "    </tr>\n",
       "    <tr>\n",
       "      <th>5</th>\n",
       "      <td>pretty</td>\n",
       "      <td>-3.531833</td>\n",
       "    </tr>\n",
       "    <tr>\n",
       "      <th>6</th>\n",
       "      <td>upset</td>\n",
       "      <td>-3.651014</td>\n",
       "    </tr>\n",
       "    <tr>\n",
       "      <th>7</th>\n",
       "      <td>nice</td>\n",
       "      <td>-3.709944</td>\n",
       "    </tr>\n",
       "    <tr>\n",
       "      <th>8</th>\n",
       "      <td>cute</td>\n",
       "      <td>-3.802214</td>\n",
       "    </tr>\n",
       "    <tr>\n",
       "      <th>9</th>\n",
       "      <td>tired</td>\n",
       "      <td>-3.873873</td>\n",
       "    </tr>\n",
       "  </tbody>\n",
       "</table>\n",
       "</div>"
      ],
      "text/plain": [
       "       token  log_prob\n",
       "0       good -2.334454\n",
       "1  beautiful -2.970024\n",
       "2     scared -3.302579\n",
       "3    excited -3.344266\n",
       "4      happy -3.374403\n",
       "5     pretty -3.531833\n",
       "6      upset -3.651014\n",
       "7       nice -3.709944\n",
       "8       cute -3.802214\n",
       "9      tired -3.873873"
      ]
     },
     "execution_count": 14,
     "metadata": {},
     "output_type": "execute_result"
    }
   ],
   "source": [
    "get_topk_words(\"She was really [MASK].\")"
   ]
  },
  {
   "cell_type": "markdown",
   "metadata": {},
   "source": [
    "## Classification\n",
    "\n",
    "*Important note*: **The strength of the BERT model is not that it is great at any task - as LLMs try to be - but that it is relatively easy to fine-tune it to a specfic task.**"
   ]
  },
  {
   "cell_type": "markdown",
   "metadata": {},
   "source": [
    "A few pointers on classification tasks:\n",
    "\n",
    "1) **_Pick the right model for the task._** This means:\n",
    "\n",
    "    a) **Language**\n",
    "    Make sure the model \"speaks\" your language - that is, it was trained on sufficient data for the language you are looking to classify. A lot of smaller models (such as BERT models) are often only trained on English texts. So if you want to, for example, analyze German text data, pick a model that was trained or fine-tuned accordingly. While larger models are often multilingual (that is, trained with data from multiple languages), a smaller model specifically tuned for your input language might still perform better. This is especially  important for less-spoken languages which are more likely to be underrepresented in multilingual model. \n",
    "    \n",
    "    If you are unsure if the model is suitable for your input language, running a couple simple language understanding tasks such as predicting masked-out words can help to give a feeling for its capabilities.\n",
    "\n",
    "    b) **Task**\n",
    "    Depending on the complexity of your task, consider using a model specifically tuned for it. While tasks such as sentiment analysis are relatively common, other tasks - say, predicting policy categories - are less straight-forward and may require a more specialized model. Even for tasks such as sentiment analysis, you will need a model that has knowledge of the categories your are trying to predict. This is the case for most large language models, but for smaller models such as BERT, you will one that is tuned to your task. We will look into fine-tuning later, but you should know that *fine-tuning for a specific task often reduces performance in other tasks.*\n",
    "\n",
    "    You can find a lot of models for different languages and almost any task at the [Hugging Face model hub](https://huggingface.co/models). \n",
    "\n",
    "2) **_Evaluate your model output_**\n",
    "    *Looking at the first few results and deciding that it's good enough is not a proper evaluation*, even though it is often passed as such. In order to gauge if your model is capable of doing your task, you will most likely need to hand-code some of your samples. There are other approaches, such as using a more powerful LLM to judge the model output, but it is highly debatable if this is reliable. *Especially in social science research, you usually want to replicate the expert's - your! - judgement when classifying data!* \n",
    "    \n",
    "    The number of samples you need to code usually depends on the size of your data set and the number of categories you wish to encode. Also consider that human judgement may not be perfect, so you may want to employ multiple coders and evaluate the inter-coder reliability (more on this [here](https://doi.org/10.1080/10584609.2020.1723752)). *Evaluation is especially important when using the results in further analysis steps.* The r² of your regression model is not worth much if the variable labels are only 60% accurate, now is it?\n"
   ]
  },
  {
   "cell_type": "markdown",
   "metadata": {},
   "source": [
    "### Sentiment\n",
    "\n",
    "One of the most common tasks in NLP is sentiment classification. It predicts the sentiment of an input sequence and language models such as BERT are often used for it. However, our out-of-the-box BERT model will actually be quite bad at this, as it never learned what the sentiment labels (e.g. \"positive\" and \"negative\") mean. So we'll load up another model better suited for the task."
   ]
  },
  {
   "cell_type": "code",
   "execution_count": 18,
   "metadata": {},
   "outputs": [],
   "source": [
    "texts = [\n",
    "    \"I love this product! It's amazing.\",\n",
    "    \"This is the worst experience I've ever had.\",\n",
    "    \"This thing is quite alright, but really not the best thing ever.\"\n",
    "]"
   ]
  },
  {
   "cell_type": "markdown",
   "metadata": {},
   "source": [
    "For common tasks such as classification, the transformer library comes with a handy shorthand to run the model for your tasks. They are called **pipelines** and take care of almost all the code usually required to run a task and get the results - including tokenization. Very handy!\n",
    "\n",
    "We can provide a model name to the pipeline. If the task the model was trained for is explicitly stated in the model, the pipeline will know what to do:"
   ]
  },
  {
   "cell_type": "code",
   "execution_count": null,
   "metadata": {},
   "outputs": [
    {
     "data": {
      "application/vnd.jupyter.widget-view+json": {
       "model_id": "467ca0fd8ddd42b6aa8b210f1e8d4f73",
       "version_major": 2,
       "version_minor": 0
      },
      "text/plain": [
       "tokenizer_config.json:   0%|          | 0.00/48.0 [00:00<?, ?B/s]"
      ]
     },
     "metadata": {},
     "output_type": "display_data"
    },
    {
     "name": "stderr",
     "output_type": "stream",
     "text": [
      "c:\\ProgramData\\miniconda3\\envs\\nlp_workshop\\Lib\\site-packages\\huggingface_hub\\file_download.py:140: UserWarning: `huggingface_hub` cache-system uses symlinks by default to efficiently store duplicated files but your machine does not support them in C:\\Users\\Tim\\.cache\\huggingface\\hub\\models--distilbert-base-uncased-finetuned-sst-2-english. Caching files will still work but in a degraded version that might require more space on your disk. This warning can be disabled by setting the `HF_HUB_DISABLE_SYMLINKS_WARNING` environment variable. For more details, see https://huggingface.co/docs/huggingface_hub/how-to-cache#limitations.\n",
      "To support symlinks on Windows, you either need to activate Developer Mode or to run Python as an administrator. In order to activate developer mode, see this article: https://docs.microsoft.com/en-us/windows/apps/get-started/enable-your-device-for-development\n",
      "  warnings.warn(message)\n"
     ]
    },
    {
     "data": {
      "application/vnd.jupyter.widget-view+json": {
       "model_id": "e7e43e27ca6e4ce9a8f59fbce106e2fd",
       "version_major": 2,
       "version_minor": 0
      },
      "text/plain": [
       "vocab.txt:   0%|          | 0.00/232k [00:00<?, ?B/s]"
      ]
     },
     "metadata": {},
     "output_type": "display_data"
    },
    {
     "name": "stderr",
     "output_type": "stream",
     "text": [
      "Device set to use cpu\n"
     ]
    },
    {
     "data": {
      "text/plain": [
       "[{'label': 'POSITIVE', 'score': 0.9998866319656372},\n",
       " {'label': 'NEGATIVE', 'score': 0.9997679591178894},\n",
       " {'label': 'NEGATIVE', 'score': 0.9982239603996277}]"
      ]
     },
     "execution_count": 19,
     "metadata": {},
     "output_type": "execute_result"
    }
   ],
   "source": [
    "from transformers import pipeline\n",
    "\n",
    "pipe = pipeline(model=\"distilbert-base-uncased-finetuned-sst-2-english\") # this automatically loads the mode\n",
    "\n",
    "pipe(texts)"
   ]
  },
  {
   "cell_type": "markdown",
   "metadata": {},
   "source": [
    "Note that if you only define a task, e.g. sentiment analysis, the *pipeline* function will use a default model for the task.\n",
    "\n",
    "**Important:** The default model may not always be what you want, especially if your input is not in English (note how it defaults to an English model!). So it's always better to go to the [model hub](https://huggingface.co/models) and look for a suitable model there."
   ]
  },
  {
   "cell_type": "code",
   "execution_count": 21,
   "metadata": {},
   "outputs": [
    {
     "name": "stderr",
     "output_type": "stream",
     "text": [
      "No model was supplied, defaulted to distilbert/distilbert-base-uncased-finetuned-sst-2-english and revision 714eb0f (https://huggingface.co/distilbert/distilbert-base-uncased-finetuned-sst-2-english).\n",
      "Using a pipeline without specifying a model name and revision in production is not recommended.\n",
      "Device set to use cpu\n"
     ]
    },
    {
     "data": {
      "text/plain": [
       "[{'label': 'POSITIVE', 'score': 0.9998866319656372},\n",
       " {'label': 'NEGATIVE', 'score': 0.9997679591178894},\n",
       " {'label': 'NEGATIVE', 'score': 0.9982239603996277}]"
      ]
     },
     "execution_count": 21,
     "metadata": {},
     "output_type": "execute_result"
    }
   ],
   "source": [
    "def_pipe = pipeline(\"sentiment-analysis\")\n",
    "\n",
    "def_pipe(texts)"
   ]
  },
  {
   "cell_type": "markdown",
   "metadata": {},
   "source": [
    "If the model does not explicitly define a task it was trained for, you may have to both specify the task and the model. For more information on pipelines, see: https://huggingface.co/docs/transformers/v4.17.0/en/main_classes/pipelines\n",
    "\n",
    "Note that there are also pipelines readily available for data types other than text, such as images or audio."
   ]
  },
  {
   "cell_type": "markdown",
   "metadata": {},
   "source": [
    "If you want to run the steps by yourself, rather than using the pipeline, you can do so with the following code:"
   ]
  },
  {
   "cell_type": "code",
   "execution_count": 82,
   "metadata": {},
   "outputs": [
    {
     "name": "stdout",
     "output_type": "stream",
     "text": [
      "{'NEGATIVE': 0.00011340079072397202, 'POSITIVE': 0.9998866319656372}\n",
      "{'NEGATIVE': 0.9997679591178894, 'POSITIVE': 0.00023206845798995346}\n",
      "{'NEGATIVE': 0.9982239603996277, 'POSITIVE': 0.0017759873298928142}\n"
     ]
    }
   ],
   "source": [
    "from transformers import DistilBertTokenizer, DistilBertForSequenceClassification\n",
    "\n",
    "# we need a different tokenizer for the new model\n",
    "sentiment_tokenizer = DistilBertTokenizer.from_pretrained(\"distilbert-base-uncased-finetuned-sst-2-english\")\n",
    "\n",
    "# and load the model\n",
    "sentiment_model = DistilBertForSequenceClassification.from_pretrained(\"distilbert-base-uncased-finetuned-sst-2-english\")\n",
    "\n",
    "inputs = sentiment_tokenizer(texts, return_tensors=\"pt\", padding=True, truncation=True)\n",
    "\n",
    "with torch.no_grad():\n",
    "    logits = sentiment_model(**inputs).logits\n",
    "\n",
    "for i in range(logits.size(0)):\n",
    "    probs = torch.softmax(logits[i], dim=0).tolist()\n",
    "    probs = {sentiment_model.config.id2label[index]: probability for index, probability in enumerate(probs)}\n",
    "    print(probs)\n"
   ]
  },
  {
   "cell_type": "markdown",
   "metadata": {},
   "source": [
    "### Multi-class classification\n",
    "\n",
    "A more complex task is the classsification of texts into policy categories. A long-running project focused on this is the [Comparative Agendas Project (CAP)](https://www.comparativeagendas.net/). They have been coding different types of text into an elaborate coding scheme, with subprojects for many different countries running for decades. However, so far, they have been doing this qualitatively, with a large number of well-trained coders.\n",
    "\n",
    "The [poltextLAB](https://poltextlab.com/) has started to use the CAP's extensive collection of hand-coded policy and media texts to train classification models. They provide a vast collection of models for different tasks and languages. Apart from the CAP classification scheme, they also provide models to replicate the [Manifesto Project](https://manifesto-project.wzb.eu/) coding scheme for comparatively analyzing party manifestos, sentiment analysis and emotion analysis. You can find all their models on the model hub: https://huggingface.co/poltextlab\n",
    "\n",
    "*Note:* While the model use is free, you will need a Hugging Face account and provide the authors with some personal information in order to comply with their fair use guidelines.\n",
    "\n",
    "**Terminology:** *Multi-class classification* describes the task of sorting an object (here a text) into one of multiple classes (in our case, CAP policy categories). It is assumed that an object can only correctly be sorted into *one* class, not multiple classes. This replicates the CAP coding, as they also only assign one code to a given document. While it is debatable if this is realistic (and a text cannot actually touch in different policy subjects), the task of sorting an object into multiple categories is referred to as *multi-label classification*. It is, however, somewhat more complex and will not be covered here."
   ]
  },
  {
   "cell_type": "code",
   "execution_count": 1,
   "metadata": {},
   "outputs": [
    {
     "data": {
      "text/plain": [
       "True"
      ]
     },
     "execution_count": 1,
     "metadata": {},
     "output_type": "execute_result"
    }
   ],
   "source": [
    "# in order to load the Hugging Face access token, we need to load the .env file\n",
    "\n",
    "from dotenv import load_dotenv\n",
    "\n",
    "load_dotenv()"
   ]
  },
  {
   "cell_type": "markdown",
   "metadata": {},
   "source": [
    "When processing large data sets, it can be beneficial to utilize your GPU (if available). The CUDA framework is most common and well-implemented, but it requires a NVIDIA GPU. For Mac devices, there is the MPS backend. If neither is available, you can always fall back to using your CPU. The following code automates this setup. By setting the correct 'device'-argument which you can then pass onto your `pipeline` function.\n",
    "\n",
    "*Note*: Utilizing CUDA requires a specific pytorch installation that comes shipped with CUDA. You can find more info on this here: https://pytorch.org/get-started/locally/. The terminal command `nvidia-smi` returns info on your GPU and, more importantly, the CUDA version you need to install with pytorch. You do *not* need to install CUDA yourself. Note that the CUDA-loaded pytorch installation can be rather large, 2.5gb in my case."
   ]
  },
  {
   "cell_type": "code",
   "execution_count": 2,
   "metadata": {},
   "outputs": [
    {
     "name": "stdout",
     "output_type": "stream",
     "text": [
      "Cuda Found. Running on NVIDIA GeForce GTX 1060 6GB\n"
     ]
    }
   ],
   "source": [
    "# device setup\n",
    "\n",
    "import torch\n",
    "\n",
    "if torch.cuda.is_available(): # CUDA is the preferred device\n",
    "    device = 'cuda:0'\n",
    "    print(f'Cuda Found. Running on {torch.cuda.get_device_name(0)}')\n",
    "else: \n",
    "    if torch.backends.mps.is_available(): # MPS backend for Mac\n",
    "        device = 'mps'\n",
    "        print('MPS Found. Running on MPS')\n",
    "    else: \n",
    "        device = 'cpu' # fallback to CPU computing\n",
    "        print('No GPU Found. Running on CPU')"
   ]
  },
  {
   "cell_type": "markdown",
   "metadata": {},
   "source": [
    "**Important**: The labels put out by the model are actually incorrect - they are off by one. Unfortunately, this is very badly documented at the model page. However, this becomes clear once you realize that the labels start at 0, but there is no category 0 in the CAP (999 is the \"other\" category).  Instead, the model classifies macroeconomic topics as LABEL_0, which are CAP category one. Also note that there is no category 11 (nor 22) in the CAP. See: https://www.comparativeagendas.net/pages/master-codebook. \n",
    "\n",
    "Therefore, the labels are off by 1, 2 (after 10) or 3 (for LABEL_20) and need to be corrected. We could do this on our labeled data after running the model. However, we can also edit the model's label-id-translation directly, so we do not have to replace the labels everytime we run the model. Note that the \"LABEL_\" output is only a label added after the model returns a number between 0 and 22 as classification. Therefore, we have to replace the labels assigned to these IDs:"
   ]
  },
  {
   "cell_type": "code",
   "execution_count": 55,
   "metadata": {},
   "outputs": [
    {
     "data": {
      "text/plain": [
       "{0: '1',\n",
       " 1: '2',\n",
       " 2: '3',\n",
       " 3: '4',\n",
       " 4: '5',\n",
       " 5: '6',\n",
       " 6: '7',\n",
       " 7: '8',\n",
       " 8: '9',\n",
       " 9: '10',\n",
       " 10: '12',\n",
       " 11: '13',\n",
       " 12: '14',\n",
       " 13: '15',\n",
       " 14: '16',\n",
       " 15: '17',\n",
       " 16: '18',\n",
       " 17: '19',\n",
       " 18: '20',\n",
       " 19: '21',\n",
       " 20: '23'}"
      ]
     },
     "execution_count": 55,
     "metadata": {},
     "output_type": "execute_result"
    }
   ],
   "source": [
    "from transformers import AutoModelForSequenceClassification\n",
    "\n",
    "CAP_NUM_DICT = {0: '1', 1: '2', 2: '3', 3: '4', 4: '5', 5: '6', # translates Model Output to CAP Major Policy Codes\n",
    "6: '7', 7: '8', 8: '9', 9: '10', 10: '12', 11: '13', 12: '14', \n",
    "13: '15', 14: '16', 15: '17', 16: '18', 17: '19', 18: '20', 19: \n",
    "'21', 20: '23',}\n",
    "\n",
    "# load the model\n",
    "cap_model = AutoModelForSequenceClassification.from_pretrained(\"poltextlab/xlm-roberta-large-english-media-cap-v3\")\n",
    "\n",
    "cap_model.config.id2label = CAP_NUM_DICT # replace the labels with the CAP Major Policy Codes\n",
    "cap_model.config.label2id = {value: key for key, value in CAP_NUM_DICT.items()} # same for the label2id (reversing the dictionary)\n",
    "\n",
    "cap_model.config.id2label # inspect the result"
   ]
  },
  {
   "cell_type": "markdown",
   "metadata": {},
   "source": [
    "Now we can pass our adjusted model to the `pipeline` function:"
   ]
  },
  {
   "cell_type": "code",
   "execution_count": 56,
   "metadata": {},
   "outputs": [
    {
     "name": "stderr",
     "output_type": "stream",
     "text": [
      "Device set to use cuda:0\n"
     ]
    }
   ],
   "source": [
    "from transformers import AutoTokenizer, pipeline\n",
    "import os\n",
    "\n",
    "# we need to set the tokenizer, in this case the roberta model the classifier is based on\n",
    "tokenizer = AutoTokenizer.from_pretrained(\"xlm-roberta-large\") \n",
    "\n",
    "classifier = pipeline(task='text-classification', # make classifier pipeline\n",
    "                      device=device, # this sets the device we prepared earlier\n",
    "                      model=cap_model, \n",
    "                      tokenizer = tokenizer, \n",
    "                      token=os.environ.get(\"HF_TOKEN\")) "
   ]
  },
  {
   "cell_type": "markdown",
   "metadata": {},
   "source": [
    "We will classify some data I've downloaded from https://www.comparativeagendas.net/datasets_codebooks\n",
    "\n",
    "We're using a data set on Times of London headlines from 1960 to 2008. Here's what it says on the CAP website about the data:\n",
    "\n",
    "    The UK media data measures the policy content of the front page of The Times of London. Front page news stories are sampled on the Wednesday of each week between 1960 and 2008, with the headlines blind-coded by two researchers according to major topic code, generating a database of 21,854 front page headlines. Due to important changes in the formatting of The Times during period between 1960 and 2008, along with a strike that stopped production for almost a year we strongly suggest that those interested in the media data refer to the dataset codebook."
   ]
  },
  {
   "cell_type": "code",
   "execution_count": 122,
   "metadata": {},
   "outputs": [
    {
     "data": {
      "text/html": [
       "<div>\n",
       "<style scoped>\n",
       "    .dataframe tbody tr th:only-of-type {\n",
       "        vertical-align: middle;\n",
       "    }\n",
       "\n",
       "    .dataframe tbody tr th {\n",
       "        vertical-align: top;\n",
       "    }\n",
       "\n",
       "    .dataframe thead th {\n",
       "        text-align: right;\n",
       "    }\n",
       "</style>\n",
       "<table border=\"1\" class=\"dataframe\">\n",
       "  <thead>\n",
       "    <tr style=\"text-align: right;\">\n",
       "      <th></th>\n",
       "      <th>id</th>\n",
       "      <th>year</th>\n",
       "      <th>speech_year</th>\n",
       "      <th>date</th>\n",
       "      <th>description</th>\n",
       "      <th>subtitle</th>\n",
       "      <th>words</th>\n",
       "      <th>majortopic</th>\n",
       "      <th>filter_international</th>\n",
       "      <th>filter_duplicate</th>\n",
       "    </tr>\n",
       "  </thead>\n",
       "  <tbody>\n",
       "    <tr>\n",
       "      <th>0</th>\n",
       "      <td>1</td>\n",
       "      <td>1960</td>\n",
       "      <td>52</td>\n",
       "      <td>06/01/1960</td>\n",
       "      <td>Engineering Unions Press Pay And Hours Claim</td>\n",
       "      <td>Apparition Of Inflationary Spiral Laid</td>\n",
       "      <td>1042.0</td>\n",
       "      <td>5</td>\n",
       "      <td>0</td>\n",
       "      <td>0</td>\n",
       "    </tr>\n",
       "    <tr>\n",
       "      <th>1</th>\n",
       "      <td>2</td>\n",
       "      <td>1960</td>\n",
       "      <td>52</td>\n",
       "      <td>06/01/1960</td>\n",
       "      <td>In Disaster Pit</td>\n",
       "      <td>NaN</td>\n",
       "      <td>796.0</td>\n",
       "      <td>8</td>\n",
       "      <td>0</td>\n",
       "      <td>0</td>\n",
       "    </tr>\n",
       "    <tr>\n",
       "      <th>2</th>\n",
       "      <td>3</td>\n",
       "      <td>1960</td>\n",
       "      <td>52</td>\n",
       "      <td>06/01/1960</td>\n",
       "      <td>Peeping Toms</td>\n",
       "      <td>NaN</td>\n",
       "      <td>159.0</td>\n",
       "      <td>12</td>\n",
       "      <td>0</td>\n",
       "      <td>0</td>\n",
       "    </tr>\n",
       "    <tr>\n",
       "      <th>3</th>\n",
       "      <td>4</td>\n",
       "      <td>1960</td>\n",
       "      <td>52</td>\n",
       "      <td>06/01/1960</td>\n",
       "      <td>Police Officer Praised For Car Struggle</td>\n",
       "      <td>NaN</td>\n",
       "      <td>173.0</td>\n",
       "      <td>12</td>\n",
       "      <td>0</td>\n",
       "      <td>0</td>\n",
       "    </tr>\n",
       "    <tr>\n",
       "      <th>4</th>\n",
       "      <td>5</td>\n",
       "      <td>1960</td>\n",
       "      <td>52</td>\n",
       "      <td>06/01/1960</td>\n",
       "      <td>540 Tugmen End Strike</td>\n",
       "      <td>Employers Agree To Supply Deck Boys</td>\n",
       "      <td>411.0</td>\n",
       "      <td>10</td>\n",
       "      <td>0</td>\n",
       "      <td>0</td>\n",
       "    </tr>\n",
       "  </tbody>\n",
       "</table>\n",
       "</div>"
      ],
      "text/plain": [
       "   id  year  speech_year        date  \\\n",
       "0   1  1960           52  06/01/1960   \n",
       "1   2  1960           52  06/01/1960   \n",
       "2   3  1960           52  06/01/1960   \n",
       "3   4  1960           52  06/01/1960   \n",
       "4   5  1960           52  06/01/1960   \n",
       "\n",
       "                                    description  \\\n",
       "0  Engineering Unions Press Pay And Hours Claim   \n",
       "1                               In Disaster Pit   \n",
       "2                                  Peeping Toms   \n",
       "3       Police Officer Praised For Car Struggle   \n",
       "4                         540 Tugmen End Strike   \n",
       "\n",
       "                                 subtitle   words  majortopic  \\\n",
       "0  Apparition Of Inflationary Spiral Laid  1042.0           5   \n",
       "1                                     NaN   796.0           8   \n",
       "2                                     NaN   159.0          12   \n",
       "3                                     NaN   173.0          12   \n",
       "4     Employers Agree To Supply Deck Boys   411.0          10   \n",
       "\n",
       "   filter_international  filter_duplicate  \n",
       "0                     0                 0  \n",
       "1                     0                 0  \n",
       "2                     0                 0  \n",
       "3                     0                 0  \n",
       "4                     0                 0  "
      ]
     },
     "execution_count": 122,
     "metadata": {},
     "output_type": "execute_result"
    }
   ],
   "source": [
    "import pandas as pd\n",
    "\n",
    "uk_media = pd.read_csv('data/uk_media.csv')\n",
    "\n",
    "uk_media.head()"
   ]
  },
  {
   "cell_type": "markdown",
   "metadata": {},
   "source": [
    "Note how the headline is actually labeled description. Let's change that, and combine headline and subtitle to give the model a better chance at recognizing the topic."
   ]
  },
  {
   "cell_type": "code",
   "execution_count": 123,
   "metadata": {},
   "outputs": [
    {
     "data": {
      "text/html": [
       "<div>\n",
       "<style scoped>\n",
       "    .dataframe tbody tr th:only-of-type {\n",
       "        vertical-align: middle;\n",
       "    }\n",
       "\n",
       "    .dataframe tbody tr th {\n",
       "        vertical-align: top;\n",
       "    }\n",
       "\n",
       "    .dataframe thead th {\n",
       "        text-align: right;\n",
       "    }\n",
       "</style>\n",
       "<table border=\"1\" class=\"dataframe\">\n",
       "  <thead>\n",
       "    <tr style=\"text-align: right;\">\n",
       "      <th></th>\n",
       "      <th>id</th>\n",
       "      <th>year</th>\n",
       "      <th>speech_year</th>\n",
       "      <th>date</th>\n",
       "      <th>description</th>\n",
       "      <th>subtitle</th>\n",
       "      <th>words</th>\n",
       "      <th>majortopic</th>\n",
       "      <th>filter_international</th>\n",
       "      <th>filter_duplicate</th>\n",
       "      <th>text</th>\n",
       "    </tr>\n",
       "  </thead>\n",
       "  <tbody>\n",
       "    <tr>\n",
       "      <th>0</th>\n",
       "      <td>1</td>\n",
       "      <td>1960</td>\n",
       "      <td>52</td>\n",
       "      <td>06/01/1960</td>\n",
       "      <td>Engineering Unions Press Pay And Hours Claim</td>\n",
       "      <td>Apparition Of Inflationary Spiral Laid</td>\n",
       "      <td>1042.0</td>\n",
       "      <td>5</td>\n",
       "      <td>0</td>\n",
       "      <td>0</td>\n",
       "      <td>Engineering Unions Press Pay And Hours Claim A...</td>\n",
       "    </tr>\n",
       "    <tr>\n",
       "      <th>1</th>\n",
       "      <td>2</td>\n",
       "      <td>1960</td>\n",
       "      <td>52</td>\n",
       "      <td>06/01/1960</td>\n",
       "      <td>In Disaster Pit</td>\n",
       "      <td>NaN</td>\n",
       "      <td>796.0</td>\n",
       "      <td>8</td>\n",
       "      <td>0</td>\n",
       "      <td>0</td>\n",
       "      <td>In Disaster Pit</td>\n",
       "    </tr>\n",
       "    <tr>\n",
       "      <th>2</th>\n",
       "      <td>3</td>\n",
       "      <td>1960</td>\n",
       "      <td>52</td>\n",
       "      <td>06/01/1960</td>\n",
       "      <td>Peeping Toms</td>\n",
       "      <td>NaN</td>\n",
       "      <td>159.0</td>\n",
       "      <td>12</td>\n",
       "      <td>0</td>\n",
       "      <td>0</td>\n",
       "      <td>Peeping Toms</td>\n",
       "    </tr>\n",
       "    <tr>\n",
       "      <th>3</th>\n",
       "      <td>4</td>\n",
       "      <td>1960</td>\n",
       "      <td>52</td>\n",
       "      <td>06/01/1960</td>\n",
       "      <td>Police Officer Praised For Car Struggle</td>\n",
       "      <td>NaN</td>\n",
       "      <td>173.0</td>\n",
       "      <td>12</td>\n",
       "      <td>0</td>\n",
       "      <td>0</td>\n",
       "      <td>Police Officer Praised For Car Struggle</td>\n",
       "    </tr>\n",
       "    <tr>\n",
       "      <th>4</th>\n",
       "      <td>5</td>\n",
       "      <td>1960</td>\n",
       "      <td>52</td>\n",
       "      <td>06/01/1960</td>\n",
       "      <td>540 Tugmen End Strike</td>\n",
       "      <td>Employers Agree To Supply Deck Boys</td>\n",
       "      <td>411.0</td>\n",
       "      <td>10</td>\n",
       "      <td>0</td>\n",
       "      <td>0</td>\n",
       "      <td>540 Tugmen End Strike Employers Agree To Suppl...</td>\n",
       "    </tr>\n",
       "    <tr>\n",
       "      <th>...</th>\n",
       "      <td>...</td>\n",
       "      <td>...</td>\n",
       "      <td>...</td>\n",
       "      <td>...</td>\n",
       "      <td>...</td>\n",
       "      <td>...</td>\n",
       "      <td>...</td>\n",
       "      <td>...</td>\n",
       "      <td>...</td>\n",
       "      <td>...</td>\n",
       "      <td>...</td>\n",
       "    </tr>\n",
       "    <tr>\n",
       "      <th>21843</th>\n",
       "      <td>21844</td>\n",
       "      <td>2008</td>\n",
       "      <td>102</td>\n",
       "      <td>31/12/2008</td>\n",
       "      <td>State of paranoia all started with a coup - An...</td>\n",
       "      <td>NaN</td>\n",
       "      <td>229.0</td>\n",
       "      <td>26</td>\n",
       "      <td>1</td>\n",
       "      <td>0</td>\n",
       "      <td>State of paranoia all started with a coup - An...</td>\n",
       "    </tr>\n",
       "    <tr>\n",
       "      <th>21846</th>\n",
       "      <td>21847</td>\n",
       "      <td>2008</td>\n",
       "      <td>102</td>\n",
       "      <td>31/12/2008</td>\n",
       "      <td>Tribute to Galileo</td>\n",
       "      <td>NaN</td>\n",
       "      <td>62.0</td>\n",
       "      <td>28</td>\n",
       "      <td>0</td>\n",
       "      <td>0</td>\n",
       "      <td>Tribute to Galileo</td>\n",
       "    </tr>\n",
       "    <tr>\n",
       "      <th>21849</th>\n",
       "      <td>21850</td>\n",
       "      <td>2008</td>\n",
       "      <td>102</td>\n",
       "      <td>31/12/2008</td>\n",
       "      <td>Dawn chorus dispute</td>\n",
       "      <td>NaN</td>\n",
       "      <td>54.0</td>\n",
       "      <td>12</td>\n",
       "      <td>0</td>\n",
       "      <td>0</td>\n",
       "      <td>Dawn chorus dispute</td>\n",
       "    </tr>\n",
       "    <tr>\n",
       "      <th>21850</th>\n",
       "      <td>21851</td>\n",
       "      <td>2008</td>\n",
       "      <td>102</td>\n",
       "      <td>31/12/2008</td>\n",
       "      <td>Dawn chorus dispute</td>\n",
       "      <td>NaN</td>\n",
       "      <td>51.0</td>\n",
       "      <td>12</td>\n",
       "      <td>1</td>\n",
       "      <td>0</td>\n",
       "      <td>Dawn chorus dispute</td>\n",
       "    </tr>\n",
       "    <tr>\n",
       "      <th>21851</th>\n",
       "      <td>21852</td>\n",
       "      <td>2008</td>\n",
       "      <td>102</td>\n",
       "      <td>31/12/2008</td>\n",
       "      <td>Clarification</td>\n",
       "      <td>NaN</td>\n",
       "      <td>72.0</td>\n",
       "      <td>99</td>\n",
       "      <td>0</td>\n",
       "      <td>0</td>\n",
       "      <td>Clarification</td>\n",
       "    </tr>\n",
       "  </tbody>\n",
       "</table>\n",
       "<p>21699 rows × 11 columns</p>\n",
       "</div>"
      ],
      "text/plain": [
       "          id  year  speech_year        date  \\\n",
       "0          1  1960           52  06/01/1960   \n",
       "1          2  1960           52  06/01/1960   \n",
       "2          3  1960           52  06/01/1960   \n",
       "3          4  1960           52  06/01/1960   \n",
       "4          5  1960           52  06/01/1960   \n",
       "...      ...   ...          ...         ...   \n",
       "21843  21844  2008          102  31/12/2008   \n",
       "21846  21847  2008          102  31/12/2008   \n",
       "21849  21850  2008          102  31/12/2008   \n",
       "21850  21851  2008          102  31/12/2008   \n",
       "21851  21852  2008          102  31/12/2008   \n",
       "\n",
       "                                             description  \\\n",
       "0           Engineering Unions Press Pay And Hours Claim   \n",
       "1                                        In Disaster Pit   \n",
       "2                                           Peeping Toms   \n",
       "3                Police Officer Praised For Car Struggle   \n",
       "4                                  540 Tugmen End Strike   \n",
       "...                                                  ...   \n",
       "21843  State of paranoia all started with a coup - An...   \n",
       "21846                                 Tribute to Galileo   \n",
       "21849                                Dawn chorus dispute   \n",
       "21850                                Dawn chorus dispute   \n",
       "21851                                      Clarification   \n",
       "\n",
       "                                     subtitle   words  majortopic  \\\n",
       "0      Apparition Of Inflationary Spiral Laid  1042.0           5   \n",
       "1                                         NaN   796.0           8   \n",
       "2                                         NaN   159.0          12   \n",
       "3                                         NaN   173.0          12   \n",
       "4         Employers Agree To Supply Deck Boys   411.0          10   \n",
       "...                                       ...     ...         ...   \n",
       "21843                                     NaN   229.0          26   \n",
       "21846                                     NaN    62.0          28   \n",
       "21849                                     NaN    54.0          12   \n",
       "21850                                     NaN    51.0          12   \n",
       "21851                                     NaN    72.0          99   \n",
       "\n",
       "       filter_international  filter_duplicate  \\\n",
       "0                         0                 0   \n",
       "1                         0                 0   \n",
       "2                         0                 0   \n",
       "3                         0                 0   \n",
       "4                         0                 0   \n",
       "...                     ...               ...   \n",
       "21843                     1                 0   \n",
       "21846                     0                 0   \n",
       "21849                     0                 0   \n",
       "21850                     1                 0   \n",
       "21851                     0                 0   \n",
       "\n",
       "                                                    text  \n",
       "0      Engineering Unions Press Pay And Hours Claim A...  \n",
       "1                                       In Disaster Pit   \n",
       "2                                          Peeping Toms   \n",
       "3               Police Officer Praised For Car Struggle   \n",
       "4      540 Tugmen End Strike Employers Agree To Suppl...  \n",
       "...                                                  ...  \n",
       "21843  State of paranoia all started with a coup - An...  \n",
       "21846                                Tribute to Galileo   \n",
       "21849                               Dawn chorus dispute   \n",
       "21850                               Dawn chorus dispute   \n",
       "21851                                     Clarification   \n",
       "\n",
       "[21699 rows x 11 columns]"
      ]
     },
     "execution_count": 123,
     "metadata": {},
     "output_type": "execute_result"
    }
   ],
   "source": [
    "# we'll combine the two columns and call them \"text\"\n",
    "uk_media['text'] = uk_media['description'].fillna('') + ' ' + uk_media['subtitle'].fillna('') # fillna() makes sure missing values don't result in NaN entries\n",
    "\n",
    "# we'll also drop duplicates indicated by the filter_duplicate column\n",
    "uk_media = uk_media[uk_media['filter_duplicate'] == 0]\n",
    "\n",
    "# we'll also drop rows where text is NaN (missing due to missing headlines)\n",
    "uk_media = uk_media[uk_media['text'].notna()]\n",
    "\n",
    "uk_media"
   ]
  },
  {
   "cell_type": "code",
   "execution_count": 124,
   "metadata": {},
   "outputs": [
    {
     "data": {
      "text/plain": [
       "[0,\n",
       " 1,\n",
       " 2,\n",
       " 3,\n",
       " 4,\n",
       " 5,\n",
       " 6,\n",
       " 7,\n",
       " 8,\n",
       " 9,\n",
       " 10,\n",
       " 12,\n",
       " 13,\n",
       " 14,\n",
       " 15,\n",
       " 16,\n",
       " 17,\n",
       " 18,\n",
       " 19,\n",
       " 20,\n",
       " 21,\n",
       " 22,\n",
       " 23,\n",
       " 24,\n",
       " 26,\n",
       " 27,\n",
       " 28,\n",
       " 29,\n",
       " 30,\n",
       " 31,\n",
       " 32,\n",
       " 33,\n",
       " 34,\n",
       " 91,\n",
       " 99]"
      ]
     },
     "execution_count": 124,
     "metadata": {},
     "output_type": "execute_result"
    }
   ],
   "source": [
    "# distinct majortopic labels, sorted\n",
    "\n",
    "sorted([int(value) for value in uk_media['majortopic'].unique()]) # the for loop is only here turn the values into native python integers, which print a bit nicer in this case"
   ]
  },
  {
   "cell_type": "markdown",
   "metadata": {},
   "source": [
    "We can spot a problem with our data set here: The coding seems to be different from the official CAP codes as well! A closer look at the codebooks reveals that codes over 23 are additional, media-specific and dummy codes which were not fed into the model. There is also an additional dummy code of 0 for non-codable articles. For evaluation purposes, we'll drop them.\n",
    "\n",
    "**You should always make sure your model is compatible with the categories you're using as gold standard!**"
   ]
  },
  {
   "cell_type": "code",
   "execution_count": 125,
   "metadata": {},
   "outputs": [],
   "source": [
    "# drop rows with majortopic code above 23 and below 1\n",
    "uk_media = uk_media[uk_media['majortopic'] >= 1]\n",
    "uk_media = uk_media[uk_media['majortopic'] <= 23]"
   ]
  },
  {
   "cell_type": "code",
   "execution_count": 126,
   "metadata": {},
   "outputs": [
    {
     "data": {
      "text/plain": [
       "[{'label': '5', 'score': 0.936924159526825},\n",
       " {'label': '16', 'score': 0.2734913229942322},\n",
       " {'label': '12', 'score': 0.178557351231575},\n",
       " {'label': '12', 'score': 0.9686050415039062},\n",
       " {'label': '5', 'score': 0.8688399195671082},\n",
       " {'label': '12', 'score': 0.21066716313362122},\n",
       " {'label': '12', 'score': 0.924317479133606},\n",
       " {'label': '10', 'score': 0.9658780097961426},\n",
       " {'label': '10', 'score': 0.5852949619293213}]"
      ]
     },
     "execution_count": 126,
     "metadata": {},
     "output_type": "execute_result"
    }
   ],
   "source": [
    "# test the classifier on the first 10 rows\n",
    "classifier(list(uk_media['text'][0:9])) # we need to pass the text column as a list"
   ]
  },
  {
   "cell_type": "code",
   "execution_count": 127,
   "metadata": {},
   "outputs": [],
   "source": [
    "# classify the whole dataset\n",
    "classifications = classifier(list(uk_media[\"text\"])) # we need to pass the text column as a list"
   ]
  },
  {
   "cell_type": "code",
   "execution_count": 128,
   "metadata": {},
   "outputs": [],
   "source": [
    "# as this may take a while we'll safe the classifications locally after the run\n",
    "# the pickle module can safe and load arbitrary Python objects\n",
    "\n",
    "import pickle\n",
    "\n",
    "with open('data/classifications.pkl', 'wb') as f:\n",
    "    pickle.dump(classifications, f)"
   ]
  },
  {
   "cell_type": "code",
   "execution_count": 98,
   "metadata": {},
   "outputs": [],
   "source": [
    "# we can then reload the \"pickle\" file when we need the classifcation results again later\n",
    "\n",
    "import pickle\n",
    "\n",
    "with open('data/classifications.pkl', 'rb') as f:\n",
    "    classifications = pickle.load(f)"
   ]
  },
  {
   "cell_type": "code",
   "execution_count": 99,
   "metadata": {},
   "outputs": [
    {
     "data": {
      "text/html": [
       "<div>\n",
       "<style scoped>\n",
       "    .dataframe tbody tr th:only-of-type {\n",
       "        vertical-align: middle;\n",
       "    }\n",
       "\n",
       "    .dataframe tbody tr th {\n",
       "        vertical-align: top;\n",
       "    }\n",
       "\n",
       "    .dataframe thead th {\n",
       "        text-align: right;\n",
       "    }\n",
       "</style>\n",
       "<table border=\"1\" class=\"dataframe\">\n",
       "  <thead>\n",
       "    <tr style=\"text-align: right;\">\n",
       "      <th></th>\n",
       "      <th>id</th>\n",
       "      <th>year</th>\n",
       "      <th>speech_year</th>\n",
       "      <th>date</th>\n",
       "      <th>description</th>\n",
       "      <th>subtitle</th>\n",
       "      <th>words</th>\n",
       "      <th>majortopic</th>\n",
       "      <th>filter_international</th>\n",
       "      <th>filter_duplicate</th>\n",
       "      <th>text</th>\n",
       "      <th>label</th>\n",
       "      <th>score</th>\n",
       "    </tr>\n",
       "  </thead>\n",
       "  <tbody>\n",
       "    <tr>\n",
       "      <th>0</th>\n",
       "      <td>1</td>\n",
       "      <td>1960</td>\n",
       "      <td>52</td>\n",
       "      <td>06/01/1960</td>\n",
       "      <td>Engineering Unions Press Pay And Hours Claim</td>\n",
       "      <td>Apparition Of Inflationary Spiral Laid</td>\n",
       "      <td>1042.0</td>\n",
       "      <td>5</td>\n",
       "      <td>0</td>\n",
       "      <td>0</td>\n",
       "      <td>Engineering Unions Press Pay And Hours Claim A...</td>\n",
       "      <td>5</td>\n",
       "      <td>0.936924</td>\n",
       "    </tr>\n",
       "    <tr>\n",
       "      <th>1</th>\n",
       "      <td>2</td>\n",
       "      <td>1960</td>\n",
       "      <td>52</td>\n",
       "      <td>06/01/1960</td>\n",
       "      <td>In Disaster Pit</td>\n",
       "      <td>NaN</td>\n",
       "      <td>796.0</td>\n",
       "      <td>8</td>\n",
       "      <td>0</td>\n",
       "      <td>0</td>\n",
       "      <td>In Disaster Pit</td>\n",
       "      <td>16</td>\n",
       "      <td>0.273491</td>\n",
       "    </tr>\n",
       "    <tr>\n",
       "      <th>2</th>\n",
       "      <td>3</td>\n",
       "      <td>1960</td>\n",
       "      <td>52</td>\n",
       "      <td>06/01/1960</td>\n",
       "      <td>Peeping Toms</td>\n",
       "      <td>NaN</td>\n",
       "      <td>159.0</td>\n",
       "      <td>12</td>\n",
       "      <td>0</td>\n",
       "      <td>0</td>\n",
       "      <td>Peeping Toms</td>\n",
       "      <td>12</td>\n",
       "      <td>0.178557</td>\n",
       "    </tr>\n",
       "    <tr>\n",
       "      <th>3</th>\n",
       "      <td>4</td>\n",
       "      <td>1960</td>\n",
       "      <td>52</td>\n",
       "      <td>06/01/1960</td>\n",
       "      <td>Police Officer Praised For Car Struggle</td>\n",
       "      <td>NaN</td>\n",
       "      <td>173.0</td>\n",
       "      <td>12</td>\n",
       "      <td>0</td>\n",
       "      <td>0</td>\n",
       "      <td>Police Officer Praised For Car Struggle</td>\n",
       "      <td>12</td>\n",
       "      <td>0.968605</td>\n",
       "    </tr>\n",
       "    <tr>\n",
       "      <th>4</th>\n",
       "      <td>5</td>\n",
       "      <td>1960</td>\n",
       "      <td>52</td>\n",
       "      <td>06/01/1960</td>\n",
       "      <td>540 Tugmen End Strike</td>\n",
       "      <td>Employers Agree To Supply Deck Boys</td>\n",
       "      <td>411.0</td>\n",
       "      <td>10</td>\n",
       "      <td>0</td>\n",
       "      <td>0</td>\n",
       "      <td>540 Tugmen End Strike Employers Agree To Suppl...</td>\n",
       "      <td>5</td>\n",
       "      <td>0.868840</td>\n",
       "    </tr>\n",
       "    <tr>\n",
       "      <th>...</th>\n",
       "      <td>...</td>\n",
       "      <td>...</td>\n",
       "      <td>...</td>\n",
       "      <td>...</td>\n",
       "      <td>...</td>\n",
       "      <td>...</td>\n",
       "      <td>...</td>\n",
       "      <td>...</td>\n",
       "      <td>...</td>\n",
       "      <td>...</td>\n",
       "      <td>...</td>\n",
       "      <td>...</td>\n",
       "      <td>...</td>\n",
       "    </tr>\n",
       "    <tr>\n",
       "      <th>17548</th>\n",
       "      <td>21836</td>\n",
       "      <td>2008</td>\n",
       "      <td>102</td>\n",
       "      <td>31/12/2008</td>\n",
       "      <td>Murder charge boys</td>\n",
       "      <td>NaN</td>\n",
       "      <td>64.0</td>\n",
       "      <td>12</td>\n",
       "      <td>0</td>\n",
       "      <td>0</td>\n",
       "      <td>Murder charge boys</td>\n",
       "      <td>12</td>\n",
       "      <td>0.981427</td>\n",
       "    </tr>\n",
       "    <tr>\n",
       "      <th>17549</th>\n",
       "      <td>21842</td>\n",
       "      <td>2008</td>\n",
       "      <td>102</td>\n",
       "      <td>31/12/2008</td>\n",
       "      <td>Sir Tom pledges to return clothing chain to pr...</td>\n",
       "      <td>NaN</td>\n",
       "      <td>379.0</td>\n",
       "      <td>15</td>\n",
       "      <td>0</td>\n",
       "      <td>0</td>\n",
       "      <td>Sir Tom pledges to return clothing chain to pr...</td>\n",
       "      <td>15</td>\n",
       "      <td>0.924814</td>\n",
       "    </tr>\n",
       "    <tr>\n",
       "      <th>17550</th>\n",
       "      <td>21843</td>\n",
       "      <td>2008</td>\n",
       "      <td>102</td>\n",
       "      <td>31/12/2008</td>\n",
       "      <td>How small, local and traditional is bucking th...</td>\n",
       "      <td>NaN</td>\n",
       "      <td>813.0</td>\n",
       "      <td>15</td>\n",
       "      <td>0</td>\n",
       "      <td>0</td>\n",
       "      <td>How small, local and traditional is bucking th...</td>\n",
       "      <td>15</td>\n",
       "      <td>0.709025</td>\n",
       "    </tr>\n",
       "    <tr>\n",
       "      <th>17551</th>\n",
       "      <td>21850</td>\n",
       "      <td>2008</td>\n",
       "      <td>102</td>\n",
       "      <td>31/12/2008</td>\n",
       "      <td>Dawn chorus dispute</td>\n",
       "      <td>NaN</td>\n",
       "      <td>54.0</td>\n",
       "      <td>12</td>\n",
       "      <td>0</td>\n",
       "      <td>0</td>\n",
       "      <td>Dawn chorus dispute</td>\n",
       "      <td>3</td>\n",
       "      <td>0.617270</td>\n",
       "    </tr>\n",
       "    <tr>\n",
       "      <th>17552</th>\n",
       "      <td>21851</td>\n",
       "      <td>2008</td>\n",
       "      <td>102</td>\n",
       "      <td>31/12/2008</td>\n",
       "      <td>Dawn chorus dispute</td>\n",
       "      <td>NaN</td>\n",
       "      <td>51.0</td>\n",
       "      <td>12</td>\n",
       "      <td>1</td>\n",
       "      <td>0</td>\n",
       "      <td>Dawn chorus dispute</td>\n",
       "      <td>3</td>\n",
       "      <td>0.617270</td>\n",
       "    </tr>\n",
       "  </tbody>\n",
       "</table>\n",
       "<p>17553 rows × 13 columns</p>\n",
       "</div>"
      ],
      "text/plain": [
       "          id  year  speech_year        date  \\\n",
       "0          1  1960           52  06/01/1960   \n",
       "1          2  1960           52  06/01/1960   \n",
       "2          3  1960           52  06/01/1960   \n",
       "3          4  1960           52  06/01/1960   \n",
       "4          5  1960           52  06/01/1960   \n",
       "...      ...   ...          ...         ...   \n",
       "17548  21836  2008          102  31/12/2008   \n",
       "17549  21842  2008          102  31/12/2008   \n",
       "17550  21843  2008          102  31/12/2008   \n",
       "17551  21850  2008          102  31/12/2008   \n",
       "17552  21851  2008          102  31/12/2008   \n",
       "\n",
       "                                             description  \\\n",
       "0           Engineering Unions Press Pay And Hours Claim   \n",
       "1                                        In Disaster Pit   \n",
       "2                                           Peeping Toms   \n",
       "3                Police Officer Praised For Car Struggle   \n",
       "4                                  540 Tugmen End Strike   \n",
       "...                                                  ...   \n",
       "17548                                 Murder charge boys   \n",
       "17549  Sir Tom pledges to return clothing chain to pr...   \n",
       "17550  How small, local and traditional is bucking th...   \n",
       "17551                                Dawn chorus dispute   \n",
       "17552                                Dawn chorus dispute   \n",
       "\n",
       "                                     subtitle   words majortopic  \\\n",
       "0      Apparition Of Inflationary Spiral Laid  1042.0          5   \n",
       "1                                         NaN   796.0          8   \n",
       "2                                         NaN   159.0         12   \n",
       "3                                         NaN   173.0         12   \n",
       "4         Employers Agree To Supply Deck Boys   411.0         10   \n",
       "...                                       ...     ...        ...   \n",
       "17548                                     NaN    64.0         12   \n",
       "17549                                     NaN   379.0         15   \n",
       "17550                                     NaN   813.0         15   \n",
       "17551                                     NaN    54.0         12   \n",
       "17552                                     NaN    51.0         12   \n",
       "\n",
       "       filter_international  filter_duplicate  \\\n",
       "0                         0                 0   \n",
       "1                         0                 0   \n",
       "2                         0                 0   \n",
       "3                         0                 0   \n",
       "4                         0                 0   \n",
       "...                     ...               ...   \n",
       "17548                     0                 0   \n",
       "17549                     0                 0   \n",
       "17550                     0                 0   \n",
       "17551                     0                 0   \n",
       "17552                     1                 0   \n",
       "\n",
       "                                                    text label     score  \n",
       "0      Engineering Unions Press Pay And Hours Claim A...     5  0.936924  \n",
       "1                                       In Disaster Pit     16  0.273491  \n",
       "2                                          Peeping Toms     12  0.178557  \n",
       "3               Police Officer Praised For Car Struggle     12  0.968605  \n",
       "4      540 Tugmen End Strike Employers Agree To Suppl...     5  0.868840  \n",
       "...                                                  ...   ...       ...  \n",
       "17548                                Murder charge boys     12  0.981427  \n",
       "17549  Sir Tom pledges to return clothing chain to pr...    15  0.924814  \n",
       "17550  How small, local and traditional is bucking th...    15  0.709025  \n",
       "17551                               Dawn chorus dispute      3  0.617270  \n",
       "17552                               Dawn chorus dispute      3  0.617270  \n",
       "\n",
       "[17553 rows x 13 columns]"
      ]
     },
     "execution_count": 99,
     "metadata": {},
     "output_type": "execute_result"
    }
   ],
   "source": [
    "# add the classifications to our UK media dataframe\n",
    "\n",
    "classifications_df = pd.DataFrame(classifications) # turn the classifications a DataFrame\n",
    "\n",
    "uk_media.reset_index(drop=True, inplace=True) # we need to reset the indices to avoid mismatches\n",
    "classifications_df.reset_index(drop=True, inplace=True) #  (the classifications index is a fresh one while the uk_media carries missing indices where we removed the data before)\n",
    "\n",
    "uk_media_classified = pd.concat([uk_media, # combine the two DataFrames\n",
    "                                 classifications_df], \n",
    "                                 axis=1) \n",
    "\n",
    "# for evaluation purposes, we'll also turn the majortopic into strings\n",
    "uk_media_classified['majortopic'] = uk_media_classified['majortopic'].astype(str)\n",
    "\n",
    "uk_media_classified"
   ]
  },
  {
   "cell_type": "markdown",
   "metadata": {},
   "source": [
    "## Evaluation"
   ]
  },
  {
   "cell_type": "markdown",
   "metadata": {},
   "source": [
    "### Gold Standard\n",
    "Let's take a look how well our model did. Luckily, the UK Media Dataset comes with labels annotated by trained human coders. This is often referred to as the *Gold Standard*, meaning it will be the standard our model will be held to. In other words, our model would be \"perfect\" if it could perfectly recreate the human coding. It is important to note that even another trained human coder is unlikely to recreate the exact same coding. This is due to differences and errors in human judgement. This is why in qualitative research, we use the measure of intercoder reliability to make sure our human coders have substandial agreement on their coding tasks. There are some debates on the matter (see, for example, [this paper](https://doi.org/10.1177/1609406919899220)) and various way to calculate it (with Krippendorf's Alpha being the most common), but usually you want your intercoder reliability to be above 85%, with values above 65% sometimes being considered acceptable, depending on the task and data. For our model, this means that we can usually accept it if it does not reproduce our gold standard to 100% (sometimes, this can even be a sign of overfitting to the data). \n",
    "\n",
    "However, while some researchers argue otherwise, I strongly recommend against using intercoder reliability to judge model output. The main reason for this is that it somewhat relaxes assumptions by calculating the measurement in such a way that the model is considered equally capable of coding the data as a trained human coder. This is simply not the case, as we usually want to find out whether or not our model can meaningfully replicate human coders' judgement. Intercoder reliability is an important tool when producing the gold standard, as it makes sure it is actually a *good* standard, and you should always make use of it when qualitatively coding a data set (even when coding it by yourself, it is good practice to double code a part of your data to make sure your coding is reliable!). But for measuring a model's capabilities, it is strongly adviced to rely on the evaluation metrics developed in the machine learning domain to measure exactly that."
   ]
  },
  {
   "cell_type": "markdown",
   "metadata": {},
   "source": [
    "### Accuracy\n",
    "Accuracy is a very simple measure: it is the percentage of correct predictions out of all predictions made by the model. As a formula: \n",
    "$$\\text{Accuracy} = \\frac{\\text{Number of Correct Predictions}}{\\text{Total Number of Predictions}}$$\n",
    "\n",
    "While this is an important metric, it is often not a very good metric if your classes are imbalanced. Accuracy puts higher emphasis on the majority class, which is often not the one we're interested in. Think of a spam filter which is great at predicting which emails are not spam, but fails at predicting the (much rarer case) of an email actually being spam. This is especially a problem in multi-class classification, as your less-well represented classes are not only harder to predict for the model due to a lack of training data, but its failure to predict them will also not show in your evaluations."
   ]
  },
  {
   "cell_type": "markdown",
   "metadata": {},
   "source": [
    "### Precision, Recall, and F1\n",
    "To overcome these limitations, precision, recall and F1 scores were developed. They rely on the differentiation between True and False Positives and True and False Negatives.\n",
    "\n",
    "| <a/> | **Predicted Positive** | **Predicted Negative** |\n",
    "|:--- |:---:|:---:|\n",
    "| **Observed Positive** | True Positives (TP) | False Negatives (FN) |\n",
    "| **Observed Negative** | False Positives (FP) | True Negatives (TN) |\n",
    "\n",
    "- **True Positives (TP)**: The model correctly predicted the positive class.\n",
    "- **True Negatives (TN)**: The model correctly predicted the negative class.\n",
    "- **False Positives (FP)**: The model incorrectly predicted the positive class (predicted positive, but the true label was negative).\n",
    "- **False Negatives (FN)**: The model incorrectly predicted the negative class (predicted negative, but the true label was positive)."
   ]
  },
  {
   "cell_type": "markdown",
   "metadata": {},
   "source": [
    "### Precision\n",
    "\n",
    "Precision measures the proportion of True Positives out of all positive predictions made by the model:\n",
    "$$\\text{Precision} = \\frac{\\text{True Positives}}{\\text{True Positives} + \\text{False Positives}}$$\n",
    "\n",
    "That is, it measures how many positive predictions were actually correct. Precision is the preferred metric if the cost of false positives is high. For example, if your spam filter automatically deletes any email it identifies as spam, you will want very high precision so it does not accidentally delete your other emails (false positives).\n",
    "\n",
    "However, the problem with precision is that conservative estimates fare better, as they produce less false positives. If your spam filter is not flagging a lot of mails as spam to begin with, it will have high precision, but be also not very good at its job."
   ]
  },
  {
   "cell_type": "markdown",
   "metadata": {},
   "source": [
    "### Recall\n",
    "Recall measures the proportion of True Positives correctly identified by the model:\n",
    "$$\\text{Recall} = \\frac{\\text{True Positives}}{\\text{True Positives} + \\text{False Negatives}}$$\n",
    "\n",
    "Recall is the preferred metric when the cost of false negatives is high, for example in medical tests or in flagging hate speech detection where you want to err on the side of caution. \n",
    "\n",
    "The problem with recall, is opposed to that of precision: you can achieve perfect recall by predicting all labels as positive, thus making sure you do not miss any relevant cases.\n",
    "\n",
    "Recall is sometimes also called sensitivity - especially in the medical field. \n"
   ]
  },
  {
   "cell_type": "markdown",
   "metadata": {},
   "source": [
    "### F1 Score\n",
    "\n",
    "The F1 score is the harmoic mean of precision and recall. That is, it gives an even measure for precision and recall, balancing out their respective weaknesses.\n",
    "\n",
    "$$F1 = 2 \\times \\frac{\\text{Precision} \\times \\text{Recall}}{\\text{Precision} + \\text{Recall}}$$\n",
    "\n",
    "It is usually a good overview score of how well your model fares. If you do not have specific requirements for your model that make you value either precision or recall more highly (that is, if neither the cost of false negatives nor of false positives is higher), you will usually want to go with the F1 score to judge model performance."
   ]
  },
  {
   "cell_type": "markdown",
   "metadata": {},
   "source": [
    "### Baseline\n",
    "\n",
    "In order to give you a feeling what these values mean: If we want to classify into one of two categories, using a coin flip for a classifier would produce an accuracy, precision, recall and F1 score of 0.5 - that is, there is a 50% chance of predicting the right class. So if your evaluation metrics are below 0.5, you would be better off just flipping a coin. If you have four classes, random chance of predicting the right one would be 25%, and the scores would equally come down to 0.25. \n",
    "\n",
    "So you should keep in mind that what is a \"good enough\" also depends on the number of categories you're trying to predict. However, eventually it depends on your use-case what the critical value for a reliable model is. For social science research, a rule of thumb is that you want your model to be roughly as reliable as human coders, which means values above 0.85 are considered good, but lower values may be acceptable in some cases. But again, this depends on your specific use case and you should think about what it means when, say, your measurements are only correct in two out of three cases (accuracy of 0.65) - and maybe even worse for some less well-represented categories. Can you make meaningful assumptions at this point? Or should you consider using a different method?"
   ]
  },
  {
   "cell_type": "markdown",
   "metadata": {},
   "source": [
    "### Model Evaluation\n",
    "\n",
    "While we could calculate all these scores by hand, the scikit-learn library luckily has handy functions to do this for us:"
   ]
  },
  {
   "cell_type": "code",
   "execution_count": 129,
   "metadata": {},
   "outputs": [
    {
     "name": "stderr",
     "output_type": "stream",
     "text": [
      "c:\\ProgramData\\miniconda3\\envs\\nlp_workshop\\Lib\\site-packages\\sklearn\\metrics\\_classification.py:1565: UndefinedMetricWarning: Precision is ill-defined and being set to 0.0 in labels with no predicted samples. Use `zero_division` parameter to control this behavior.\n",
      "  _warn_prf(average, modifier, f\"{metric.capitalize()} is\", len(result))\n"
     ]
    },
    {
     "name": "stdout",
     "output_type": "stream",
     "text": [
      "Accuracy: 0.7516094114966103\n",
      "Precision: 0.7720333797188088\n",
      "Recall: 0.7516094114966103\n",
      "F1: 0.7549872044599232\n"
     ]
    }
   ],
   "source": [
    "from sklearn.metrics import accuracy_score, precision_score, recall_score, f1_score\n",
    "\n",
    "accuracy = accuracy_score(uk_media_classified[\"majortopic\"], uk_media_classified[\"label\"])\n",
    "precision = precision_score(uk_media_classified[\"majortopic\"], uk_media_classified[\"label\"], average=\"weighted\")\n",
    "recall = recall_score(uk_media_classified[\"majortopic\"], uk_media_classified[\"label\"], average=\"weighted\")\n",
    "f1 = f1_score(uk_media_classified[\"majortopic\"], uk_media_classified[\"label\"], average=\"weighted\")\n",
    "\n",
    "print(\n",
    "    f'Accuracy: {accuracy}\\n'\n",
    "    f'Precision: {precision}\\n'\n",
    "    f'Recall: {recall}\\n'\n",
    "    f'F1: {f1}'\n",
    ")"
   ]
  },
  {
   "cell_type": "markdown",
   "metadata": {},
   "source": [
    "We even have a handy overview function for all of this together, and print metrics over all classes:"
   ]
  },
  {
   "cell_type": "code",
   "execution_count": 130,
   "metadata": {},
   "outputs": [
    {
     "name": "stdout",
     "output_type": "stream",
     "text": [
      "              precision    recall  f1-score   support\n",
      "\n",
      "           0       0.00      0.00      0.00         3\n",
      "           1       0.84      0.72      0.77       784\n",
      "          10       0.88      0.88      0.88      1747\n",
      "          12       0.87      0.79      0.83      2507\n",
      "          13       0.76      0.38      0.51       133\n",
      "          14       0.80      0.74      0.77       318\n",
      "          15       0.76      0.55      0.64       871\n",
      "          16       0.79      0.69      0.74      2568\n",
      "          17       0.87      0.71      0.78       801\n",
      "          18       0.74      0.76      0.75       113\n",
      "          19       0.61      0.81      0.70      2526\n",
      "           2       0.51      0.53      0.52       139\n",
      "          20       0.58      0.77      0.66      1328\n",
      "          21       0.70      0.52      0.59       419\n",
      "          22       0.00      0.00      0.00         2\n",
      "          23       0.02      0.67      0.03         3\n",
      "           3       0.87      0.80      0.84       795\n",
      "           4       0.84      0.60      0.70       331\n",
      "           5       0.72      0.77      0.74       688\n",
      "           6       0.83      0.93      0.88       619\n",
      "           7       0.62      0.68      0.65       240\n",
      "           8       0.89      0.74      0.81       536\n",
      "           9       0.74      0.61      0.67        82\n",
      "\n",
      "    accuracy                           0.75     17553\n",
      "   macro avg       0.66      0.64      0.63     17553\n",
      "weighted avg       0.77      0.75      0.75     17553\n",
      "\n"
     ]
    },
    {
     "name": "stderr",
     "output_type": "stream",
     "text": [
      "c:\\ProgramData\\miniconda3\\envs\\nlp_workshop\\Lib\\site-packages\\sklearn\\metrics\\_classification.py:1565: UndefinedMetricWarning: Precision is ill-defined and being set to 0.0 in labels with no predicted samples. Use `zero_division` parameter to control this behavior.\n",
      "  _warn_prf(average, modifier, f\"{metric.capitalize()} is\", len(result))\n",
      "c:\\ProgramData\\miniconda3\\envs\\nlp_workshop\\Lib\\site-packages\\sklearn\\metrics\\_classification.py:1565: UndefinedMetricWarning: Precision is ill-defined and being set to 0.0 in labels with no predicted samples. Use `zero_division` parameter to control this behavior.\n",
      "  _warn_prf(average, modifier, f\"{metric.capitalize()} is\", len(result))\n",
      "c:\\ProgramData\\miniconda3\\envs\\nlp_workshop\\Lib\\site-packages\\sklearn\\metrics\\_classification.py:1565: UndefinedMetricWarning: Precision is ill-defined and being set to 0.0 in labels with no predicted samples. Use `zero_division` parameter to control this behavior.\n",
      "  _warn_prf(average, modifier, f\"{metric.capitalize()} is\", len(result))\n"
     ]
    }
   ],
   "source": [
    "from sklearn.metrics import classification_report\n",
    "\n",
    "print(classification_report(uk_media_classified[\"majortopic\"], uk_media_classified[\"label\"]))"
   ]
  }
 ],
 "metadata": {
  "kernelspec": {
   "display_name": "nlp_workshop",
   "language": "python",
   "name": "python3"
  },
  "language_info": {
   "codemirror_mode": {
    "name": "ipython",
    "version": 3
   },
   "file_extension": ".py",
   "mimetype": "text/x-python",
   "name": "python",
   "nbconvert_exporter": "python",
   "pygments_lexer": "ipython3",
   "version": "3.12.8"
  }
 },
 "nbformat": 4,
 "nbformat_minor": 2
}
